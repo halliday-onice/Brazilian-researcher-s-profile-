{
  "cells": [
    {
      "cell_type": "markdown",
      "metadata": {
        "id": "OmobTiGKUuty"
      },
      "source": [
        "Connection with google drive"
      ]
    },
    {
      "cell_type": "code",
      "execution_count": 1,
      "metadata": {
        "colab": {
          "base_uri": "https://localhost:8080/"
        },
        "id": "hQbxHdkLvPiP",
        "outputId": "7eb58ae4-8feb-42cf-dac9-14b07cbe23dd"
      },
      "outputs": [
        {
          "name": "stdout",
          "output_type": "stream",
          "text": [
            "Mounted at /content/drive\n"
          ]
        }
      ],
      "source": [
        "from google.colab import drive\n",
        "drive.mount('/content/drive')"
      ]
    },
    {
      "cell_type": "markdown",
      "metadata": {
        "id": "nuYbwj2BumLi"
      },
      "source": [
        "# setup"
      ]
    },
    {
      "cell_type": "code",
      "execution_count": 2,
      "metadata": {
        "colab": {
          "base_uri": "https://localhost:8080/"
        },
        "id": "Az9E6IolxK_S",
        "outputId": "22e737f1-70a0-4d3e-f492-5ce08d2fa263"
      },
      "outputs": [
        {
          "name": "stdout",
          "output_type": "stream",
          "text": [
            "Looking in indexes: https://pypi.org/simple, https://us-python.pkg.dev/colab-wheels/public/simple/\n",
            "Collecting fuzzywuzzy\n",
            "  Downloading fuzzywuzzy-0.18.0-py2.py3-none-any.whl (18 kB)\n",
            "Collecting python-Levenshtein\n",
            "  Downloading python_Levenshtein-0.20.7-py3-none-any.whl (9.4 kB)\n",
            "Collecting Levenshtein==0.20.7\n",
            "  Downloading Levenshtein-0.20.7-cp37-cp37m-manylinux_2_17_x86_64.manylinux2014_x86_64.whl (175 kB)\n",
            "\u001b[K     |████████████████████████████████| 175 kB 7.4 MB/s \n",
            "\u001b[?25hCollecting rapidfuzz<3.0.0,>=2.3.0\n",
            "  Downloading rapidfuzz-2.11.1-cp37-cp37m-manylinux_2_17_x86_64.manylinux2014_x86_64.whl (2.2 MB)\n",
            "\u001b[K     |████████████████████████████████| 2.2 MB 51.2 MB/s \n",
            "\u001b[?25hInstalling collected packages: rapidfuzz, Levenshtein, python-Levenshtein, fuzzywuzzy\n",
            "Successfully installed Levenshtein-0.20.7 fuzzywuzzy-0.18.0 python-Levenshtein-0.20.7 rapidfuzz-2.11.1\n",
            "Looking in indexes: https://pypi.org/simple, https://us-python.pkg.dev/colab-wheels/public/simple/\n",
            "Collecting dtreeviz\n",
            "  Downloading dtreeviz-1.3.7.tar.gz (62 kB)\n",
            "\u001b[K     |████████████████████████████████| 62 kB 886 kB/s \n",
            "\u001b[?25hRequirement already satisfied: graphviz>=0.9 in /usr/local/lib/python3.7/dist-packages (from dtreeviz) (0.10.1)\n",
            "Requirement already satisfied: pandas in /usr/local/lib/python3.7/dist-packages (from dtreeviz) (1.3.5)\n",
            "Requirement already satisfied: numpy in /usr/local/lib/python3.7/dist-packages (from dtreeviz) (1.21.6)\n",
            "Requirement already satisfied: scikit-learn in /usr/local/lib/python3.7/dist-packages (from dtreeviz) (1.0.2)\n",
            "Requirement already satisfied: matplotlib in /usr/local/lib/python3.7/dist-packages (from dtreeviz) (3.2.2)\n",
            "Collecting colour\n",
            "  Downloading colour-0.1.5-py2.py3-none-any.whl (23 kB)\n",
            "Requirement already satisfied: pytest in /usr/local/lib/python3.7/dist-packages (from dtreeviz) (3.6.4)\n",
            "Requirement already satisfied: cycler>=0.10 in /usr/local/lib/python3.7/dist-packages (from matplotlib->dtreeviz) (0.11.0)\n",
            "Requirement already satisfied: pyparsing!=2.0.4,!=2.1.2,!=2.1.6,>=2.0.1 in /usr/local/lib/python3.7/dist-packages (from matplotlib->dtreeviz) (3.0.9)\n",
            "Requirement already satisfied: python-dateutil>=2.1 in /usr/local/lib/python3.7/dist-packages (from matplotlib->dtreeviz) (2.8.2)\n",
            "Requirement already satisfied: kiwisolver>=1.0.1 in /usr/local/lib/python3.7/dist-packages (from matplotlib->dtreeviz) (1.4.4)\n",
            "Requirement already satisfied: typing-extensions in /usr/local/lib/python3.7/dist-packages (from kiwisolver>=1.0.1->matplotlib->dtreeviz) (4.1.1)\n",
            "Requirement already satisfied: six>=1.5 in /usr/local/lib/python3.7/dist-packages (from python-dateutil>=2.1->matplotlib->dtreeviz) (1.15.0)\n",
            "Requirement already satisfied: pytz>=2017.3 in /usr/local/lib/python3.7/dist-packages (from pandas->dtreeviz) (2022.4)\n",
            "Requirement already satisfied: attrs>=17.4.0 in /usr/local/lib/python3.7/dist-packages (from pytest->dtreeviz) (22.1.0)\n",
            "Requirement already satisfied: pluggy<0.8,>=0.5 in /usr/local/lib/python3.7/dist-packages (from pytest->dtreeviz) (0.7.1)\n",
            "Requirement already satisfied: more-itertools>=4.0.0 in /usr/local/lib/python3.7/dist-packages (from pytest->dtreeviz) (8.14.0)\n",
            "Requirement already satisfied: py>=1.5.0 in /usr/local/lib/python3.7/dist-packages (from pytest->dtreeviz) (1.11.0)\n",
            "Requirement already satisfied: atomicwrites>=1.0 in /usr/local/lib/python3.7/dist-packages (from pytest->dtreeviz) (1.4.1)\n",
            "Requirement already satisfied: setuptools in /usr/local/lib/python3.7/dist-packages (from pytest->dtreeviz) (57.4.0)\n",
            "Requirement already satisfied: scipy>=1.1.0 in /usr/local/lib/python3.7/dist-packages (from scikit-learn->dtreeviz) (1.7.3)\n",
            "Requirement already satisfied: joblib>=0.11 in /usr/local/lib/python3.7/dist-packages (from scikit-learn->dtreeviz) (1.2.0)\n",
            "Requirement already satisfied: threadpoolctl>=2.0.0 in /usr/local/lib/python3.7/dist-packages (from scikit-learn->dtreeviz) (3.1.0)\n",
            "Building wheels for collected packages: dtreeviz\n",
            "  Building wheel for dtreeviz (setup.py) ... \u001b[?25l\u001b[?25hdone\n",
            "  Created wheel for dtreeviz: filename=dtreeviz-1.3.7-py3-none-any.whl size=68151 sha256=92b69e43ae56f0fc88c4fe6fccdc8aa9107cfecff64cbea0db0627093a052af1\n",
            "  Stored in directory: /root/.cache/pip/wheels/bf/ba/9f/87c689d8d3c2916793f2dccc57d3dc3b283e0ccf8cb4ca4cad\n",
            "Successfully built dtreeviz\n",
            "Installing collected packages: colour, dtreeviz\n",
            "Successfully installed colour-0.1.5 dtreeviz-1.3.7\n",
            "Looking in indexes: https://pypi.org/simple, https://us-python.pkg.dev/colab-wheels/public/simple/\n",
            "Requirement already satisfied: dtreeviz[xgboost] in /usr/local/lib/python3.7/dist-packages (1.3.7)\n",
            "Requirement already satisfied: pandas in /usr/local/lib/python3.7/dist-packages (from dtreeviz[xgboost]) (1.3.5)\n",
            "Requirement already satisfied: graphviz>=0.9 in /usr/local/lib/python3.7/dist-packages (from dtreeviz[xgboost]) (0.10.1)\n",
            "Requirement already satisfied: matplotlib in /usr/local/lib/python3.7/dist-packages (from dtreeviz[xgboost]) (3.2.2)\n",
            "Requirement already satisfied: scikit-learn in /usr/local/lib/python3.7/dist-packages (from dtreeviz[xgboost]) (1.0.2)\n",
            "Requirement already satisfied: colour in /usr/local/lib/python3.7/dist-packages (from dtreeviz[xgboost]) (0.1.5)\n",
            "Requirement already satisfied: pytest in /usr/local/lib/python3.7/dist-packages (from dtreeviz[xgboost]) (3.6.4)\n",
            "Requirement already satisfied: numpy in /usr/local/lib/python3.7/dist-packages (from dtreeviz[xgboost]) (1.21.6)\n",
            "Requirement already satisfied: xgboost in /usr/local/lib/python3.7/dist-packages (from dtreeviz[xgboost]) (0.90)\n",
            "Requirement already satisfied: python-dateutil>=2.1 in /usr/local/lib/python3.7/dist-packages (from matplotlib->dtreeviz[xgboost]) (2.8.2)\n",
            "Requirement already satisfied: pyparsing!=2.0.4,!=2.1.2,!=2.1.6,>=2.0.1 in /usr/local/lib/python3.7/dist-packages (from matplotlib->dtreeviz[xgboost]) (3.0.9)\n",
            "Requirement already satisfied: kiwisolver>=1.0.1 in /usr/local/lib/python3.7/dist-packages (from matplotlib->dtreeviz[xgboost]) (1.4.4)\n",
            "Requirement already satisfied: cycler>=0.10 in /usr/local/lib/python3.7/dist-packages (from matplotlib->dtreeviz[xgboost]) (0.11.0)\n",
            "Requirement already satisfied: typing-extensions in /usr/local/lib/python3.7/dist-packages (from kiwisolver>=1.0.1->matplotlib->dtreeviz[xgboost]) (4.1.1)\n",
            "Requirement already satisfied: six>=1.5 in /usr/local/lib/python3.7/dist-packages (from python-dateutil>=2.1->matplotlib->dtreeviz[xgboost]) (1.15.0)\n",
            "Requirement already satisfied: pytz>=2017.3 in /usr/local/lib/python3.7/dist-packages (from pandas->dtreeviz[xgboost]) (2022.4)\n",
            "Requirement already satisfied: pluggy<0.8,>=0.5 in /usr/local/lib/python3.7/dist-packages (from pytest->dtreeviz[xgboost]) (0.7.1)\n",
            "Requirement already satisfied: attrs>=17.4.0 in /usr/local/lib/python3.7/dist-packages (from pytest->dtreeviz[xgboost]) (22.1.0)\n",
            "Requirement already satisfied: atomicwrites>=1.0 in /usr/local/lib/python3.7/dist-packages (from pytest->dtreeviz[xgboost]) (1.4.1)\n",
            "Requirement already satisfied: py>=1.5.0 in /usr/local/lib/python3.7/dist-packages (from pytest->dtreeviz[xgboost]) (1.11.0)\n",
            "Requirement already satisfied: setuptools in /usr/local/lib/python3.7/dist-packages (from pytest->dtreeviz[xgboost]) (57.4.0)\n",
            "Requirement already satisfied: more-itertools>=4.0.0 in /usr/local/lib/python3.7/dist-packages (from pytest->dtreeviz[xgboost]) (8.14.0)\n",
            "Requirement already satisfied: scipy>=1.1.0 in /usr/local/lib/python3.7/dist-packages (from scikit-learn->dtreeviz[xgboost]) (1.7.3)\n",
            "Requirement already satisfied: joblib>=0.11 in /usr/local/lib/python3.7/dist-packages (from scikit-learn->dtreeviz[xgboost]) (1.2.0)\n",
            "Requirement already satisfied: threadpoolctl>=2.0.0 in /usr/local/lib/python3.7/dist-packages (from scikit-learn->dtreeviz[xgboost]) (3.1.0)\n",
            "Looking in indexes: https://pypi.org/simple, https://us-python.pkg.dev/colab-wheels/public/simple/\n",
            "Requirement already satisfied: dtreeviz[pyspark] in /usr/local/lib/python3.7/dist-packages (1.3.7)\n",
            "Requirement already satisfied: graphviz>=0.9 in /usr/local/lib/python3.7/dist-packages (from dtreeviz[pyspark]) (0.10.1)\n",
            "Requirement already satisfied: pytest in /usr/local/lib/python3.7/dist-packages (from dtreeviz[pyspark]) (3.6.4)\n",
            "Requirement already satisfied: colour in /usr/local/lib/python3.7/dist-packages (from dtreeviz[pyspark]) (0.1.5)\n",
            "Requirement already satisfied: scikit-learn in /usr/local/lib/python3.7/dist-packages (from dtreeviz[pyspark]) (1.0.2)\n",
            "Requirement already satisfied: pandas in /usr/local/lib/python3.7/dist-packages (from dtreeviz[pyspark]) (1.3.5)\n",
            "Requirement already satisfied: matplotlib in /usr/local/lib/python3.7/dist-packages (from dtreeviz[pyspark]) (3.2.2)\n",
            "Requirement already satisfied: numpy in /usr/local/lib/python3.7/dist-packages (from dtreeviz[pyspark]) (1.21.6)\n",
            "Collecting pyspark\n",
            "  Downloading pyspark-3.3.0.tar.gz (281.3 MB)\n",
            "\u001b[K     |████████████████████████████████| 281.3 MB 47 kB/s \n",
            "\u001b[?25hRequirement already satisfied: python-dateutil>=2.1 in /usr/local/lib/python3.7/dist-packages (from matplotlib->dtreeviz[pyspark]) (2.8.2)\n",
            "Requirement already satisfied: cycler>=0.10 in /usr/local/lib/python3.7/dist-packages (from matplotlib->dtreeviz[pyspark]) (0.11.0)\n",
            "Requirement already satisfied: pyparsing!=2.0.4,!=2.1.2,!=2.1.6,>=2.0.1 in /usr/local/lib/python3.7/dist-packages (from matplotlib->dtreeviz[pyspark]) (3.0.9)\n",
            "Requirement already satisfied: kiwisolver>=1.0.1 in /usr/local/lib/python3.7/dist-packages (from matplotlib->dtreeviz[pyspark]) (1.4.4)\n",
            "Requirement already satisfied: typing-extensions in /usr/local/lib/python3.7/dist-packages (from kiwisolver>=1.0.1->matplotlib->dtreeviz[pyspark]) (4.1.1)\n",
            "Requirement already satisfied: six>=1.5 in /usr/local/lib/python3.7/dist-packages (from python-dateutil>=2.1->matplotlib->dtreeviz[pyspark]) (1.15.0)\n",
            "Requirement already satisfied: pytz>=2017.3 in /usr/local/lib/python3.7/dist-packages (from pandas->dtreeviz[pyspark]) (2022.4)\n",
            "Collecting py4j==0.10.9.5\n",
            "  Downloading py4j-0.10.9.5-py2.py3-none-any.whl (199 kB)\n",
            "\u001b[K     |████████████████████████████████| 199 kB 53.9 MB/s \n",
            "\u001b[?25hRequirement already satisfied: setuptools in /usr/local/lib/python3.7/dist-packages (from pytest->dtreeviz[pyspark]) (57.4.0)\n",
            "Requirement already satisfied: pluggy<0.8,>=0.5 in /usr/local/lib/python3.7/dist-packages (from pytest->dtreeviz[pyspark]) (0.7.1)\n",
            "Requirement already satisfied: atomicwrites>=1.0 in /usr/local/lib/python3.7/dist-packages (from pytest->dtreeviz[pyspark]) (1.4.1)\n",
            "Requirement already satisfied: attrs>=17.4.0 in /usr/local/lib/python3.7/dist-packages (from pytest->dtreeviz[pyspark]) (22.1.0)\n",
            "Requirement already satisfied: py>=1.5.0 in /usr/local/lib/python3.7/dist-packages (from pytest->dtreeviz[pyspark]) (1.11.0)\n",
            "Requirement already satisfied: more-itertools>=4.0.0 in /usr/local/lib/python3.7/dist-packages (from pytest->dtreeviz[pyspark]) (8.14.0)\n",
            "Requirement already satisfied: threadpoolctl>=2.0.0 in /usr/local/lib/python3.7/dist-packages (from scikit-learn->dtreeviz[pyspark]) (3.1.0)\n",
            "Requirement already satisfied: scipy>=1.1.0 in /usr/local/lib/python3.7/dist-packages (from scikit-learn->dtreeviz[pyspark]) (1.7.3)\n",
            "Requirement already satisfied: joblib>=0.11 in /usr/local/lib/python3.7/dist-packages (from scikit-learn->dtreeviz[pyspark]) (1.2.0)\n",
            "Building wheels for collected packages: pyspark\n",
            "  Building wheel for pyspark (setup.py) ... \u001b[?25l\u001b[?25hdone\n",
            "  Created wheel for pyspark: filename=pyspark-3.3.0-py2.py3-none-any.whl size=281764026 sha256=5fdfc25186c9a647cf967a403dbce5ac21693a6d1e2971879e8b5c71f7526f1c\n",
            "  Stored in directory: /root/.cache/pip/wheels/7a/8e/1b/f73a52650d2e5f337708d9f6a1750d451a7349a867f928b885\n",
            "Successfully built pyspark\n",
            "Installing collected packages: py4j, pyspark\n",
            "Successfully installed py4j-0.10.9.5 pyspark-3.3.0\n",
            "Looking in indexes: https://pypi.org/simple, https://us-python.pkg.dev/colab-wheels/public/simple/\n",
            "Requirement already satisfied: dtreeviz[lightgbm] in /usr/local/lib/python3.7/dist-packages (1.3.7)\n",
            "Requirement already satisfied: pandas in /usr/local/lib/python3.7/dist-packages (from dtreeviz[lightgbm]) (1.3.5)\n",
            "Requirement already satisfied: pytest in /usr/local/lib/python3.7/dist-packages (from dtreeviz[lightgbm]) (3.6.4)\n",
            "Requirement already satisfied: colour in /usr/local/lib/python3.7/dist-packages (from dtreeviz[lightgbm]) (0.1.5)\n",
            "Requirement already satisfied: matplotlib in /usr/local/lib/python3.7/dist-packages (from dtreeviz[lightgbm]) (3.2.2)\n",
            "Requirement already satisfied: scikit-learn in /usr/local/lib/python3.7/dist-packages (from dtreeviz[lightgbm]) (1.0.2)\n",
            "Requirement already satisfied: numpy in /usr/local/lib/python3.7/dist-packages (from dtreeviz[lightgbm]) (1.21.6)\n",
            "Requirement already satisfied: graphviz>=0.9 in /usr/local/lib/python3.7/dist-packages (from dtreeviz[lightgbm]) (0.10.1)\n",
            "Requirement already satisfied: lightgbm in /usr/local/lib/python3.7/dist-packages (from dtreeviz[lightgbm]) (2.2.3)\n",
            "Requirement already satisfied: scipy in /usr/local/lib/python3.7/dist-packages (from lightgbm->dtreeviz[lightgbm]) (1.7.3)\n",
            "Requirement already satisfied: cycler>=0.10 in /usr/local/lib/python3.7/dist-packages (from matplotlib->dtreeviz[lightgbm]) (0.11.0)\n",
            "Requirement already satisfied: pyparsing!=2.0.4,!=2.1.2,!=2.1.6,>=2.0.1 in /usr/local/lib/python3.7/dist-packages (from matplotlib->dtreeviz[lightgbm]) (3.0.9)\n",
            "Requirement already satisfied: kiwisolver>=1.0.1 in /usr/local/lib/python3.7/dist-packages (from matplotlib->dtreeviz[lightgbm]) (1.4.4)\n",
            "Requirement already satisfied: python-dateutil>=2.1 in /usr/local/lib/python3.7/dist-packages (from matplotlib->dtreeviz[lightgbm]) (2.8.2)\n",
            "Requirement already satisfied: typing-extensions in /usr/local/lib/python3.7/dist-packages (from kiwisolver>=1.0.1->matplotlib->dtreeviz[lightgbm]) (4.1.1)\n",
            "Requirement already satisfied: six>=1.5 in /usr/local/lib/python3.7/dist-packages (from python-dateutil>=2.1->matplotlib->dtreeviz[lightgbm]) (1.15.0)\n",
            "Requirement already satisfied: pytz>=2017.3 in /usr/local/lib/python3.7/dist-packages (from pandas->dtreeviz[lightgbm]) (2022.4)\n",
            "Requirement already satisfied: py>=1.5.0 in /usr/local/lib/python3.7/dist-packages (from pytest->dtreeviz[lightgbm]) (1.11.0)\n",
            "Requirement already satisfied: attrs>=17.4.0 in /usr/local/lib/python3.7/dist-packages (from pytest->dtreeviz[lightgbm]) (22.1.0)\n",
            "Requirement already satisfied: pluggy<0.8,>=0.5 in /usr/local/lib/python3.7/dist-packages (from pytest->dtreeviz[lightgbm]) (0.7.1)\n",
            "Requirement already satisfied: more-itertools>=4.0.0 in /usr/local/lib/python3.7/dist-packages (from pytest->dtreeviz[lightgbm]) (8.14.0)\n",
            "Requirement already satisfied: atomicwrites>=1.0 in /usr/local/lib/python3.7/dist-packages (from pytest->dtreeviz[lightgbm]) (1.4.1)\n",
            "Requirement already satisfied: setuptools in /usr/local/lib/python3.7/dist-packages (from pytest->dtreeviz[lightgbm]) (57.4.0)\n",
            "Requirement already satisfied: joblib>=0.11 in /usr/local/lib/python3.7/dist-packages (from scikit-learn->dtreeviz[lightgbm]) (1.2.0)\n",
            "Requirement already satisfied: threadpoolctl>=2.0.0 in /usr/local/lib/python3.7/dist-packages (from scikit-learn->dtreeviz[lightgbm]) (3.1.0)\n"
          ]
        }
      ],
      "source": [
        "!pip3 install fuzzywuzzy python-Levenshtein\n",
        "!pip3 install dtreeviz             # install dtreeviz for sklearn\n",
        "!pip3 install dtreeviz[xgboost]    # install XGBoost related dependency\n",
        "!pip3 install dtreeviz[pyspark]    # install pyspark related dependency\n",
        "!pip3 install dtreeviz[lightgbm]   # install LightGBM related dependency\n"
      ]
    },
    {
      "cell_type": "code",
      "execution_count": 3,
      "metadata": {
        "id": "leDiMa4numLk"
      },
      "outputs": [],
      "source": [
        "import pandas as pd\n",
        "import numpy as np\n",
        "import seaborn as sns\n",
        "from matplotlib import pyplot as plt\n",
        "from sklearn.model_selection import train_test_split\n",
        "import sklearn.tree as sktree\n",
        "import sklearn.metrics as skmetrics\n",
        "import sklearn.model_selection as skmodelselect\n",
        "from sklearn import tree\n",
        "from sklearn.tree import export_text\n",
        "from sklearn.tree import export_graphviz\n",
        "import sklearn.metrics as skmetrics\n",
        "import graphviz\n",
        "import pydotplus\n",
        "from IPython.display import display\n",
        "from fuzzywuzzy import fuzz\n",
        "from fuzzywuzzy import process\n",
        "from dtreeviz.trees import *\n",
        "import warnings\n",
        "warnings.filterwarnings(\"ignore\", category=UserWarning)\n",
        "\n",
        "plt.rcParams.update({\n",
        "    'font.size': 16,\n",
        "    'font.family': 'serif',\n",
        "    'figure.figsize': (13, 8)\n",
        "})\n",
        "\n",
        "pd.set_option('display.max_colwidth', 200)"
      ]
    },
    {
      "cell_type": "markdown",
      "metadata": {
        "id": "JsAJPBjbumLl"
      },
      "source": [
        "# Loading data from Lattes Curriculum"
      ]
    },
    {
      "cell_type": "code",
      "execution_count": 5,
      "metadata": {
        "colab": {
          "base_uri": "https://localhost:8080/"
        },
        "id": "qDAc_rPloJ-k",
        "outputId": "7a6017a8-4cd4-4ae5-c36c-8fbdc28dee61"
      },
      "outputs": [
        {
          "data": {
            "text/plain": [
              "{'tags': ['hide-output']}"
            ]
          },
          "execution_count": 5,
          "metadata": {},
          "output_type": "execute_result"
        }
      ],
      "source": [
        "{\n",
        "    \"tags\": [\n",
        "        \"hide-output\"\n",
        "    ]\n",
        "}"
      ]
    },
    {
      "cell_type": "code",
      "execution_count": null,
      "metadata": {
        "id": "YkyfyugTumLl"
      },
      "outputs": [],
      "source": [
        "df_pesq = pd.read_excel('drive/MyDrive/Dados base pesquisa/1_importação currículo lattes/DadosImportadosDosCurriculos_451 registros.xlsx')\n",
        "#df_pesq.columns = df_pesq.columns.str.strip()\n",
        "df_pesq"
      ]
    },
    {
      "cell_type": "markdown",
      "metadata": {
        "id": "wMvBbgnxVa88"
      },
      "source": [
        "## Loading data from questionary asked to researchers by google forms"
      ]
    },
    {
      "cell_type": "code",
      "execution_count": null,
      "metadata": {
        "id": "aRgF22jeyBTR"
      },
      "outputs": [],
      "source": [
        "df_rel = pd.read_excel('drive/MyDrive/Dados base pesquisa/1_importação currículo lattes/Inventores_universidade 451.xlsx', usecols='B,C,E')\n",
        "df_rel.rename(columns = {'Patentes':'Patentes e registros atualizado','Instituição':'Universidade Atuação','Instituição':'Nome'},inplace = True)\n",
        "df_rel['Lattes'] = df_rel['Lattes'].str.strip()\n",
        "df_rel"
      ]
    },
    {
      "cell_type": "markdown",
      "metadata": {
        "id": "J5TmKUIQumLp"
      },
      "source": [
        "\n",
        "# Merging the Lattes table dataframe and the patents with updated profiles"
      ]
    },
    {
      "cell_type": "code",
      "execution_count": null,
      "metadata": {
        "id": "fgV-T5XoYbQm"
      },
      "outputs": [],
      "source": [
        "if (df_rel.Lattes.value_counts() > 1).any():\n",
        "    print('Temos duplicados! Vamos descartar as cópias com menos patentes.')\n",
        "    df_rel.sort_values('Patentes e registros atualizado', inplace=True)\n",
        "    df_rel.drop_duplicates('Lattes', keep='last', inplace=True)\n",
        "\n",
        "if not set(df_rel.Lattes).symmetric_difference(set(df_pesq.Lattes)):\n",
        "    print('Conjunto de ids Lattes idênticos')\n",
        "\n",
        "df_pesq = df_pesq.merge(df_rel, how = 'inner', on='Lattes')\n",
        "\n",
        "df_pesq.rename(columns = {'Nome_x':'Nome'},inplace = True)\n",
        "\n",
        "df_pesq.drop(columns = ['Nome_y','Data última atualização'],inplace= True)\n",
        "\n",
        "df_pesq"
      ]
    },
    {
      "cell_type": "code",
      "execution_count": null,
      "metadata": {
        "id": "nLT07gzxumLr"
      },
      "outputs": [],
      "source": [
        "df_perfil = pd.read_excel('drive/MyDrive/Dados base pesquisa/2_dados questionário on line/Revisado_PERFIL INVENTORES_Likert  140 respostas.xlsx')\n",
        "\n",
        "df_perfil.rename(columns ={'Informe seu nome completo':'Nome', 'Unnamed: 2':'Nome'},inplace = True)\n",
        "\n",
        "df_perfil.drop(columns = ['Unnamed: 0', 'Atenção!', 'Campo livre para, se desejar, complementar sua opinião, compartilhar impressões, sugestões e/ou dúvidas.'], inplace = True)\n",
        "\n",
        "df_perfil.columns = df_perfil.columns.str.strip()\n",
        "\n",
        "df_perfil"
      ]
    },
    {
      "cell_type": "markdown",
      "metadata": {
        "id": "fG-Q-wEiUr8P"
      },
      "source": [
        "\n",
        "# Associating each of researcher's name to a name in Lattes dataframe ordered by match_score"
      ]
    },
    {
      "cell_type": "code",
      "execution_count": 6,
      "metadata": {
        "colab": {
          "base_uri": "https://localhost:8080/",
          "height": 215
        },
        "id": "Hc2HHdIRUbuK",
        "outputId": "917b2fd2-55c5-4e3c-b160-530468dc867c"
      },
      "outputs": [
        {
          "ename": "NameError",
          "evalue": "ignored",
          "output_type": "error",
          "traceback": [
            "\u001b[0;31m---------------------------------------------------------------------------\u001b[0m",
            "\u001b[0;31mNameError\u001b[0m                                 Traceback (most recent call last)",
            "\u001b[0;32m<ipython-input-6-6a5079180858>\u001b[0m in \u001b[0;36m<module>\u001b[0;34m\u001b[0m\n\u001b[0;32m----> 1\u001b[0;31m \u001b[0mdf_perfil\u001b[0m\u001b[0;34m[\u001b[0m\u001b[0;34m[\u001b[0m\u001b[0;34m'match_name'\u001b[0m\u001b[0;34m,\u001b[0m \u001b[0;34m'match_score'\u001b[0m\u001b[0;34m]\u001b[0m\u001b[0;34m]\u001b[0m \u001b[0;34m=\u001b[0m \u001b[0mpd\u001b[0m\u001b[0;34m.\u001b[0m\u001b[0mDataFrame\u001b[0m\u001b[0;34m(\u001b[0m\u001b[0mdf_perfil\u001b[0m\u001b[0;34m[\u001b[0m\u001b[0;34m\"Nome\"\u001b[0m\u001b[0;34m]\u001b[0m\u001b[0;34m.\u001b[0m\u001b[0mapply\u001b[0m\u001b[0;34m(\u001b[0m\u001b[0;32mlambda\u001b[0m \u001b[0mx\u001b[0m\u001b[0;34m:\u001b[0m \u001b[0mprocess\u001b[0m\u001b[0;34m.\u001b[0m\u001b[0mextractOne\u001b[0m\u001b[0;34m(\u001b[0m\u001b[0mx\u001b[0m\u001b[0;34m,\u001b[0m \u001b[0mdf_pesq\u001b[0m\u001b[0;34m[\u001b[0m\u001b[0;34m\"Nome\"\u001b[0m\u001b[0;34m]\u001b[0m\u001b[0;34m.\u001b[0m\u001b[0mto_list\u001b[0m\u001b[0;34m(\u001b[0m\u001b[0;34m)\u001b[0m\u001b[0;34m,\u001b[0m\u001b[0mscorer\u001b[0m \u001b[0;34m=\u001b[0m \u001b[0mfuzz\u001b[0m\u001b[0;34m.\u001b[0m\u001b[0mtoken_sort_ratio\u001b[0m\u001b[0;34m)\u001b[0m\u001b[0;34m)\u001b[0m\u001b[0;34m.\u001b[0m\u001b[0mto_list\u001b[0m\u001b[0;34m(\u001b[0m\u001b[0;34m)\u001b[0m\u001b[0;34m)\u001b[0m\u001b[0;34m\u001b[0m\u001b[0;34m\u001b[0m\u001b[0m\n\u001b[0m\u001b[1;32m      2\u001b[0m \u001b[0;34m\u001b[0m\u001b[0m\n\u001b[1;32m      3\u001b[0m \u001b[0mdf_perfil\u001b[0m\u001b[0;34m[\u001b[0m\u001b[0;34m[\u001b[0m\u001b[0;34m'Nome'\u001b[0m\u001b[0;34m,\u001b[0m \u001b[0;34m'match_name'\u001b[0m\u001b[0;34m,\u001b[0m \u001b[0;34m'match_score'\u001b[0m\u001b[0;34m]\u001b[0m\u001b[0;34m]\u001b[0m\u001b[0;34m.\u001b[0m\u001b[0msort_values\u001b[0m\u001b[0;34m(\u001b[0m\u001b[0;34m'match_score'\u001b[0m\u001b[0;34m)\u001b[0m\u001b[0;34m[\u001b[0m\u001b[0;34m:\u001b[0m\u001b[0;36m15\u001b[0m\u001b[0;34m]\u001b[0m\u001b[0;34m\u001b[0m\u001b[0;34m\u001b[0m\u001b[0m\n",
            "\u001b[0;31mNameError\u001b[0m: name 'df_perfil' is not defined"
          ]
        }
      ],
      "source": [
        "df_perfil[['match_name', 'match_score']] = pd.DataFrame(df_perfil[\"Nome\"].apply(lambda x: process.extractOne(x, df_pesq[\"Nome\"].to_list(),scorer = fuzz.token_sort_ratio)).to_list())\n",
        "\n",
        "df_perfil[['Nome', 'match_name', 'match_score']].sort_values('match_score')[:15]"
      ]
    },
    {
      "cell_type": "markdown",
      "metadata": {
        "id": "trBno06sk7ze"
      },
      "source": [
        "\n",
        "### Cleaning mismatching entries in dataframes"
      ]
    },
    {
      "cell_type": "code",
      "execution_count": null,
      "metadata": {
        "id": "BgZ855nokaVN"
      },
      "outputs": [],
      "source": [
        "df_perfil.drop([63, 121, 37, 62, 59, 80], inplace=True)\n",
        "\n",
        "df_perfil[['Nome', 'match_name', 'match_score']].sort_values('match_score')[:15]"
      ]
    },
    {
      "cell_type": "markdown",
      "metadata": {
        "id": "EJ4-lSspqAXi"
      },
      "source": [
        "\n",
        "### Searching for researcher's that have eventualy answered more than once the questionary"
      ]
    },
    {
      "cell_type": "code",
      "execution_count": null,
      "metadata": {
        "id": "WooRnPB9V-hB"
      },
      "outputs": [],
      "source": [
        "df_perfil[df_perfil['match_name'].map(df_perfil['match_name'].value_counts() > 1)].sort_values('Nome')"
      ]
    },
    {
      "cell_type": "code",
      "execution_count": null,
      "metadata": {
        "id": "-9jlLAD0uB2a"
      },
      "outputs": [],
      "source": [
        "df_perfil"
      ]
    },
    {
      "cell_type": "code",
      "execution_count": null,
      "metadata": {
        "id": "-uZGaFGOQLJ-"
      },
      "outputs": [],
      "source": [
        "df_perfil.drop_duplicates('match_name', keep='last', inplace=True)\n",
        "\n",
        "df_pesq = df_perfil.merge(df_pesq, left_on='match_name', right_on='Nome')\n",
        "df_pesq.rename(columns = {'Nome_x':'Nome'},inplace = True)\n",
        "df_pesq.drop(columns = ['Nome_y'], inplace = True)\n",
        "df_pesq"
      ]
    },
    {
      "cell_type": "code",
      "execution_count": null,
      "metadata": {
        "id": "gnkDIvgItCND"
      },
      "outputs": [],
      "source": [
        "df_pesq[df_pesq['Ano de nascimento'].isna()]"
      ]
    },
    {
      "cell_type": "code",
      "execution_count": null,
      "metadata": {
        "colab": {
          "base_uri": "https://localhost:8080/"
        },
        "id": "BRXIWIKHsy87",
        "outputId": "74094ecb-7e86-42c4-e276-f327a47f56ac"
      },
      "outputs": [
        {
          "data": {
            "text/plain": [
              "Linhas de pesquisa                                                                                                                             20\n",
              "Mestrado                                                                                                                                       13\n",
              "Atuação Profissional                                                                                                                            4\n",
              "Áreas de atuação                                                                                                                                4\n",
              "Graduação                                                                                                                                       2\n",
              "Doutorado                                                                                                                                       1\n",
              "Aumento do prestígio e visibilidade acadêmica com reconhecimento e reputação pelos pares                                                        0\n",
              "Baixa mobilidade: vinculação e permanência a um local fixo e específico para o desenvolvimento da pesquisa.                                     0\n",
              "Colocação profissional e nível de responsabilidade que estimula o desenvolvimento da pesquisa                                                   0\n",
              "Competição e colaboração entre os pares na formação de redes pessoais e profissionais                                                           0\n",
              "Patentes e registros atualizado                                                                                                                 0\n",
              "Atendimento de indicadores de produção e possibilidades de publicação das pesquisas cujos resultados são patenteáveis                           0\n",
              "Contribuição da promoção e/ou progressão na carreira com impacto na remuneração                                                                 0\n",
              "Contribuição dos resultados da pesquisa para o desenvolvimento social e econômico da sociedade                                                  0\n",
              "Disponibilidade de materiais, dados e recursos oriundos da indústria para o desenvolvimento das atividades de pesquisa                          0\n",
              "Experiência profissional anterior como acadêmico e pesquisador                                                                                  0\n",
              "Aumento da renda pessoal e/ou benefícios econômicos decorrente da atividade de pesquisa                                                         0\n",
              "Algum pedido de patente foi resultado de interação com a indústria?                                                                             0\n",
              "Apoio administrativo institucional no processo de patenteamento, principalmente do Núcleo de Inovação Tecnológica (NIT) da sua universidade     0\n",
              "Acesso a meios e insumos, inclusive tecnológicos, para o desenvolvimento de pesquisas                                                           0\n",
              "Identifique qual das seguintes afirmações melhor descreve sua orientação profissional.                                                          0\n",
              "Habilidade para finanças e realização de negócios                                                                                               0\n",
              "Você já teve alguma patente depositada no exterior ou via Tratado de Cooperação de Patentes (PCT)?                                              0\n",
              "Você já teve alguma patente licenciada?                                                                                                         0\n",
              "Você já teve alguma patente concedida?                                                                                                          0\n",
              "GÊNERO                                                                                                                                          0\n",
              "Local de nascimento                                                                                                                             0\n",
              "Ano de nascimento                                                                                                                               0\n",
              "Gosto por desafios, resolução de problemas de pesquisa e curiosidade intelectual                                                                0\n",
              "Influência de membros do grupo de pesquisa por meio de troca de experiências                                                                    0\n",
              "Independência e autonomia no desenvolvimento da pesquisa                                                                                        0\n",
              "Influência de colaboradores e parceiros estrangeiros                                                                                            0\n",
              "Resumos publicados em anais de congressos                                                                                                       0\n",
              "Trabalhos completos publicados em anais de congressos                                                                                           0\n",
              "Capítulos de livros publicados                                                                                                                  0\n",
              "Artigos completos publicados em periódicos                                                                                                      0\n",
              "Nome em citações bibliográficas                                                                                                                 0\n",
              "Lattes                                                                                                                                          0\n",
              "match_score                                                                                                                                     0\n",
              "match_name                                                                                                                                      0\n",
              "Satisfação pessoal e realização profissional na realização da pesquisa                                                                          0\n",
              "Relações e cooperação de mercado com a indústria, inclusive com atração de recursos financeiros                                                 0\n",
              "Qualificação e competência pessoal para o desenvolvimento da pesquisa                                                                           0\n",
              "Proteção e apropriação intelectual dos resultados da pesquisa                                                                                   0\n",
              "Potencial de aplicação dos resultados da pesquisa                                                                                               0\n",
              "Participação em viagens e/ou experiências em outros lugares/culturas como influência para o desenvolvimento de pesquisas                        0\n",
              "Obtenção de financiamentos e recursos para a pesquisa                                                                                           0\n",
              "Momento profissional da carreira acadêmica ou de pesquisador                                                                                    0\n",
              "Licenciamento e Comercialização dos resultados da pesquisa                                                                                      0\n",
              "Instalações e condições infraestruturais para o desenvolvimento da pesquisa disponíveis na sua instituição                                      0\n",
              "Patentes e registros                                                                                                                            0\n",
              "Nome                                                                                                                                            0\n",
              "dtype: int64"
            ]
          },
          "execution_count": 14,
          "metadata": {},
          "output_type": "execute_result"
        }
      ],
      "source": [
        "df_pesq.isna().sum().sort_values(ascending=False)"
      ]
    },
    {
      "cell_type": "code",
      "execution_count": null,
      "metadata": {
        "colab": {
          "base_uri": "https://localhost:8080/"
        },
        "id": "Gllrk-kMuHoc",
        "outputId": "8a1d6a89-5a60-42d5-b5b8-d33e5f3e61f5"
      },
      "outputs": [
        {
          "data": {
            "text/plain": [
              "<class 'str'>    131\n",
              "Name: Ano de nascimento, dtype: int64"
            ]
          },
          "execution_count": 15,
          "metadata": {},
          "output_type": "execute_result"
        }
      ],
      "source": [
        "df_pesq['Ano de nascimento'].astype(str).map(type).value_counts()"
      ]
    },
    {
      "cell_type": "markdown",
      "metadata": {
        "id": "nwWrDLk3Z6AY"
      },
      "source": [
        "# Gráfico de Barras do atributo alvo \"Orientação Profissional\"\n",
        "# Barplot of \"Orientação Profissional\""
      ]
    },
    {
      "cell_type": "code",
      "execution_count": null,
      "metadata": {
        "colab": {
          "base_uri": "https://localhost:8080/",
          "height": 1000
        },
        "id": "EimayzG_W04L",
        "outputId": "76d7d2f3-d319-4d79-fa3c-ac66273cb466"
      },
      "outputs": [
        {
          "data": {
            "text/html": [
              "\n",
              "  <div id=\"df-512e5ddd-dcd6-48d0-87e6-0fba3f08534f\">\n",
              "    <div class=\"colab-df-container\">\n",
              "      <div>\n",
              "<style scoped>\n",
              "    .dataframe tbody tr th:only-of-type {\n",
              "        vertical-align: middle;\n",
              "    }\n",
              "\n",
              "    .dataframe tbody tr th {\n",
              "        vertical-align: top;\n",
              "    }\n",
              "\n",
              "    .dataframe thead th {\n",
              "        text-align: right;\n",
              "    }\n",
              "</style>\n",
              "<table border=\"1\" class=\"dataframe\">\n",
              "  <thead>\n",
              "    <tr style=\"text-align: right;\">\n",
              "      <th></th>\n",
              "      <th>Resultados Esperados</th>\n",
              "      <th>Natureza da Motivação</th>\n",
              "    </tr>\n",
              "    <tr>\n",
              "      <th>Fatores que motivam a patentear</th>\n",
              "      <th></th>\n",
              "      <th></th>\n",
              "    </tr>\n",
              "  </thead>\n",
              "  <tbody>\n",
              "    <tr>\n",
              "      <th>Acesso a meios e insumos, inclusive tecnológicos, para o desenvolvimento de pesquisas</th>\n",
              "      <td>Econômico</td>\n",
              "      <td>Externo</td>\n",
              "    </tr>\n",
              "    <tr>\n",
              "      <th>Apoio administrativo institucional no processo de patenteamento, principalmente do Núcleo de Inovação Tecnológica (NIT) da sua universidade</th>\n",
              "      <td>Reputação</td>\n",
              "      <td>Intrínseca</td>\n",
              "    </tr>\n",
              "    <tr>\n",
              "      <th>Atendimento de indicadores de produção e possibilidades de publicação das pesquisas cujos resultados são patenteáveis</th>\n",
              "      <td>Reputação</td>\n",
              "      <td>Externo</td>\n",
              "    </tr>\n",
              "    <tr>\n",
              "      <th>Aumento da renda pessoal e/ou benefícios econômicos decorrente da atividade de pesquisa</th>\n",
              "      <td>Econômico</td>\n",
              "      <td>Externo</td>\n",
              "    </tr>\n",
              "    <tr>\n",
              "      <th>Aumento do prestígio e visibilidade acadêmica com reconhecimento e reputação pelos pares</th>\n",
              "      <td>Reputação</td>\n",
              "      <td>Externo</td>\n",
              "    </tr>\n",
              "    <tr>\n",
              "      <th>Baixa mobilidade: vinculação e permanência a um local fixo e específico para o desenvolvimento da pesquisa.</th>\n",
              "      <td>Reputação</td>\n",
              "      <td>Externo</td>\n",
              "    </tr>\n",
              "    <tr>\n",
              "      <th>Colocação profissional e nível de responsabilidade que estimula o desenvolvimento da pesquisa</th>\n",
              "      <td>Econômico</td>\n",
              "      <td>Externo</td>\n",
              "    </tr>\n",
              "    <tr>\n",
              "      <th>Competição e colaboração entre os pares na formação de redes pessoais e profissionais</th>\n",
              "      <td>Reputação</td>\n",
              "      <td>Externo</td>\n",
              "    </tr>\n",
              "    <tr>\n",
              "      <th>Contribuição da promoção e/ou progressão na carreira com impacto na remuneração</th>\n",
              "      <td>Econômico</td>\n",
              "      <td>Externo</td>\n",
              "    </tr>\n",
              "    <tr>\n",
              "      <th>Contribuição dos resultados da pesquisa para o desenvolvimento social e econômico da sociedade</th>\n",
              "      <td>Desafio</td>\n",
              "      <td>Misto</td>\n",
              "    </tr>\n",
              "    <tr>\n",
              "      <th>Disponibilidade de materiais, dados e recursos oriundos da indústria para o desenvolvimento das atividades de pesquisa</th>\n",
              "      <td>Reputação</td>\n",
              "      <td>Externo</td>\n",
              "    </tr>\n",
              "    <tr>\n",
              "      <th>Experiência profissional anterior como acadêmico e pesquisador</th>\n",
              "      <td>Desafio</td>\n",
              "      <td>Misto</td>\n",
              "    </tr>\n",
              "    <tr>\n",
              "      <th>Gosto por desafios, resolução de problemas de pesquisa e curiosidade intelectual</th>\n",
              "      <td>Desafio</td>\n",
              "      <td>Misto</td>\n",
              "    </tr>\n",
              "    <tr>\n",
              "      <th>Habilidade para finanças e realização de negócios</th>\n",
              "      <td>Econômico</td>\n",
              "      <td>Externo</td>\n",
              "    </tr>\n",
              "    <tr>\n",
              "      <th>Independência e autonomia no desenvolvimento da pesquisa</th>\n",
              "      <td>Desafio</td>\n",
              "      <td>Misto</td>\n",
              "    </tr>\n",
              "    <tr>\n",
              "      <th>Influência de colaboradores e parceiros estrangeiros</th>\n",
              "      <td>Reputação</td>\n",
              "      <td>Externo</td>\n",
              "    </tr>\n",
              "    <tr>\n",
              "      <th>Influência de membros do grupo de pesquisa por meio de troca de experiências</th>\n",
              "      <td>Desafio</td>\n",
              "      <td>Misto</td>\n",
              "    </tr>\n",
              "    <tr>\n",
              "      <th>Instalações e condições infraestruturais para o desenvolvimento da pesquisa disponíveis na sua instituição</th>\n",
              "      <td>Desafio</td>\n",
              "      <td>Misto</td>\n",
              "    </tr>\n",
              "    <tr>\n",
              "      <th>Licenciamento e Comercialização dos resultados da pesquisa</th>\n",
              "      <td>Econômico</td>\n",
              "      <td>Externo</td>\n",
              "    </tr>\n",
              "    <tr>\n",
              "      <th>Momento profissional da carreira acadêmica ou de pesquisador</th>\n",
              "      <td>Econômico</td>\n",
              "      <td>Externo</td>\n",
              "    </tr>\n",
              "    <tr>\n",
              "      <th>Obtenção de financiamentos e recursos para a pesquisa</th>\n",
              "      <td>Econômico</td>\n",
              "      <td>Externo</td>\n",
              "    </tr>\n",
              "    <tr>\n",
              "      <th>Participação em viagens e/ou experiências em outros lugares/culturas como influência para o desenvolvimento de pesquisas</th>\n",
              "      <td>Reputação</td>\n",
              "      <td>Externo</td>\n",
              "    </tr>\n",
              "    <tr>\n",
              "      <th>Potencial de aplicação dos resultados da pesquisa</th>\n",
              "      <td>Desafio</td>\n",
              "      <td>Misto</td>\n",
              "    </tr>\n",
              "    <tr>\n",
              "      <th>Proteção e apropriação intelectual dos resultados da pesquisa</th>\n",
              "      <td>Desafio</td>\n",
              "      <td>Misto</td>\n",
              "    </tr>\n",
              "    <tr>\n",
              "      <th>Qualificação e competência pessoal para o desenvolvimento da pesquisa</th>\n",
              "      <td>Econômico</td>\n",
              "      <td>Externo</td>\n",
              "    </tr>\n",
              "    <tr>\n",
              "      <th>Relações e cooperação de mercado com a indústria, inclusive com atração de recursos financeiros</th>\n",
              "      <td>Reputação</td>\n",
              "      <td>Externo</td>\n",
              "    </tr>\n",
              "    <tr>\n",
              "      <th>Satisfação pessoal e realização profissional na realização da pesquisa</th>\n",
              "      <td>Desafio</td>\n",
              "      <td>Misto</td>\n",
              "    </tr>\n",
              "  </tbody>\n",
              "</table>\n",
              "</div>\n",
              "      <button class=\"colab-df-convert\" onclick=\"convertToInteractive('df-512e5ddd-dcd6-48d0-87e6-0fba3f08534f')\"\n",
              "              title=\"Convert this dataframe to an interactive table.\"\n",
              "              style=\"display:none;\">\n",
              "        \n",
              "  <svg xmlns=\"http://www.w3.org/2000/svg\" height=\"24px\"viewBox=\"0 0 24 24\"\n",
              "       width=\"24px\">\n",
              "    <path d=\"M0 0h24v24H0V0z\" fill=\"none\"/>\n",
              "    <path d=\"M18.56 5.44l.94 2.06.94-2.06 2.06-.94-2.06-.94-.94-2.06-.94 2.06-2.06.94zm-11 1L8.5 8.5l.94-2.06 2.06-.94-2.06-.94L8.5 2.5l-.94 2.06-2.06.94zm10 10l.94 2.06.94-2.06 2.06-.94-2.06-.94-.94-2.06-.94 2.06-2.06.94z\"/><path d=\"M17.41 7.96l-1.37-1.37c-.4-.4-.92-.59-1.43-.59-.52 0-1.04.2-1.43.59L10.3 9.45l-7.72 7.72c-.78.78-.78 2.05 0 2.83L4 21.41c.39.39.9.59 1.41.59.51 0 1.02-.2 1.41-.59l7.78-7.78 2.81-2.81c.8-.78.8-2.07 0-2.86zM5.41 20L4 18.59l7.72-7.72 1.47 1.35L5.41 20z\"/>\n",
              "  </svg>\n",
              "      </button>\n",
              "      \n",
              "  <style>\n",
              "    .colab-df-container {\n",
              "      display:flex;\n",
              "      flex-wrap:wrap;\n",
              "      gap: 12px;\n",
              "    }\n",
              "\n",
              "    .colab-df-convert {\n",
              "      background-color: #E8F0FE;\n",
              "      border: none;\n",
              "      border-radius: 50%;\n",
              "      cursor: pointer;\n",
              "      display: none;\n",
              "      fill: #1967D2;\n",
              "      height: 32px;\n",
              "      padding: 0 0 0 0;\n",
              "      width: 32px;\n",
              "    }\n",
              "\n",
              "    .colab-df-convert:hover {\n",
              "      background-color: #E2EBFA;\n",
              "      box-shadow: 0px 1px 2px rgba(60, 64, 67, 0.3), 0px 1px 3px 1px rgba(60, 64, 67, 0.15);\n",
              "      fill: #174EA6;\n",
              "    }\n",
              "\n",
              "    [theme=dark] .colab-df-convert {\n",
              "      background-color: #3B4455;\n",
              "      fill: #D2E3FC;\n",
              "    }\n",
              "\n",
              "    [theme=dark] .colab-df-convert:hover {\n",
              "      background-color: #434B5C;\n",
              "      box-shadow: 0px 1px 3px 1px rgba(0, 0, 0, 0.15);\n",
              "      filter: drop-shadow(0px 1px 2px rgba(0, 0, 0, 0.3));\n",
              "      fill: #FFFFFF;\n",
              "    }\n",
              "  </style>\n",
              "\n",
              "      <script>\n",
              "        const buttonEl =\n",
              "          document.querySelector('#df-512e5ddd-dcd6-48d0-87e6-0fba3f08534f button.colab-df-convert');\n",
              "        buttonEl.style.display =\n",
              "          google.colab.kernel.accessAllowed ? 'block' : 'none';\n",
              "\n",
              "        async function convertToInteractive(key) {\n",
              "          const element = document.querySelector('#df-512e5ddd-dcd6-48d0-87e6-0fba3f08534f');\n",
              "          const dataTable =\n",
              "            await google.colab.kernel.invokeFunction('convertToInteractive',\n",
              "                                                     [key], {});\n",
              "          if (!dataTable) return;\n",
              "\n",
              "          const docLinkHtml = 'Like what you see? Visit the ' +\n",
              "            '<a target=\"_blank\" href=https://colab.research.google.com/notebooks/data_table.ipynb>data table notebook</a>'\n",
              "            + ' to learn more about interactive tables.';\n",
              "          element.innerHTML = '';\n",
              "          dataTable['output_type'] = 'display_data';\n",
              "          await google.colab.output.renderOutput(dataTable, element);\n",
              "          const docLink = document.createElement('div');\n",
              "          docLink.innerHTML = docLinkHtml;\n",
              "          element.appendChild(docLink);\n",
              "        }\n",
              "      </script>\n",
              "    </div>\n",
              "  </div>\n",
              "  "
            ],
            "text/plain": [
              "                                                                                                                                            Resultados Esperados Natureza da Motivação\n",
              "Fatores que motivam a patentear                                                                                                                                                       \n",
              "Acesso a meios e insumos, inclusive tecnológicos, para o desenvolvimento de pesquisas                                                                  Econômico               Externo\n",
              "Apoio administrativo institucional no processo de patenteamento, principalmente do Núcleo de Inovação Tecnológica (NIT) da sua universidade            Reputação            Intrínseca\n",
              "Atendimento de indicadores de produção e possibilidades de publicação das pesquisas cujos resultados são patenteáveis                                  Reputação               Externo\n",
              "Aumento da renda pessoal e/ou benefícios econômicos decorrente da atividade de pesquisa                                                                Econômico               Externo\n",
              "Aumento do prestígio e visibilidade acadêmica com reconhecimento e reputação pelos pares                                                               Reputação               Externo\n",
              "Baixa mobilidade: vinculação e permanência a um local fixo e específico para o desenvolvimento da pesquisa.                                            Reputação               Externo\n",
              "Colocação profissional e nível de responsabilidade que estimula o desenvolvimento da pesquisa                                                          Econômico               Externo\n",
              "Competição e colaboração entre os pares na formação de redes pessoais e profissionais                                                                  Reputação               Externo\n",
              "Contribuição da promoção e/ou progressão na carreira com impacto na remuneração                                                                        Econômico               Externo\n",
              "Contribuição dos resultados da pesquisa para o desenvolvimento social e econômico da sociedade                                                           Desafio                 Misto\n",
              "Disponibilidade de materiais, dados e recursos oriundos da indústria para o desenvolvimento das atividades de pesquisa                                 Reputação               Externo\n",
              "Experiência profissional anterior como acadêmico e pesquisador                                                                                           Desafio                 Misto\n",
              "Gosto por desafios, resolução de problemas de pesquisa e curiosidade intelectual                                                                         Desafio                 Misto\n",
              "Habilidade para finanças e realização de negócios                                                                                                      Econômico               Externo\n",
              "Independência e autonomia no desenvolvimento da pesquisa                                                                                                 Desafio                 Misto\n",
              "Influência de colaboradores e parceiros estrangeiros                                                                                                   Reputação               Externo\n",
              "Influência de membros do grupo de pesquisa por meio de troca de experiências                                                                             Desafio                 Misto\n",
              "Instalações e condições infraestruturais para o desenvolvimento da pesquisa disponíveis na sua instituição                                               Desafio                 Misto\n",
              "Licenciamento e Comercialização dos resultados da pesquisa                                                                                             Econômico               Externo\n",
              "Momento profissional da carreira acadêmica ou de pesquisador                                                                                           Econômico               Externo\n",
              "Obtenção de financiamentos e recursos para a pesquisa                                                                                                  Econômico               Externo\n",
              "Participação em viagens e/ou experiências em outros lugares/culturas como influência para o desenvolvimento de pesquisas                               Reputação               Externo\n",
              "Potencial de aplicação dos resultados da pesquisa                                                                                                        Desafio                 Misto\n",
              "Proteção e apropriação intelectual dos resultados da pesquisa                                                                                            Desafio                 Misto\n",
              "Qualificação e competência pessoal para o desenvolvimento da pesquisa                                                                                  Econômico               Externo\n",
              "Relações e cooperação de mercado com a indústria, inclusive com atração de recursos financeiros                                                        Reputação               Externo\n",
              "Satisfação pessoal e realização profissional na realização da pesquisa                                                                                   Desafio                 Misto"
            ]
          },
          "execution_count": 16,
          "metadata": {},
          "output_type": "execute_result"
        }
      ],
      "source": [
        "df_labels = pd.read_excel('drive/MyDrive/Dados base pesquisa/2_dados questionário on line/Indicador aferição perfil do pesquisador.xlsx',usecols = 'A,B,C',index_col = 0)\n",
        "df_labels.index = df_labels.index.str.strip()\n",
        "df_labels\n"
      ]
    },
    {
      "cell_type": "code",
      "execution_count": null,
      "metadata": {
        "colab": {
          "base_uri": "https://localhost:8080/",
          "height": 600
        },
        "id": "p-TE8gPQ5kNs",
        "outputId": "c5b117d8-bb40-4cfe-e28d-1bfe7cb4c443"
      },
      "outputs": [
        {
          "name": "stdout",
          "output_type": "stream",
          "text": [
            "Hybrid : Acredito na importância da colaboração da academia-indústria e busco desenvolver atividades vinculadas a indústria visando ao avanço científico.\n",
            "Entrepreneurial : Acredito na importância da colaboração da academia-indústria e busco desenvolver atividades vinculadas à indústria visando ao aproveitamento comercial.\n",
            "Pragmatic traditional : Acredito que a universidade e a indústria devem ser distintas, mas busco desenvolver atividades ligadas à indústria principalmente para adquirir recursos  para apoiar a pesquisa acadêmica.\n",
            "Pure Traditional : Acredito que a universidade e a indústria devem ser distintas. Assim, busco atuar e avançar profissionalmente apenas no campo acadêmico.\n"
          ]
        },
        {
          "data": {
            "image/png": "[encoded data removed]",
            "text/plain": [
              "<Figure size 936x576 with 1 Axes>"
            ]
          },
          "metadata": {},
          "output_type": "display_data"
        }
      ],
      "source": [
        "dict_labels = {'Acredito na importância da colaboração da academia-indústria e busco desenvolver atividades vinculadas a indústria visando ao avanço científico.':'Hybrid','Acredito na importância da colaboração da academia-indústria e busco desenvolver atividades vinculadas à indústria visando ao aproveitamento comercial.':'Entrepreneurial','Acredito que a universidade e a indústria devem ser distintas, mas busco desenvolver atividades ligadas à indústria principalmente para adquirir recursos  para apoiar a pesquisa acadêmica.':'Pragmatic traditional','Acredito que a universidade e a indústria devem ser distintas. Assim, busco atuar e avançar profissionalmente apenas no campo acadêmico.':'Pure Traditional'}\n",
        "\n",
        "for k in dict_labels:\n",
        "    print(dict_labels[k], ':', k)\n",
        "\n",
        "_ = sns.countplot(x=df_pesq['Identifique qual das seguintes afirmações melhor descreve sua orientação profissional.'].replace(dict_labels).sort_values())\n",
        "# o_ foi pra sumir com o warning chato\n"
      ]
    },
    {
      "cell_type": "markdown",
      "metadata": {
        "id": "xZRXOfJpy-ay"
      },
      "source": [
        "### Manually fix of inconsistent data"
      ]
    },
    {
      "cell_type": "code",
      "execution_count": null,
      "metadata": {
        "id": "iV4mJa3LumLu"
      },
      "outputs": [],
      "source": [
        "df_pesq['Ano de nascimento'] = df_pesq['Ano de nascimento'].astype(str).str.split('/').str[-1].str.strip()\n",
        "df_pesq['Ano de nascimento'] = df_pesq['Ano de nascimento'].astype(str).str.split(' ').str[-1].str.strip()\n",
        "df_pesq['Ano de nascimento'] = pd.to_numeric(df_pesq['Ano de nascimento'])\n",
        "\n",
        "df_pesq['Ano de nascimento'] = df_pesq['Ano de nascimento'].replace(to_replace = 3061959,value = 1959)"
      ]
    },
    {
      "cell_type": "markdown",
      "metadata": {
        "id": "z3HcHRJ_YEgT"
      },
      "source": [
        "# Graph of gender label \n",
        "## Blue - men\n",
        "## Orange - women"
      ]
    },
    {
      "cell_type": "code",
      "execution_count": null,
      "metadata": {
        "colab": {
          "base_uri": "https://localhost:8080/",
          "height": 511
        },
        "id": "TTjnRz6numLv",
        "outputId": "c17dd3c3-f2f1-48f0-e646-61683f7460fd"
      },
      "outputs": [
        {
          "data": {
            "image/png": "[encoded data removed]",
            "text/plain": [
              "<Figure size 936x576 with 1 Axes>"
            ]
          },
          "metadata": {},
          "output_type": "display_data"
        }
      ],
      "source": [
        "_ = sns.countplot(x = df_pesq['GÊNERO'])"
      ]
    },
    {
      "cell_type": "markdown",
      "metadata": {
        "id": "RBfydz5HYtjp"
      },
      "source": [
        "# Researcher's year of birth distribution"
      ]
    },
    {
      "cell_type": "code",
      "execution_count": null,
      "metadata": {
        "colab": {
          "base_uri": "https://localhost:8080/",
          "height": 545
        },
        "id": "LMlnYIOgumLw",
        "outputId": "d2fc6acc-271e-4c62-d19b-a670853e72aa",
        "scrolled": true
      },
      "outputs": [
        {
          "name": "stderr",
          "output_type": "stream",
          "text": [
            "/usr/local/lib/python3.7/dist-packages/seaborn/distributions.py:2619: FutureWarning: `distplot` is a deprecated function and will be removed in a future version. Please adapt your code to use either `displot` (a figure-level function with similar flexibility) or `histplot` (an axes-level function for histograms).\n",
            "  warnings.warn(msg, FutureWarning)\n"
          ]
        },
        {
          "data": {
            "image/png": "[encoded data removed]",
            "text/plain": [
              "<Figure size 936x576 with 1 Axes>"
            ]
          },
          "metadata": {},
          "output_type": "display_data"
        }
      ],
      "source": [
        "_ = sns.distplot(x = df_pesq['Ano de nascimento'])"
      ]
    },
    {
      "cell_type": "markdown",
      "metadata": {
        "id": "jA9oSz0IZZ1f"
      },
      "source": [
        "\n",
        "# Histograms in general"
      ]
    },
    {
      "cell_type": "code",
      "execution_count": null,
      "metadata": {
        "colab": {
          "base_uri": "https://localhost:8080/",
          "height": 511
        },
        "id": "N5BU5ogPumLw",
        "outputId": "9fde0731-5d52-4356-c3f0-e6d40cdb9858"
      },
      "outputs": [
        {
          "data": {
            "image/png": "[encoded data removed]",
            "text/plain": [
              "<Figure size 936x576 with 1 Axes>"
            ]
          },
          "metadata": {},
          "output_type": "display_data"
        }
      ],
      "source": [
        "_ = sns.countplot(x = df_pesq['Você já teve alguma patente licenciada?'].sort_values())"
      ]
    },
    {
      "cell_type": "code",
      "execution_count": null,
      "metadata": {
        "colab": {
          "base_uri": "https://localhost:8080/",
          "height": 511
        },
        "id": "kl-tMVYUumLw",
        "outputId": "fa21d182-b3ac-4162-8bcc-41cfee75e53b"
      },
      "outputs": [
        {
          "data": {
            "image/png": "[encoded data removed]",
            "text/plain": [
              "<Figure size 936x576 with 1 Axes>"
            ]
          },
          "metadata": {},
          "output_type": "display_data"
        }
      ],
      "source": [
        "_ = sns.countplot(x = df_pesq['Você já teve alguma patente depositada no exterior ou via Tratado de Cooperação de Patentes (PCT)?'].sort_values())\n"
      ]
    },
    {
      "cell_type": "code",
      "execution_count": null,
      "metadata": {
        "colab": {
          "base_uri": "https://localhost:8080/",
          "height": 511
        },
        "id": "wPK7otvNumLw",
        "outputId": "a3563bd5-92e9-4321-eb34-3f294d7d6286",
        "scrolled": true
      },
      "outputs": [
        {
          "data": {
            "image/png": "[encoded data removed]",
            "text/plain": [
              "<Figure size 936x576 with 1 Axes>"
            ]
          },
          "metadata": {},
          "output_type": "display_data"
        }
      ],
      "source": [
        "_ = sns.countplot(x = df_pesq['Você já teve alguma patente concedida?'].sort_values())"
      ]
    },
    {
      "cell_type": "code",
      "execution_count": null,
      "metadata": {
        "colab": {
          "base_uri": "https://localhost:8080/",
          "height": 511
        },
        "id": "W7VocNQ-umLx",
        "outputId": "bc22b546-f4e4-463f-8ecf-cd08d7ae9af3"
      },
      "outputs": [
        {
          "data": {
            "image/png": "[encoded data removed]",
            "text/plain": [
              "<Figure size 936x576 with 1 Axes>"
            ]
          },
          "metadata": {},
          "output_type": "display_data"
        }
      ],
      "source": [
        "_ = sns.countplot(x = df_pesq['Algum pedido de patente foi resultado de interação com a indústria?'].sort_values())"
      ]
    },
    {
      "cell_type": "markdown",
      "metadata": {
        "id": "02Z3kzEUoP1S"
      },
      "source": [
        "Fazendo a conversão dos dados da coluna 'Algum pedido de patente foi resultado de interação com a indústria?' para 'Ativo' e 'Passivo'."
      ]
    },
    {
      "cell_type": "code",
      "execution_count": null,
      "metadata": {
        "id": "1A89rHpwoE6x"
      },
      "outputs": [],
      "source": [
        "df_pesq['Ativo ou passivo'] = df_pesq['Algum pedido de patente foi resultado de interação com a indústria?'].replace(('Não','Sim'),('Passivo','Ativo'))"
      ]
    },
    {
      "cell_type": "code",
      "execution_count": null,
      "metadata": {
        "colab": {
          "base_uri": "https://localhost:8080/",
          "height": 511
        },
        "id": "YFL_Z99RpdNm",
        "outputId": "d3914617-7601-473f-fa8c-15976f16a003"
      },
      "outputs": [
        {
          "data": {
            "image/png": "[encoded data removed]",
            "text/plain": [
              "<Figure size 936x576 with 1 Axes>"
            ]
          },
          "metadata": {},
          "output_type": "display_data"
        }
      ],
      "source": [
        "_ = sns.countplot(x = df_pesq['Algum pedido de patente foi resultado de interação com a indústria?'].sort_values())"
      ]
    },
    {
      "cell_type": "markdown",
      "metadata": {
        "id": "lfgvPqpR7qye"
      },
      "source": [
        "Não vale a pena fazer o gráfico sobre ocasional ou recorrente visto que todos os valores são maiores ou iguais a 3\n",
        "\n",
        "It is not worth it to make \"ocasional ou recorrente\" since all of values are greater or equal to 3."
      ]
    },
    {
      "cell_type": "code",
      "execution_count": null,
      "metadata": {
        "id": "mMOBgghwf8Z_"
      },
      "outputs": [],
      "source": [
        "#ocasional ou recorrete \n",
        "\n",
        "df_pesq['Ocasional ou recorrente'] = df_pesq['Patentes e registros atualizado'] >= 3\n",
        "\n",
        "#df_pesq['Ocasional ou recorrete'].replace((True,False),(\"Maior que 3\",\"Menor que\"))"
      ]
    },
    {
      "cell_type": "code",
      "execution_count": null,
      "metadata": {
        "id": "H0AULxS3pdcj"
      },
      "outputs": [],
      "source": [
        "df_pesq['Ocasional ou recorrente'] = np.where(df_pesq['Ocasional ou recorrente'],'Ocasional','Recorrente')\n"
      ]
    },
    {
      "cell_type": "code",
      "execution_count": null,
      "metadata": {
        "colab": {
          "base_uri": "https://localhost:8080/"
        },
        "id": "jEKVQ_i447gp",
        "outputId": "798eeb8c-0233-4201-f639-0d9cad603478"
      },
      "outputs": [
        {
          "data": {
            "text/plain": [
              "Ocasional    131\n",
              "Name: Ocasional ou recorrente, dtype: int64"
            ]
          },
          "execution_count": 29,
          "metadata": {},
          "output_type": "execute_result"
        }
      ],
      "source": [
        "df_pesq['Ocasional ou recorrente'].value_counts()"
      ]
    },
    {
      "cell_type": "code",
      "execution_count": null,
      "metadata": {
        "id": "SX1KHulrYyBZ"
      },
      "outputs": [],
      "source": [
        "df_numericos = df_pesq[df_labels.index]"
      ]
    },
    {
      "cell_type": "markdown",
      "metadata": {
        "id": "hZ1vGFv3umL6"
      },
      "source": [
        "\n",
        "# Ranking sortable data"
      ]
    },
    {
      "cell_type": "code",
      "execution_count": null,
      "metadata": {
        "colab": {
          "base_uri": "https://localhost:8080/"
        },
        "id": "Vzl03m1mXQHx",
        "outputId": "3a3d796c-ffa1-41f5-db19-0da3b50a4bb1"
      },
      "outputs": [
        {
          "data": {
            "text/plain": [
              "(131, 27)"
            ]
          },
          "execution_count": 31,
          "metadata": {},
          "output_type": "execute_result"
        }
      ],
      "source": [
        "df_numericos.shape"
      ]
    },
    {
      "cell_type": "code",
      "execution_count": null,
      "metadata": {
        "colab": {
          "base_uri": "https://localhost:8080/",
          "height": 896
        },
        "id": "AgrEC8LD1QmO",
        "outputId": "853005b8-652a-4f3b-b134-eb661e49777c"
      },
      "outputs": [
        {
          "data": {
            "text/html": [
              "\n",
              "  <div id=\"df-b5a99b2c-900e-4d84-a97c-355ac8354ae6\">\n",
              "    <div class=\"colab-df-container\">\n",
              "      <div>\n",
              "<style scoped>\n",
              "    .dataframe tbody tr th:only-of-type {\n",
              "        vertical-align: middle;\n",
              "    }\n",
              "\n",
              "    .dataframe tbody tr th {\n",
              "        vertical-align: top;\n",
              "    }\n",
              "\n",
              "    .dataframe thead th {\n",
              "        text-align: right;\n",
              "    }\n",
              "</style>\n",
              "<table border=\"1\" class=\"dataframe\">\n",
              "  <thead>\n",
              "    <tr style=\"text-align: right;\">\n",
              "      <th></th>\n",
              "      <th>media</th>\n",
              "      <th>desvio_padrao</th>\n",
              "    </tr>\n",
              "  </thead>\n",
              "  <tbody>\n",
              "    <tr>\n",
              "      <th>Contribuição dos resultados da pesquisa para o desenvolvimento social e econômico da sociedade</th>\n",
              "      <td>4.793893</td>\n",
              "      <td>0.491740</td>\n",
              "    </tr>\n",
              "    <tr>\n",
              "      <th>Gosto por desafios, resolução de problemas de pesquisa e curiosidade intelectual</th>\n",
              "      <td>4.687023</td>\n",
              "      <td>0.595935</td>\n",
              "    </tr>\n",
              "    <tr>\n",
              "      <th>Potencial de aplicação dos resultados da pesquisa</th>\n",
              "      <td>4.679389</td>\n",
              "      <td>0.544443</td>\n",
              "    </tr>\n",
              "    <tr>\n",
              "      <th>Satisfação pessoal e realização profissional na realização da pesquisa</th>\n",
              "      <td>4.671756</td>\n",
              "      <td>0.560806</td>\n",
              "    </tr>\n",
              "    <tr>\n",
              "      <th>Obtenção de financiamentos e recursos para a pesquisa</th>\n",
              "      <td>4.603053</td>\n",
              "      <td>0.791098</td>\n",
              "    </tr>\n",
              "    <tr>\n",
              "      <th>Qualificação e competência pessoal para o desenvolvimento da pesquisa</th>\n",
              "      <td>4.549618</td>\n",
              "      <td>0.670404</td>\n",
              "    </tr>\n",
              "    <tr>\n",
              "      <th>Instalações e condições infraestruturais para o desenvolvimento da pesquisa disponíveis na sua instituição</th>\n",
              "      <td>4.541985</td>\n",
              "      <td>0.834446</td>\n",
              "    </tr>\n",
              "    <tr>\n",
              "      <th>Apoio administrativo institucional no processo de patenteamento, principalmente do Núcleo de Inovação Tecnológica (NIT) da sua universidade</th>\n",
              "      <td>4.412214</td>\n",
              "      <td>1.044180</td>\n",
              "    </tr>\n",
              "    <tr>\n",
              "      <th>Acesso a meios e insumos, inclusive tecnológicos, para o desenvolvimento de pesquisas</th>\n",
              "      <td>4.389313</td>\n",
              "      <td>1.041984</td>\n",
              "    </tr>\n",
              "    <tr>\n",
              "      <th>Independência e autonomia no desenvolvimento da pesquisa</th>\n",
              "      <td>4.358779</td>\n",
              "      <td>0.794875</td>\n",
              "    </tr>\n",
              "    <tr>\n",
              "      <th>Proteção e apropriação intelectual dos resultados da pesquisa</th>\n",
              "      <td>4.328244</td>\n",
              "      <td>0.889622</td>\n",
              "    </tr>\n",
              "    <tr>\n",
              "      <th>Experiência profissional anterior como acadêmico e pesquisador</th>\n",
              "      <td>4.229008</td>\n",
              "      <td>0.957279</td>\n",
              "    </tr>\n",
              "    <tr>\n",
              "      <th>Relações e cooperação de mercado com a indústria, inclusive com atração de recursos financeiros</th>\n",
              "      <td>4.229008</td>\n",
              "      <td>0.881998</td>\n",
              "    </tr>\n",
              "    <tr>\n",
              "      <th>Atendimento de indicadores de produção e possibilidades de publicação das pesquisas cujos resultados são patenteáveis</th>\n",
              "      <td>4.206107</td>\n",
              "      <td>0.909079</td>\n",
              "    </tr>\n",
              "    <tr>\n",
              "      <th>Licenciamento e Comercialização dos resultados da pesquisa</th>\n",
              "      <td>4.190840</td>\n",
              "      <td>0.953653</td>\n",
              "    </tr>\n",
              "    <tr>\n",
              "      <th>Influência de membros do grupo de pesquisa por meio de troca de experiências</th>\n",
              "      <td>4.175573</td>\n",
              "      <td>0.836485</td>\n",
              "    </tr>\n",
              "    <tr>\n",
              "      <th>Disponibilidade de materiais, dados e recursos oriundos da indústria para o desenvolvimento das atividades de pesquisa</th>\n",
              "      <td>4.114504</td>\n",
              "      <td>1.049844</td>\n",
              "    </tr>\n",
              "    <tr>\n",
              "      <th>Colocação profissional e nível de responsabilidade que estimula o desenvolvimento da pesquisa</th>\n",
              "      <td>4.053435</td>\n",
              "      <td>0.922480</td>\n",
              "    </tr>\n",
              "    <tr>\n",
              "      <th>Momento profissional da carreira acadêmica ou de pesquisador</th>\n",
              "      <td>3.877863</td>\n",
              "      <td>0.984674</td>\n",
              "    </tr>\n",
              "    <tr>\n",
              "      <th>Participação em viagens e/ou experiências em outros lugares/culturas como influência para o desenvolvimento de pesquisas</th>\n",
              "      <td>3.656489</td>\n",
              "      <td>1.245120</td>\n",
              "    </tr>\n",
              "    <tr>\n",
              "      <th>Aumento do prestígio e visibilidade acadêmica com reconhecimento e reputação pelos pares</th>\n",
              "      <td>3.580153</td>\n",
              "      <td>1.143236</td>\n",
              "    </tr>\n",
              "    <tr>\n",
              "      <th>Contribuição da promoção e/ou progressão na carreira com impacto na remuneração</th>\n",
              "      <td>3.404580</td>\n",
              "      <td>1.194723</td>\n",
              "    </tr>\n",
              "    <tr>\n",
              "      <th>Influência de colaboradores e parceiros estrangeiros</th>\n",
              "      <td>3.389313</td>\n",
              "      <td>1.167328</td>\n",
              "    </tr>\n",
              "    <tr>\n",
              "      <th>Competição e colaboração entre os pares na formação de redes pessoais e profissionais</th>\n",
              "      <td>3.297710</td>\n",
              "      <td>1.161529</td>\n",
              "    </tr>\n",
              "    <tr>\n",
              "      <th>Aumento da renda pessoal e/ou benefícios econômicos decorrente da atividade de pesquisa</th>\n",
              "      <td>3.152672</td>\n",
              "      <td>1.303683</td>\n",
              "    </tr>\n",
              "    <tr>\n",
              "      <th>Habilidade para finanças e realização de negócios</th>\n",
              "      <td>3.038168</td>\n",
              "      <td>1.179339</td>\n",
              "    </tr>\n",
              "    <tr>\n",
              "      <th>Baixa mobilidade: vinculação e permanência a um local fixo e específico para o desenvolvimento da pesquisa.</th>\n",
              "      <td>2.786260</td>\n",
              "      <td>1.095499</td>\n",
              "    </tr>\n",
              "  </tbody>\n",
              "</table>\n",
              "</div>\n",
              "      <button class=\"colab-df-convert\" onclick=\"convertToInteractive('df-b5a99b2c-900e-4d84-a97c-355ac8354ae6')\"\n",
              "              title=\"Convert this dataframe to an interactive table.\"\n",
              "              style=\"display:none;\">\n",
              "        \n",
              "  <svg xmlns=\"http://www.w3.org/2000/svg\" height=\"24px\"viewBox=\"0 0 24 24\"\n",
              "       width=\"24px\">\n",
              "    <path d=\"M0 0h24v24H0V0z\" fill=\"none\"/>\n",
              "    <path d=\"M18.56 5.44l.94 2.06.94-2.06 2.06-.94-2.06-.94-.94-2.06-.94 2.06-2.06.94zm-11 1L8.5 8.5l.94-2.06 2.06-.94-2.06-.94L8.5 2.5l-.94 2.06-2.06.94zm10 10l.94 2.06.94-2.06 2.06-.94-2.06-.94-.94-2.06-.94 2.06-2.06.94z\"/><path d=\"M17.41 7.96l-1.37-1.37c-.4-.4-.92-.59-1.43-.59-.52 0-1.04.2-1.43.59L10.3 9.45l-7.72 7.72c-.78.78-.78 2.05 0 2.83L4 21.41c.39.39.9.59 1.41.59.51 0 1.02-.2 1.41-.59l7.78-7.78 2.81-2.81c.8-.78.8-2.07 0-2.86zM5.41 20L4 18.59l7.72-7.72 1.47 1.35L5.41 20z\"/>\n",
              "  </svg>\n",
              "      </button>\n",
              "      \n",
              "  <style>\n",
              "    .colab-df-container {\n",
              "      display:flex;\n",
              "      flex-wrap:wrap;\n",
              "      gap: 12px;\n",
              "    }\n",
              "\n",
              "    .colab-df-convert {\n",
              "      background-color: #E8F0FE;\n",
              "      border: none;\n",
              "      border-radius: 50%;\n",
              "      cursor: pointer;\n",
              "      display: none;\n",
              "      fill: #1967D2;\n",
              "      height: 32px;\n",
              "      padding: 0 0 0 0;\n",
              "      width: 32px;\n",
              "    }\n",
              "\n",
              "    .colab-df-convert:hover {\n",
              "      background-color: #E2EBFA;\n",
              "      box-shadow: 0px 1px 2px rgba(60, 64, 67, 0.3), 0px 1px 3px 1px rgba(60, 64, 67, 0.15);\n",
              "      fill: #174EA6;\n",
              "    }\n",
              "\n",
              "    [theme=dark] .colab-df-convert {\n",
              "      background-color: #3B4455;\n",
              "      fill: #D2E3FC;\n",
              "    }\n",
              "\n",
              "    [theme=dark] .colab-df-convert:hover {\n",
              "      background-color: #434B5C;\n",
              "      box-shadow: 0px 1px 3px 1px rgba(0, 0, 0, 0.15);\n",
              "      filter: drop-shadow(0px 1px 2px rgba(0, 0, 0, 0.3));\n",
              "      fill: #FFFFFF;\n",
              "    }\n",
              "  </style>\n",
              "\n",
              "      <script>\n",
              "        const buttonEl =\n",
              "          document.querySelector('#df-b5a99b2c-900e-4d84-a97c-355ac8354ae6 button.colab-df-convert');\n",
              "        buttonEl.style.display =\n",
              "          google.colab.kernel.accessAllowed ? 'block' : 'none';\n",
              "\n",
              "        async function convertToInteractive(key) {\n",
              "          const element = document.querySelector('#df-b5a99b2c-900e-4d84-a97c-355ac8354ae6');\n",
              "          const dataTable =\n",
              "            await google.colab.kernel.invokeFunction('convertToInteractive',\n",
              "                                                     [key], {});\n",
              "          if (!dataTable) return;\n",
              "\n",
              "          const docLinkHtml = 'Like what you see? Visit the ' +\n",
              "            '<a target=\"_blank\" href=https://colab.research.google.com/notebooks/data_table.ipynb>data table notebook</a>'\n",
              "            + ' to learn more about interactive tables.';\n",
              "          element.innerHTML = '';\n",
              "          dataTable['output_type'] = 'display_data';\n",
              "          await google.colab.output.renderOutput(dataTable, element);\n",
              "          const docLink = document.createElement('div');\n",
              "          docLink.innerHTML = docLinkHtml;\n",
              "          element.appendChild(docLink);\n",
              "        }\n",
              "      </script>\n",
              "    </div>\n",
              "  </div>\n",
              "  "
            ],
            "text/plain": [
              "                                                                                                                                                media  desvio_padrao\n",
              "Contribuição dos resultados da pesquisa para o desenvolvimento social e econômico da sociedade                                               4.793893       0.491740\n",
              "Gosto por desafios, resolução de problemas de pesquisa e curiosidade intelectual                                                             4.687023       0.595935\n",
              "Potencial de aplicação dos resultados da pesquisa                                                                                            4.679389       0.544443\n",
              "Satisfação pessoal e realização profissional na realização da pesquisa                                                                       4.671756       0.560806\n",
              "Obtenção de financiamentos e recursos para a pesquisa                                                                                        4.603053       0.791098\n",
              "Qualificação e competência pessoal para o desenvolvimento da pesquisa                                                                        4.549618       0.670404\n",
              "Instalações e condições infraestruturais para o desenvolvimento da pesquisa disponíveis na sua instituição                                   4.541985       0.834446\n",
              "Apoio administrativo institucional no processo de patenteamento, principalmente do Núcleo de Inovação Tecnológica (NIT) da sua universidade  4.412214       1.044180\n",
              "Acesso a meios e insumos, inclusive tecnológicos, para o desenvolvimento de pesquisas                                                        4.389313       1.041984\n",
              "Independência e autonomia no desenvolvimento da pesquisa                                                                                     4.358779       0.794875\n",
              "Proteção e apropriação intelectual dos resultados da pesquisa                                                                                4.328244       0.889622\n",
              "Experiência profissional anterior como acadêmico e pesquisador                                                                               4.229008       0.957279\n",
              "Relações e cooperação de mercado com a indústria, inclusive com atração de recursos financeiros                                              4.229008       0.881998\n",
              "Atendimento de indicadores de produção e possibilidades de publicação das pesquisas cujos resultados são patenteáveis                        4.206107       0.909079\n",
              "Licenciamento e Comercialização dos resultados da pesquisa                                                                                   4.190840       0.953653\n",
              "Influência de membros do grupo de pesquisa por meio de troca de experiências                                                                 4.175573       0.836485\n",
              "Disponibilidade de materiais, dados e recursos oriundos da indústria para o desenvolvimento das atividades de pesquisa                       4.114504       1.049844\n",
              "Colocação profissional e nível de responsabilidade que estimula o desenvolvimento da pesquisa                                                4.053435       0.922480\n",
              "Momento profissional da carreira acadêmica ou de pesquisador                                                                                 3.877863       0.984674\n",
              "Participação em viagens e/ou experiências em outros lugares/culturas como influência para o desenvolvimento de pesquisas                     3.656489       1.245120\n",
              "Aumento do prestígio e visibilidade acadêmica com reconhecimento e reputação pelos pares                                                     3.580153       1.143236\n",
              "Contribuição da promoção e/ou progressão na carreira com impacto na remuneração                                                              3.404580       1.194723\n",
              "Influência de colaboradores e parceiros estrangeiros                                                                                         3.389313       1.167328\n",
              "Competição e colaboração entre os pares na formação de redes pessoais e profissionais                                                        3.297710       1.161529\n",
              "Aumento da renda pessoal e/ou benefícios econômicos decorrente da atividade de pesquisa                                                      3.152672       1.303683\n",
              "Habilidade para finanças e realização de negócios                                                                                            3.038168       1.179339\n",
              "Baixa mobilidade: vinculação e permanência a um local fixo e específico para o desenvolvimento da pesquisa.                                  2.786260       1.095499"
            ]
          },
          "execution_count": 32,
          "metadata": {},
          "output_type": "execute_result"
        }
      ],
      "source": [
        "df_dados = pd.DataFrame({'media':df_numericos.mean(), 'desvio_padrao': df_numericos.std()}).sort_values('media', ascending=False)\n",
        "df_dados\n"
      ]
    },
    {
      "cell_type": "code",
      "execution_count": null,
      "metadata": {
        "colab": {
          "base_uri": "https://localhost:8080/"
        },
        "id": "WjXXX8JlXwGx",
        "outputId": "5b2f33dd-eae2-4e50-ca97-666d6796bd31"
      },
      "outputs": [
        {
          "data": {
            "text/plain": [
              "(27, 2)"
            ]
          },
          "execution_count": 33,
          "metadata": {},
          "output_type": "execute_result"
        }
      ],
      "source": [
        "df_dados.shape"
      ]
    },
    {
      "cell_type": "code",
      "execution_count": null,
      "metadata": {
        "colab": {
          "base_uri": "https://localhost:8080/"
        },
        "id": "3nR0XdpWTfC_",
        "outputId": "e67cde8c-83c8-493c-b445-9a6e303bbaf8"
      },
      "outputs": [
        {
          "data": {
            "text/plain": [
              "(27, 4)"
            ]
          },
          "execution_count": 34,
          "metadata": {},
          "output_type": "execute_result"
        }
      ],
      "source": [
        "df_relacional = pd.merge(df_labels,df_dados,left_index = True,right_index=True)\n",
        "df_relacional.shape"
      ]
    },
    {
      "cell_type": "code",
      "execution_count": null,
      "metadata": {
        "colab": {
          "base_uri": "https://localhost:8080/",
          "height": 1000
        },
        "id": "u53TUJBKTHPJ",
        "outputId": "a2c83729-7a22-4ee3-9842-cbc69007716c"
      },
      "outputs": [
        {
          "data": {
            "text/html": [
              "\n",
              "  <div id=\"df-cccf749f-ae8f-4299-a58d-cc4f0dd8b790\">\n",
              "    <div class=\"colab-df-container\">\n",
              "      <div>\n",
              "<style scoped>\n",
              "    .dataframe tbody tr th:only-of-type {\n",
              "        vertical-align: middle;\n",
              "    }\n",
              "\n",
              "    .dataframe tbody tr th {\n",
              "        vertical-align: top;\n",
              "    }\n",
              "\n",
              "    .dataframe thead th {\n",
              "        text-align: right;\n",
              "    }\n",
              "</style>\n",
              "<table border=\"1\" class=\"dataframe\">\n",
              "  <thead>\n",
              "    <tr style=\"text-align: right;\">\n",
              "      <th></th>\n",
              "      <th>Resultados Esperados</th>\n",
              "      <th>Natureza da Motivação</th>\n",
              "      <th>media</th>\n",
              "      <th>desvio_padrao</th>\n",
              "    </tr>\n",
              "  </thead>\n",
              "  <tbody>\n",
              "    <tr>\n",
              "      <th>Acesso a meios e insumos, inclusive tecnológicos, para o desenvolvimento de pesquisas</th>\n",
              "      <td>Econômico</td>\n",
              "      <td>Externo</td>\n",
              "      <td>4.389313</td>\n",
              "      <td>1.041984</td>\n",
              "    </tr>\n",
              "    <tr>\n",
              "      <th>Apoio administrativo institucional no processo de patenteamento, principalmente do Núcleo de Inovação Tecnológica (NIT) da sua universidade</th>\n",
              "      <td>Reputação</td>\n",
              "      <td>Intrínseca</td>\n",
              "      <td>4.412214</td>\n",
              "      <td>1.044180</td>\n",
              "    </tr>\n",
              "    <tr>\n",
              "      <th>Atendimento de indicadores de produção e possibilidades de publicação das pesquisas cujos resultados são patenteáveis</th>\n",
              "      <td>Reputação</td>\n",
              "      <td>Externo</td>\n",
              "      <td>4.206107</td>\n",
              "      <td>0.909079</td>\n",
              "    </tr>\n",
              "    <tr>\n",
              "      <th>Aumento da renda pessoal e/ou benefícios econômicos decorrente da atividade de pesquisa</th>\n",
              "      <td>Econômico</td>\n",
              "      <td>Externo</td>\n",
              "      <td>3.152672</td>\n",
              "      <td>1.303683</td>\n",
              "    </tr>\n",
              "    <tr>\n",
              "      <th>Aumento do prestígio e visibilidade acadêmica com reconhecimento e reputação pelos pares</th>\n",
              "      <td>Reputação</td>\n",
              "      <td>Externo</td>\n",
              "      <td>3.580153</td>\n",
              "      <td>1.143236</td>\n",
              "    </tr>\n",
              "    <tr>\n",
              "      <th>Baixa mobilidade: vinculação e permanência a um local fixo e específico para o desenvolvimento da pesquisa.</th>\n",
              "      <td>Reputação</td>\n",
              "      <td>Externo</td>\n",
              "      <td>2.786260</td>\n",
              "      <td>1.095499</td>\n",
              "    </tr>\n",
              "    <tr>\n",
              "      <th>Colocação profissional e nível de responsabilidade que estimula o desenvolvimento da pesquisa</th>\n",
              "      <td>Econômico</td>\n",
              "      <td>Externo</td>\n",
              "      <td>4.053435</td>\n",
              "      <td>0.922480</td>\n",
              "    </tr>\n",
              "    <tr>\n",
              "      <th>Competição e colaboração entre os pares na formação de redes pessoais e profissionais</th>\n",
              "      <td>Reputação</td>\n",
              "      <td>Externo</td>\n",
              "      <td>3.297710</td>\n",
              "      <td>1.161529</td>\n",
              "    </tr>\n",
              "    <tr>\n",
              "      <th>Contribuição da promoção e/ou progressão na carreira com impacto na remuneração</th>\n",
              "      <td>Econômico</td>\n",
              "      <td>Externo</td>\n",
              "      <td>3.404580</td>\n",
              "      <td>1.194723</td>\n",
              "    </tr>\n",
              "    <tr>\n",
              "      <th>Contribuição dos resultados da pesquisa para o desenvolvimento social e econômico da sociedade</th>\n",
              "      <td>Desafio</td>\n",
              "      <td>Misto</td>\n",
              "      <td>4.793893</td>\n",
              "      <td>0.491740</td>\n",
              "    </tr>\n",
              "    <tr>\n",
              "      <th>Disponibilidade de materiais, dados e recursos oriundos da indústria para o desenvolvimento das atividades de pesquisa</th>\n",
              "      <td>Reputação</td>\n",
              "      <td>Externo</td>\n",
              "      <td>4.114504</td>\n",
              "      <td>1.049844</td>\n",
              "    </tr>\n",
              "    <tr>\n",
              "      <th>Experiência profissional anterior como acadêmico e pesquisador</th>\n",
              "      <td>Desafio</td>\n",
              "      <td>Misto</td>\n",
              "      <td>4.229008</td>\n",
              "      <td>0.957279</td>\n",
              "    </tr>\n",
              "    <tr>\n",
              "      <th>Gosto por desafios, resolução de problemas de pesquisa e curiosidade intelectual</th>\n",
              "      <td>Desafio</td>\n",
              "      <td>Misto</td>\n",
              "      <td>4.687023</td>\n",
              "      <td>0.595935</td>\n",
              "    </tr>\n",
              "    <tr>\n",
              "      <th>Habilidade para finanças e realização de negócios</th>\n",
              "      <td>Econômico</td>\n",
              "      <td>Externo</td>\n",
              "      <td>3.038168</td>\n",
              "      <td>1.179339</td>\n",
              "    </tr>\n",
              "    <tr>\n",
              "      <th>Independência e autonomia no desenvolvimento da pesquisa</th>\n",
              "      <td>Desafio</td>\n",
              "      <td>Misto</td>\n",
              "      <td>4.358779</td>\n",
              "      <td>0.794875</td>\n",
              "    </tr>\n",
              "    <tr>\n",
              "      <th>Influência de colaboradores e parceiros estrangeiros</th>\n",
              "      <td>Reputação</td>\n",
              "      <td>Externo</td>\n",
              "      <td>3.389313</td>\n",
              "      <td>1.167328</td>\n",
              "    </tr>\n",
              "    <tr>\n",
              "      <th>Influência de membros do grupo de pesquisa por meio de troca de experiências</th>\n",
              "      <td>Desafio</td>\n",
              "      <td>Misto</td>\n",
              "      <td>4.175573</td>\n",
              "      <td>0.836485</td>\n",
              "    </tr>\n",
              "    <tr>\n",
              "      <th>Instalações e condições infraestruturais para o desenvolvimento da pesquisa disponíveis na sua instituição</th>\n",
              "      <td>Desafio</td>\n",
              "      <td>Misto</td>\n",
              "      <td>4.541985</td>\n",
              "      <td>0.834446</td>\n",
              "    </tr>\n",
              "    <tr>\n",
              "      <th>Licenciamento e Comercialização dos resultados da pesquisa</th>\n",
              "      <td>Econômico</td>\n",
              "      <td>Externo</td>\n",
              "      <td>4.190840</td>\n",
              "      <td>0.953653</td>\n",
              "    </tr>\n",
              "    <tr>\n",
              "      <th>Momento profissional da carreira acadêmica ou de pesquisador</th>\n",
              "      <td>Econômico</td>\n",
              "      <td>Externo</td>\n",
              "      <td>3.877863</td>\n",
              "      <td>0.984674</td>\n",
              "    </tr>\n",
              "    <tr>\n",
              "      <th>Obtenção de financiamentos e recursos para a pesquisa</th>\n",
              "      <td>Econômico</td>\n",
              "      <td>Externo</td>\n",
              "      <td>4.603053</td>\n",
              "      <td>0.791098</td>\n",
              "    </tr>\n",
              "    <tr>\n",
              "      <th>Participação em viagens e/ou experiências em outros lugares/culturas como influência para o desenvolvimento de pesquisas</th>\n",
              "      <td>Reputação</td>\n",
              "      <td>Externo</td>\n",
              "      <td>3.656489</td>\n",
              "      <td>1.245120</td>\n",
              "    </tr>\n",
              "    <tr>\n",
              "      <th>Potencial de aplicação dos resultados da pesquisa</th>\n",
              "      <td>Desafio</td>\n",
              "      <td>Misto</td>\n",
              "      <td>4.679389</td>\n",
              "      <td>0.544443</td>\n",
              "    </tr>\n",
              "    <tr>\n",
              "      <th>Proteção e apropriação intelectual dos resultados da pesquisa</th>\n",
              "      <td>Desafio</td>\n",
              "      <td>Misto</td>\n",
              "      <td>4.328244</td>\n",
              "      <td>0.889622</td>\n",
              "    </tr>\n",
              "    <tr>\n",
              "      <th>Qualificação e competência pessoal para o desenvolvimento da pesquisa</th>\n",
              "      <td>Econômico</td>\n",
              "      <td>Externo</td>\n",
              "      <td>4.549618</td>\n",
              "      <td>0.670404</td>\n",
              "    </tr>\n",
              "    <tr>\n",
              "      <th>Relações e cooperação de mercado com a indústria, inclusive com atração de recursos financeiros</th>\n",
              "      <td>Reputação</td>\n",
              "      <td>Externo</td>\n",
              "      <td>4.229008</td>\n",
              "      <td>0.881998</td>\n",
              "    </tr>\n",
              "    <tr>\n",
              "      <th>Satisfação pessoal e realização profissional na realização da pesquisa</th>\n",
              "      <td>Desafio</td>\n",
              "      <td>Misto</td>\n",
              "      <td>4.671756</td>\n",
              "      <td>0.560806</td>\n",
              "    </tr>\n",
              "  </tbody>\n",
              "</table>\n",
              "</div>\n",
              "      <button class=\"colab-df-convert\" onclick=\"convertToInteractive('df-cccf749f-ae8f-4299-a58d-cc4f0dd8b790')\"\n",
              "              title=\"Convert this dataframe to an interactive table.\"\n",
              "              style=\"display:none;\">\n",
              "        \n",
              "  <svg xmlns=\"http://www.w3.org/2000/svg\" height=\"24px\"viewBox=\"0 0 24 24\"\n",
              "       width=\"24px\">\n",
              "    <path d=\"M0 0h24v24H0V0z\" fill=\"none\"/>\n",
              "    <path d=\"M18.56 5.44l.94 2.06.94-2.06 2.06-.94-2.06-.94-.94-2.06-.94 2.06-2.06.94zm-11 1L8.5 8.5l.94-2.06 2.06-.94-2.06-.94L8.5 2.5l-.94 2.06-2.06.94zm10 10l.94 2.06.94-2.06 2.06-.94-2.06-.94-.94-2.06-.94 2.06-2.06.94z\"/><path d=\"M17.41 7.96l-1.37-1.37c-.4-.4-.92-.59-1.43-.59-.52 0-1.04.2-1.43.59L10.3 9.45l-7.72 7.72c-.78.78-.78 2.05 0 2.83L4 21.41c.39.39.9.59 1.41.59.51 0 1.02-.2 1.41-.59l7.78-7.78 2.81-2.81c.8-.78.8-2.07 0-2.86zM5.41 20L4 18.59l7.72-7.72 1.47 1.35L5.41 20z\"/>\n",
              "  </svg>\n",
              "      </button>\n",
              "      \n",
              "  <style>\n",
              "    .colab-df-container {\n",
              "      display:flex;\n",
              "      flex-wrap:wrap;\n",
              "      gap: 12px;\n",
              "    }\n",
              "\n",
              "    .colab-df-convert {\n",
              "      background-color: #E8F0FE;\n",
              "      border: none;\n",
              "      border-radius: 50%;\n",
              "      cursor: pointer;\n",
              "      display: none;\n",
              "      fill: #1967D2;\n",
              "      height: 32px;\n",
              "      padding: 0 0 0 0;\n",
              "      width: 32px;\n",
              "    }\n",
              "\n",
              "    .colab-df-convert:hover {\n",
              "      background-color: #E2EBFA;\n",
              "      box-shadow: 0px 1px 2px rgba(60, 64, 67, 0.3), 0px 1px 3px 1px rgba(60, 64, 67, 0.15);\n",
              "      fill: #174EA6;\n",
              "    }\n",
              "\n",
              "    [theme=dark] .colab-df-convert {\n",
              "      background-color: #3B4455;\n",
              "      fill: #D2E3FC;\n",
              "    }\n",
              "\n",
              "    [theme=dark] .colab-df-convert:hover {\n",
              "      background-color: #434B5C;\n",
              "      box-shadow: 0px 1px 3px 1px rgba(0, 0, 0, 0.15);\n",
              "      filter: drop-shadow(0px 1px 2px rgba(0, 0, 0, 0.3));\n",
              "      fill: #FFFFFF;\n",
              "    }\n",
              "  </style>\n",
              "\n",
              "      <script>\n",
              "        const buttonEl =\n",
              "          document.querySelector('#df-cccf749f-ae8f-4299-a58d-cc4f0dd8b790 button.colab-df-convert');\n",
              "        buttonEl.style.display =\n",
              "          google.colab.kernel.accessAllowed ? 'block' : 'none';\n",
              "\n",
              "        async function convertToInteractive(key) {\n",
              "          const element = document.querySelector('#df-cccf749f-ae8f-4299-a58d-cc4f0dd8b790');\n",
              "          const dataTable =\n",
              "            await google.colab.kernel.invokeFunction('convertToInteractive',\n",
              "                                                     [key], {});\n",
              "          if (!dataTable) return;\n",
              "\n",
              "          const docLinkHtml = 'Like what you see? Visit the ' +\n",
              "            '<a target=\"_blank\" href=https://colab.research.google.com/notebooks/data_table.ipynb>data table notebook</a>'\n",
              "            + ' to learn more about interactive tables.';\n",
              "          element.innerHTML = '';\n",
              "          dataTable['output_type'] = 'display_data';\n",
              "          await google.colab.output.renderOutput(dataTable, element);\n",
              "          const docLink = document.createElement('div');\n",
              "          docLink.innerHTML = docLinkHtml;\n",
              "          element.appendChild(docLink);\n",
              "        }\n",
              "      </script>\n",
              "    </div>\n",
              "  </div>\n",
              "  "
            ],
            "text/plain": [
              "                                                                                                                                            Resultados Esperados  ... desvio_padrao\n",
              "Acesso a meios e insumos, inclusive tecnológicos, para o desenvolvimento de pesquisas                                                                  Econômico  ...      1.041984\n",
              "Apoio administrativo institucional no processo de patenteamento, principalmente do Núcleo de Inovação Tecnológica (NIT) da sua universidade            Reputação  ...      1.044180\n",
              "Atendimento de indicadores de produção e possibilidades de publicação das pesquisas cujos resultados são patenteáveis                                  Reputação  ...      0.909079\n",
              "Aumento da renda pessoal e/ou benefícios econômicos decorrente da atividade de pesquisa                                                                Econômico  ...      1.303683\n",
              "Aumento do prestígio e visibilidade acadêmica com reconhecimento e reputação pelos pares                                                               Reputação  ...      1.143236\n",
              "Baixa mobilidade: vinculação e permanência a um local fixo e específico para o desenvolvimento da pesquisa.                                            Reputação  ...      1.095499\n",
              "Colocação profissional e nível de responsabilidade que estimula o desenvolvimento da pesquisa                                                          Econômico  ...      0.922480\n",
              "Competição e colaboração entre os pares na formação de redes pessoais e profissionais                                                                  Reputação  ...      1.161529\n",
              "Contribuição da promoção e/ou progressão na carreira com impacto na remuneração                                                                        Econômico  ...      1.194723\n",
              "Contribuição dos resultados da pesquisa para o desenvolvimento social e econômico da sociedade                                                           Desafio  ...      0.491740\n",
              "Disponibilidade de materiais, dados e recursos oriundos da indústria para o desenvolvimento das atividades de pesquisa                                 Reputação  ...      1.049844\n",
              "Experiência profissional anterior como acadêmico e pesquisador                                                                                           Desafio  ...      0.957279\n",
              "Gosto por desafios, resolução de problemas de pesquisa e curiosidade intelectual                                                                         Desafio  ...      0.595935\n",
              "Habilidade para finanças e realização de negócios                                                                                                      Econômico  ...      1.179339\n",
              "Independência e autonomia no desenvolvimento da pesquisa                                                                                                 Desafio  ...      0.794875\n",
              "Influência de colaboradores e parceiros estrangeiros                                                                                                   Reputação  ...      1.167328\n",
              "Influência de membros do grupo de pesquisa por meio de troca de experiências                                                                             Desafio  ...      0.836485\n",
              "Instalações e condições infraestruturais para o desenvolvimento da pesquisa disponíveis na sua instituição                                               Desafio  ...      0.834446\n",
              "Licenciamento e Comercialização dos resultados da pesquisa                                                                                             Econômico  ...      0.953653\n",
              "Momento profissional da carreira acadêmica ou de pesquisador                                                                                           Econômico  ...      0.984674\n",
              "Obtenção de financiamentos e recursos para a pesquisa                                                                                                  Econômico  ...      0.791098\n",
              "Participação em viagens e/ou experiências em outros lugares/culturas como influência para o desenvolvimento de pesquisas                               Reputação  ...      1.245120\n",
              "Potencial de aplicação dos resultados da pesquisa                                                                                                        Desafio  ...      0.544443\n",
              "Proteção e apropriação intelectual dos resultados da pesquisa                                                                                            Desafio  ...      0.889622\n",
              "Qualificação e competência pessoal para o desenvolvimento da pesquisa                                                                                  Econômico  ...      0.670404\n",
              "Relações e cooperação de mercado com a indústria, inclusive com atração de recursos financeiros                                                        Reputação  ...      0.881998\n",
              "Satisfação pessoal e realização profissional na realização da pesquisa                                                                                   Desafio  ...      0.560806\n",
              "\n",
              "[27 rows x 4 columns]"
            ]
          },
          "execution_count": 35,
          "metadata": {},
          "output_type": "execute_result"
        }
      ],
      "source": [
        "df_relacional"
      ]
    },
    {
      "cell_type": "code",
      "execution_count": null,
      "metadata": {
        "colab": {
          "base_uri": "https://localhost:8080/",
          "height": 376
        },
        "id": "i7DTaX-eQDjL",
        "outputId": "6422b4d4-4b4f-4664-f99b-1d9ef266eb36"
      },
      "outputs": [
        {
          "data": {
            "text/html": [
              "\n",
              "  <div id=\"df-9fcaebaf-b5b4-4139-a9ce-eb2ba9eb98fd\">\n",
              "    <div class=\"colab-df-container\">\n",
              "      <div>\n",
              "<style scoped>\n",
              "    .dataframe tbody tr th:only-of-type {\n",
              "        vertical-align: middle;\n",
              "    }\n",
              "\n",
              "    .dataframe tbody tr th {\n",
              "        vertical-align: top;\n",
              "    }\n",
              "\n",
              "    .dataframe thead th {\n",
              "        text-align: right;\n",
              "    }\n",
              "</style>\n",
              "<table border=\"1\" class=\"dataframe\">\n",
              "  <thead>\n",
              "    <tr style=\"text-align: right;\">\n",
              "      <th></th>\n",
              "      <th>Resultados Esperados</th>\n",
              "      <th>Natureza da Motivação</th>\n",
              "      <th>media</th>\n",
              "      <th>desvio_padrao</th>\n",
              "    </tr>\n",
              "  </thead>\n",
              "  <tbody>\n",
              "    <tr>\n",
              "      <th>Acesso a meios e insumos, inclusive tecnológicos, para o desenvolvimento de pesquisas</th>\n",
              "      <td>Econômico</td>\n",
              "      <td>Externo</td>\n",
              "      <td>4.389313</td>\n",
              "      <td>1.041984</td>\n",
              "    </tr>\n",
              "    <tr>\n",
              "      <th>Aumento da renda pessoal e/ou benefícios econômicos decorrente da atividade de pesquisa</th>\n",
              "      <td>Econômico</td>\n",
              "      <td>Externo</td>\n",
              "      <td>3.152672</td>\n",
              "      <td>1.303683</td>\n",
              "    </tr>\n",
              "    <tr>\n",
              "      <th>Colocação profissional e nível de responsabilidade que estimula o desenvolvimento da pesquisa</th>\n",
              "      <td>Econômico</td>\n",
              "      <td>Externo</td>\n",
              "      <td>4.053435</td>\n",
              "      <td>0.922480</td>\n",
              "    </tr>\n",
              "    <tr>\n",
              "      <th>Contribuição da promoção e/ou progressão na carreira com impacto na remuneração</th>\n",
              "      <td>Econômico</td>\n",
              "      <td>Externo</td>\n",
              "      <td>3.404580</td>\n",
              "      <td>1.194723</td>\n",
              "    </tr>\n",
              "    <tr>\n",
              "      <th>Habilidade para finanças e realização de negócios</th>\n",
              "      <td>Econômico</td>\n",
              "      <td>Externo</td>\n",
              "      <td>3.038168</td>\n",
              "      <td>1.179339</td>\n",
              "    </tr>\n",
              "    <tr>\n",
              "      <th>Licenciamento e Comercialização dos resultados da pesquisa</th>\n",
              "      <td>Econômico</td>\n",
              "      <td>Externo</td>\n",
              "      <td>4.190840</td>\n",
              "      <td>0.953653</td>\n",
              "    </tr>\n",
              "    <tr>\n",
              "      <th>Momento profissional da carreira acadêmica ou de pesquisador</th>\n",
              "      <td>Econômico</td>\n",
              "      <td>Externo</td>\n",
              "      <td>3.877863</td>\n",
              "      <td>0.984674</td>\n",
              "    </tr>\n",
              "    <tr>\n",
              "      <th>Obtenção de financiamentos e recursos para a pesquisa</th>\n",
              "      <td>Econômico</td>\n",
              "      <td>Externo</td>\n",
              "      <td>4.603053</td>\n",
              "      <td>0.791098</td>\n",
              "    </tr>\n",
              "    <tr>\n",
              "      <th>Qualificação e competência pessoal para o desenvolvimento da pesquisa</th>\n",
              "      <td>Econômico</td>\n",
              "      <td>Externo</td>\n",
              "      <td>4.549618</td>\n",
              "      <td>0.670404</td>\n",
              "    </tr>\n",
              "  </tbody>\n",
              "</table>\n",
              "</div>\n",
              "      <button class=\"colab-df-convert\" onclick=\"convertToInteractive('df-9fcaebaf-b5b4-4139-a9ce-eb2ba9eb98fd')\"\n",
              "              title=\"Convert this dataframe to an interactive table.\"\n",
              "              style=\"display:none;\">\n",
              "        \n",
              "  <svg xmlns=\"http://www.w3.org/2000/svg\" height=\"24px\"viewBox=\"0 0 24 24\"\n",
              "       width=\"24px\">\n",
              "    <path d=\"M0 0h24v24H0V0z\" fill=\"none\"/>\n",
              "    <path d=\"M18.56 5.44l.94 2.06.94-2.06 2.06-.94-2.06-.94-.94-2.06-.94 2.06-2.06.94zm-11 1L8.5 8.5l.94-2.06 2.06-.94-2.06-.94L8.5 2.5l-.94 2.06-2.06.94zm10 10l.94 2.06.94-2.06 2.06-.94-2.06-.94-.94-2.06-.94 2.06-2.06.94z\"/><path d=\"M17.41 7.96l-1.37-1.37c-.4-.4-.92-.59-1.43-.59-.52 0-1.04.2-1.43.59L10.3 9.45l-7.72 7.72c-.78.78-.78 2.05 0 2.83L4 21.41c.39.39.9.59 1.41.59.51 0 1.02-.2 1.41-.59l7.78-7.78 2.81-2.81c.8-.78.8-2.07 0-2.86zM5.41 20L4 18.59l7.72-7.72 1.47 1.35L5.41 20z\"/>\n",
              "  </svg>\n",
              "      </button>\n",
              "      \n",
              "  <style>\n",
              "    .colab-df-container {\n",
              "      display:flex;\n",
              "      flex-wrap:wrap;\n",
              "      gap: 12px;\n",
              "    }\n",
              "\n",
              "    .colab-df-convert {\n",
              "      background-color: #E8F0FE;\n",
              "      border: none;\n",
              "      border-radius: 50%;\n",
              "      cursor: pointer;\n",
              "      display: none;\n",
              "      fill: #1967D2;\n",
              "      height: 32px;\n",
              "      padding: 0 0 0 0;\n",
              "      width: 32px;\n",
              "    }\n",
              "\n",
              "    .colab-df-convert:hover {\n",
              "      background-color: #E2EBFA;\n",
              "      box-shadow: 0px 1px 2px rgba(60, 64, 67, 0.3), 0px 1px 3px 1px rgba(60, 64, 67, 0.15);\n",
              "      fill: #174EA6;\n",
              "    }\n",
              "\n",
              "    [theme=dark] .colab-df-convert {\n",
              "      background-color: #3B4455;\n",
              "      fill: #D2E3FC;\n",
              "    }\n",
              "\n",
              "    [theme=dark] .colab-df-convert:hover {\n",
              "      background-color: #434B5C;\n",
              "      box-shadow: 0px 1px 3px 1px rgba(0, 0, 0, 0.15);\n",
              "      filter: drop-shadow(0px 1px 2px rgba(0, 0, 0, 0.3));\n",
              "      fill: #FFFFFF;\n",
              "    }\n",
              "  </style>\n",
              "\n",
              "      <script>\n",
              "        const buttonEl =\n",
              "          document.querySelector('#df-9fcaebaf-b5b4-4139-a9ce-eb2ba9eb98fd button.colab-df-convert');\n",
              "        buttonEl.style.display =\n",
              "          google.colab.kernel.accessAllowed ? 'block' : 'none';\n",
              "\n",
              "        async function convertToInteractive(key) {\n",
              "          const element = document.querySelector('#df-9fcaebaf-b5b4-4139-a9ce-eb2ba9eb98fd');\n",
              "          const dataTable =\n",
              "            await google.colab.kernel.invokeFunction('convertToInteractive',\n",
              "                                                     [key], {});\n",
              "          if (!dataTable) return;\n",
              "\n",
              "          const docLinkHtml = 'Like what you see? Visit the ' +\n",
              "            '<a target=\"_blank\" href=https://colab.research.google.com/notebooks/data_table.ipynb>data table notebook</a>'\n",
              "            + ' to learn more about interactive tables.';\n",
              "          element.innerHTML = '';\n",
              "          dataTable['output_type'] = 'display_data';\n",
              "          await google.colab.output.renderOutput(dataTable, element);\n",
              "          const docLink = document.createElement('div');\n",
              "          docLink.innerHTML = docLinkHtml;\n",
              "          element.appendChild(docLink);\n",
              "        }\n",
              "      </script>\n",
              "    </div>\n",
              "  </div>\n",
              "  "
            ],
            "text/plain": [
              "                                                                                              Resultados Esperados  ... desvio_padrao\n",
              "Acesso a meios e insumos, inclusive tecnológicos, para o desenvolvimento de pesquisas                    Econômico  ...      1.041984\n",
              "Aumento da renda pessoal e/ou benefícios econômicos decorrente da atividade de pesquisa                  Econômico  ...      1.303683\n",
              "Colocação profissional e nível de responsabilidade que estimula o desenvolvimento da pesquisa            Econômico  ...      0.922480\n",
              "Contribuição da promoção e/ou progressão na carreira com impacto na remuneração                          Econômico  ...      1.194723\n",
              "Habilidade para finanças e realização de negócios                                                        Econômico  ...      1.179339\n",
              "Licenciamento e Comercialização dos resultados da pesquisa                                               Econômico  ...      0.953653\n",
              "Momento profissional da carreira acadêmica ou de pesquisador                                             Econômico  ...      0.984674\n",
              "Obtenção de financiamentos e recursos para a pesquisa                                                    Econômico  ...      0.791098\n",
              "Qualificação e competência pessoal para o desenvolvimento da pesquisa                                    Econômico  ...      0.670404\n",
              "\n",
              "[9 rows x 4 columns]"
            ]
          },
          "execution_count": 36,
          "metadata": {},
          "output_type": "execute_result"
        }
      ],
      "source": [
        "df_relacional[df_relacional['Resultados Esperados'] == 'Econômico']"
      ]
    },
    {
      "cell_type": "code",
      "execution_count": null,
      "metadata": {
        "colab": {
          "base_uri": "https://localhost:8080/",
          "height": 175
        },
        "id": "jcmT9lQPeqMk",
        "outputId": "9a683e88-5bcc-49bd-b09b-9f296a417a25"
      },
      "outputs": [
        {
          "data": {
            "text/html": [
              "\n",
              "  <div id=\"df-bb4ae880-bac9-4867-b3fb-a95e252833c7\">\n",
              "    <div class=\"colab-df-container\">\n",
              "      <div>\n",
              "<style scoped>\n",
              "    .dataframe tbody tr th:only-of-type {\n",
              "        vertical-align: middle;\n",
              "    }\n",
              "\n",
              "    .dataframe tbody tr th {\n",
              "        vertical-align: top;\n",
              "    }\n",
              "\n",
              "    .dataframe thead th {\n",
              "        text-align: right;\n",
              "    }\n",
              "</style>\n",
              "<table border=\"1\" class=\"dataframe\">\n",
              "  <thead>\n",
              "    <tr style=\"text-align: right;\">\n",
              "      <th></th>\n",
              "      <th>media</th>\n",
              "    </tr>\n",
              "    <tr>\n",
              "      <th>Resultados Esperados</th>\n",
              "      <th></th>\n",
              "    </tr>\n",
              "  </thead>\n",
              "  <tbody>\n",
              "    <tr>\n",
              "      <th>Desafio</th>\n",
              "      <td>4.496183</td>\n",
              "    </tr>\n",
              "    <tr>\n",
              "      <th>Econômico</th>\n",
              "      <td>3.917727</td>\n",
              "    </tr>\n",
              "    <tr>\n",
              "      <th>Reputação</th>\n",
              "      <td>3.741306</td>\n",
              "    </tr>\n",
              "  </tbody>\n",
              "</table>\n",
              "</div>\n",
              "      <button class=\"colab-df-convert\" onclick=\"convertToInteractive('df-bb4ae880-bac9-4867-b3fb-a95e252833c7')\"\n",
              "              title=\"Convert this dataframe to an interactive table.\"\n",
              "              style=\"display:none;\">\n",
              "        \n",
              "  <svg xmlns=\"http://www.w3.org/2000/svg\" height=\"24px\"viewBox=\"0 0 24 24\"\n",
              "       width=\"24px\">\n",
              "    <path d=\"M0 0h24v24H0V0z\" fill=\"none\"/>\n",
              "    <path d=\"M18.56 5.44l.94 2.06.94-2.06 2.06-.94-2.06-.94-.94-2.06-.94 2.06-2.06.94zm-11 1L8.5 8.5l.94-2.06 2.06-.94-2.06-.94L8.5 2.5l-.94 2.06-2.06.94zm10 10l.94 2.06.94-2.06 2.06-.94-2.06-.94-.94-2.06-.94 2.06-2.06.94z\"/><path d=\"M17.41 7.96l-1.37-1.37c-.4-.4-.92-.59-1.43-.59-.52 0-1.04.2-1.43.59L10.3 9.45l-7.72 7.72c-.78.78-.78 2.05 0 2.83L4 21.41c.39.39.9.59 1.41.59.51 0 1.02-.2 1.41-.59l7.78-7.78 2.81-2.81c.8-.78.8-2.07 0-2.86zM5.41 20L4 18.59l7.72-7.72 1.47 1.35L5.41 20z\"/>\n",
              "  </svg>\n",
              "      </button>\n",
              "      \n",
              "  <style>\n",
              "    .colab-df-container {\n",
              "      display:flex;\n",
              "      flex-wrap:wrap;\n",
              "      gap: 12px;\n",
              "    }\n",
              "\n",
              "    .colab-df-convert {\n",
              "      background-color: #E8F0FE;\n",
              "      border: none;\n",
              "      border-radius: 50%;\n",
              "      cursor: pointer;\n",
              "      display: none;\n",
              "      fill: #1967D2;\n",
              "      height: 32px;\n",
              "      padding: 0 0 0 0;\n",
              "      width: 32px;\n",
              "    }\n",
              "\n",
              "    .colab-df-convert:hover {\n",
              "      background-color: #E2EBFA;\n",
              "      box-shadow: 0px 1px 2px rgba(60, 64, 67, 0.3), 0px 1px 3px 1px rgba(60, 64, 67, 0.15);\n",
              "      fill: #174EA6;\n",
              "    }\n",
              "\n",
              "    [theme=dark] .colab-df-convert {\n",
              "      background-color: #3B4455;\n",
              "      fill: #D2E3FC;\n",
              "    }\n",
              "\n",
              "    [theme=dark] .colab-df-convert:hover {\n",
              "      background-color: #434B5C;\n",
              "      box-shadow: 0px 1px 3px 1px rgba(0, 0, 0, 0.15);\n",
              "      filter: drop-shadow(0px 1px 2px rgba(0, 0, 0, 0.3));\n",
              "      fill: #FFFFFF;\n",
              "    }\n",
              "  </style>\n",
              "\n",
              "      <script>\n",
              "        const buttonEl =\n",
              "          document.querySelector('#df-bb4ae880-bac9-4867-b3fb-a95e252833c7 button.colab-df-convert');\n",
              "        buttonEl.style.display =\n",
              "          google.colab.kernel.accessAllowed ? 'block' : 'none';\n",
              "\n",
              "        async function convertToInteractive(key) {\n",
              "          const element = document.querySelector('#df-bb4ae880-bac9-4867-b3fb-a95e252833c7');\n",
              "          const dataTable =\n",
              "            await google.colab.kernel.invokeFunction('convertToInteractive',\n",
              "                                                     [key], {});\n",
              "          if (!dataTable) return;\n",
              "\n",
              "          const docLinkHtml = 'Like what you see? Visit the ' +\n",
              "            '<a target=\"_blank\" href=https://colab.research.google.com/notebooks/data_table.ipynb>data table notebook</a>'\n",
              "            + ' to learn more about interactive tables.';\n",
              "          element.innerHTML = '';\n",
              "          dataTable['output_type'] = 'display_data';\n",
              "          await google.colab.output.renderOutput(dataTable, element);\n",
              "          const docLink = document.createElement('div');\n",
              "          docLink.innerHTML = docLinkHtml;\n",
              "          element.appendChild(docLink);\n",
              "        }\n",
              "      </script>\n",
              "    </div>\n",
              "  </div>\n",
              "  "
            ],
            "text/plain": [
              "                         media\n",
              "Resultados Esperados          \n",
              "Desafio               4.496183\n",
              "Econômico             3.917727\n",
              "Reputação             3.741306"
            ]
          },
          "execution_count": 37,
          "metadata": {},
          "output_type": "execute_result"
        }
      ],
      "source": [
        "data_relacional = df_relacional['media'].groupby(df_relacional['Resultados Esperados'])\n",
        "\n",
        "data_relacional = pd.DataFrame(data_relacional.mean())\n",
        "\n",
        "data_relacional\n"
      ]
    },
    {
      "cell_type": "code",
      "execution_count": null,
      "metadata": {
        "colab": {
          "base_uri": "https://localhost:8080/",
          "height": 175
        },
        "id": "swljOstVY03o",
        "outputId": "e377103c-a80c-4e26-ea12-ef25a8988273"
      },
      "outputs": [
        {
          "data": {
            "text/html": [
              "\n",
              "  <div id=\"df-60bad23c-e719-4c78-a515-251bf0fe6a44\">\n",
              "    <div class=\"colab-df-container\">\n",
              "      <div>\n",
              "<style scoped>\n",
              "    .dataframe tbody tr th:only-of-type {\n",
              "        vertical-align: middle;\n",
              "    }\n",
              "\n",
              "    .dataframe tbody tr th {\n",
              "        vertical-align: top;\n",
              "    }\n",
              "\n",
              "    .dataframe thead th {\n",
              "        text-align: right;\n",
              "    }\n",
              "</style>\n",
              "<table border=\"1\" class=\"dataframe\">\n",
              "  <thead>\n",
              "    <tr style=\"text-align: right;\">\n",
              "      <th></th>\n",
              "      <th>media</th>\n",
              "      <th>Resultados Esperados</th>\n",
              "    </tr>\n",
              "    <tr>\n",
              "      <th>Resultados Esperados</th>\n",
              "      <th></th>\n",
              "      <th></th>\n",
              "    </tr>\n",
              "  </thead>\n",
              "  <tbody>\n",
              "    <tr>\n",
              "      <th>Desafio</th>\n",
              "      <td>4.496183</td>\n",
              "      <td>Desafio</td>\n",
              "    </tr>\n",
              "    <tr>\n",
              "      <th>Econômico</th>\n",
              "      <td>3.917727</td>\n",
              "      <td>Econômico</td>\n",
              "    </tr>\n",
              "    <tr>\n",
              "      <th>Reputação</th>\n",
              "      <td>3.741306</td>\n",
              "      <td>Reputação</td>\n",
              "    </tr>\n",
              "  </tbody>\n",
              "</table>\n",
              "</div>\n",
              "      <button class=\"colab-df-convert\" onclick=\"convertToInteractive('df-60bad23c-e719-4c78-a515-251bf0fe6a44')\"\n",
              "              title=\"Convert this dataframe to an interactive table.\"\n",
              "              style=\"display:none;\">\n",
              "        \n",
              "  <svg xmlns=\"http://www.w3.org/2000/svg\" height=\"24px\"viewBox=\"0 0 24 24\"\n",
              "       width=\"24px\">\n",
              "    <path d=\"M0 0h24v24H0V0z\" fill=\"none\"/>\n",
              "    <path d=\"M18.56 5.44l.94 2.06.94-2.06 2.06-.94-2.06-.94-.94-2.06-.94 2.06-2.06.94zm-11 1L8.5 8.5l.94-2.06 2.06-.94-2.06-.94L8.5 2.5l-.94 2.06-2.06.94zm10 10l.94 2.06.94-2.06 2.06-.94-2.06-.94-.94-2.06-.94 2.06-2.06.94z\"/><path d=\"M17.41 7.96l-1.37-1.37c-.4-.4-.92-.59-1.43-.59-.52 0-1.04.2-1.43.59L10.3 9.45l-7.72 7.72c-.78.78-.78 2.05 0 2.83L4 21.41c.39.39.9.59 1.41.59.51 0 1.02-.2 1.41-.59l7.78-7.78 2.81-2.81c.8-.78.8-2.07 0-2.86zM5.41 20L4 18.59l7.72-7.72 1.47 1.35L5.41 20z\"/>\n",
              "  </svg>\n",
              "      </button>\n",
              "      \n",
              "  <style>\n",
              "    .colab-df-container {\n",
              "      display:flex;\n",
              "      flex-wrap:wrap;\n",
              "      gap: 12px;\n",
              "    }\n",
              "\n",
              "    .colab-df-convert {\n",
              "      background-color: #E8F0FE;\n",
              "      border: none;\n",
              "      border-radius: 50%;\n",
              "      cursor: pointer;\n",
              "      display: none;\n",
              "      fill: #1967D2;\n",
              "      height: 32px;\n",
              "      padding: 0 0 0 0;\n",
              "      width: 32px;\n",
              "    }\n",
              "\n",
              "    .colab-df-convert:hover {\n",
              "      background-color: #E2EBFA;\n",
              "      box-shadow: 0px 1px 2px rgba(60, 64, 67, 0.3), 0px 1px 3px 1px rgba(60, 64, 67, 0.15);\n",
              "      fill: #174EA6;\n",
              "    }\n",
              "\n",
              "    [theme=dark] .colab-df-convert {\n",
              "      background-color: #3B4455;\n",
              "      fill: #D2E3FC;\n",
              "    }\n",
              "\n",
              "    [theme=dark] .colab-df-convert:hover {\n",
              "      background-color: #434B5C;\n",
              "      box-shadow: 0px 1px 3px 1px rgba(0, 0, 0, 0.15);\n",
              "      filter: drop-shadow(0px 1px 2px rgba(0, 0, 0, 0.3));\n",
              "      fill: #FFFFFF;\n",
              "    }\n",
              "  </style>\n",
              "\n",
              "      <script>\n",
              "        const buttonEl =\n",
              "          document.querySelector('#df-60bad23c-e719-4c78-a515-251bf0fe6a44 button.colab-df-convert');\n",
              "        buttonEl.style.display =\n",
              "          google.colab.kernel.accessAllowed ? 'block' : 'none';\n",
              "\n",
              "        async function convertToInteractive(key) {\n",
              "          const element = document.querySelector('#df-60bad23c-e719-4c78-a515-251bf0fe6a44');\n",
              "          const dataTable =\n",
              "            await google.colab.kernel.invokeFunction('convertToInteractive',\n",
              "                                                     [key], {});\n",
              "          if (!dataTable) return;\n",
              "\n",
              "          const docLinkHtml = 'Like what you see? Visit the ' +\n",
              "            '<a target=\"_blank\" href=https://colab.research.google.com/notebooks/data_table.ipynb>data table notebook</a>'\n",
              "            + ' to learn more about interactive tables.';\n",
              "          element.innerHTML = '';\n",
              "          dataTable['output_type'] = 'display_data';\n",
              "          await google.colab.output.renderOutput(dataTable, element);\n",
              "          const docLink = document.createElement('div');\n",
              "          docLink.innerHTML = docLinkHtml;\n",
              "          element.appendChild(docLink);\n",
              "        }\n",
              "      </script>\n",
              "    </div>\n",
              "  </div>\n",
              "  "
            ],
            "text/plain": [
              "                         media Resultados Esperados\n",
              "Resultados Esperados                               \n",
              "Desafio               4.496183              Desafio\n",
              "Econômico             3.917727            Econômico\n",
              "Reputação             3.741306            Reputação"
            ]
          },
          "execution_count": 38,
          "metadata": {},
          "output_type": "execute_result"
        }
      ],
      "source": [
        "data_relacional['Resultados Esperados'] = data_relacional.index\n",
        "data_relacional"
      ]
    },
    {
      "cell_type": "code",
      "execution_count": null,
      "metadata": {
        "colab": {
          "base_uri": "https://localhost:8080/",
          "height": 528
        },
        "id": "w3rw4AUmcnVD",
        "outputId": "51414e9e-a2f9-40a9-b877-12aecdae4561"
      },
      "outputs": [
        {
          "data": {
            "text/plain": [
              "<matplotlib.axes._subplots.AxesSubplot at 0x7f295ee12ad0>"
            ]
          },
          "execution_count": 39,
          "metadata": {},
          "output_type": "execute_result"
        },
        {
          "data": {
            "image/png": "[encoded data removed]",
            "text/plain": [
              "<Figure size 936x576 with 1 Axes>"
            ]
          },
          "metadata": {},
          "output_type": "display_data"
        }
      ],
      "source": [
        "#relacional_list= ['Desafio','Econômico','Reputação']\n",
        "\n",
        "sns.barplot( y = 'media', x ='Resultados Esperados',data = df_relacional)"
      ]
    },
    {
      "cell_type": "code",
      "execution_count": null,
      "metadata": {
        "colab": {
          "base_uri": "https://localhost:8080/",
          "height": 175
        },
        "id": "Il4GIah58T1d",
        "outputId": "62303486-f6df-48dd-a4cf-b6b1998e8178"
      },
      "outputs": [
        {
          "data": {
            "text/html": [
              "\n",
              "  <div id=\"df-fc5b44d3-f909-49c6-8e37-f43468325111\">\n",
              "    <div class=\"colab-df-container\">\n",
              "      <div>\n",
              "<style scoped>\n",
              "    .dataframe tbody tr th:only-of-type {\n",
              "        vertical-align: middle;\n",
              "    }\n",
              "\n",
              "    .dataframe tbody tr th {\n",
              "        vertical-align: top;\n",
              "    }\n",
              "\n",
              "    .dataframe thead th {\n",
              "        text-align: right;\n",
              "    }\n",
              "</style>\n",
              "<table border=\"1\" class=\"dataframe\">\n",
              "  <thead>\n",
              "    <tr style=\"text-align: right;\">\n",
              "      <th></th>\n",
              "      <th>media</th>\n",
              "    </tr>\n",
              "    <tr>\n",
              "      <th>Natureza da Motivação</th>\n",
              "      <th></th>\n",
              "    </tr>\n",
              "  </thead>\n",
              "  <tbody>\n",
              "    <tr>\n",
              "      <th>Extrínseca</th>\n",
              "      <td>3.795240</td>\n",
              "    </tr>\n",
              "    <tr>\n",
              "      <th>Intrínseca</th>\n",
              "      <td>4.412214</td>\n",
              "    </tr>\n",
              "    <tr>\n",
              "      <th>Misto</th>\n",
              "      <td>4.496183</td>\n",
              "    </tr>\n",
              "  </tbody>\n",
              "</table>\n",
              "</div>\n",
              "      <button class=\"colab-df-convert\" onclick=\"convertToInteractive('df-fc5b44d3-f909-49c6-8e37-f43468325111')\"\n",
              "              title=\"Convert this dataframe to an interactive table.\"\n",
              "              style=\"display:none;\">\n",
              "        \n",
              "  <svg xmlns=\"http://www.w3.org/2000/svg\" height=\"24px\"viewBox=\"0 0 24 24\"\n",
              "       width=\"24px\">\n",
              "    <path d=\"M0 0h24v24H0V0z\" fill=\"none\"/>\n",
              "    <path d=\"M18.56 5.44l.94 2.06.94-2.06 2.06-.94-2.06-.94-.94-2.06-.94 2.06-2.06.94zm-11 1L8.5 8.5l.94-2.06 2.06-.94-2.06-.94L8.5 2.5l-.94 2.06-2.06.94zm10 10l.94 2.06.94-2.06 2.06-.94-2.06-.94-.94-2.06-.94 2.06-2.06.94z\"/><path d=\"M17.41 7.96l-1.37-1.37c-.4-.4-.92-.59-1.43-.59-.52 0-1.04.2-1.43.59L10.3 9.45l-7.72 7.72c-.78.78-.78 2.05 0 2.83L4 21.41c.39.39.9.59 1.41.59.51 0 1.02-.2 1.41-.59l7.78-7.78 2.81-2.81c.8-.78.8-2.07 0-2.86zM5.41 20L4 18.59l7.72-7.72 1.47 1.35L5.41 20z\"/>\n",
              "  </svg>\n",
              "      </button>\n",
              "      \n",
              "  <style>\n",
              "    .colab-df-container {\n",
              "      display:flex;\n",
              "      flex-wrap:wrap;\n",
              "      gap: 12px;\n",
              "    }\n",
              "\n",
              "    .colab-df-convert {\n",
              "      background-color: #E8F0FE;\n",
              "      border: none;\n",
              "      border-radius: 50%;\n",
              "      cursor: pointer;\n",
              "      display: none;\n",
              "      fill: #1967D2;\n",
              "      height: 32px;\n",
              "      padding: 0 0 0 0;\n",
              "      width: 32px;\n",
              "    }\n",
              "\n",
              "    .colab-df-convert:hover {\n",
              "      background-color: #E2EBFA;\n",
              "      box-shadow: 0px 1px 2px rgba(60, 64, 67, 0.3), 0px 1px 3px 1px rgba(60, 64, 67, 0.15);\n",
              "      fill: #174EA6;\n",
              "    }\n",
              "\n",
              "    [theme=dark] .colab-df-convert {\n",
              "      background-color: #3B4455;\n",
              "      fill: #D2E3FC;\n",
              "    }\n",
              "\n",
              "    [theme=dark] .colab-df-convert:hover {\n",
              "      background-color: #434B5C;\n",
              "      box-shadow: 0px 1px 3px 1px rgba(0, 0, 0, 0.15);\n",
              "      filter: drop-shadow(0px 1px 2px rgba(0, 0, 0, 0.3));\n",
              "      fill: #FFFFFF;\n",
              "    }\n",
              "  </style>\n",
              "\n",
              "      <script>\n",
              "        const buttonEl =\n",
              "          document.querySelector('#df-fc5b44d3-f909-49c6-8e37-f43468325111 button.colab-df-convert');\n",
              "        buttonEl.style.display =\n",
              "          google.colab.kernel.accessAllowed ? 'block' : 'none';\n",
              "\n",
              "        async function convertToInteractive(key) {\n",
              "          const element = document.querySelector('#df-fc5b44d3-f909-49c6-8e37-f43468325111');\n",
              "          const dataTable =\n",
              "            await google.colab.kernel.invokeFunction('convertToInteractive',\n",
              "                                                     [key], {});\n",
              "          if (!dataTable) return;\n",
              "\n",
              "          const docLinkHtml = 'Like what you see? Visit the ' +\n",
              "            '<a target=\"_blank\" href=https://colab.research.google.com/notebooks/data_table.ipynb>data table notebook</a>'\n",
              "            + ' to learn more about interactive tables.';\n",
              "          element.innerHTML = '';\n",
              "          dataTable['output_type'] = 'display_data';\n",
              "          await google.colab.output.renderOutput(dataTable, element);\n",
              "          const docLink = document.createElement('div');\n",
              "          docLink.innerHTML = docLinkHtml;\n",
              "          element.appendChild(docLink);\n",
              "        }\n",
              "      </script>\n",
              "    </div>\n",
              "  </div>\n",
              "  "
            ],
            "text/plain": [
              "                          media\n",
              "Natureza da Motivação          \n",
              "Extrínseca             3.795240\n",
              "Intrínseca             4.412214\n",
              "Misto                  4.496183"
            ]
          },
          "execution_count": 40,
          "metadata": {},
          "output_type": "execute_result"
        }
      ],
      "source": [
        "data_motivacao = df_relacional['media'].groupby(df_relacional['Natureza da Motivação'])\n",
        "data_motivacao = pd.DataFrame(data_motivacao.mean())\n",
        "\n",
        "data_motivacao.rename(index ={'Externo':'Extrínseca'},inplace = True)\n",
        "data_motivacao"
      ]
    },
    {
      "cell_type": "code",
      "execution_count": null,
      "metadata": {
        "id": "X9UuXZl5Ajpg"
      },
      "outputs": [],
      "source": [
        "#df = df.rename(columns={'oldName1': 'newName1', 'oldName2': 'newName2'})"
      ]
    },
    {
      "cell_type": "code",
      "execution_count": null,
      "metadata": {
        "colab": {
          "base_uri": "https://localhost:8080/",
          "height": 175
        },
        "id": "AgW4WhgZbRDC",
        "outputId": "b8f7715c-6a3d-42b6-89a4-914b381bed0c"
      },
      "outputs": [
        {
          "data": {
            "text/html": [
              "\n",
              "  <div id=\"df-5ddd53c7-d162-4eaa-8134-09f5109bae2f\">\n",
              "    <div class=\"colab-df-container\">\n",
              "      <div>\n",
              "<style scoped>\n",
              "    .dataframe tbody tr th:only-of-type {\n",
              "        vertical-align: middle;\n",
              "    }\n",
              "\n",
              "    .dataframe tbody tr th {\n",
              "        vertical-align: top;\n",
              "    }\n",
              "\n",
              "    .dataframe thead th {\n",
              "        text-align: right;\n",
              "    }\n",
              "</style>\n",
              "<table border=\"1\" class=\"dataframe\">\n",
              "  <thead>\n",
              "    <tr style=\"text-align: right;\">\n",
              "      <th></th>\n",
              "      <th>media</th>\n",
              "      <th>Natureza da Motivação</th>\n",
              "    </tr>\n",
              "    <tr>\n",
              "      <th>Natureza da Motivação</th>\n",
              "      <th></th>\n",
              "      <th></th>\n",
              "    </tr>\n",
              "  </thead>\n",
              "  <tbody>\n",
              "    <tr>\n",
              "      <th>Extrínseca</th>\n",
              "      <td>3.795240</td>\n",
              "      <td>Extrínseca</td>\n",
              "    </tr>\n",
              "    <tr>\n",
              "      <th>Intrínseca</th>\n",
              "      <td>4.412214</td>\n",
              "      <td>Intrínseca</td>\n",
              "    </tr>\n",
              "    <tr>\n",
              "      <th>Misto</th>\n",
              "      <td>4.496183</td>\n",
              "      <td>Misto</td>\n",
              "    </tr>\n",
              "  </tbody>\n",
              "</table>\n",
              "</div>\n",
              "      <button class=\"colab-df-convert\" onclick=\"convertToInteractive('df-5ddd53c7-d162-4eaa-8134-09f5109bae2f')\"\n",
              "              title=\"Convert this dataframe to an interactive table.\"\n",
              "              style=\"display:none;\">\n",
              "        \n",
              "  <svg xmlns=\"http://www.w3.org/2000/svg\" height=\"24px\"viewBox=\"0 0 24 24\"\n",
              "       width=\"24px\">\n",
              "    <path d=\"M0 0h24v24H0V0z\" fill=\"none\"/>\n",
              "    <path d=\"M18.56 5.44l.94 2.06.94-2.06 2.06-.94-2.06-.94-.94-2.06-.94 2.06-2.06.94zm-11 1L8.5 8.5l.94-2.06 2.06-.94-2.06-.94L8.5 2.5l-.94 2.06-2.06.94zm10 10l.94 2.06.94-2.06 2.06-.94-2.06-.94-.94-2.06-.94 2.06-2.06.94z\"/><path d=\"M17.41 7.96l-1.37-1.37c-.4-.4-.92-.59-1.43-.59-.52 0-1.04.2-1.43.59L10.3 9.45l-7.72 7.72c-.78.78-.78 2.05 0 2.83L4 21.41c.39.39.9.59 1.41.59.51 0 1.02-.2 1.41-.59l7.78-7.78 2.81-2.81c.8-.78.8-2.07 0-2.86zM5.41 20L4 18.59l7.72-7.72 1.47 1.35L5.41 20z\"/>\n",
              "  </svg>\n",
              "      </button>\n",
              "      \n",
              "  <style>\n",
              "    .colab-df-container {\n",
              "      display:flex;\n",
              "      flex-wrap:wrap;\n",
              "      gap: 12px;\n",
              "    }\n",
              "\n",
              "    .colab-df-convert {\n",
              "      background-color: #E8F0FE;\n",
              "      border: none;\n",
              "      border-radius: 50%;\n",
              "      cursor: pointer;\n",
              "      display: none;\n",
              "      fill: #1967D2;\n",
              "      height: 32px;\n",
              "      padding: 0 0 0 0;\n",
              "      width: 32px;\n",
              "    }\n",
              "\n",
              "    .colab-df-convert:hover {\n",
              "      background-color: #E2EBFA;\n",
              "      box-shadow: 0px 1px 2px rgba(60, 64, 67, 0.3), 0px 1px 3px 1px rgba(60, 64, 67, 0.15);\n",
              "      fill: #174EA6;\n",
              "    }\n",
              "\n",
              "    [theme=dark] .colab-df-convert {\n",
              "      background-color: #3B4455;\n",
              "      fill: #D2E3FC;\n",
              "    }\n",
              "\n",
              "    [theme=dark] .colab-df-convert:hover {\n",
              "      background-color: #434B5C;\n",
              "      box-shadow: 0px 1px 3px 1px rgba(0, 0, 0, 0.15);\n",
              "      filter: drop-shadow(0px 1px 2px rgba(0, 0, 0, 0.3));\n",
              "      fill: #FFFFFF;\n",
              "    }\n",
              "  </style>\n",
              "\n",
              "      <script>\n",
              "        const buttonEl =\n",
              "          document.querySelector('#df-5ddd53c7-d162-4eaa-8134-09f5109bae2f button.colab-df-convert');\n",
              "        buttonEl.style.display =\n",
              "          google.colab.kernel.accessAllowed ? 'block' : 'none';\n",
              "\n",
              "        async function convertToInteractive(key) {\n",
              "          const element = document.querySelector('#df-5ddd53c7-d162-4eaa-8134-09f5109bae2f');\n",
              "          const dataTable =\n",
              "            await google.colab.kernel.invokeFunction('convertToInteractive',\n",
              "                                                     [key], {});\n",
              "          if (!dataTable) return;\n",
              "\n",
              "          const docLinkHtml = 'Like what you see? Visit the ' +\n",
              "            '<a target=\"_blank\" href=https://colab.research.google.com/notebooks/data_table.ipynb>data table notebook</a>'\n",
              "            + ' to learn more about interactive tables.';\n",
              "          element.innerHTML = '';\n",
              "          dataTable['output_type'] = 'display_data';\n",
              "          await google.colab.output.renderOutput(dataTable, element);\n",
              "          const docLink = document.createElement('div');\n",
              "          docLink.innerHTML = docLinkHtml;\n",
              "          element.appendChild(docLink);\n",
              "        }\n",
              "      </script>\n",
              "    </div>\n",
              "  </div>\n",
              "  "
            ],
            "text/plain": [
              "                          media Natureza da Motivação\n",
              "Natureza da Motivação                                \n",
              "Extrínseca             3.795240            Extrínseca\n",
              "Intrínseca             4.412214            Intrínseca\n",
              "Misto                  4.496183                 Misto"
            ]
          },
          "execution_count": 42,
          "metadata": {},
          "output_type": "execute_result"
        }
      ],
      "source": [
        "data_motivacao['Natureza da Motivação'] = data_motivacao.index\n",
        "#data_motivacao.rename(columns = {'Externo':'Extrínseca'},inplace = True)\n",
        "data_motivacao"
      ]
    },
    {
      "cell_type": "code",
      "execution_count": null,
      "metadata": {
        "colab": {
          "base_uri": "https://localhost:8080/"
        },
        "id": "FPMv2kRRCIPW",
        "outputId": "52eb02ec-865f-47b8-f69e-6d582b62d199"
      },
      "outputs": [
        {
          "data": {
            "text/plain": [
              "pandas.core.frame.DataFrame"
            ]
          },
          "execution_count": 43,
          "metadata": {},
          "output_type": "execute_result"
        }
      ],
      "source": [
        "type(data_motivacao)"
      ]
    },
    {
      "cell_type": "code",
      "execution_count": null,
      "metadata": {
        "colab": {
          "base_uri": "https://localhost:8080/",
          "height": 175
        },
        "id": "gYCkcakaDJUd",
        "outputId": "6ba4e3d9-3c2d-4a11-aa94-6ecdecc49c4e"
      },
      "outputs": [
        {
          "data": {
            "text/html": [
              "\n",
              "  <div id=\"df-45e001ea-eeee-4800-a7ca-7c9c77f55b8f\">\n",
              "    <div class=\"colab-df-container\">\n",
              "      <div>\n",
              "<style scoped>\n",
              "    .dataframe tbody tr th:only-of-type {\n",
              "        vertical-align: middle;\n",
              "    }\n",
              "\n",
              "    .dataframe tbody tr th {\n",
              "        vertical-align: top;\n",
              "    }\n",
              "\n",
              "    .dataframe thead th {\n",
              "        text-align: right;\n",
              "    }\n",
              "</style>\n",
              "<table border=\"1\" class=\"dataframe\">\n",
              "  <thead>\n",
              "    <tr style=\"text-align: right;\">\n",
              "      <th></th>\n",
              "      <th>media</th>\n",
              "      <th>Natureza da Motivação</th>\n",
              "    </tr>\n",
              "    <tr>\n",
              "      <th>Natureza da Motivação</th>\n",
              "      <th></th>\n",
              "      <th></th>\n",
              "    </tr>\n",
              "  </thead>\n",
              "  <tbody>\n",
              "    <tr>\n",
              "      <th>Extrínseca</th>\n",
              "      <td>3.795240</td>\n",
              "      <td>Extrínseca</td>\n",
              "    </tr>\n",
              "    <tr>\n",
              "      <th>Intrínseca</th>\n",
              "      <td>4.412214</td>\n",
              "      <td>Intrínseca</td>\n",
              "    </tr>\n",
              "    <tr>\n",
              "      <th>Misto</th>\n",
              "      <td>4.496183</td>\n",
              "      <td>Misto</td>\n",
              "    </tr>\n",
              "  </tbody>\n",
              "</table>\n",
              "</div>\n",
              "      <button class=\"colab-df-convert\" onclick=\"convertToInteractive('df-45e001ea-eeee-4800-a7ca-7c9c77f55b8f')\"\n",
              "              title=\"Convert this dataframe to an interactive table.\"\n",
              "              style=\"display:none;\">\n",
              "        \n",
              "  <svg xmlns=\"http://www.w3.org/2000/svg\" height=\"24px\"viewBox=\"0 0 24 24\"\n",
              "       width=\"24px\">\n",
              "    <path d=\"M0 0h24v24H0V0z\" fill=\"none\"/>\n",
              "    <path d=\"M18.56 5.44l.94 2.06.94-2.06 2.06-.94-2.06-.94-.94-2.06-.94 2.06-2.06.94zm-11 1L8.5 8.5l.94-2.06 2.06-.94-2.06-.94L8.5 2.5l-.94 2.06-2.06.94zm10 10l.94 2.06.94-2.06 2.06-.94-2.06-.94-.94-2.06-.94 2.06-2.06.94z\"/><path d=\"M17.41 7.96l-1.37-1.37c-.4-.4-.92-.59-1.43-.59-.52 0-1.04.2-1.43.59L10.3 9.45l-7.72 7.72c-.78.78-.78 2.05 0 2.83L4 21.41c.39.39.9.59 1.41.59.51 0 1.02-.2 1.41-.59l7.78-7.78 2.81-2.81c.8-.78.8-2.07 0-2.86zM5.41 20L4 18.59l7.72-7.72 1.47 1.35L5.41 20z\"/>\n",
              "  </svg>\n",
              "      </button>\n",
              "      \n",
              "  <style>\n",
              "    .colab-df-container {\n",
              "      display:flex;\n",
              "      flex-wrap:wrap;\n",
              "      gap: 12px;\n",
              "    }\n",
              "\n",
              "    .colab-df-convert {\n",
              "      background-color: #E8F0FE;\n",
              "      border: none;\n",
              "      border-radius: 50%;\n",
              "      cursor: pointer;\n",
              "      display: none;\n",
              "      fill: #1967D2;\n",
              "      height: 32px;\n",
              "      padding: 0 0 0 0;\n",
              "      width: 32px;\n",
              "    }\n",
              "\n",
              "    .colab-df-convert:hover {\n",
              "      background-color: #E2EBFA;\n",
              "      box-shadow: 0px 1px 2px rgba(60, 64, 67, 0.3), 0px 1px 3px 1px rgba(60, 64, 67, 0.15);\n",
              "      fill: #174EA6;\n",
              "    }\n",
              "\n",
              "    [theme=dark] .colab-df-convert {\n",
              "      background-color: #3B4455;\n",
              "      fill: #D2E3FC;\n",
              "    }\n",
              "\n",
              "    [theme=dark] .colab-df-convert:hover {\n",
              "      background-color: #434B5C;\n",
              "      box-shadow: 0px 1px 3px 1px rgba(0, 0, 0, 0.15);\n",
              "      filter: drop-shadow(0px 1px 2px rgba(0, 0, 0, 0.3));\n",
              "      fill: #FFFFFF;\n",
              "    }\n",
              "  </style>\n",
              "\n",
              "      <script>\n",
              "        const buttonEl =\n",
              "          document.querySelector('#df-45e001ea-eeee-4800-a7ca-7c9c77f55b8f button.colab-df-convert');\n",
              "        buttonEl.style.display =\n",
              "          google.colab.kernel.accessAllowed ? 'block' : 'none';\n",
              "\n",
              "        async function convertToInteractive(key) {\n",
              "          const element = document.querySelector('#df-45e001ea-eeee-4800-a7ca-7c9c77f55b8f');\n",
              "          const dataTable =\n",
              "            await google.colab.kernel.invokeFunction('convertToInteractive',\n",
              "                                                     [key], {});\n",
              "          if (!dataTable) return;\n",
              "\n",
              "          const docLinkHtml = 'Like what you see? Visit the ' +\n",
              "            '<a target=\"_blank\" href=https://colab.research.google.com/notebooks/data_table.ipynb>data table notebook</a>'\n",
              "            + ' to learn more about interactive tables.';\n",
              "          element.innerHTML = '';\n",
              "          dataTable['output_type'] = 'display_data';\n",
              "          await google.colab.output.renderOutput(dataTable, element);\n",
              "          const docLink = document.createElement('div');\n",
              "          docLink.innerHTML = docLinkHtml;\n",
              "          element.appendChild(docLink);\n",
              "        }\n",
              "      </script>\n",
              "    </div>\n",
              "  </div>\n",
              "  "
            ],
            "text/plain": [
              "                          media Natureza da Motivação\n",
              "Natureza da Motivação                                \n",
              "Extrínseca             3.795240            Extrínseca\n",
              "Intrínseca             4.412214            Intrínseca\n",
              "Misto                  4.496183                 Misto"
            ]
          },
          "execution_count": 44,
          "metadata": {},
          "output_type": "execute_result"
        }
      ],
      "source": [
        "data_motivacao"
      ]
    },
    {
      "cell_type": "code",
      "execution_count": null,
      "metadata": {
        "id": "Q0NEdiLqNauk"
      },
      "outputs": [],
      "source": [
        "#df['is_blue'] = df['is_blue'].apply(lambda x: 'Yes' if (x == 1) else 'No') \n",
        "#>>> df.rename({1: 2, 2: 4}, axis='index')"
      ]
    },
    {
      "cell_type": "code",
      "execution_count": null,
      "metadata": {
        "colab": {
          "base_uri": "https://localhost:8080/",
          "height": 511
        },
        "id": "OxCj5zDEAHpn",
        "outputId": "60370e1a-b8b6-4e36-c789-bbb37b82a8cb"
      },
      "outputs": [
        {
          "data": {
            "image/png": "[encoded data removed]",
            "text/plain": [
              "<Figure size 936x576 with 1 Axes>"
            ]
          },
          "metadata": {},
          "output_type": "display_data"
        }
      ],
      "source": [
        "#motivacional_list = ['Extrínseca','Misto','Intrínseca']\n",
        "#g.set(xticklabels=[\"first\", \"second\", \"third\"])\n",
        "motivacional = sns.barplot(y = 'media',x ='Natureza da Motivação',data = df_relacional,order = ['Externo','Misto','Intrínseca'])\n",
        "motivacional.set(xticklabels = ['Extrínseca','Misto','Intrínseca'])\n",
        "plt.savefig(\"GraficoNmotivacaoFINAL3.png\")"
      ]
    },
    {
      "cell_type": "markdown",
      "metadata": {
        "id": "yfpyo_csc2B7"
      },
      "source": [
        "A coluna 'Intrínseca' não possui desvio padrão visto que só existe um valor dessa classe.\n",
        "\n",
        "Column named \"Intrínseca\" does not have standard deviation because there is only one class"
      ]
    },
    {
      "cell_type": "code",
      "execution_count": null,
      "metadata": {
        "colab": {
          "base_uri": "https://localhost:8080/",
          "height": 175
        },
        "id": "8bEYQQOgZpB8",
        "outputId": "fbc050b7-9f1e-49a4-9a5c-0f7ec91522bb"
      },
      "outputs": [
        {
          "data": {
            "text/html": [
              "\n",
              "  <div id=\"df-535f53f7-f30c-4897-bfd1-529ab0b8e6b8\">\n",
              "    <div class=\"colab-df-container\">\n",
              "      <div>\n",
              "<style scoped>\n",
              "    .dataframe tbody tr th:only-of-type {\n",
              "        vertical-align: middle;\n",
              "    }\n",
              "\n",
              "    .dataframe tbody tr th {\n",
              "        vertical-align: top;\n",
              "    }\n",
              "\n",
              "    .dataframe thead th {\n",
              "        text-align: right;\n",
              "    }\n",
              "</style>\n",
              "<table border=\"1\" class=\"dataframe\">\n",
              "  <thead>\n",
              "    <tr style=\"text-align: right;\">\n",
              "      <th></th>\n",
              "      <th>desvio_padrao</th>\n",
              "    </tr>\n",
              "    <tr>\n",
              "      <th>Natureza da Motivação</th>\n",
              "      <th></th>\n",
              "    </tr>\n",
              "  </thead>\n",
              "  <tbody>\n",
              "    <tr>\n",
              "      <th>Externo</th>\n",
              "      <td>1.040922</td>\n",
              "    </tr>\n",
              "    <tr>\n",
              "      <th>Intrínseca</th>\n",
              "      <td>1.044180</td>\n",
              "    </tr>\n",
              "    <tr>\n",
              "      <th>Misto</th>\n",
              "      <td>0.722848</td>\n",
              "    </tr>\n",
              "  </tbody>\n",
              "</table>\n",
              "</div>\n",
              "      <button class=\"colab-df-convert\" onclick=\"convertToInteractive('df-535f53f7-f30c-4897-bfd1-529ab0b8e6b8')\"\n",
              "              title=\"Convert this dataframe to an interactive table.\"\n",
              "              style=\"display:none;\">\n",
              "        \n",
              "  <svg xmlns=\"http://www.w3.org/2000/svg\" height=\"24px\"viewBox=\"0 0 24 24\"\n",
              "       width=\"24px\">\n",
              "    <path d=\"M0 0h24v24H0V0z\" fill=\"none\"/>\n",
              "    <path d=\"M18.56 5.44l.94 2.06.94-2.06 2.06-.94-2.06-.94-.94-2.06-.94 2.06-2.06.94zm-11 1L8.5 8.5l.94-2.06 2.06-.94-2.06-.94L8.5 2.5l-.94 2.06-2.06.94zm10 10l.94 2.06.94-2.06 2.06-.94-2.06-.94-.94-2.06-.94 2.06-2.06.94z\"/><path d=\"M17.41 7.96l-1.37-1.37c-.4-.4-.92-.59-1.43-.59-.52 0-1.04.2-1.43.59L10.3 9.45l-7.72 7.72c-.78.78-.78 2.05 0 2.83L4 21.41c.39.39.9.59 1.41.59.51 0 1.02-.2 1.41-.59l7.78-7.78 2.81-2.81c.8-.78.8-2.07 0-2.86zM5.41 20L4 18.59l7.72-7.72 1.47 1.35L5.41 20z\"/>\n",
              "  </svg>\n",
              "      </button>\n",
              "      \n",
              "  <style>\n",
              "    .colab-df-container {\n",
              "      display:flex;\n",
              "      flex-wrap:wrap;\n",
              "      gap: 12px;\n",
              "    }\n",
              "\n",
              "    .colab-df-convert {\n",
              "      background-color: #E8F0FE;\n",
              "      border: none;\n",
              "      border-radius: 50%;\n",
              "      cursor: pointer;\n",
              "      display: none;\n",
              "      fill: #1967D2;\n",
              "      height: 32px;\n",
              "      padding: 0 0 0 0;\n",
              "      width: 32px;\n",
              "    }\n",
              "\n",
              "    .colab-df-convert:hover {\n",
              "      background-color: #E2EBFA;\n",
              "      box-shadow: 0px 1px 2px rgba(60, 64, 67, 0.3), 0px 1px 3px 1px rgba(60, 64, 67, 0.15);\n",
              "      fill: #174EA6;\n",
              "    }\n",
              "\n",
              "    [theme=dark] .colab-df-convert {\n",
              "      background-color: #3B4455;\n",
              "      fill: #D2E3FC;\n",
              "    }\n",
              "\n",
              "    [theme=dark] .colab-df-convert:hover {\n",
              "      background-color: #434B5C;\n",
              "      box-shadow: 0px 1px 3px 1px rgba(0, 0, 0, 0.15);\n",
              "      filter: drop-shadow(0px 1px 2px rgba(0, 0, 0, 0.3));\n",
              "      fill: #FFFFFF;\n",
              "    }\n",
              "  </style>\n",
              "\n",
              "      <script>\n",
              "        const buttonEl =\n",
              "          document.querySelector('#df-535f53f7-f30c-4897-bfd1-529ab0b8e6b8 button.colab-df-convert');\n",
              "        buttonEl.style.display =\n",
              "          google.colab.kernel.accessAllowed ? 'block' : 'none';\n",
              "\n",
              "        async function convertToInteractive(key) {\n",
              "          const element = document.querySelector('#df-535f53f7-f30c-4897-bfd1-529ab0b8e6b8');\n",
              "          const dataTable =\n",
              "            await google.colab.kernel.invokeFunction('convertToInteractive',\n",
              "                                                     [key], {});\n",
              "          if (!dataTable) return;\n",
              "\n",
              "          const docLinkHtml = 'Like what you see? Visit the ' +\n",
              "            '<a target=\"_blank\" href=https://colab.research.google.com/notebooks/data_table.ipynb>data table notebook</a>'\n",
              "            + ' to learn more about interactive tables.';\n",
              "          element.innerHTML = '';\n",
              "          dataTable['output_type'] = 'display_data';\n",
              "          await google.colab.output.renderOutput(dataTable, element);\n",
              "          const docLink = document.createElement('div');\n",
              "          docLink.innerHTML = docLinkHtml;\n",
              "          element.appendChild(docLink);\n",
              "        }\n",
              "      </script>\n",
              "    </div>\n",
              "  </div>\n",
              "  "
            ],
            "text/plain": [
              "                       desvio_padrao\n",
              "Natureza da Motivação               \n",
              "Externo                     1.040922\n",
              "Intrínseca                  1.044180\n",
              "Misto                       0.722848"
            ]
          },
          "execution_count": 47,
          "metadata": {},
          "output_type": "execute_result"
        }
      ],
      "source": [
        "dados_dp_natureza_motiv = df_relacional['desvio_padrao'].groupby(df_relacional['Natureza da Motivação'])\n",
        "dados_dp_natureza_motiv = pd.DataFrame(dados_dp_natureza_motiv.mean())\n",
        "#externo = 1.04, intrinseca= 1.044, misto = 0.72\n",
        "dados_dp_natureza_motiv\n"
      ]
    },
    {
      "cell_type": "code",
      "execution_count": null,
      "metadata": {
        "colab": {
          "base_uri": "https://localhost:8080/",
          "height": 175
        },
        "id": "XwFf8aTzjlAh",
        "outputId": "354eb53b-858c-4e0f-ad10-a8c187b01bc1"
      },
      "outputs": [
        {
          "data": {
            "text/html": [
              "\n",
              "  <div id=\"df-79a60be1-672f-4fce-bb8c-7d2faf5d915b\">\n",
              "    <div class=\"colab-df-container\">\n",
              "      <div>\n",
              "<style scoped>\n",
              "    .dataframe tbody tr th:only-of-type {\n",
              "        vertical-align: middle;\n",
              "    }\n",
              "\n",
              "    .dataframe tbody tr th {\n",
              "        vertical-align: top;\n",
              "    }\n",
              "\n",
              "    .dataframe thead th {\n",
              "        text-align: right;\n",
              "    }\n",
              "</style>\n",
              "<table border=\"1\" class=\"dataframe\">\n",
              "  <thead>\n",
              "    <tr style=\"text-align: right;\">\n",
              "      <th></th>\n",
              "      <th>desvio_padrao</th>\n",
              "    </tr>\n",
              "    <tr>\n",
              "      <th>Resultados Esperados</th>\n",
              "      <th></th>\n",
              "    </tr>\n",
              "  </thead>\n",
              "  <tbody>\n",
              "    <tr>\n",
              "      <th>Desafio</th>\n",
              "      <td>0.722848</td>\n",
              "    </tr>\n",
              "    <tr>\n",
              "      <th>Econômico</th>\n",
              "      <td>1.004671</td>\n",
              "    </tr>\n",
              "    <tr>\n",
              "      <th>Reputação</th>\n",
              "      <td>1.077535</td>\n",
              "    </tr>\n",
              "  </tbody>\n",
              "</table>\n",
              "</div>\n",
              "      <button class=\"colab-df-convert\" onclick=\"convertToInteractive('df-79a60be1-672f-4fce-bb8c-7d2faf5d915b')\"\n",
              "              title=\"Convert this dataframe to an interactive table.\"\n",
              "              style=\"display:none;\">\n",
              "        \n",
              "  <svg xmlns=\"http://www.w3.org/2000/svg\" height=\"24px\"viewBox=\"0 0 24 24\"\n",
              "       width=\"24px\">\n",
              "    <path d=\"M0 0h24v24H0V0z\" fill=\"none\"/>\n",
              "    <path d=\"M18.56 5.44l.94 2.06.94-2.06 2.06-.94-2.06-.94-.94-2.06-.94 2.06-2.06.94zm-11 1L8.5 8.5l.94-2.06 2.06-.94-2.06-.94L8.5 2.5l-.94 2.06-2.06.94zm10 10l.94 2.06.94-2.06 2.06-.94-2.06-.94-.94-2.06-.94 2.06-2.06.94z\"/><path d=\"M17.41 7.96l-1.37-1.37c-.4-.4-.92-.59-1.43-.59-.52 0-1.04.2-1.43.59L10.3 9.45l-7.72 7.72c-.78.78-.78 2.05 0 2.83L4 21.41c.39.39.9.59 1.41.59.51 0 1.02-.2 1.41-.59l7.78-7.78 2.81-2.81c.8-.78.8-2.07 0-2.86zM5.41 20L4 18.59l7.72-7.72 1.47 1.35L5.41 20z\"/>\n",
              "  </svg>\n",
              "      </button>\n",
              "      \n",
              "  <style>\n",
              "    .colab-df-container {\n",
              "      display:flex;\n",
              "      flex-wrap:wrap;\n",
              "      gap: 12px;\n",
              "    }\n",
              "\n",
              "    .colab-df-convert {\n",
              "      background-color: #E8F0FE;\n",
              "      border: none;\n",
              "      border-radius: 50%;\n",
              "      cursor: pointer;\n",
              "      display: none;\n",
              "      fill: #1967D2;\n",
              "      height: 32px;\n",
              "      padding: 0 0 0 0;\n",
              "      width: 32px;\n",
              "    }\n",
              "\n",
              "    .colab-df-convert:hover {\n",
              "      background-color: #E2EBFA;\n",
              "      box-shadow: 0px 1px 2px rgba(60, 64, 67, 0.3), 0px 1px 3px 1px rgba(60, 64, 67, 0.15);\n",
              "      fill: #174EA6;\n",
              "    }\n",
              "\n",
              "    [theme=dark] .colab-df-convert {\n",
              "      background-color: #3B4455;\n",
              "      fill: #D2E3FC;\n",
              "    }\n",
              "\n",
              "    [theme=dark] .colab-df-convert:hover {\n",
              "      background-color: #434B5C;\n",
              "      box-shadow: 0px 1px 3px 1px rgba(0, 0, 0, 0.15);\n",
              "      filter: drop-shadow(0px 1px 2px rgba(0, 0, 0, 0.3));\n",
              "      fill: #FFFFFF;\n",
              "    }\n",
              "  </style>\n",
              "\n",
              "      <script>\n",
              "        const buttonEl =\n",
              "          document.querySelector('#df-79a60be1-672f-4fce-bb8c-7d2faf5d915b button.colab-df-convert');\n",
              "        buttonEl.style.display =\n",
              "          google.colab.kernel.accessAllowed ? 'block' : 'none';\n",
              "\n",
              "        async function convertToInteractive(key) {\n",
              "          const element = document.querySelector('#df-79a60be1-672f-4fce-bb8c-7d2faf5d915b');\n",
              "          const dataTable =\n",
              "            await google.colab.kernel.invokeFunction('convertToInteractive',\n",
              "                                                     [key], {});\n",
              "          if (!dataTable) return;\n",
              "\n",
              "          const docLinkHtml = 'Like what you see? Visit the ' +\n",
              "            '<a target=\"_blank\" href=https://colab.research.google.com/notebooks/data_table.ipynb>data table notebook</a>'\n",
              "            + ' to learn more about interactive tables.';\n",
              "          element.innerHTML = '';\n",
              "          dataTable['output_type'] = 'display_data';\n",
              "          await google.colab.output.renderOutput(dataTable, element);\n",
              "          const docLink = document.createElement('div');\n",
              "          docLink.innerHTML = docLinkHtml;\n",
              "          element.appendChild(docLink);\n",
              "        }\n",
              "      </script>\n",
              "    </div>\n",
              "  </div>\n",
              "  "
            ],
            "text/plain": [
              "                      desvio_padrao\n",
              "Resultados Esperados               \n",
              "Desafio                    0.722848\n",
              "Econômico                  1.004671\n",
              "Reputação                  1.077535"
            ]
          },
          "execution_count": 48,
          "metadata": {},
          "output_type": "execute_result"
        }
      ],
      "source": [
        "dados_dp_natureza_re = df_relacional['desvio_padrao'].groupby(df_relacional['Resultados Esperados'])\n",
        "dados_dp_natureza_re = pd.DataFrame(dados_dp_natureza_re.mean())\n",
        "#externo = 1.04, intrinseca= 1.044, misto = 0.72\n",
        "dados_dp_natureza_re"
      ]
    },
    {
      "cell_type": "code",
      "execution_count": null,
      "metadata": {
        "colab": {
          "base_uri": "https://localhost:8080/",
          "height": 175
        },
        "id": "LIRD3BhmYuCo",
        "outputId": "5f679d04-53da-44de-aa85-05b721ed90a3"
      },
      "outputs": [
        {
          "data": {
            "text/html": [
              "\n",
              "  <div id=\"df-adb3013a-c1be-49dd-8fb6-bd3d7b4e8cb8\">\n",
              "    <div class=\"colab-df-container\">\n",
              "      <div>\n",
              "<style scoped>\n",
              "    .dataframe tbody tr th:only-of-type {\n",
              "        vertical-align: middle;\n",
              "    }\n",
              "\n",
              "    .dataframe tbody tr th {\n",
              "        vertical-align: top;\n",
              "    }\n",
              "\n",
              "    .dataframe thead th {\n",
              "        text-align: right;\n",
              "    }\n",
              "</style>\n",
              "<table border=\"1\" class=\"dataframe\">\n",
              "  <thead>\n",
              "    <tr style=\"text-align: right;\">\n",
              "      <th></th>\n",
              "      <th>media</th>\n",
              "      <th>Natureza da Motivação</th>\n",
              "    </tr>\n",
              "    <tr>\n",
              "      <th>Natureza da Motivação</th>\n",
              "      <th></th>\n",
              "      <th></th>\n",
              "    </tr>\n",
              "  </thead>\n",
              "  <tbody>\n",
              "    <tr>\n",
              "      <th>Extrínseca</th>\n",
              "      <td>3.795240</td>\n",
              "      <td>Extrínseca</td>\n",
              "    </tr>\n",
              "    <tr>\n",
              "      <th>Intrínseca</th>\n",
              "      <td>4.412214</td>\n",
              "      <td>Intrínseca</td>\n",
              "    </tr>\n",
              "    <tr>\n",
              "      <th>Misto</th>\n",
              "      <td>4.496183</td>\n",
              "      <td>Misto</td>\n",
              "    </tr>\n",
              "  </tbody>\n",
              "</table>\n",
              "</div>\n",
              "      <button class=\"colab-df-convert\" onclick=\"convertToInteractive('df-adb3013a-c1be-49dd-8fb6-bd3d7b4e8cb8')\"\n",
              "              title=\"Convert this dataframe to an interactive table.\"\n",
              "              style=\"display:none;\">\n",
              "        \n",
              "  <svg xmlns=\"http://www.w3.org/2000/svg\" height=\"24px\"viewBox=\"0 0 24 24\"\n",
              "       width=\"24px\">\n",
              "    <path d=\"M0 0h24v24H0V0z\" fill=\"none\"/>\n",
              "    <path d=\"M18.56 5.44l.94 2.06.94-2.06 2.06-.94-2.06-.94-.94-2.06-.94 2.06-2.06.94zm-11 1L8.5 8.5l.94-2.06 2.06-.94-2.06-.94L8.5 2.5l-.94 2.06-2.06.94zm10 10l.94 2.06.94-2.06 2.06-.94-2.06-.94-.94-2.06-.94 2.06-2.06.94z\"/><path d=\"M17.41 7.96l-1.37-1.37c-.4-.4-.92-.59-1.43-.59-.52 0-1.04.2-1.43.59L10.3 9.45l-7.72 7.72c-.78.78-.78 2.05 0 2.83L4 21.41c.39.39.9.59 1.41.59.51 0 1.02-.2 1.41-.59l7.78-7.78 2.81-2.81c.8-.78.8-2.07 0-2.86zM5.41 20L4 18.59l7.72-7.72 1.47 1.35L5.41 20z\"/>\n",
              "  </svg>\n",
              "      </button>\n",
              "      \n",
              "  <style>\n",
              "    .colab-df-container {\n",
              "      display:flex;\n",
              "      flex-wrap:wrap;\n",
              "      gap: 12px;\n",
              "    }\n",
              "\n",
              "    .colab-df-convert {\n",
              "      background-color: #E8F0FE;\n",
              "      border: none;\n",
              "      border-radius: 50%;\n",
              "      cursor: pointer;\n",
              "      display: none;\n",
              "      fill: #1967D2;\n",
              "      height: 32px;\n",
              "      padding: 0 0 0 0;\n",
              "      width: 32px;\n",
              "    }\n",
              "\n",
              "    .colab-df-convert:hover {\n",
              "      background-color: #E2EBFA;\n",
              "      box-shadow: 0px 1px 2px rgba(60, 64, 67, 0.3), 0px 1px 3px 1px rgba(60, 64, 67, 0.15);\n",
              "      fill: #174EA6;\n",
              "    }\n",
              "\n",
              "    [theme=dark] .colab-df-convert {\n",
              "      background-color: #3B4455;\n",
              "      fill: #D2E3FC;\n",
              "    }\n",
              "\n",
              "    [theme=dark] .colab-df-convert:hover {\n",
              "      background-color: #434B5C;\n",
              "      box-shadow: 0px 1px 3px 1px rgba(0, 0, 0, 0.15);\n",
              "      filter: drop-shadow(0px 1px 2px rgba(0, 0, 0, 0.3));\n",
              "      fill: #FFFFFF;\n",
              "    }\n",
              "  </style>\n",
              "\n",
              "      <script>\n",
              "        const buttonEl =\n",
              "          document.querySelector('#df-adb3013a-c1be-49dd-8fb6-bd3d7b4e8cb8 button.colab-df-convert');\n",
              "        buttonEl.style.display =\n",
              "          google.colab.kernel.accessAllowed ? 'block' : 'none';\n",
              "\n",
              "        async function convertToInteractive(key) {\n",
              "          const element = document.querySelector('#df-adb3013a-c1be-49dd-8fb6-bd3d7b4e8cb8');\n",
              "          const dataTable =\n",
              "            await google.colab.kernel.invokeFunction('convertToInteractive',\n",
              "                                                     [key], {});\n",
              "          if (!dataTable) return;\n",
              "\n",
              "          const docLinkHtml = 'Like what you see? Visit the ' +\n",
              "            '<a target=\"_blank\" href=https://colab.research.google.com/notebooks/data_table.ipynb>data table notebook</a>'\n",
              "            + ' to learn more about interactive tables.';\n",
              "          element.innerHTML = '';\n",
              "          dataTable['output_type'] = 'display_data';\n",
              "          await google.colab.output.renderOutput(dataTable, element);\n",
              "          const docLink = document.createElement('div');\n",
              "          docLink.innerHTML = docLinkHtml;\n",
              "          element.appendChild(docLink);\n",
              "        }\n",
              "      </script>\n",
              "    </div>\n",
              "  </div>\n",
              "  "
            ],
            "text/plain": [
              "                          media Natureza da Motivação\n",
              "Natureza da Motivação                                \n",
              "Extrínseca             3.795240            Extrínseca\n",
              "Intrínseca             4.412214            Intrínseca\n",
              "Misto                  4.496183                 Misto"
            ]
          },
          "execution_count": 49,
          "metadata": {},
          "output_type": "execute_result"
        }
      ],
      "source": [
        "data_motivacao"
      ]
    },
    {
      "cell_type": "code",
      "execution_count": null,
      "metadata": {
        "colab": {
          "base_uri": "https://localhost:8080/"
        },
        "id": "pM6kEc5pokd-",
        "outputId": "74ba9a23-663d-4474-9a26-8201466a2435"
      },
      "outputs": [
        {
          "data": {
            "text/plain": [
              "Index(['Acesso a meios e insumos, inclusive tecnológicos, para o desenvolvimento de pesquisas',\n",
              "       'Atendimento de indicadores de produção e possibilidades de publicação das pesquisas cujos resultados são patenteáveis',\n",
              "       'Aumento da renda pessoal e/ou benefícios econômicos decorrente da atividade de pesquisa',\n",
              "       'Aumento do prestígio e visibilidade acadêmica com reconhecimento e reputação pelos pares',\n",
              "       'Baixa mobilidade: vinculação e permanência a um local fixo e específico para o desenvolvimento da pesquisa.',\n",
              "       'Colocação profissional e nível de responsabilidade que estimula o desenvolvimento da pesquisa',\n",
              "       'Competição e colaboração entre os pares na formação de redes pessoais e profissionais',\n",
              "       'Contribuição da promoção e/ou progressão na carreira com impacto na remuneração',\n",
              "       'Disponibilidade de materiais, dados e recursos oriundos da indústria para o desenvolvimento das atividades de pesquisa',\n",
              "       'Habilidade para finanças e realização de negócios',\n",
              "       'Influência de colaboradores e parceiros estrangeiros',\n",
              "       'Licenciamento e Comercialização dos resultados da pesquisa',\n",
              "       'Momento profissional da carreira acadêmica ou de pesquisador',\n",
              "       'Obtenção de financiamentos e recursos para a pesquisa',\n",
              "       'Participação em viagens e/ou experiências em outros lugares/culturas como influência para o desenvolvimento de pesquisas',\n",
              "       'Qualificação e competência pessoal para o desenvolvimento da pesquisa',\n",
              "       'Relações e cooperação de mercado com a indústria, inclusive com atração de recursos financeiros'],\n",
              "      dtype='object')"
            ]
          },
          "execution_count": 50,
          "metadata": {},
          "output_type": "execute_result"
        }
      ],
      "source": [
        "df_relacional[df_relacional['Natureza da Motivação'] == 'Externo'].index"
      ]
    },
    {
      "cell_type": "code",
      "execution_count": null,
      "metadata": {
        "id": "WxUpF9YEu3Hv"
      },
      "outputs": [],
      "source": [
        "df_pesq_class_externo = df_pesq[['Acesso a meios e insumos, inclusive tecnológicos, para o desenvolvimento de pesquisas',\n",
        "       'Atendimento de indicadores de produção e possibilidades de publicação das pesquisas cujos resultados são patenteáveis',\n",
        "       'Aumento da renda pessoal e/ou benefícios econômicos decorrente da atividade de pesquisa',\n",
        "       'Aumento do prestígio e visibilidade acadêmica com reconhecimento e reputação pelos pares',\n",
        "       'Baixa mobilidade: vinculação e permanência a um local fixo e específico para o desenvolvimento da pesquisa.',\n",
        "       'Colocação profissional e nível de responsabilidade que estimula o desenvolvimento da pesquisa',\n",
        "       'Competição e colaboração entre os pares na formação de redes pessoais e profissionais',\n",
        "       'Contribuição da promoção e/ou progressão na carreira com impacto na remuneração',\n",
        "       'Disponibilidade de materiais, dados e recursos oriundos da indústria para o desenvolvimento das atividades de pesquisa',\n",
        "       'Habilidade para finanças e realização de negócios',\n",
        "       'Influência de colaboradores e parceiros estrangeiros',\n",
        "       'Licenciamento e Comercialização dos resultados da pesquisa',\n",
        "       'Momento profissional da carreira acadêmica ou de pesquisador',\n",
        "       'Obtenção de financiamentos e recursos para a pesquisa',\n",
        "       'Participação em viagens e/ou experiências em outros lugares/culturas como influência para o desenvolvimento de pesquisas',\n",
        "       'Qualificação e competência pessoal para o desenvolvimento da pesquisa',\n",
        "       'Relações e cooperação de mercado com a indústria, inclusive com atração de recursos financeiros']]\n",
        "       "
      ]
    },
    {
      "cell_type": "code",
      "execution_count": null,
      "metadata": {
        "colab": {
          "base_uri": "https://localhost:8080/"
        },
        "id": "SZSxD5RsBazU",
        "outputId": "8b694dbc-69a9-408b-888e-0fb4a1db6e94"
      },
      "outputs": [
        {
          "data": {
            "text/plain": [
              "Index(['Contribuição dos resultados da pesquisa para o desenvolvimento social e econômico da sociedade',\n",
              "       'Experiência profissional anterior como acadêmico e pesquisador',\n",
              "       'Gosto por desafios, resolução de problemas de pesquisa e curiosidade intelectual',\n",
              "       'Independência e autonomia no desenvolvimento da pesquisa',\n",
              "       'Influência de membros do grupo de pesquisa por meio de troca de experiências',\n",
              "       'Instalações e condições infraestruturais para o desenvolvimento da pesquisa disponíveis na sua instituição',\n",
              "       'Potencial de aplicação dos resultados da pesquisa',\n",
              "       'Proteção e apropriação intelectual dos resultados da pesquisa',\n",
              "       'Satisfação pessoal e realização profissional na realização da pesquisa'],\n",
              "      dtype='object')"
            ]
          },
          "execution_count": 52,
          "metadata": {},
          "output_type": "execute_result"
        }
      ],
      "source": [
        "df_relacional[df_relacional['Natureza da Motivação'] == 'Misto'].index"
      ]
    },
    {
      "cell_type": "code",
      "execution_count": null,
      "metadata": {
        "id": "HY3AHC5xBmvs"
      },
      "outputs": [],
      "source": [
        "df_pesq_class_Misto = df_pesq[['Contribuição dos resultados da pesquisa para o desenvolvimento social e econômico da sociedade',\n",
        "       'Experiência profissional anterior como acadêmico e pesquisador',\n",
        "       'Gosto por desafios, resolução de problemas de pesquisa e curiosidade intelectual',\n",
        "       'Independência e autonomia no desenvolvimento da pesquisa',\n",
        "       'Influência de membros do grupo de pesquisa por meio de troca de experiências',\n",
        "       'Instalações e condições infraestruturais para o desenvolvimento da pesquisa disponíveis na sua instituição',\n",
        "       'Potencial de aplicação dos resultados da pesquisa',\n",
        "       'Proteção e apropriação intelectual dos resultados da pesquisa',\n",
        "       'Satisfação pessoal e realização profissional na realização da pesquisa']]"
      ]
    },
    {
      "cell_type": "code",
      "execution_count": null,
      "metadata": {
        "colab": {
          "base_uri": "https://localhost:8080/"
        },
        "id": "xLPQTFrGiqPT",
        "outputId": "c7f589a0-ddc4-49be-c20b-b202f2655f6f"
      },
      "outputs": [
        {
          "data": {
            "text/plain": [
              "0      4.777778\n",
              "1      4.888889\n",
              "2      4.555556\n",
              "3      4.111111\n",
              "4      4.777778\n",
              "         ...   \n",
              "126    4.000000\n",
              "127    4.000000\n",
              "128    4.111111\n",
              "129    4.888889\n",
              "130    4.666667\n",
              "Length: 131, dtype: float64"
            ]
          },
          "execution_count": 54,
          "metadata": {},
          "output_type": "execute_result"
        }
      ],
      "source": [
        "df_pesq_class_Misto.mean(1) #fazendo media por linha"
      ]
    },
    {
      "cell_type": "code",
      "execution_count": null,
      "metadata": {
        "colab": {
          "base_uri": "https://localhost:8080/"
        },
        "id": "LeoiOpU8veZC",
        "outputId": "859d360f-334b-4336-ada2-71f4b50f9a07"
      },
      "outputs": [
        {
          "data": {
            "text/plain": [
              "Index(['Acesso a meios e insumos, inclusive tecnológicos, para o desenvolvimento de pesquisas',\n",
              "       'Atendimento de indicadores de produção e possibilidades de publicação das pesquisas cujos resultados são patenteáveis',\n",
              "       'Aumento da renda pessoal e/ou benefícios econômicos decorrente da atividade de pesquisa',\n",
              "       'Aumento do prestígio e visibilidade acadêmica com reconhecimento e reputação pelos pares',\n",
              "       'Baixa mobilidade: vinculação e permanência a um local fixo e específico para o desenvolvimento da pesquisa.',\n",
              "       'Colocação profissional e nível de responsabilidade que estimula o desenvolvimento da pesquisa',\n",
              "       'Competição e colaboração entre os pares na formação de redes pessoais e profissionais',\n",
              "       'Contribuição da promoção e/ou progressão na carreira com impacto na remuneração',\n",
              "       'Disponibilidade de materiais, dados e recursos oriundos da indústria para o desenvolvimento das atividades de pesquisa',\n",
              "       'Habilidade para finanças e realização de negócios',\n",
              "       'Influência de colaboradores e parceiros estrangeiros',\n",
              "       'Licenciamento e Comercialização dos resultados da pesquisa',\n",
              "       'Momento profissional da carreira acadêmica ou de pesquisador',\n",
              "       'Obtenção de financiamentos e recursos para a pesquisa',\n",
              "       'Participação em viagens e/ou experiências em outros lugares/culturas como influência para o desenvolvimento de pesquisas',\n",
              "       'Qualificação e competência pessoal para o desenvolvimento da pesquisa',\n",
              "       'Relações e cooperação de mercado com a indústria, inclusive com atração de recursos financeiros'],\n",
              "      dtype='object')"
            ]
          },
          "execution_count": 55,
          "metadata": {},
          "output_type": "execute_result"
        }
      ],
      "source": [
        "df_relacional[df_relacional['Natureza da Motivação'] == 'Externo'].index"
      ]
    },
    {
      "cell_type": "code",
      "execution_count": null,
      "metadata": {
        "colab": {
          "base_uri": "https://localhost:8080/"
        },
        "id": "406f9qK1hFlU",
        "outputId": "857af94f-4452-4c46-d684-a20741a35f9e"
      },
      "outputs": [
        {
          "name": "stdout",
          "output_type": "stream",
          "text": [
            "Media externo, intrinseco, misto\n",
            "3.795 4.412 4.496\n"
          ]
        }
      ],
      "source": [
        "print('Media externo, intrinseco, misto')\n",
        "media_class_externa = round(data_motivacao['media'][0],3)\n",
        "media_class_intrinseca = round(data_motivacao['media'][1],3)\n",
        "media_class_misto = round(data_motivacao['media'][2],3)\n",
        "\n",
        "print(media_class_externa,media_class_intrinseca,media_class_misto)\n"
      ]
    },
    {
      "cell_type": "code",
      "execution_count": null,
      "metadata": {
        "id": "0anQmz0y5syQ"
      },
      "outputs": [],
      "source": [
        "vec_medias_motiv = np.array([data_motivacao['media'][0],data_motivacao['media'][1], data_motivacao['media'][2]])"
      ]
    },
    {
      "cell_type": "code",
      "execution_count": null,
      "metadata": {
        "colab": {
          "base_uri": "https://localhost:8080/"
        },
        "id": "yBR9Azc-fsJ3",
        "outputId": "aba0f8e8-f5b1-4ca4-cf36-8cdd6b2d6d20"
      },
      "outputs": [
        {
          "name": "stdout",
          "output_type": "stream",
          "text": [
            "Media desafio, economico, reputacao\n",
            "4.49618320610687 3.9177268871925355 3.7413061916878707\n"
          ]
        }
      ],
      "source": [
        "print('Media desafio, economico, reputacao')\n",
        "media_class_desafio= data_relacional['media'][0]\n",
        "media_class_economico = data_relacional['media'][1]\n",
        "media_class_reputacao = data_relacional['media'][2]\n",
        "#fazer apenas o print com %f nao com round\n",
        "print(media_class_desafio,media_class_economico,media_class_reputacao)\n"
      ]
    },
    {
      "cell_type": "code",
      "execution_count": null,
      "metadata": {
        "colab": {
          "base_uri": "https://localhost:8080/"
        },
        "id": "vDw8bimBh2eR",
        "outputId": "8f57daf3-5550-475b-a7e8-54f122b0ddb3"
      },
      "outputs": [
        {
          "data": {
            "text/plain": [
              "array([ 2.,  7., 12., 17.])"
            ]
          },
          "execution_count": 59,
          "metadata": {},
          "output_type": "execute_result"
        }
      ],
      "source": [
        "np.arange(20).reshape((4,-1)).mean(1)"
      ]
    },
    {
      "cell_type": "code",
      "execution_count": null,
      "metadata": {
        "colab": {
          "base_uri": "https://localhost:8080/",
          "height": 175
        },
        "id": "x3-Vpx1H2ClS",
        "outputId": "515c0d3f-0930-4c95-de01-ffe611b24fa1"
      },
      "outputs": [
        {
          "data": {
            "text/html": [
              "\n",
              "  <div id=\"df-b6537034-b6eb-4931-b8c2-9382c6f291ee\">\n",
              "    <div class=\"colab-df-container\">\n",
              "      <div>\n",
              "<style scoped>\n",
              "    .dataframe tbody tr th:only-of-type {\n",
              "        vertical-align: middle;\n",
              "    }\n",
              "\n",
              "    .dataframe tbody tr th {\n",
              "        vertical-align: top;\n",
              "    }\n",
              "\n",
              "    .dataframe thead th {\n",
              "        text-align: right;\n",
              "    }\n",
              "</style>\n",
              "<table border=\"1\" class=\"dataframe\">\n",
              "  <thead>\n",
              "    <tr style=\"text-align: right;\">\n",
              "      <th></th>\n",
              "      <th>media</th>\n",
              "      <th>Natureza da Motivação</th>\n",
              "    </tr>\n",
              "    <tr>\n",
              "      <th>Natureza da Motivação</th>\n",
              "      <th></th>\n",
              "      <th></th>\n",
              "    </tr>\n",
              "  </thead>\n",
              "  <tbody>\n",
              "    <tr>\n",
              "      <th>Extrínseca</th>\n",
              "      <td>3.795240</td>\n",
              "      <td>Extrínseca</td>\n",
              "    </tr>\n",
              "    <tr>\n",
              "      <th>Intrínseca</th>\n",
              "      <td>4.412214</td>\n",
              "      <td>Intrínseca</td>\n",
              "    </tr>\n",
              "    <tr>\n",
              "      <th>Misto</th>\n",
              "      <td>4.496183</td>\n",
              "      <td>Misto</td>\n",
              "    </tr>\n",
              "  </tbody>\n",
              "</table>\n",
              "</div>\n",
              "      <button class=\"colab-df-convert\" onclick=\"convertToInteractive('df-b6537034-b6eb-4931-b8c2-9382c6f291ee')\"\n",
              "              title=\"Convert this dataframe to an interactive table.\"\n",
              "              style=\"display:none;\">\n",
              "        \n",
              "  <svg xmlns=\"http://www.w3.org/2000/svg\" height=\"24px\"viewBox=\"0 0 24 24\"\n",
              "       width=\"24px\">\n",
              "    <path d=\"M0 0h24v24H0V0z\" fill=\"none\"/>\n",
              "    <path d=\"M18.56 5.44l.94 2.06.94-2.06 2.06-.94-2.06-.94-.94-2.06-.94 2.06-2.06.94zm-11 1L8.5 8.5l.94-2.06 2.06-.94-2.06-.94L8.5 2.5l-.94 2.06-2.06.94zm10 10l.94 2.06.94-2.06 2.06-.94-2.06-.94-.94-2.06-.94 2.06-2.06.94z\"/><path d=\"M17.41 7.96l-1.37-1.37c-.4-.4-.92-.59-1.43-.59-.52 0-1.04.2-1.43.59L10.3 9.45l-7.72 7.72c-.78.78-.78 2.05 0 2.83L4 21.41c.39.39.9.59 1.41.59.51 0 1.02-.2 1.41-.59l7.78-7.78 2.81-2.81c.8-.78.8-2.07 0-2.86zM5.41 20L4 18.59l7.72-7.72 1.47 1.35L5.41 20z\"/>\n",
              "  </svg>\n",
              "      </button>\n",
              "      \n",
              "  <style>\n",
              "    .colab-df-container {\n",
              "      display:flex;\n",
              "      flex-wrap:wrap;\n",
              "      gap: 12px;\n",
              "    }\n",
              "\n",
              "    .colab-df-convert {\n",
              "      background-color: #E8F0FE;\n",
              "      border: none;\n",
              "      border-radius: 50%;\n",
              "      cursor: pointer;\n",
              "      display: none;\n",
              "      fill: #1967D2;\n",
              "      height: 32px;\n",
              "      padding: 0 0 0 0;\n",
              "      width: 32px;\n",
              "    }\n",
              "\n",
              "    .colab-df-convert:hover {\n",
              "      background-color: #E2EBFA;\n",
              "      box-shadow: 0px 1px 2px rgba(60, 64, 67, 0.3), 0px 1px 3px 1px rgba(60, 64, 67, 0.15);\n",
              "      fill: #174EA6;\n",
              "    }\n",
              "\n",
              "    [theme=dark] .colab-df-convert {\n",
              "      background-color: #3B4455;\n",
              "      fill: #D2E3FC;\n",
              "    }\n",
              "\n",
              "    [theme=dark] .colab-df-convert:hover {\n",
              "      background-color: #434B5C;\n",
              "      box-shadow: 0px 1px 3px 1px rgba(0, 0, 0, 0.15);\n",
              "      filter: drop-shadow(0px 1px 2px rgba(0, 0, 0, 0.3));\n",
              "      fill: #FFFFFF;\n",
              "    }\n",
              "  </style>\n",
              "\n",
              "      <script>\n",
              "        const buttonEl =\n",
              "          document.querySelector('#df-b6537034-b6eb-4931-b8c2-9382c6f291ee button.colab-df-convert');\n",
              "        buttonEl.style.display =\n",
              "          google.colab.kernel.accessAllowed ? 'block' : 'none';\n",
              "\n",
              "        async function convertToInteractive(key) {\n",
              "          const element = document.querySelector('#df-b6537034-b6eb-4931-b8c2-9382c6f291ee');\n",
              "          const dataTable =\n",
              "            await google.colab.kernel.invokeFunction('convertToInteractive',\n",
              "                                                     [key], {});\n",
              "          if (!dataTable) return;\n",
              "\n",
              "          const docLinkHtml = 'Like what you see? Visit the ' +\n",
              "            '<a target=\"_blank\" href=https://colab.research.google.com/notebooks/data_table.ipynb>data table notebook</a>'\n",
              "            + ' to learn more about interactive tables.';\n",
              "          element.innerHTML = '';\n",
              "          dataTable['output_type'] = 'display_data';\n",
              "          await google.colab.output.renderOutput(dataTable, element);\n",
              "          const docLink = document.createElement('div');\n",
              "          docLink.innerHTML = docLinkHtml;\n",
              "          element.appendChild(docLink);\n",
              "        }\n",
              "      </script>\n",
              "    </div>\n",
              "  </div>\n",
              "  "
            ],
            "text/plain": [
              "                          media Natureza da Motivação\n",
              "Natureza da Motivação                                \n",
              "Extrínseca             3.795240            Extrínseca\n",
              "Intrínseca             4.412214            Intrínseca\n",
              "Misto                  4.496183                 Misto"
            ]
          },
          "execution_count": 61,
          "metadata": {},
          "output_type": "execute_result"
        }
      ],
      "source": [
        "data_motivacao"
      ]
    },
    {
      "cell_type": "code",
      "execution_count": null,
      "metadata": {
        "colab": {
          "base_uri": "https://localhost:8080/",
          "height": 175
        },
        "id": "nXfovbn-3Cnp",
        "outputId": "6afc5cce-3695-47c0-8ddb-560a916f86c7"
      },
      "outputs": [
        {
          "data": {
            "text/html": [
              "\n",
              "  <div id=\"df-785ed88b-f7fa-479f-ad15-e9effe046101\">\n",
              "    <div class=\"colab-df-container\">\n",
              "      <div>\n",
              "<style scoped>\n",
              "    .dataframe tbody tr th:only-of-type {\n",
              "        vertical-align: middle;\n",
              "    }\n",
              "\n",
              "    .dataframe tbody tr th {\n",
              "        vertical-align: top;\n",
              "    }\n",
              "\n",
              "    .dataframe thead th {\n",
              "        text-align: right;\n",
              "    }\n",
              "</style>\n",
              "<table border=\"1\" class=\"dataframe\">\n",
              "  <thead>\n",
              "    <tr style=\"text-align: right;\">\n",
              "      <th></th>\n",
              "      <th>media</th>\n",
              "      <th>Resultados Esperados</th>\n",
              "    </tr>\n",
              "    <tr>\n",
              "      <th>Resultados Esperados</th>\n",
              "      <th></th>\n",
              "      <th></th>\n",
              "    </tr>\n",
              "  </thead>\n",
              "  <tbody>\n",
              "    <tr>\n",
              "      <th>Desafio</th>\n",
              "      <td>4.496183</td>\n",
              "      <td>Desafio</td>\n",
              "    </tr>\n",
              "    <tr>\n",
              "      <th>Econômico</th>\n",
              "      <td>3.917727</td>\n",
              "      <td>Econômico</td>\n",
              "    </tr>\n",
              "    <tr>\n",
              "      <th>Reputação</th>\n",
              "      <td>3.741306</td>\n",
              "      <td>Reputação</td>\n",
              "    </tr>\n",
              "  </tbody>\n",
              "</table>\n",
              "</div>\n",
              "      <button class=\"colab-df-convert\" onclick=\"convertToInteractive('df-785ed88b-f7fa-479f-ad15-e9effe046101')\"\n",
              "              title=\"Convert this dataframe to an interactive table.\"\n",
              "              style=\"display:none;\">\n",
              "        \n",
              "  <svg xmlns=\"http://www.w3.org/2000/svg\" height=\"24px\"viewBox=\"0 0 24 24\"\n",
              "       width=\"24px\">\n",
              "    <path d=\"M0 0h24v24H0V0z\" fill=\"none\"/>\n",
              "    <path d=\"M18.56 5.44l.94 2.06.94-2.06 2.06-.94-2.06-.94-.94-2.06-.94 2.06-2.06.94zm-11 1L8.5 8.5l.94-2.06 2.06-.94-2.06-.94L8.5 2.5l-.94 2.06-2.06.94zm10 10l.94 2.06.94-2.06 2.06-.94-2.06-.94-.94-2.06-.94 2.06-2.06.94z\"/><path d=\"M17.41 7.96l-1.37-1.37c-.4-.4-.92-.59-1.43-.59-.52 0-1.04.2-1.43.59L10.3 9.45l-7.72 7.72c-.78.78-.78 2.05 0 2.83L4 21.41c.39.39.9.59 1.41.59.51 0 1.02-.2 1.41-.59l7.78-7.78 2.81-2.81c.8-.78.8-2.07 0-2.86zM5.41 20L4 18.59l7.72-7.72 1.47 1.35L5.41 20z\"/>\n",
              "  </svg>\n",
              "      </button>\n",
              "      \n",
              "  <style>\n",
              "    .colab-df-container {\n",
              "      display:flex;\n",
              "      flex-wrap:wrap;\n",
              "      gap: 12px;\n",
              "    }\n",
              "\n",
              "    .colab-df-convert {\n",
              "      background-color: #E8F0FE;\n",
              "      border: none;\n",
              "      border-radius: 50%;\n",
              "      cursor: pointer;\n",
              "      display: none;\n",
              "      fill: #1967D2;\n",
              "      height: 32px;\n",
              "      padding: 0 0 0 0;\n",
              "      width: 32px;\n",
              "    }\n",
              "\n",
              "    .colab-df-convert:hover {\n",
              "      background-color: #E2EBFA;\n",
              "      box-shadow: 0px 1px 2px rgba(60, 64, 67, 0.3), 0px 1px 3px 1px rgba(60, 64, 67, 0.15);\n",
              "      fill: #174EA6;\n",
              "    }\n",
              "\n",
              "    [theme=dark] .colab-df-convert {\n",
              "      background-color: #3B4455;\n",
              "      fill: #D2E3FC;\n",
              "    }\n",
              "\n",
              "    [theme=dark] .colab-df-convert:hover {\n",
              "      background-color: #434B5C;\n",
              "      box-shadow: 0px 1px 3px 1px rgba(0, 0, 0, 0.15);\n",
              "      filter: drop-shadow(0px 1px 2px rgba(0, 0, 0, 0.3));\n",
              "      fill: #FFFFFF;\n",
              "    }\n",
              "  </style>\n",
              "\n",
              "      <script>\n",
              "        const buttonEl =\n",
              "          document.querySelector('#df-785ed88b-f7fa-479f-ad15-e9effe046101 button.colab-df-convert');\n",
              "        buttonEl.style.display =\n",
              "          google.colab.kernel.accessAllowed ? 'block' : 'none';\n",
              "\n",
              "        async function convertToInteractive(key) {\n",
              "          const element = document.querySelector('#df-785ed88b-f7fa-479f-ad15-e9effe046101');\n",
              "          const dataTable =\n",
              "            await google.colab.kernel.invokeFunction('convertToInteractive',\n",
              "                                                     [key], {});\n",
              "          if (!dataTable) return;\n",
              "\n",
              "          const docLinkHtml = 'Like what you see? Visit the ' +\n",
              "            '<a target=\"_blank\" href=https://colab.research.google.com/notebooks/data_table.ipynb>data table notebook</a>'\n",
              "            + ' to learn more about interactive tables.';\n",
              "          element.innerHTML = '';\n",
              "          dataTable['output_type'] = 'display_data';\n",
              "          await google.colab.output.renderOutput(dataTable, element);\n",
              "          const docLink = document.createElement('div');\n",
              "          docLink.innerHTML = docLinkHtml;\n",
              "          element.appendChild(docLink);\n",
              "        }\n",
              "      </script>\n",
              "    </div>\n",
              "  </div>\n",
              "  "
            ],
            "text/plain": [
              "                         media Resultados Esperados\n",
              "Resultados Esperados                               \n",
              "Desafio               4.496183              Desafio\n",
              "Econômico             3.917727            Econômico\n",
              "Reputação             3.741306            Reputação"
            ]
          },
          "execution_count": 62,
          "metadata": {},
          "output_type": "execute_result"
        }
      ],
      "source": [
        "data_relacional"
      ]
    },
    {
      "cell_type": "code",
      "execution_count": null,
      "metadata": {
        "id": "aQu89M-umwSg"
      },
      "outputs": [],
      "source": [
        "df_pesq['Media_Externo'] = df_pesq[df_relacional[df_relacional['Natureza da Motivação'] == 'Externo'].index].mean(1)\n",
        "df_pesq['Media_Intrínseca'] = df_pesq[df_relacional[df_relacional['Natureza da Motivação'] == 'Intrínseca'].index].mean(1)\n",
        "df_pesq['Media_Misto'] = df_pesq[df_relacional[df_relacional['Natureza da Motivação']== 'Misto'].index].mean(1)\n",
        "############################ Agora para o resultados esperados ##################################\n",
        "df_pesq['Media_Desafio'] = df_pesq[df_relacional[df_relacional['Resultados Esperados']== 'Desafio'].index].mean(1)\n",
        "df_pesq['Media_Econômico'] = df_pesq[df_relacional[df_relacional['Resultados Esperados']== 'Econômico'].index].mean(1)\n",
        "df_pesq['Media_Reputação'] = df_pesq[df_relacional[df_relacional['Resultados Esperados']== 'Reputação'].index].mean(1)\n",
        "\n"
      ]
    },
    {
      "cell_type": "code",
      "execution_count": null,
      "metadata": {
        "id": "uatpnvxVNrLP"
      },
      "outputs": [],
      "source": [
        "df_pesq"
      ]
    },
    {
      "cell_type": "code",
      "execution_count": null,
      "metadata": {
        "colab": {
          "base_uri": "https://localhost:8080/"
        },
        "id": "C9gf07F830xF",
        "outputId": "ae7eb3d6-3614-4125-bdaa-5a2eb79ec0f2"
      },
      "outputs": [
        {
          "data": {
            "text/plain": [
              "(131, 60)"
            ]
          },
          "execution_count": 65,
          "metadata": {},
          "output_type": "execute_result"
        }
      ],
      "source": [
        "df_pesq.shape"
      ]
    },
    {
      "cell_type": "markdown",
      "metadata": {
        "id": "2mdP1Sb5umL6"
      },
      "source": [
        "# Exercício de classificação tendo como alvo as respostas dos pesquisadores(as) a afirmação que melhor descreve a orientação profissional:"
      ]
    },
    {
      "cell_type": "markdown",
      "metadata": {
        "id": "ButbvlJyviOW"
      },
      "source": [
        "# Training a classifier having researcher's answer that best fits its professional profile using Decision Tree Classifier"
      ]
    },
    {
      "cell_type": "code",
      "execution_count": null,
      "metadata": {
        "id": "gnWXi-Iz-9Hq"
      },
      "outputs": [],
      "source": [
        "def plotar_feature_im(model):\n",
        "    n_features = X.shape[1]\n",
        "    plt.barh(np.arange(n_features),model.feature_importances_,align = 'center')\n",
        "    plt.yticks(np.arange(n_features),X)\n",
        "    plt.xlabel(\"Grau de relevância\")\n",
        "    plt.ylabel(\"Colunas\")\n",
        "    plt.ylim(-1,n_features)\n",
        "\n",
        "def plot_tree(my_tree, columns):\n",
        "    export_graphviz(my_tree, out_file = \"my_tree.pdf\", feature_names = columns, filled = True)\n",
        "    with open(\"my_tree.pdf\") as f:\n",
        "        dot_graph = f.read()\n",
        "    return graphviz.Source(dot_graph)\n",
        "    "
      ]
    },
    {
      "cell_type": "code",
      "execution_count": null,
      "metadata": {
        "id": "LTI8a0peumL6"
      },
      "outputs": [],
      "source": [
        "#Nosso alvo vai ser o df_pesq['Identifique qual das seguintes afirmações melhor descreve sua orientação profissional.']\n",
        "y = df_pesq['Identifique qual das seguintes afirmações melhor descreve sua orientação profissional.']\n",
        "\n",
        "X = df_numericos\n",
        "\n",
        "#dtc = DecisionTreeClassifier(criterion='gini', max_depth=3, class_weight=(1/y.value_counts()).to_dict()).fit(X, y)\n",
        "#dtc = DecisionTreeClassifier(criterion='entropy', min_samples_split=20).fit(X, y)\n",
        "#dtc = DecisionTreeClassifier().fit(X, y)"
      ]
    },
    {
      "cell_type": "code",
      "execution_count": null,
      "metadata": {
        "colab": {
          "base_uri": "https://localhost:8080/"
        },
        "id": "PBS381aMWzxY",
        "outputId": "3fdeafc2-e247-452a-8fc5-680b001c2237"
      },
      "outputs": [
        {
          "data": {
            "text/plain": [
              "array([ 2, 12, 22, 32])"
            ]
          },
          "execution_count": 68,
          "metadata": {},
          "output_type": "execute_result"
        }
      ],
      "source": [
        "np.linspace(0,0.4,3)\n",
        "np.arange(2,33,10)"
      ]
    },
    {
      "cell_type": "code",
      "execution_count": null,
      "metadata": {
        "colab": {
          "base_uri": "https://localhost:8080/"
        },
        "id": "Z3feu1rTOigm",
        "outputId": "057567ac-2382-4f4d-ac88-4529ced44678"
      },
      "outputs": [
        {
          "data": {
            "text/plain": [
              "Acredito na importância da colaboração da academia-indústria e busco desenvolver atividades vinculadas a indústria visando ao avanço científico.                                                72\n",
              "Acredito na importância da colaboração da academia-indústria e busco desenvolver atividades vinculadas à indústria visando ao aproveitamento comercial.                                         44\n",
              "Acredito que a universidade e a indústria devem ser distintas, mas busco desenvolver atividades ligadas à indústria principalmente para adquirir recursos  para apoiar a pesquisa acadêmica.    11\n",
              "Acredito que a universidade e a indústria devem ser distintas. Assim, busco atuar e avançar profissionalmente apenas no campo acadêmico.                                                         4\n",
              "Name: Identifique qual das seguintes afirmações melhor descreve sua orientação profissional., dtype: int64"
            ]
          },
          "execution_count": 69,
          "metadata": {},
          "output_type": "execute_result"
        }
      ],
      "source": [
        "y.value_counts()"
      ]
    },
    {
      "cell_type": "code",
      "execution_count": null,
      "metadata": {
        "colab": {
          "base_uri": "https://localhost:8080/"
        },
        "id": "E58LsotbOIIs",
        "outputId": "433723ff-f424-42b1-b1a9-12f14df1dfdf"
      },
      "outputs": [
        {
          "data": {
            "text/plain": [
              "4"
            ]
          },
          "execution_count": 70,
          "metadata": {},
          "output_type": "execute_result"
        }
      ],
      "source": [
        "y.value_counts().min()"
      ]
    },
    {
      "cell_type": "code",
      "execution_count": null,
      "metadata": {
        "colab": {
          "base_uri": "https://localhost:8080/"
        },
        "id": "jMK-EVlGvZKQ",
        "outputId": "4ed60f25-fd3d-49b3-eb46-6cbd6d31bcc6"
      },
      "outputs": [
        {
          "name": "stdout",
          "output_type": "stream",
          "text": [
            "Fitting 800 folds for each of 500 candidates, totalling 400000 fits\n",
            "CPU times: user 10min 29s, sys: 12 s, total: 10min 41s\n",
            "Wall time: 1h 13min 7s\n"
          ]
        }
      ],
      "source": [
        "%%time\n",
        "\n",
        "param_dict = {\n",
        "        \"criterion\":[ 'gini','entropy'],\n",
        "        \"max_depth\":np.arange(1,12,2),\n",
        "        \"min_samples_leaf\":np.arange(1,6,2),\n",
        "        \"min_samples_split\":np.arange(2,8,2),\n",
        "        'min_weight_fraction_leaf': np.linspace(0,0.4,3),\n",
        "        'max_leaf_nodes': np.arange(2,33,10),\n",
        "        'min_impurity_decrease': np.linspace(.1,.3,3),\n",
        "        'ccp_alpha': np.linspace(0,0.2,3),\n",
        "        #'class_weight': [(1/y.value_counts()).to_dict(), None],\n",
        "        \n",
        "}\n",
        "\n",
        "param_dict = {\n",
        "        \"criterion\":[ 'gini','entropy' ],\n",
        "        \"max_depth\":np.arange(1,11),\n",
        "        \"min_samples_leaf\":np.arange(1,6),\n",
        "        \"min_samples_split\":np.arange(2,7),\n",
        "        #'class_weight': [(1/y.value_counts()).to_dict(), None], aqui foi doidera viajei\n",
        "\n",
        "        \n",
        "}\n",
        "\n",
        "scoring_opts = ['accuracy', 'balanced_accuracy', 'f1_micro', 'f1_macro', 'precision_micro', 'recall_micro', 'precision_macro', 'recall_macro']\n",
        "\n",
        "grid = skmodelselect.GridSearchCV(sktree.DecisionTreeClassifier(),\n",
        "                   param_grid = param_dict,\n",
        "                   #cv = skmodelselect.StratifiedShuffleSplit(100, .18),\n",
        "                   #cv = (KFold(len(df_pesq))),\n",
        "                   cv = skmodelselect.RepeatedStratifiedKFold(n_splits = y.value_counts().min(),n_repeats = 200),\n",
        "                   #cv = skmodelselect.LeavePOut(1),\n",
        "                   #scoring='f1_macro',\n",
        "                   scoring=scoring_opts,\n",
        "                   verbose = 1,\n",
        "                   refit=False,\n",
        "                   error_score='raise',\n",
        "                   n_jobs = -1)\n",
        "grid.fit(X,y)\n",
        "\n",
        "df_cv_results = pd.DataFrame(grid.cv_results_)"
      ]
    },
    {
      "cell_type": "code",
      "execution_count": null,
      "metadata": {
        "colab": {
          "base_uri": "https://localhost:8080/",
          "height": 1000
        },
        "id": "byBU2boDy6wE",
        "outputId": "ae19ba18-5f07-490b-aef4-22825a547528"
      },
      "outputs": [
        {
          "data": {
            "text/plain": [
              "['mean_test_accuracy',\n",
              " 'mean_test_balanced_accuracy',\n",
              " 'mean_test_f1_micro',\n",
              " 'mean_test_f1_macro',\n",
              " 'mean_test_precision_micro',\n",
              " 'mean_test_recall_micro',\n",
              " 'mean_test_precision_macro',\n",
              " 'mean_test_recall_macro']"
            ]
          },
          "metadata": {},
          "output_type": "display_data"
        },
        {
          "data": {
            "application/vnd.google.colaboratory.intrinsic+json": {
              "type": "string"
            },
            "text/plain": [
              "'accuracy'"
            ]
          },
          "metadata": {},
          "output_type": "display_data"
        },
        {
          "data": {
            "text/plain": [
              "{'criterion': 'entropy',\n",
              " 'max_depth': 1,\n",
              " 'min_samples_leaf': 5,\n",
              " 'min_samples_split': 2}"
            ]
          },
          "metadata": {},
          "output_type": "display_data"
        },
        {
          "data": {
            "text/plain": [
              "mean_test_accuracy             0.530498\n",
              "mean_test_balanced_accuracy    0.252254\n",
              "mean_test_f1_micro             0.530498\n",
              "mean_test_f1_macro             0.194537\n",
              "mean_test_precision_micro      0.530498\n",
              "mean_test_recall_micro         0.530498\n",
              "mean_test_precision_macro      0.163294\n",
              "mean_test_recall_macro         0.252254\n",
              "Name: 270, dtype: object"
            ]
          },
          "metadata": {},
          "output_type": "display_data"
        },
        {
          "data": {
            "image/svg+xml": "<?xml version=\"1.0\" encoding=\"UTF-8\" standalone=\"no\"?>\n<!DOCTYPE svg PUBLIC \"-//W3C//DTD SVG 1.1//EN\"\n \"http://www.w3.org/Graphics/SVG/1.1/DTD/svg11.dtd\">\n<!-- Generated by graphviz version 2.40.1 (20161225.0304)\n -->\n<!-- Title: Tree Pages: 1 -->\n<svg width=\"709pt\" height=\"165pt\"\n viewBox=\"0.00 0.00 709.00 165.00\" xmlns=\"http://www.w3.org/2000/svg\" xmlns:xlink=\"http://www.w3.org/1999/xlink\">\n<g id=\"graph0\" class=\"graph\" transform=\"scale(1 1) rotate(0) translate(4 161)\">\n<title>Tree</title>\n<polygon fill=\"#ffffff\" stroke=\"transparent\" points=\"-4,4 -4,-161 705,-161 705,4 -4,4\"/>\n<!-- 0 -->\n<g id=\"node1\" class=\"node\">\n<title>0</title>\n<polygon fill=\"#f7d6bf\" stroke=\"#000000\" points=\"701,-157 0,-157 0,-89 701,-89 701,-157\"/>\n<text text-anchor=\"middle\" x=\"350.5\" y=\"-141.8\" font-family=\"Helvetica,sans-Serif\" font-size=\"14.00\" fill=\"#000000\">Relações e cooperação de mercado com a indústria, inclusive com atração de recursos financeiros &lt;= 3.5</text>\n<text text-anchor=\"middle\" x=\"350.5\" y=\"-126.8\" font-family=\"Helvetica,sans-Serif\" font-size=\"14.00\" fill=\"#000000\">entropy = 1.457</text>\n<text text-anchor=\"middle\" x=\"350.5\" y=\"-111.8\" font-family=\"Helvetica,sans-Serif\" font-size=\"14.00\" fill=\"#000000\">samples = 131</text>\n<text text-anchor=\"middle\" x=\"350.5\" y=\"-96.8\" font-family=\"Helvetica,sans-Serif\" font-size=\"14.00\" fill=\"#000000\">value = [72, 44, 11, 4]</text>\n</g>\n<!-- 1 -->\n<g id=\"node2\" class=\"node\">\n<title>1</title>\n<polygon fill=\"#eda978\" stroke=\"#000000\" points=\"338,-53 199,-53 199,0 338,0 338,-53\"/>\n<text text-anchor=\"middle\" x=\"268.5\" y=\"-37.8\" font-family=\"Helvetica,sans-Serif\" font-size=\"14.00\" fill=\"#000000\">entropy = 1.243</text>\n<text text-anchor=\"middle\" x=\"268.5\" y=\"-22.8\" font-family=\"Helvetica,sans-Serif\" font-size=\"14.00\" fill=\"#000000\">samples = 22</text>\n<text text-anchor=\"middle\" x=\"268.5\" y=\"-7.8\" font-family=\"Helvetica,sans-Serif\" font-size=\"14.00\" fill=\"#000000\">value = [16, 2, 1, 3]</text>\n</g>\n<!-- 0&#45;&gt;1 -->\n<g id=\"edge1\" class=\"edge\">\n<title>0&#45;&gt;1</title>\n<path fill=\"none\" stroke=\"#000000\" d=\"M321.5899,-88.9777C313.8866,-79.9123 305.5581,-70.111 297.8324,-61.0192\"/>\n<polygon fill=\"#000000\" stroke=\"#000000\" points=\"300.3718,-58.6025 291.2293,-53.2485 295.0375,-63.1352 300.3718,-58.6025\"/>\n<text text-anchor=\"middle\" x=\"289.2051\" y=\"-74.4664\" font-family=\"Helvetica,sans-Serif\" font-size=\"14.00\" fill=\"#000000\">True</text>\n</g>\n<!-- 2 -->\n<g id=\"node3\" class=\"node\">\n<title>2</title>\n<polygon fill=\"#fae5d6\" stroke=\"#000000\" points=\"511,-53 356,-53 356,0 511,0 511,-53\"/>\n<text text-anchor=\"middle\" x=\"433.5\" y=\"-37.8\" font-family=\"Helvetica,sans-Serif\" font-size=\"14.00\" fill=\"#000000\">entropy = 1.402</text>\n<text text-anchor=\"middle\" x=\"433.5\" y=\"-22.8\" font-family=\"Helvetica,sans-Serif\" font-size=\"14.00\" fill=\"#000000\">samples = 109</text>\n<text text-anchor=\"middle\" x=\"433.5\" y=\"-7.8\" font-family=\"Helvetica,sans-Serif\" font-size=\"14.00\" fill=\"#000000\">value = [56, 42, 10, 1]</text>\n</g>\n<!-- 0&#45;&gt;2 -->\n<g id=\"edge2\" class=\"edge\">\n<title>0&#45;&gt;2</title>\n<path fill=\"none\" stroke=\"#000000\" d=\"M379.7627,-88.9777C387.5599,-79.9123 395.99,-70.111 403.8099,-61.0192\"/>\n<polygon fill=\"#000000\" stroke=\"#000000\" points=\"406.6262,-63.1123 410.4935,-53.2485 401.3191,-58.5477 406.6262,-63.1123\"/>\n<text text-anchor=\"middle\" x=\"412.3685\" y=\"-74.4781\" font-family=\"Helvetica,sans-Serif\" font-size=\"14.00\" fill=\"#000000\">False</text>\n</g>\n</g>\n</svg>\n",
            "text/plain": [
              "<graphviz.files.Source at 0x7f29625c75d0>"
            ]
          },
          "metadata": {},
          "output_type": "display_data"
        },
        {
          "data": {
            "text/plain": [
              "['mean_test_accuracy',\n",
              " 'mean_test_balanced_accuracy',\n",
              " 'mean_test_f1_micro',\n",
              " 'mean_test_f1_macro',\n",
              " 'mean_test_precision_micro',\n",
              " 'mean_test_recall_micro',\n",
              " 'mean_test_precision_macro',\n",
              " 'mean_test_recall_macro']"
            ]
          },
          "metadata": {},
          "output_type": "display_data"
        },
        {
          "data": {
            "application/vnd.google.colaboratory.intrinsic+json": {
              "type": "string"
            },
            "text/plain": [
              "'balanced_accuracy'"
            ]
          },
          "metadata": {},
          "output_type": "display_data"
        },
        {
          "data": {
            "text/plain": [
              "{'criterion': 'gini',\n",
              " 'max_depth': 1,\n",
              " 'min_samples_leaf': 5,\n",
              " 'min_samples_split': 2}"
            ]
          },
          "metadata": {},
          "output_type": "display_data"
        },
        {
          "data": {
            "text/plain": [
              "mean_test_accuracy             0.522756\n",
              "mean_test_balanced_accuracy    0.259276\n",
              "mean_test_f1_micro             0.522756\n",
              "mean_test_f1_macro             0.220076\n",
              "mean_test_precision_micro      0.522756\n",
              "mean_test_recall_micro         0.522756\n",
              "mean_test_precision_macro      0.206444\n",
              "mean_test_recall_macro         0.259276\n",
              "Name: 20, dtype: object"
            ]
          },
          "metadata": {},
          "output_type": "display_data"
        },
        {
          "data": {
            "image/svg+xml": "<?xml version=\"1.0\" encoding=\"UTF-8\" standalone=\"no\"?>\n<!DOCTYPE svg PUBLIC \"-//W3C//DTD SVG 1.1//EN\"\n \"http://www.w3.org/Graphics/SVG/1.1/DTD/svg11.dtd\">\n<!-- Generated by graphviz version 2.40.1 (20161225.0304)\n -->\n<!-- Title: Tree Pages: 1 -->\n<svg width=\"668pt\" height=\"165pt\"\n viewBox=\"0.00 0.00 668.00 165.00\" xmlns=\"http://www.w3.org/2000/svg\" xmlns:xlink=\"http://www.w3.org/1999/xlink\">\n<g id=\"graph0\" class=\"graph\" transform=\"scale(1 1) rotate(0) translate(4 161)\">\n<title>Tree</title>\n<polygon fill=\"#ffffff\" stroke=\"transparent\" points=\"-4,4 -4,-161 664,-161 664,4 -4,4\"/>\n<!-- 0 -->\n<g id=\"node1\" class=\"node\">\n<title>0</title>\n<polygon fill=\"#f7d6bf\" stroke=\"#000000\" points=\"660,-157 0,-157 0,-89 660,-89 660,-157\"/>\n<text text-anchor=\"middle\" x=\"330\" y=\"-141.8\" font-family=\"Helvetica,sans-Serif\" font-size=\"14.00\" fill=\"#000000\">Aumento da renda pessoal e/ou benefícios econômicos decorrente da atividade de pesquisa &lt;= 4.5</text>\n<text text-anchor=\"middle\" x=\"330\" y=\"-126.8\" font-family=\"Helvetica,sans-Serif\" font-size=\"14.00\" fill=\"#000000\">gini = 0.577</text>\n<text text-anchor=\"middle\" x=\"330\" y=\"-111.8\" font-family=\"Helvetica,sans-Serif\" font-size=\"14.00\" fill=\"#000000\">samples = 131</text>\n<text text-anchor=\"middle\" x=\"330\" y=\"-96.8\" font-family=\"Helvetica,sans-Serif\" font-size=\"14.00\" fill=\"#000000\">value = [72, 44, 11, 4]</text>\n</g>\n<!-- 1 -->\n<g id=\"node2\" class=\"node\">\n<title>1</title>\n<polygon fill=\"#f3c6a5\" stroke=\"#000000\" points=\"323.5,-53 176.5,-53 176.5,0 323.5,0 323.5,-53\"/>\n<text text-anchor=\"middle\" x=\"250\" y=\"-37.8\" font-family=\"Helvetica,sans-Serif\" font-size=\"14.00\" fill=\"#000000\">gini = 0.552</text>\n<text text-anchor=\"middle\" x=\"250\" y=\"-22.8\" font-family=\"Helvetica,sans-Serif\" font-size=\"14.00\" fill=\"#000000\">samples = 106</text>\n<text text-anchor=\"middle\" x=\"250\" y=\"-7.8\" font-family=\"Helvetica,sans-Serif\" font-size=\"14.00\" fill=\"#000000\">value = [64, 29, 9, 4]</text>\n</g>\n<!-- 0&#45;&gt;1 -->\n<g id=\"edge1\" class=\"edge\">\n<title>0&#45;&gt;1</title>\n<path fill=\"none\" stroke=\"#000000\" d=\"M301.795,-88.9777C294.2796,-79.9123 286.1542,-70.111 278.617,-61.0192\"/>\n<polygon fill=\"#000000\" stroke=\"#000000\" points=\"281.2516,-58.7133 272.1749,-53.2485 275.8626,-63.1808 281.2516,-58.7133\"/>\n<text text-anchor=\"middle\" x=\"269.8479\" y=\"-74.4399\" font-family=\"Helvetica,sans-Serif\" font-size=\"14.00\" fill=\"#000000\">True</text>\n</g>\n<!-- 2 -->\n<g id=\"node3\" class=\"node\">\n<title>2</title>\n<polygon fill=\"#b3f4ad\" stroke=\"#000000\" points=\"480.5,-53 341.5,-53 341.5,0 480.5,0 480.5,-53\"/>\n<text text-anchor=\"middle\" x=\"411\" y=\"-37.8\" font-family=\"Helvetica,sans-Serif\" font-size=\"14.00\" fill=\"#000000\">gini = 0.531</text>\n<text text-anchor=\"middle\" x=\"411\" y=\"-22.8\" font-family=\"Helvetica,sans-Serif\" font-size=\"14.00\" fill=\"#000000\">samples = 25</text>\n<text text-anchor=\"middle\" x=\"411\" y=\"-7.8\" font-family=\"Helvetica,sans-Serif\" font-size=\"14.00\" fill=\"#000000\">value = [8, 15, 2, 0]</text>\n</g>\n<!-- 0&#45;&gt;2 -->\n<g id=\"edge2\" class=\"edge\">\n<title>0&#45;&gt;2</title>\n<path fill=\"none\" stroke=\"#000000\" d=\"M358.5576,-88.9777C366.1669,-79.9123 374.3939,-70.111 382.0253,-61.0192\"/>\n<polygon fill=\"#000000\" stroke=\"#000000\" points=\"384.7995,-63.1581 388.5479,-53.2485 379.438,-58.6577 384.7995,-63.1581\"/>\n<text text-anchor=\"middle\" x=\"390.7227\" y=\"-74.4537\" font-family=\"Helvetica,sans-Serif\" font-size=\"14.00\" fill=\"#000000\">False</text>\n</g>\n</g>\n</svg>\n",
            "text/plain": [
              "<graphviz.files.Source at 0x7f29626641d0>"
            ]
          },
          "metadata": {},
          "output_type": "display_data"
        },
        {
          "data": {
            "text/plain": [
              "['mean_test_accuracy',\n",
              " 'mean_test_balanced_accuracy',\n",
              " 'mean_test_f1_micro',\n",
              " 'mean_test_f1_macro',\n",
              " 'mean_test_precision_micro',\n",
              " 'mean_test_recall_micro',\n",
              " 'mean_test_precision_macro',\n",
              " 'mean_test_recall_macro']"
            ]
          },
          "metadata": {},
          "output_type": "display_data"
        },
        {
          "data": {
            "application/vnd.google.colaboratory.intrinsic+json": {
              "type": "string"
            },
            "text/plain": [
              "'f1_micro'"
            ]
          },
          "metadata": {},
          "output_type": "display_data"
        },
        {
          "data": {
            "text/plain": [
              "{'criterion': 'entropy',\n",
              " 'max_depth': 1,\n",
              " 'min_samples_leaf': 5,\n",
              " 'min_samples_split': 2}"
            ]
          },
          "metadata": {},
          "output_type": "display_data"
        },
        {
          "data": {
            "text/plain": [
              "mean_test_accuracy             0.530498\n",
              "mean_test_balanced_accuracy    0.252254\n",
              "mean_test_f1_micro             0.530498\n",
              "mean_test_f1_macro             0.194537\n",
              "mean_test_precision_micro      0.530498\n",
              "mean_test_recall_micro         0.530498\n",
              "mean_test_precision_macro      0.163294\n",
              "mean_test_recall_macro         0.252254\n",
              "Name: 270, dtype: object"
            ]
          },
          "metadata": {},
          "output_type": "display_data"
        },
        {
          "data": {
            "image/svg+xml": "<?xml version=\"1.0\" encoding=\"UTF-8\" standalone=\"no\"?>\n<!DOCTYPE svg PUBLIC \"-//W3C//DTD SVG 1.1//EN\"\n \"http://www.w3.org/Graphics/SVG/1.1/DTD/svg11.dtd\">\n<!-- Generated by graphviz version 2.40.1 (20161225.0304)\n -->\n<!-- Title: Tree Pages: 1 -->\n<svg width=\"709pt\" height=\"165pt\"\n viewBox=\"0.00 0.00 709.00 165.00\" xmlns=\"http://www.w3.org/2000/svg\" xmlns:xlink=\"http://www.w3.org/1999/xlink\">\n<g id=\"graph0\" class=\"graph\" transform=\"scale(1 1) rotate(0) translate(4 161)\">\n<title>Tree</title>\n<polygon fill=\"#ffffff\" stroke=\"transparent\" points=\"-4,4 -4,-161 705,-161 705,4 -4,4\"/>\n<!-- 0 -->\n<g id=\"node1\" class=\"node\">\n<title>0</title>\n<polygon fill=\"#f7d6bf\" stroke=\"#000000\" points=\"701,-157 0,-157 0,-89 701,-89 701,-157\"/>\n<text text-anchor=\"middle\" x=\"350.5\" y=\"-141.8\" font-family=\"Helvetica,sans-Serif\" font-size=\"14.00\" fill=\"#000000\">Relações e cooperação de mercado com a indústria, inclusive com atração de recursos financeiros &lt;= 3.5</text>\n<text text-anchor=\"middle\" x=\"350.5\" y=\"-126.8\" font-family=\"Helvetica,sans-Serif\" font-size=\"14.00\" fill=\"#000000\">entropy = 1.457</text>\n<text text-anchor=\"middle\" x=\"350.5\" y=\"-111.8\" font-family=\"Helvetica,sans-Serif\" font-size=\"14.00\" fill=\"#000000\">samples = 131</text>\n<text text-anchor=\"middle\" x=\"350.5\" y=\"-96.8\" font-family=\"Helvetica,sans-Serif\" font-size=\"14.00\" fill=\"#000000\">value = [72, 44, 11, 4]</text>\n</g>\n<!-- 1 -->\n<g id=\"node2\" class=\"node\">\n<title>1</title>\n<polygon fill=\"#eda978\" stroke=\"#000000\" points=\"338,-53 199,-53 199,0 338,0 338,-53\"/>\n<text text-anchor=\"middle\" x=\"268.5\" y=\"-37.8\" font-family=\"Helvetica,sans-Serif\" font-size=\"14.00\" fill=\"#000000\">entropy = 1.243</text>\n<text text-anchor=\"middle\" x=\"268.5\" y=\"-22.8\" font-family=\"Helvetica,sans-Serif\" font-size=\"14.00\" fill=\"#000000\">samples = 22</text>\n<text text-anchor=\"middle\" x=\"268.5\" y=\"-7.8\" font-family=\"Helvetica,sans-Serif\" font-size=\"14.00\" fill=\"#000000\">value = [16, 2, 1, 3]</text>\n</g>\n<!-- 0&#45;&gt;1 -->\n<g id=\"edge1\" class=\"edge\">\n<title>0&#45;&gt;1</title>\n<path fill=\"none\" stroke=\"#000000\" d=\"M321.5899,-88.9777C313.8866,-79.9123 305.5581,-70.111 297.8324,-61.0192\"/>\n<polygon fill=\"#000000\" stroke=\"#000000\" points=\"300.3718,-58.6025 291.2293,-53.2485 295.0375,-63.1352 300.3718,-58.6025\"/>\n<text text-anchor=\"middle\" x=\"289.2051\" y=\"-74.4664\" font-family=\"Helvetica,sans-Serif\" font-size=\"14.00\" fill=\"#000000\">True</text>\n</g>\n<!-- 2 -->\n<g id=\"node3\" class=\"node\">\n<title>2</title>\n<polygon fill=\"#fae5d6\" stroke=\"#000000\" points=\"511,-53 356,-53 356,0 511,0 511,-53\"/>\n<text text-anchor=\"middle\" x=\"433.5\" y=\"-37.8\" font-family=\"Helvetica,sans-Serif\" font-size=\"14.00\" fill=\"#000000\">entropy = 1.402</text>\n<text text-anchor=\"middle\" x=\"433.5\" y=\"-22.8\" font-family=\"Helvetica,sans-Serif\" font-size=\"14.00\" fill=\"#000000\">samples = 109</text>\n<text text-anchor=\"middle\" x=\"433.5\" y=\"-7.8\" font-family=\"Helvetica,sans-Serif\" font-size=\"14.00\" fill=\"#000000\">value = [56, 42, 10, 1]</text>\n</g>\n<!-- 0&#45;&gt;2 -->\n<g id=\"edge2\" class=\"edge\">\n<title>0&#45;&gt;2</title>\n<path fill=\"none\" stroke=\"#000000\" d=\"M379.7627,-88.9777C387.5599,-79.9123 395.99,-70.111 403.8099,-61.0192\"/>\n<polygon fill=\"#000000\" stroke=\"#000000\" points=\"406.6262,-63.1123 410.4935,-53.2485 401.3191,-58.5477 406.6262,-63.1123\"/>\n<text text-anchor=\"middle\" x=\"412.3685\" y=\"-74.4781\" font-family=\"Helvetica,sans-Serif\" font-size=\"14.00\" fill=\"#000000\">False</text>\n</g>\n</g>\n</svg>\n",
            "text/plain": [
              "<graphviz.files.Source at 0x7f2962673f10>"
            ]
          },
          "metadata": {},
          "output_type": "display_data"
        },
        {
          "data": {
            "text/plain": [
              "['mean_test_accuracy',\n",
              " 'mean_test_balanced_accuracy',\n",
              " 'mean_test_f1_micro',\n",
              " 'mean_test_f1_macro',\n",
              " 'mean_test_precision_micro',\n",
              " 'mean_test_recall_micro',\n",
              " 'mean_test_precision_macro',\n",
              " 'mean_test_recall_macro']"
            ]
          },
          "metadata": {},
          "output_type": "display_data"
        },
        {
          "data": {
            "application/vnd.google.colaboratory.intrinsic+json": {
              "type": "string"
            },
            "text/plain": [
              "'f1_macro'"
            ]
          },
          "metadata": {},
          "output_type": "display_data"
        },
        {
          "data": {
            "text/plain": [
              "{'criterion': 'entropy',\n",
              " 'max_depth': 10,\n",
              " 'min_samples_leaf': 4,\n",
              " 'min_samples_split': 5}"
            ]
          },
          "metadata": {},
          "output_type": "display_data"
        },
        {
          "data": {
            "text/plain": [
              "mean_test_accuracy             0.461352\n",
              "mean_test_balanced_accuracy    0.259083\n",
              "mean_test_f1_micro             0.461352\n",
              "mean_test_f1_macro             0.248804\n",
              "mean_test_precision_micro      0.461352\n",
              "mean_test_recall_micro         0.461352\n",
              "mean_test_precision_macro      0.251721\n",
              "mean_test_recall_macro         0.259083\n",
              "Name: 493, dtype: object"
            ]
          },
          "metadata": {},
          "output_type": "display_data"
        },
        {
          "data": {
            "image/svg+xml": "<?xml version=\"1.0\" encoding=\"UTF-8\" standalone=\"no\"?>\n<!DOCTYPE svg PUBLIC \"-//W3C//DTD SVG 1.1//EN\"\n \"http://www.w3.org/Graphics/SVG/1.1/DTD/svg11.dtd\">\n<!-- Generated by graphviz version 2.40.1 (20161225.0304)\n -->\n<!-- Title: Tree Pages: 1 -->\n<svg width=\"6090pt\" height=\"789pt\"\n viewBox=\"0.00 0.00 6090.00 789.00\" xmlns=\"http://www.w3.org/2000/svg\" xmlns:xlink=\"http://www.w3.org/1999/xlink\">\n<g id=\"graph0\" class=\"graph\" transform=\"scale(1 1) rotate(0) translate(4 785)\">\n<title>Tree</title>\n<polygon fill=\"#ffffff\" stroke=\"transparent\" points=\"-4,4 -4,-785 6086,-785 6086,4 -4,4\"/>\n<!-- 0 -->\n<g id=\"node1\" class=\"node\">\n<title>0</title>\n<polygon fill=\"#f7d6bf\" stroke=\"#000000\" points=\"1801,-781 1100,-781 1100,-713 1801,-713 1801,-781\"/>\n<text text-anchor=\"middle\" x=\"1450.5\" y=\"-765.8\" font-family=\"Helvetica,sans-Serif\" font-size=\"14.00\" fill=\"#000000\">Relações e cooperação de mercado com a indústria, inclusive com atração de recursos financeiros &lt;= 3.5</text>\n<text text-anchor=\"middle\" x=\"1450.5\" y=\"-750.8\" font-family=\"Helvetica,sans-Serif\" font-size=\"14.00\" fill=\"#000000\">entropy = 1.457</text>\n<text text-anchor=\"middle\" x=\"1450.5\" y=\"-735.8\" font-family=\"Helvetica,sans-Serif\" font-size=\"14.00\" fill=\"#000000\">samples = 131</text>\n<text text-anchor=\"middle\" x=\"1450.5\" y=\"-720.8\" font-family=\"Helvetica,sans-Serif\" font-size=\"14.00\" fill=\"#000000\">value = [72, 44, 11, 4]</text>\n</g>\n<!-- 1 -->\n<g id=\"node2\" class=\"node\">\n<title>1</title>\n<polygon fill=\"#eda978\" stroke=\"#000000\" points=\"1434.5,-677 774.5,-677 774.5,-609 1434.5,-609 1434.5,-677\"/>\n<text text-anchor=\"middle\" x=\"1104.5\" y=\"-661.8\" font-family=\"Helvetica,sans-Serif\" font-size=\"14.00\" fill=\"#000000\">Aumento da renda pessoal e/ou benefícios econômicos decorrente da atividade de pesquisa &lt;= 3.5</text>\n<text text-anchor=\"middle\" x=\"1104.5\" y=\"-646.8\" font-family=\"Helvetica,sans-Serif\" font-size=\"14.00\" fill=\"#000000\">entropy = 1.243</text>\n<text text-anchor=\"middle\" x=\"1104.5\" y=\"-631.8\" font-family=\"Helvetica,sans-Serif\" font-size=\"14.00\" fill=\"#000000\">samples = 22</text>\n<text text-anchor=\"middle\" x=\"1104.5\" y=\"-616.8\" font-family=\"Helvetica,sans-Serif\" font-size=\"14.00\" fill=\"#000000\">value = [16, 2, 1, 3]</text>\n</g>\n<!-- 0&#45;&gt;1 -->\n<g id=\"edge1\" class=\"edge\">\n<title>0&#45;&gt;1</title>\n<path fill=\"none\" stroke=\"#000000\" d=\"M1337.2067,-712.9465C1302.1676,-702.4145 1263.4041,-690.7631 1227.7273,-680.0394\"/>\n<polygon fill=\"#000000\" stroke=\"#000000\" points=\"1228.3364,-676.5679 1217.7522,-677.0411 1226.3214,-683.2716 1228.3364,-676.5679\"/>\n<text text-anchor=\"middle\" x=\"1229.593\" y=\"-695.3592\" font-family=\"Helvetica,sans-Serif\" font-size=\"14.00\" fill=\"#000000\">True</text>\n</g>\n<!-- 8 -->\n<g id=\"node9\" class=\"node\">\n<title>8</title>\n<polygon fill=\"#fae5d6\" stroke=\"#000000\" points=\"2116.5,-677 1456.5,-677 1456.5,-609 2116.5,-609 2116.5,-677\"/>\n<text text-anchor=\"middle\" x=\"1786.5\" y=\"-661.8\" font-family=\"Helvetica,sans-Serif\" font-size=\"14.00\" fill=\"#000000\">Aumento da renda pessoal e/ou benefícios econômicos decorrente da atividade de pesquisa &lt;= 2.5</text>\n<text text-anchor=\"middle\" x=\"1786.5\" y=\"-646.8\" font-family=\"Helvetica,sans-Serif\" font-size=\"14.00\" fill=\"#000000\">entropy = 1.402</text>\n<text text-anchor=\"middle\" x=\"1786.5\" y=\"-631.8\" font-family=\"Helvetica,sans-Serif\" font-size=\"14.00\" fill=\"#000000\">samples = 109</text>\n<text text-anchor=\"middle\" x=\"1786.5\" y=\"-616.8\" font-family=\"Helvetica,sans-Serif\" font-size=\"14.00\" fill=\"#000000\">value = [56, 42, 10, 1]</text>\n</g>\n<!-- 0&#45;&gt;8 -->\n<g id=\"edge8\" class=\"edge\">\n<title>0&#45;&gt;8</title>\n<path fill=\"none\" stroke=\"#000000\" d=\"M1560.519,-712.9465C1594.5453,-702.4145 1632.1885,-690.7631 1666.8342,-680.0394\"/>\n<polygon fill=\"#000000\" stroke=\"#000000\" points=\"1668.0031,-683.3415 1676.521,-677.0411 1665.9332,-676.6545 1668.0031,-683.3415\"/>\n<text text-anchor=\"middle\" x=\"1664.8608\" y=\"-695.4553\" font-family=\"Helvetica,sans-Serif\" font-size=\"14.00\" fill=\"#000000\">False</text>\n</g>\n<!-- 2 -->\n<g id=\"node3\" class=\"node\">\n<title>2</title>\n<polygon fill=\"#eca36e\" stroke=\"#000000\" points=\"1017.5,-573 149.5,-573 149.5,-505 1017.5,-505 1017.5,-573\"/>\n<text text-anchor=\"middle\" x=\"583.5\" y=\"-557.8\" font-family=\"Helvetica,sans-Serif\" font-size=\"14.00\" fill=\"#000000\">Participação em viagens e/ou experiências em outros lugares/culturas como influência para o desenvolvimento de pesquisas &lt;= 2.5</text>\n<text text-anchor=\"middle\" x=\"583.5\" y=\"-542.8\" font-family=\"Helvetica,sans-Serif\" font-size=\"14.00\" fill=\"#000000\">entropy = 0.944</text>\n<text text-anchor=\"middle\" x=\"583.5\" y=\"-527.8\" font-family=\"Helvetica,sans-Serif\" font-size=\"14.00\" fill=\"#000000\">samples = 18</text>\n<text text-anchor=\"middle\" x=\"583.5\" y=\"-512.8\" font-family=\"Helvetica,sans-Serif\" font-size=\"14.00\" fill=\"#000000\">value = [14, 0, 1, 3]</text>\n</g>\n<!-- 1&#45;&gt;2 -->\n<g id=\"edge2\" class=\"edge\">\n<title>1&#45;&gt;2</title>\n<path fill=\"none\" stroke=\"#000000\" d=\"M933.9051,-608.9465C879.453,-598.077 819.0272,-586.015 763.9024,-575.0112\"/>\n<polygon fill=\"#000000\" stroke=\"#000000\" points=\"764.5246,-571.5665 754.0329,-573.0411 763.1543,-578.431 764.5246,-571.5665\"/>\n</g>\n<!-- 7 -->\n<g id=\"node8\" class=\"node\">\n<title>7</title>\n<polygon fill=\"#ffffff\" stroke=\"#000000\" points=\"1170,-565.5 1039,-565.5 1039,-512.5 1170,-512.5 1170,-565.5\"/>\n<text text-anchor=\"middle\" x=\"1104.5\" y=\"-550.3\" font-family=\"Helvetica,sans-Serif\" font-size=\"14.00\" fill=\"#000000\">entropy = 1.0</text>\n<text text-anchor=\"middle\" x=\"1104.5\" y=\"-535.3\" font-family=\"Helvetica,sans-Serif\" font-size=\"14.00\" fill=\"#000000\">samples = 4</text>\n<text text-anchor=\"middle\" x=\"1104.5\" y=\"-520.3\" font-family=\"Helvetica,sans-Serif\" font-size=\"14.00\" fill=\"#000000\">value = [2, 2, 0, 0]</text>\n</g>\n<!-- 1&#45;&gt;7 -->\n<g id=\"edge7\" class=\"edge\">\n<title>1&#45;&gt;7</title>\n<path fill=\"none\" stroke=\"#000000\" d=\"M1104.5,-608.9465C1104.5,-598.2621 1104.5,-586.4254 1104.5,-575.5742\"/>\n<polygon fill=\"#000000\" stroke=\"#000000\" points=\"1108.0001,-575.5421 1104.5,-565.5422 1101.0001,-575.5422 1108.0001,-575.5421\"/>\n</g>\n<!-- 3 -->\n<g id=\"node4\" class=\"node\">\n<title>3</title>\n<polygon fill=\"#e58139\" stroke=\"#000000\" points=\"131,-461.5 0,-461.5 0,-408.5 131,-408.5 131,-461.5\"/>\n<text text-anchor=\"middle\" x=\"65.5\" y=\"-446.3\" font-family=\"Helvetica,sans-Serif\" font-size=\"14.00\" fill=\"#000000\">entropy = 0.0</text>\n<text text-anchor=\"middle\" x=\"65.5\" y=\"-431.3\" font-family=\"Helvetica,sans-Serif\" font-size=\"14.00\" fill=\"#000000\">samples = 7</text>\n<text text-anchor=\"middle\" x=\"65.5\" y=\"-416.3\" font-family=\"Helvetica,sans-Serif\" font-size=\"14.00\" fill=\"#000000\">value = [7, 0, 0, 0]</text>\n</g>\n<!-- 2&#45;&gt;3 -->\n<g id=\"edge3\" class=\"edge\">\n<title>2&#45;&gt;3</title>\n<path fill=\"none\" stroke=\"#000000\" d=\"M295.2969,-504.9917C243.2184,-495.596 189.8204,-483.7807 140.5,-469 136.7554,-467.8778 132.9551,-466.6074 129.1536,-465.2333\"/>\n<polygon fill=\"#000000\" stroke=\"#000000\" points=\"130.3237,-461.9336 119.7332,-461.6294 127.8225,-468.4715 130.3237,-461.9336\"/>\n</g>\n<!-- 4 -->\n<g id=\"node5\" class=\"node\">\n<title>4</title>\n<polygon fill=\"#f2c09c\" stroke=\"#000000\" points=\"1017.5,-469 149.5,-469 149.5,-401 1017.5,-401 1017.5,-469\"/>\n<text text-anchor=\"middle\" x=\"583.5\" y=\"-453.8\" font-family=\"Helvetica,sans-Serif\" font-size=\"14.00\" fill=\"#000000\">Participação em viagens e/ou experiências em outros lugares/culturas como influência para o desenvolvimento de pesquisas &lt;= 4.5</text>\n<text text-anchor=\"middle\" x=\"583.5\" y=\"-438.8\" font-family=\"Helvetica,sans-Serif\" font-size=\"14.00\" fill=\"#000000\">entropy = 1.241</text>\n<text text-anchor=\"middle\" x=\"583.5\" y=\"-423.8\" font-family=\"Helvetica,sans-Serif\" font-size=\"14.00\" fill=\"#000000\">samples = 11</text>\n<text text-anchor=\"middle\" x=\"583.5\" y=\"-408.8\" font-family=\"Helvetica,sans-Serif\" font-size=\"14.00\" fill=\"#000000\">value = [7, 0, 1, 3]</text>\n</g>\n<!-- 2&#45;&gt;4 -->\n<g id=\"edge4\" class=\"edge\">\n<title>2&#45;&gt;4</title>\n<path fill=\"none\" stroke=\"#000000\" d=\"M583.5,-504.9465C583.5,-496.776 583.5,-487.9318 583.5,-479.3697\"/>\n<polygon fill=\"#000000\" stroke=\"#000000\" points=\"587.0001,-479.13 583.5,-469.13 580.0001,-479.13 587.0001,-479.13\"/>\n</g>\n<!-- 5 -->\n<g id=\"node6\" class=\"node\">\n<title>5</title>\n<polygon fill=\"#f5cef8\" stroke=\"#000000\" points=\"575,-357.5 444,-357.5 444,-304.5 575,-304.5 575,-357.5\"/>\n<text text-anchor=\"middle\" x=\"509.5\" y=\"-342.3\" font-family=\"Helvetica,sans-Serif\" font-size=\"14.00\" fill=\"#000000\">entropy = 1.459</text>\n<text text-anchor=\"middle\" x=\"509.5\" y=\"-327.3\" font-family=\"Helvetica,sans-Serif\" font-size=\"14.00\" fill=\"#000000\">samples = 6</text>\n<text text-anchor=\"middle\" x=\"509.5\" y=\"-312.3\" font-family=\"Helvetica,sans-Serif\" font-size=\"14.00\" fill=\"#000000\">value = [2, 0, 1, 3]</text>\n</g>\n<!-- 4&#45;&gt;5 -->\n<g id=\"edge5\" class=\"edge\">\n<title>4&#45;&gt;5</title>\n<path fill=\"none\" stroke=\"#000000\" d=\"M559.2696,-400.9465C551.2754,-389.7113 542.3746,-377.2021 534.3358,-365.9043\"/>\n<polygon fill=\"#000000\" stroke=\"#000000\" points=\"537.0351,-363.6609 528.3858,-357.5422 531.3316,-367.7192 537.0351,-363.6609\"/>\n</g>\n<!-- 6 -->\n<g id=\"node7\" class=\"node\">\n<title>6</title>\n<polygon fill=\"#e58139\" stroke=\"#000000\" points=\"724,-357.5 593,-357.5 593,-304.5 724,-304.5 724,-357.5\"/>\n<text text-anchor=\"middle\" x=\"658.5\" y=\"-342.3\" font-family=\"Helvetica,sans-Serif\" font-size=\"14.00\" fill=\"#000000\">entropy = 0.0</text>\n<text text-anchor=\"middle\" x=\"658.5\" y=\"-327.3\" font-family=\"Helvetica,sans-Serif\" font-size=\"14.00\" fill=\"#000000\">samples = 5</text>\n<text text-anchor=\"middle\" x=\"658.5\" y=\"-312.3\" font-family=\"Helvetica,sans-Serif\" font-size=\"14.00\" fill=\"#000000\">value = [5, 0, 0, 0]</text>\n</g>\n<!-- 4&#45;&gt;6 -->\n<g id=\"edge6\" class=\"edge\">\n<title>4&#45;&gt;6</title>\n<path fill=\"none\" stroke=\"#000000\" d=\"M608.0578,-400.9465C616.1601,-389.7113 625.1812,-377.2021 633.3286,-365.9043\"/>\n<polygon fill=\"#000000\" stroke=\"#000000\" points=\"636.3486,-367.7003 639.359,-357.5422 630.6709,-363.6058 636.3486,-367.7003\"/>\n</g>\n<!-- 9 -->\n<g id=\"node10\" class=\"node\">\n<title>9</title>\n<polygon fill=\"#fae6d7\" stroke=\"#000000\" points=\"2092,-573 1481,-573 1481,-505 2092,-505 2092,-573\"/>\n<text text-anchor=\"middle\" x=\"1786.5\" y=\"-557.8\" font-family=\"Helvetica,sans-Serif\" font-size=\"14.00\" fill=\"#000000\">Contribuição da promoção e/ou progressão na carreira com impacto na remuneração &lt;= 1.5</text>\n<text text-anchor=\"middle\" x=\"1786.5\" y=\"-542.8\" font-family=\"Helvetica,sans-Serif\" font-size=\"14.00\" fill=\"#000000\">entropy = 1.187</text>\n<text text-anchor=\"middle\" x=\"1786.5\" y=\"-527.8\" font-family=\"Helvetica,sans-Serif\" font-size=\"14.00\" fill=\"#000000\">samples = 26</text>\n<text text-anchor=\"middle\" x=\"1786.5\" y=\"-512.8\" font-family=\"Helvetica,sans-Serif\" font-size=\"14.00\" fill=\"#000000\">value = [14, 11, 0, 1]</text>\n</g>\n<!-- 8&#45;&gt;9 -->\n<g id=\"edge9\" class=\"edge\">\n<title>8&#45;&gt;9</title>\n<path fill=\"none\" stroke=\"#000000\" d=\"M1786.5,-608.9465C1786.5,-600.776 1786.5,-591.9318 1786.5,-583.3697\"/>\n<polygon fill=\"#000000\" stroke=\"#000000\" points=\"1790.0001,-583.13 1786.5,-573.13 1783.0001,-583.13 1790.0001,-583.13\"/>\n</g>\n<!-- 18 -->\n<g id=\"node19\" class=\"node\">\n<title>18</title>\n<polygon fill=\"#fae4d5\" stroke=\"#000000\" points=\"3238,-573 2553,-573 2553,-505 3238,-505 3238,-573\"/>\n<text text-anchor=\"middle\" x=\"2895.5\" y=\"-557.8\" font-family=\"Helvetica,sans-Serif\" font-size=\"14.00\" fill=\"#000000\">Colocação profissional e nível de responsabilidade que estimula o desenvolvimento da pesquisa &lt;= 4.5</text>\n<text text-anchor=\"middle\" x=\"2895.5\" y=\"-542.8\" font-family=\"Helvetica,sans-Serif\" font-size=\"14.00\" fill=\"#000000\">entropy = 1.396</text>\n<text text-anchor=\"middle\" x=\"2895.5\" y=\"-527.8\" font-family=\"Helvetica,sans-Serif\" font-size=\"14.00\" fill=\"#000000\">samples = 83</text>\n<text text-anchor=\"middle\" x=\"2895.5\" y=\"-512.8\" font-family=\"Helvetica,sans-Serif\" font-size=\"14.00\" fill=\"#000000\">value = [42, 31, 10, 0]</text>\n</g>\n<!-- 8&#45;&gt;18 -->\n<g id=\"edge18\" class=\"edge\">\n<title>8&#45;&gt;18</title>\n<path fill=\"none\" stroke=\"#000000\" d=\"M2116.6089,-612.043C2250.8307,-599.4559 2406.153,-584.8901 2542.6159,-572.0928\"/>\n<polygon fill=\"#000000\" stroke=\"#000000\" points=\"2543.1953,-575.5539 2552.8248,-571.1355 2542.5417,-568.5845 2543.1953,-575.5539\"/>\n</g>\n<!-- 10 -->\n<g id=\"node11\" class=\"node\">\n<title>10</title>\n<polygon fill=\"#e88e4d\" stroke=\"#000000\" points=\"1507,-469 1036,-469 1036,-401 1507,-401 1507,-469\"/>\n<text text-anchor=\"middle\" x=\"1271.5\" y=\"-453.8\" font-family=\"Helvetica,sans-Serif\" font-size=\"14.00\" fill=\"#000000\">Momento profissional da carreira acadêmica ou de pesquisador &lt;= 2.5</text>\n<text text-anchor=\"middle\" x=\"1271.5\" y=\"-438.8\" font-family=\"Helvetica,sans-Serif\" font-size=\"14.00\" fill=\"#000000\">entropy = 0.439</text>\n<text text-anchor=\"middle\" x=\"1271.5\" y=\"-423.8\" font-family=\"Helvetica,sans-Serif\" font-size=\"14.00\" fill=\"#000000\">samples = 11</text>\n<text text-anchor=\"middle\" x=\"1271.5\" y=\"-408.8\" font-family=\"Helvetica,sans-Serif\" font-size=\"14.00\" fill=\"#000000\">value = [10, 1, 0, 0]</text>\n</g>\n<!-- 9&#45;&gt;10 -->\n<g id=\"edge10\" class=\"edge\">\n<title>9&#45;&gt;10</title>\n<path fill=\"none\" stroke=\"#000000\" d=\"M1617.8697,-504.9465C1564.1561,-494.0995 1504.5621,-482.065 1450.1634,-471.0796\"/>\n<polygon fill=\"#000000\" stroke=\"#000000\" points=\"1450.564,-467.5899 1440.069,-469.0411 1449.1783,-474.4514 1450.564,-467.5899\"/>\n</g>\n<!-- 13 -->\n<g id=\"node14\" class=\"node\">\n<title>13</title>\n<polygon fill=\"#9bf193\" stroke=\"#000000\" points=\"2062,-469 1525,-469 1525,-401 2062,-401 2062,-469\"/>\n<text text-anchor=\"middle\" x=\"1793.5\" y=\"-453.8\" font-family=\"Helvetica,sans-Serif\" font-size=\"14.00\" fill=\"#000000\">Qualificação e competência pessoal para o desenvolvimento da pesquisa &lt;= 4.5</text>\n<text text-anchor=\"middle\" x=\"1793.5\" y=\"-438.8\" font-family=\"Helvetica,sans-Serif\" font-size=\"14.00\" fill=\"#000000\">entropy = 1.159</text>\n<text text-anchor=\"middle\" x=\"1793.5\" y=\"-423.8\" font-family=\"Helvetica,sans-Serif\" font-size=\"14.00\" fill=\"#000000\">samples = 15</text>\n<text text-anchor=\"middle\" x=\"1793.5\" y=\"-408.8\" font-family=\"Helvetica,sans-Serif\" font-size=\"14.00\" fill=\"#000000\">value = [4, 10, 0, 1]</text>\n</g>\n<!-- 9&#45;&gt;13 -->\n<g id=\"edge13\" class=\"edge\">\n<title>9&#45;&gt;13</title>\n<path fill=\"none\" stroke=\"#000000\" d=\"M1788.7921,-504.9465C1789.342,-496.776 1789.9373,-487.9318 1790.5136,-479.3697\"/>\n<polygon fill=\"#000000\" stroke=\"#000000\" points=\"1794.0232,-479.3425 1791.2028,-469.13 1787.039,-478.8723 1794.0232,-479.3425\"/>\n</g>\n<!-- 11 -->\n<g id=\"node12\" class=\"node\">\n<title>11</title>\n<polygon fill=\"#eeab7b\" stroke=\"#000000\" points=\"1188,-357.5 1057,-357.5 1057,-304.5 1188,-304.5 1188,-357.5\"/>\n<text text-anchor=\"middle\" x=\"1122.5\" y=\"-342.3\" font-family=\"Helvetica,sans-Serif\" font-size=\"14.00\" fill=\"#000000\">entropy = 0.811</text>\n<text text-anchor=\"middle\" x=\"1122.5\" y=\"-327.3\" font-family=\"Helvetica,sans-Serif\" font-size=\"14.00\" fill=\"#000000\">samples = 4</text>\n<text text-anchor=\"middle\" x=\"1122.5\" y=\"-312.3\" font-family=\"Helvetica,sans-Serif\" font-size=\"14.00\" fill=\"#000000\">value = [3, 1, 0, 0]</text>\n</g>\n<!-- 10&#45;&gt;11 -->\n<g id=\"edge11\" class=\"edge\">\n<title>10&#45;&gt;11</title>\n<path fill=\"none\" stroke=\"#000000\" d=\"M1222.7118,-400.9465C1205.3528,-388.8301 1185.8709,-375.232 1168.7324,-363.2696\"/>\n<polygon fill=\"#000000\" stroke=\"#000000\" points=\"1170.7301,-360.3957 1160.5268,-357.5422 1166.7236,-366.1358 1170.7301,-360.3957\"/>\n</g>\n<!-- 12 -->\n<g id=\"node13\" class=\"node\">\n<title>12</title>\n<polygon fill=\"#e58139\" stroke=\"#000000\" points=\"1337,-357.5 1206,-357.5 1206,-304.5 1337,-304.5 1337,-357.5\"/>\n<text text-anchor=\"middle\" x=\"1271.5\" y=\"-342.3\" font-family=\"Helvetica,sans-Serif\" font-size=\"14.00\" fill=\"#000000\">entropy = 0.0</text>\n<text text-anchor=\"middle\" x=\"1271.5\" y=\"-327.3\" font-family=\"Helvetica,sans-Serif\" font-size=\"14.00\" fill=\"#000000\">samples = 7</text>\n<text text-anchor=\"middle\" x=\"1271.5\" y=\"-312.3\" font-family=\"Helvetica,sans-Serif\" font-size=\"14.00\" fill=\"#000000\">value = [7, 0, 0, 0]</text>\n</g>\n<!-- 10&#45;&gt;12 -->\n<g id=\"edge12\" class=\"edge\">\n<title>10&#45;&gt;12</title>\n<path fill=\"none\" stroke=\"#000000\" d=\"M1271.5,-400.9465C1271.5,-390.2621 1271.5,-378.4254 1271.5,-367.5742\"/>\n<polygon fill=\"#000000\" stroke=\"#000000\" points=\"1275.0001,-367.5421 1271.5,-357.5422 1268.0001,-367.5422 1275.0001,-367.5421\"/>\n</g>\n<!-- 14 -->\n<g id=\"node15\" class=\"node\">\n<title>14</title>\n<polygon fill=\"#f8e0ce\" stroke=\"#000000\" points=\"1486,-357.5 1355,-357.5 1355,-304.5 1486,-304.5 1486,-357.5\"/>\n<text text-anchor=\"middle\" x=\"1420.5\" y=\"-342.3\" font-family=\"Helvetica,sans-Serif\" font-size=\"14.00\" fill=\"#000000\">entropy = 1.459</text>\n<text text-anchor=\"middle\" x=\"1420.5\" y=\"-327.3\" font-family=\"Helvetica,sans-Serif\" font-size=\"14.00\" fill=\"#000000\">samples = 6</text>\n<text text-anchor=\"middle\" x=\"1420.5\" y=\"-312.3\" font-family=\"Helvetica,sans-Serif\" font-size=\"14.00\" fill=\"#000000\">value = [3, 2, 0, 1]</text>\n</g>\n<!-- 13&#45;&gt;14 -->\n<g id=\"edge14\" class=\"edge\">\n<title>13&#45;&gt;14</title>\n<path fill=\"none\" stroke=\"#000000\" d=\"M1621.4483,-400.9452C1579.4503,-390.9329 1534.9708,-378.8773 1494.5,-365 1491.1899,-363.865 1487.8282,-362.6317 1484.4558,-361.3296\"/>\n<polygon fill=\"#000000\" stroke=\"#000000\" points=\"1485.5407,-357.9934 1474.9573,-357.5028 1482.9249,-364.4863 1485.5407,-357.9934\"/>\n</g>\n<!-- 15 -->\n<g id=\"node16\" class=\"node\">\n<title>15</title>\n<polygon fill=\"#5ee852\" stroke=\"#000000\" points=\"2165,-365 1504,-365 1504,-297 2165,-297 2165,-365\"/>\n<text text-anchor=\"middle\" x=\"1834.5\" y=\"-349.8\" font-family=\"Helvetica,sans-Serif\" font-size=\"14.00\" fill=\"#000000\">Aumento do prestígio e visibilidade acadêmica com reconhecimento e reputação pelos pares &lt;= 2.5</text>\n<text text-anchor=\"middle\" x=\"1834.5\" y=\"-334.8\" font-family=\"Helvetica,sans-Serif\" font-size=\"14.00\" fill=\"#000000\">entropy = 0.503</text>\n<text text-anchor=\"middle\" x=\"1834.5\" y=\"-319.8\" font-family=\"Helvetica,sans-Serif\" font-size=\"14.00\" fill=\"#000000\">samples = 9</text>\n<text text-anchor=\"middle\" x=\"1834.5\" y=\"-304.8\" font-family=\"Helvetica,sans-Serif\" font-size=\"14.00\" fill=\"#000000\">value = [1, 8, 0, 0]</text>\n</g>\n<!-- 13&#45;&gt;15 -->\n<g id=\"edge15\" class=\"edge\">\n<title>13&#45;&gt;15</title>\n<path fill=\"none\" stroke=\"#000000\" d=\"M1806.9249,-400.9465C1810.2522,-392.5067 1813.8628,-383.3479 1817.3416,-374.5239\"/>\n<polygon fill=\"#000000\" stroke=\"#000000\" points=\"1820.6334,-375.7168 1821.0449,-365.13 1814.1211,-373.1495 1820.6334,-375.7168\"/>\n</g>\n<!-- 16 -->\n<g id=\"node17\" class=\"node\">\n<title>16</title>\n<polygon fill=\"#84ee7b\" stroke=\"#000000\" points=\"1826,-253.5 1695,-253.5 1695,-200.5 1826,-200.5 1826,-253.5\"/>\n<text text-anchor=\"middle\" x=\"1760.5\" y=\"-238.3\" font-family=\"Helvetica,sans-Serif\" font-size=\"14.00\" fill=\"#000000\">entropy = 0.811</text>\n<text text-anchor=\"middle\" x=\"1760.5\" y=\"-223.3\" font-family=\"Helvetica,sans-Serif\" font-size=\"14.00\" fill=\"#000000\">samples = 4</text>\n<text text-anchor=\"middle\" x=\"1760.5\" y=\"-208.3\" font-family=\"Helvetica,sans-Serif\" font-size=\"14.00\" fill=\"#000000\">value = [1, 3, 0, 0]</text>\n</g>\n<!-- 15&#45;&gt;16 -->\n<g id=\"edge16\" class=\"edge\">\n<title>15&#45;&gt;16</title>\n<path fill=\"none\" stroke=\"#000000\" d=\"M1810.2696,-296.9465C1802.2754,-285.7113 1793.3746,-273.2021 1785.3358,-261.9043\"/>\n<polygon fill=\"#000000\" stroke=\"#000000\" points=\"1788.0351,-259.6609 1779.3858,-253.5422 1782.3316,-263.7192 1788.0351,-259.6609\"/>\n</g>\n<!-- 17 -->\n<g id=\"node18\" class=\"node\">\n<title>17</title>\n<polygon fill=\"#47e539\" stroke=\"#000000\" points=\"1975,-253.5 1844,-253.5 1844,-200.5 1975,-200.5 1975,-253.5\"/>\n<text text-anchor=\"middle\" x=\"1909.5\" y=\"-238.3\" font-family=\"Helvetica,sans-Serif\" font-size=\"14.00\" fill=\"#000000\">entropy = 0.0</text>\n<text text-anchor=\"middle\" x=\"1909.5\" y=\"-223.3\" font-family=\"Helvetica,sans-Serif\" font-size=\"14.00\" fill=\"#000000\">samples = 5</text>\n<text text-anchor=\"middle\" x=\"1909.5\" y=\"-208.3\" font-family=\"Helvetica,sans-Serif\" font-size=\"14.00\" fill=\"#000000\">value = [0, 5, 0, 0]</text>\n</g>\n<!-- 15&#45;&gt;17 -->\n<g id=\"edge17\" class=\"edge\">\n<title>15&#45;&gt;17</title>\n<path fill=\"none\" stroke=\"#000000\" d=\"M1859.0578,-296.9465C1867.1601,-285.7113 1876.1812,-273.2021 1884.3286,-261.9043\"/>\n<polygon fill=\"#000000\" stroke=\"#000000\" points=\"1887.3486,-263.7003 1890.359,-253.5422 1881.6709,-259.6058 1887.3486,-263.7003\"/>\n</g>\n<!-- 19 -->\n<g id=\"node20\" class=\"node\">\n<title>19</title>\n<polygon fill=\"#f5cfb3\" stroke=\"#000000\" points=\"3282,-469 2509,-469 2509,-401 3282,-401 3282,-469\"/>\n<text text-anchor=\"middle\" x=\"2895.5\" y=\"-453.8\" font-family=\"Helvetica,sans-Serif\" font-size=\"14.00\" fill=\"#000000\">Baixa mobilidade: vinculação e permanência a um local fixo e específico para o desenvolvimento da pesquisa. &lt;= 2.5</text>\n<text text-anchor=\"middle\" x=\"2895.5\" y=\"-438.8\" font-family=\"Helvetica,sans-Serif\" font-size=\"14.00\" fill=\"#000000\">entropy = 1.415</text>\n<text text-anchor=\"middle\" x=\"2895.5\" y=\"-423.8\" font-family=\"Helvetica,sans-Serif\" font-size=\"14.00\" fill=\"#000000\">samples = 54</text>\n<text text-anchor=\"middle\" x=\"2895.5\" y=\"-408.8\" font-family=\"Helvetica,sans-Serif\" font-size=\"14.00\" fill=\"#000000\">value = [30, 15, 9, 0]</text>\n</g>\n<!-- 18&#45;&gt;19 -->\n<g id=\"edge19\" class=\"edge\">\n<title>18&#45;&gt;19</title>\n<path fill=\"none\" stroke=\"#000000\" d=\"M2895.5,-504.9465C2895.5,-496.776 2895.5,-487.9318 2895.5,-479.3697\"/>\n<polygon fill=\"#000000\" stroke=\"#000000\" points=\"2899.0001,-479.13 2895.5,-469.13 2892.0001,-479.13 2899.0001,-479.13\"/>\n</g>\n<!-- 36 -->\n<g id=\"node37\" class=\"node\">\n<title>36</title>\n<polygon fill=\"#d4f9d0\" stroke=\"#000000\" points=\"5346,-469 4573,-469 4573,-401 5346,-401 5346,-469\"/>\n<text text-anchor=\"middle\" x=\"4959.5\" y=\"-453.8\" font-family=\"Helvetica,sans-Serif\" font-size=\"14.00\" fill=\"#000000\">Baixa mobilidade: vinculação e permanência a um local fixo e específico para o desenvolvimento da pesquisa. &lt;= 3.5</text>\n<text text-anchor=\"middle\" x=\"4959.5\" y=\"-438.8\" font-family=\"Helvetica,sans-Serif\" font-size=\"14.00\" fill=\"#000000\">entropy = 1.168</text>\n<text text-anchor=\"middle\" x=\"4959.5\" y=\"-423.8\" font-family=\"Helvetica,sans-Serif\" font-size=\"14.00\" fill=\"#000000\">samples = 29</text>\n<text text-anchor=\"middle\" x=\"4959.5\" y=\"-408.8\" font-family=\"Helvetica,sans-Serif\" font-size=\"14.00\" fill=\"#000000\">value = [12, 16, 1, 0]</text>\n</g>\n<!-- 18&#45;&gt;36 -->\n<g id=\"edge36\" class=\"edge\">\n<title>18&#45;&gt;36</title>\n<path fill=\"none\" stroke=\"#000000\" d=\"M3238.0648,-521.739C3602.5479,-503.3736 4178.482,-474.3536 4562.5095,-455.0034\"/>\n<polygon fill=\"#000000\" stroke=\"#000000\" points=\"4562.8683,-458.4899 4572.6794,-454.491 4562.5159,-451.4987 4562.8683,-458.4899\"/>\n</g>\n<!-- 20 -->\n<g id=\"node21\" class=\"node\">\n<title>20</title>\n<polygon fill=\"#eb9f68\" stroke=\"#000000\" points=\"2887.5,-365 2183.5,-365 2183.5,-297 2887.5,-297 2887.5,-365\"/>\n<text text-anchor=\"middle\" x=\"2535.5\" y=\"-349.8\" font-family=\"Helvetica,sans-Serif\" font-size=\"14.00\" fill=\"#000000\">Contribuição dos resultados da pesquisa para o desenvolvimento social e econômico da sociedade &lt;= 4.5</text>\n<text text-anchor=\"middle\" x=\"2535.5\" y=\"-334.8\" font-family=\"Helvetica,sans-Serif\" font-size=\"14.00\" fill=\"#000000\">entropy = 0.953</text>\n<text text-anchor=\"middle\" x=\"2535.5\" y=\"-319.8\" font-family=\"Helvetica,sans-Serif\" font-size=\"14.00\" fill=\"#000000\">samples = 19</text>\n<text text-anchor=\"middle\" x=\"2535.5\" y=\"-304.8\" font-family=\"Helvetica,sans-Serif\" font-size=\"14.00\" fill=\"#000000\">value = [15, 2, 2, 0]</text>\n</g>\n<!-- 19&#45;&gt;20 -->\n<g id=\"edge20\" class=\"edge\">\n<title>19&#45;&gt;20</title>\n<path fill=\"none\" stroke=\"#000000\" d=\"M2777.6225,-400.9465C2741.01,-390.3695 2700.4889,-378.6635 2663.2377,-367.902\"/>\n<polygon fill=\"#000000\" stroke=\"#000000\" points=\"2663.9132,-364.4541 2653.3346,-365.0411 2661.9704,-371.1791 2663.9132,-364.4541\"/>\n</g>\n<!-- 25 -->\n<g id=\"node26\" class=\"node\">\n<title>25</title>\n<polygon fill=\"#fdf4ed\" stroke=\"#000000\" points=\"3619,-365 2918,-365 2918,-297 3619,-297 3619,-365\"/>\n<text text-anchor=\"middle\" x=\"3268.5\" y=\"-349.8\" font-family=\"Helvetica,sans-Serif\" font-size=\"14.00\" fill=\"#000000\">Relações e cooperação de mercado com a indústria, inclusive com atração de recursos financeiros &lt;= 4.5</text>\n<text text-anchor=\"middle\" x=\"3268.5\" y=\"-334.8\" font-family=\"Helvetica,sans-Serif\" font-size=\"14.00\" fill=\"#000000\">entropy = 1.519</text>\n<text text-anchor=\"middle\" x=\"3268.5\" y=\"-319.8\" font-family=\"Helvetica,sans-Serif\" font-size=\"14.00\" fill=\"#000000\">samples = 35</text>\n<text text-anchor=\"middle\" x=\"3268.5\" y=\"-304.8\" font-family=\"Helvetica,sans-Serif\" font-size=\"14.00\" fill=\"#000000\">value = [15, 13, 7, 0]</text>\n</g>\n<!-- 19&#45;&gt;25 -->\n<g id=\"edge25\" class=\"edge\">\n<title>19&#45;&gt;25</title>\n<path fill=\"none\" stroke=\"#000000\" d=\"M3017.6342,-400.9465C3055.7303,-390.3245 3097.9105,-378.5638 3136.6421,-367.7647\"/>\n<polygon fill=\"#000000\" stroke=\"#000000\" points=\"3137.7177,-371.0984 3146.4102,-365.0411 3135.8376,-364.3555 3137.7177,-371.0984\"/>\n</g>\n<!-- 21 -->\n<g id=\"node22\" class=\"node\">\n<title>21</title>\n<polygon fill=\"#ffffff\" stroke=\"#000000\" points=\"2269,-253.5 2138,-253.5 2138,-200.5 2269,-200.5 2269,-253.5\"/>\n<text text-anchor=\"middle\" x=\"2203.5\" y=\"-238.3\" font-family=\"Helvetica,sans-Serif\" font-size=\"14.00\" fill=\"#000000\">entropy = 1.0</text>\n<text text-anchor=\"middle\" x=\"2203.5\" y=\"-223.3\" font-family=\"Helvetica,sans-Serif\" font-size=\"14.00\" fill=\"#000000\">samples = 4</text>\n<text text-anchor=\"middle\" x=\"2203.5\" y=\"-208.3\" font-family=\"Helvetica,sans-Serif\" font-size=\"14.00\" fill=\"#000000\">value = [2, 2, 0, 0]</text>\n</g>\n<!-- 20&#45;&gt;21 -->\n<g id=\"edge21\" class=\"edge\">\n<title>20&#45;&gt;21</title>\n<path fill=\"none\" stroke=\"#000000\" d=\"M2393.248,-296.9337C2355.2486,-286.6084 2314.478,-274.4066 2277.5,-261 2274.4429,-259.8916 2271.3378,-258.708 2268.218,-257.4715\"/>\n<polygon fill=\"#000000\" stroke=\"#000000\" points=\"2269.4279,-254.1848 2258.8478,-253.6262 2266.7703,-260.6607 2269.4279,-254.1848\"/>\n</g>\n<!-- 22 -->\n<g id=\"node23\" class=\"node\">\n<title>22</title>\n<polygon fill=\"#e99457\" stroke=\"#000000\" points=\"2758,-261 2287,-261 2287,-193 2758,-193 2758,-261\"/>\n<text text-anchor=\"middle\" x=\"2522.5\" y=\"-245.8\" font-family=\"Helvetica,sans-Serif\" font-size=\"14.00\" fill=\"#000000\">Momento profissional da carreira acadêmica ou de pesquisador &lt;= 3.5</text>\n<text text-anchor=\"middle\" x=\"2522.5\" y=\"-230.8\" font-family=\"Helvetica,sans-Serif\" font-size=\"14.00\" fill=\"#000000\">entropy = 0.567</text>\n<text text-anchor=\"middle\" x=\"2522.5\" y=\"-215.8\" font-family=\"Helvetica,sans-Serif\" font-size=\"14.00\" fill=\"#000000\">samples = 15</text>\n<text text-anchor=\"middle\" x=\"2522.5\" y=\"-200.8\" font-family=\"Helvetica,sans-Serif\" font-size=\"14.00\" fill=\"#000000\">value = [13, 0, 2, 0]</text>\n</g>\n<!-- 20&#45;&gt;22 -->\n<g id=\"edge22\" class=\"edge\">\n<title>20&#45;&gt;22</title>\n<path fill=\"none\" stroke=\"#000000\" d=\"M2531.2433,-296.9465C2530.2108,-288.6863 2529.0922,-279.7374 2528.0109,-271.0875\"/>\n<polygon fill=\"#000000\" stroke=\"#000000\" points=\"2531.4797,-270.6186 2526.7662,-261.13 2524.5337,-271.4869 2531.4797,-270.6186\"/>\n</g>\n<!-- 23 -->\n<g id=\"node24\" class=\"node\">\n<title>23</title>\n<polygon fill=\"#ffffff\" stroke=\"#000000\" points=\"2501,-149.5 2370,-149.5 2370,-96.5 2501,-96.5 2501,-149.5\"/>\n<text text-anchor=\"middle\" x=\"2435.5\" y=\"-134.3\" font-family=\"Helvetica,sans-Serif\" font-size=\"14.00\" fill=\"#000000\">entropy = 1.0</text>\n<text text-anchor=\"middle\" x=\"2435.5\" y=\"-119.3\" font-family=\"Helvetica,sans-Serif\" font-size=\"14.00\" fill=\"#000000\">samples = 4</text>\n<text text-anchor=\"middle\" x=\"2435.5\" y=\"-104.3\" font-family=\"Helvetica,sans-Serif\" font-size=\"14.00\" fill=\"#000000\">value = [2, 0, 2, 0]</text>\n</g>\n<!-- 22&#45;&gt;23 -->\n<g id=\"edge23\" class=\"edge\">\n<title>22&#45;&gt;23</title>\n<path fill=\"none\" stroke=\"#000000\" d=\"M2494.0129,-192.9465C2484.43,-181.491 2473.739,-168.711 2464.1441,-157.2412\"/>\n<polygon fill=\"#000000\" stroke=\"#000000\" points=\"2466.8045,-154.9666 2457.7035,-149.5422 2461.4354,-159.458 2466.8045,-154.9666\"/>\n</g>\n<!-- 24 -->\n<g id=\"node25\" class=\"node\">\n<title>24</title>\n<polygon fill=\"#e58139\" stroke=\"#000000\" points=\"2658,-149.5 2519,-149.5 2519,-96.5 2658,-96.5 2658,-149.5\"/>\n<text text-anchor=\"middle\" x=\"2588.5\" y=\"-134.3\" font-family=\"Helvetica,sans-Serif\" font-size=\"14.00\" fill=\"#000000\">entropy = 0.0</text>\n<text text-anchor=\"middle\" x=\"2588.5\" y=\"-119.3\" font-family=\"Helvetica,sans-Serif\" font-size=\"14.00\" fill=\"#000000\">samples = 11</text>\n<text text-anchor=\"middle\" x=\"2588.5\" y=\"-104.3\" font-family=\"Helvetica,sans-Serif\" font-size=\"14.00\" fill=\"#000000\">value = [11, 0, 0, 0]</text>\n</g>\n<!-- 22&#45;&gt;24 -->\n<g id=\"edge24\" class=\"edge\">\n<title>22&#45;&gt;24</title>\n<path fill=\"none\" stroke=\"#000000\" d=\"M2544.1109,-192.9465C2551.171,-181.8215 2559.0239,-169.4473 2566.1381,-158.237\"/>\n<polygon fill=\"#000000\" stroke=\"#000000\" points=\"2569.2528,-159.8609 2571.6559,-149.5422 2563.3425,-156.1101 2569.2528,-159.8609\"/>\n</g>\n<!-- 26 -->\n<g id=\"node27\" class=\"node\">\n<title>26</title>\n<polygon fill=\"#f6d1b7\" stroke=\"#000000\" points=\"3761,-261 2776,-261 2776,-193 3761,-193 3761,-261\"/>\n<text text-anchor=\"middle\" x=\"3268.5\" y=\"-245.8\" font-family=\"Helvetica,sans-Serif\" font-size=\"14.00\" fill=\"#000000\">Apoio administrativo institucional no processo de patenteamento, principalmente do Núcleo de Inovação Tecnológica (NIT) da sua universidade &lt;= 4.5</text>\n<text text-anchor=\"middle\" x=\"3268.5\" y=\"-230.8\" font-family=\"Helvetica,sans-Serif\" font-size=\"14.00\" fill=\"#000000\">entropy = 1.366</text>\n<text text-anchor=\"middle\" x=\"3268.5\" y=\"-215.8\" font-family=\"Helvetica,sans-Serif\" font-size=\"14.00\" fill=\"#000000\">samples = 16</text>\n<text text-anchor=\"middle\" x=\"3268.5\" y=\"-200.8\" font-family=\"Helvetica,sans-Serif\" font-size=\"14.00\" fill=\"#000000\">value = [9, 2, 5, 0]</text>\n</g>\n<!-- 25&#45;&gt;26 -->\n<g id=\"edge26\" class=\"edge\">\n<title>25&#45;&gt;26</title>\n<path fill=\"none\" stroke=\"#000000\" d=\"M3268.5,-296.9465C3268.5,-288.776 3268.5,-279.9318 3268.5,-271.3697\"/>\n<polygon fill=\"#000000\" stroke=\"#000000\" points=\"3272.0001,-271.13 3268.5,-261.13 3265.0001,-271.13 3272.0001,-271.13\"/>\n</g>\n<!-- 31 -->\n<g id=\"node32\" class=\"node\">\n<title>31</title>\n<polygon fill=\"#b8f5b3\" stroke=\"#000000\" points=\"4417.5,-261 3779.5,-261 3779.5,-193 4417.5,-193 4417.5,-261\"/>\n<text text-anchor=\"middle\" x=\"4098.5\" y=\"-245.8\" font-family=\"Helvetica,sans-Serif\" font-size=\"14.00\" fill=\"#000000\">Acesso a meios e insumos, inclusive tecnológicos, para o desenvolvimento de pesquisas &lt;= 4.5</text>\n<text text-anchor=\"middle\" x=\"4098.5\" y=\"-230.8\" font-family=\"Helvetica,sans-Serif\" font-size=\"14.00\" fill=\"#000000\">entropy = 1.324</text>\n<text text-anchor=\"middle\" x=\"4098.5\" y=\"-215.8\" font-family=\"Helvetica,sans-Serif\" font-size=\"14.00\" fill=\"#000000\">samples = 19</text>\n<text text-anchor=\"middle\" x=\"4098.5\" y=\"-200.8\" font-family=\"Helvetica,sans-Serif\" font-size=\"14.00\" fill=\"#000000\">value = [6, 11, 2, 0]</text>\n</g>\n<!-- 25&#45;&gt;31 -->\n<g id=\"edge31\" class=\"edge\">\n<title>25&#45;&gt;31</title>\n<path fill=\"none\" stroke=\"#000000\" d=\"M3539.9858,-296.9825C3628.7463,-285.8607 3727.4957,-273.4873 3816.9789,-262.2749\"/>\n<polygon fill=\"#000000\" stroke=\"#000000\" points=\"3817.515,-265.7352 3827.0023,-261.019 3816.6447,-258.7895 3817.515,-265.7352\"/>\n</g>\n<!-- 27 -->\n<g id=\"node28\" class=\"node\">\n<title>27</title>\n<polygon fill=\"#efb388\" stroke=\"#000000\" points=\"2882,-149.5 2751,-149.5 2751,-96.5 2882,-96.5 2882,-149.5\"/>\n<text text-anchor=\"middle\" x=\"2816.5\" y=\"-134.3\" font-family=\"Helvetica,sans-Serif\" font-size=\"14.00\" fill=\"#000000\">entropy = 0.863</text>\n<text text-anchor=\"middle\" x=\"2816.5\" y=\"-119.3\" font-family=\"Helvetica,sans-Serif\" font-size=\"14.00\" fill=\"#000000\">samples = 7</text>\n<text text-anchor=\"middle\" x=\"2816.5\" y=\"-104.3\" font-family=\"Helvetica,sans-Serif\" font-size=\"14.00\" fill=\"#000000\">value = [5, 2, 0, 0]</text>\n</g>\n<!-- 26&#45;&gt;27 -->\n<g id=\"edge27\" class=\"edge\">\n<title>26&#45;&gt;27</title>\n<path fill=\"none\" stroke=\"#000000\" d=\"M3036.0525,-192.9744C2987.7418,-183.3654 2937.5415,-171.4749 2891.5,-157 2887.9498,-155.8839 2884.3461,-154.6432 2880.7366,-153.3148\"/>\n<polygon fill=\"#000000\" stroke=\"#000000\" points=\"2881.7898,-149.9693 2871.2007,-149.6189 2879.2601,-156.4963 2881.7898,-149.9693\"/>\n</g>\n<!-- 28 -->\n<g id=\"node29\" class=\"node\">\n<title>28</title>\n<polygon fill=\"#d7ebfa\" stroke=\"#000000\" points=\"3652.5,-157 2900.5,-157 2900.5,-89 3652.5,-89 3652.5,-157\"/>\n<text text-anchor=\"middle\" x=\"3276.5\" y=\"-141.8\" font-family=\"Helvetica,sans-Serif\" font-size=\"14.00\" fill=\"#000000\">Instalações e condições infraestruturais para o desenvolvimento da pesquisa disponíveis na sua instituição &lt;= 4.5</text>\n<text text-anchor=\"middle\" x=\"3276.5\" y=\"-126.8\" font-family=\"Helvetica,sans-Serif\" font-size=\"14.00\" fill=\"#000000\">entropy = 0.991</text>\n<text text-anchor=\"middle\" x=\"3276.5\" y=\"-111.8\" font-family=\"Helvetica,sans-Serif\" font-size=\"14.00\" fill=\"#000000\">samples = 9</text>\n<text text-anchor=\"middle\" x=\"3276.5\" y=\"-96.8\" font-family=\"Helvetica,sans-Serif\" font-size=\"14.00\" fill=\"#000000\">value = [4, 0, 5, 0]</text>\n</g>\n<!-- 26&#45;&gt;28 -->\n<g id=\"edge28\" class=\"edge\">\n<title>26&#45;&gt;28</title>\n<path fill=\"none\" stroke=\"#000000\" d=\"M3271.1195,-192.9465C3271.748,-184.776 3272.4283,-175.9318 3273.0869,-167.3697\"/>\n<polygon fill=\"#000000\" stroke=\"#000000\" points=\"3276.5973,-167.369 3273.8746,-157.13 3269.6179,-166.8321 3276.5973,-167.369\"/>\n</g>\n<!-- 29 -->\n<g id=\"node30\" class=\"node\">\n<title>29</title>\n<polygon fill=\"#eeab7b\" stroke=\"#000000\" points=\"3267,-53 3136,-53 3136,0 3267,0 3267,-53\"/>\n<text text-anchor=\"middle\" x=\"3201.5\" y=\"-37.8\" font-family=\"Helvetica,sans-Serif\" font-size=\"14.00\" fill=\"#000000\">entropy = 0.811</text>\n<text text-anchor=\"middle\" x=\"3201.5\" y=\"-22.8\" font-family=\"Helvetica,sans-Serif\" font-size=\"14.00\" fill=\"#000000\">samples = 4</text>\n<text text-anchor=\"middle\" x=\"3201.5\" y=\"-7.8\" font-family=\"Helvetica,sans-Serif\" font-size=\"14.00\" fill=\"#000000\">value = [3, 0, 1, 0]</text>\n</g>\n<!-- 28&#45;&gt;29 -->\n<g id=\"edge29\" class=\"edge\">\n<title>28&#45;&gt;29</title>\n<path fill=\"none\" stroke=\"#000000\" d=\"M3250.0578,-88.9777C3243.0833,-80.0039 3235.5484,-70.3089 3228.5427,-61.295\"/>\n<polygon fill=\"#000000\" stroke=\"#000000\" points=\"3231.1891,-58.9964 3222.289,-53.2485 3225.6621,-63.292 3231.1891,-58.9964\"/>\n</g>\n<!-- 30 -->\n<g id=\"node31\" class=\"node\">\n<title>30</title>\n<polygon fill=\"#6ab6ec\" stroke=\"#000000\" points=\"3416,-53 3285,-53 3285,0 3416,0 3416,-53\"/>\n<text text-anchor=\"middle\" x=\"3350.5\" y=\"-37.8\" font-family=\"Helvetica,sans-Serif\" font-size=\"14.00\" fill=\"#000000\">entropy = 0.722</text>\n<text text-anchor=\"middle\" x=\"3350.5\" y=\"-22.8\" font-family=\"Helvetica,sans-Serif\" font-size=\"14.00\" fill=\"#000000\">samples = 5</text>\n<text text-anchor=\"middle\" x=\"3350.5\" y=\"-7.8\" font-family=\"Helvetica,sans-Serif\" font-size=\"14.00\" fill=\"#000000\">value = [1, 0, 4, 0]</text>\n</g>\n<!-- 28&#45;&gt;30 -->\n<g id=\"edge30\" class=\"edge\">\n<title>28&#45;&gt;30</title>\n<path fill=\"none\" stroke=\"#000000\" d=\"M3302.5896,-88.9777C3309.4711,-80.0039 3316.9056,-70.3089 3323.8178,-61.295\"/>\n<polygon fill=\"#000000\" stroke=\"#000000\" points=\"3326.6804,-63.3137 3329.9882,-53.2485 3321.1256,-59.0541 3326.6804,-63.3137\"/>\n</g>\n<!-- 32 -->\n<g id=\"node33\" class=\"node\">\n<title>32</title>\n<polygon fill=\"#efb388\" stroke=\"#000000\" points=\"3885,-149.5 3754,-149.5 3754,-96.5 3885,-96.5 3885,-149.5\"/>\n<text text-anchor=\"middle\" x=\"3819.5\" y=\"-134.3\" font-family=\"Helvetica,sans-Serif\" font-size=\"14.00\" fill=\"#000000\">entropy = 1.252</text>\n<text text-anchor=\"middle\" x=\"3819.5\" y=\"-119.3\" font-family=\"Helvetica,sans-Serif\" font-size=\"14.00\" fill=\"#000000\">samples = 6</text>\n<text text-anchor=\"middle\" x=\"3819.5\" y=\"-104.3\" font-family=\"Helvetica,sans-Serif\" font-size=\"14.00\" fill=\"#000000\">value = [4, 1, 1, 0]</text>\n</g>\n<!-- 31&#45;&gt;32 -->\n<g id=\"edge32\" class=\"edge\">\n<title>31&#45;&gt;32</title>\n<path fill=\"none\" stroke=\"#000000\" d=\"M3992.141,-192.9724C3960.1816,-182.1345 3925.1962,-169.6551 3893.5,-157 3890.7918,-155.9187 3888.0397,-154.791 3885.2683,-153.6313\"/>\n<polygon fill=\"#000000\" stroke=\"#000000\" points=\"3886.3779,-150.2993 3875.807,-149.5863 3883.626,-156.7357 3886.3779,-150.2993\"/>\n</g>\n<!-- 33 -->\n<g id=\"node34\" class=\"node\">\n<title>33</title>\n<polygon fill=\"#79ec6f\" stroke=\"#000000\" points=\"4754.5,-157 3902.5,-157 3902.5,-89 4754.5,-89 4754.5,-157\"/>\n<text text-anchor=\"middle\" x=\"4328.5\" y=\"-141.8\" font-family=\"Helvetica,sans-Serif\" font-size=\"14.00\" fill=\"#000000\">Atendimento de indicadores de produção e possibilidades de publicação das pesquisas cujos resultados são patenteáveis &lt;= 4.5</text>\n<text text-anchor=\"middle\" x=\"4328.5\" y=\"-126.8\" font-family=\"Helvetica,sans-Serif\" font-size=\"14.00\" fill=\"#000000\">entropy = 0.991</text>\n<text text-anchor=\"middle\" x=\"4328.5\" y=\"-111.8\" font-family=\"Helvetica,sans-Serif\" font-size=\"14.00\" fill=\"#000000\">samples = 13</text>\n<text text-anchor=\"middle\" x=\"4328.5\" y=\"-96.8\" font-family=\"Helvetica,sans-Serif\" font-size=\"14.00\" fill=\"#000000\">value = [2, 10, 1, 0]</text>\n</g>\n<!-- 31&#45;&gt;33 -->\n<g id=\"edge33\" class=\"edge\">\n<title>31&#45;&gt;33</title>\n<path fill=\"none\" stroke=\"#000000\" d=\"M4173.8106,-192.9465C4196.149,-182.8457 4220.7648,-171.7151 4243.6636,-161.3608\"/>\n<polygon fill=\"#000000\" stroke=\"#000000\" points=\"4245.3505,-164.4393 4253.0202,-157.13 4242.4663,-158.061 4245.3505,-164.4393\"/>\n</g>\n<!-- 34 -->\n<g id=\"node35\" class=\"node\">\n<title>34</title>\n<polygon fill=\"#a3f29c\" stroke=\"#000000\" points=\"4319,-53 4188,-53 4188,0 4319,0 4319,-53\"/>\n<text text-anchor=\"middle\" x=\"4253.5\" y=\"-37.8\" font-family=\"Helvetica,sans-Serif\" font-size=\"14.00\" fill=\"#000000\">entropy = 0.918</text>\n<text text-anchor=\"middle\" x=\"4253.5\" y=\"-22.8\" font-family=\"Helvetica,sans-Serif\" font-size=\"14.00\" fill=\"#000000\">samples = 6</text>\n<text text-anchor=\"middle\" x=\"4253.5\" y=\"-7.8\" font-family=\"Helvetica,sans-Serif\" font-size=\"14.00\" fill=\"#000000\">value = [2, 4, 0, 0]</text>\n</g>\n<!-- 33&#45;&gt;34 -->\n<g id=\"edge34\" class=\"edge\">\n<title>33&#45;&gt;34</title>\n<path fill=\"none\" stroke=\"#000000\" d=\"M4302.0578,-88.9777C4295.0833,-80.0039 4287.5484,-70.3089 4280.5427,-61.295\"/>\n<polygon fill=\"#000000\" stroke=\"#000000\" points=\"4283.1891,-58.9964 4274.289,-53.2485 4277.6621,-63.292 4283.1891,-58.9964\"/>\n</g>\n<!-- 35 -->\n<g id=\"node36\" class=\"node\">\n<title>35</title>\n<polygon fill=\"#66e95a\" stroke=\"#000000\" points=\"4468,-53 4337,-53 4337,0 4468,0 4468,-53\"/>\n<text text-anchor=\"middle\" x=\"4402.5\" y=\"-37.8\" font-family=\"Helvetica,sans-Serif\" font-size=\"14.00\" fill=\"#000000\">entropy = 0.592</text>\n<text text-anchor=\"middle\" x=\"4402.5\" y=\"-22.8\" font-family=\"Helvetica,sans-Serif\" font-size=\"14.00\" fill=\"#000000\">samples = 7</text>\n<text text-anchor=\"middle\" x=\"4402.5\" y=\"-7.8\" font-family=\"Helvetica,sans-Serif\" font-size=\"14.00\" fill=\"#000000\">value = [0, 6, 1, 0]</text>\n</g>\n<!-- 33&#45;&gt;35 -->\n<g id=\"edge35\" class=\"edge\">\n<title>33&#45;&gt;35</title>\n<path fill=\"none\" stroke=\"#000000\" d=\"M4354.5896,-88.9777C4361.4711,-80.0039 4368.9056,-70.3089 4375.8178,-61.295\"/>\n<polygon fill=\"#000000\" stroke=\"#000000\" points=\"4378.6804,-63.3137 4381.9882,-53.2485 4373.1256,-59.0541 4378.6804,-63.3137\"/>\n</g>\n<!-- 37 -->\n<g id=\"node38\" class=\"node\">\n<title>37</title>\n<polygon fill=\"#9cf194\" stroke=\"#000000\" points=\"5191.5,-365 4727.5,-365 4727.5,-297 5191.5,-297 5191.5,-365\"/>\n<text text-anchor=\"middle\" x=\"4959.5\" y=\"-349.8\" font-family=\"Helvetica,sans-Serif\" font-size=\"14.00\" fill=\"#000000\">Proteção e apropriação intelectual dos resultados da pesquisa &lt;= 4.5</text>\n<text text-anchor=\"middle\" x=\"4959.5\" y=\"-334.8\" font-family=\"Helvetica,sans-Serif\" font-size=\"14.00\" fill=\"#000000\">entropy = 0.9</text>\n<text text-anchor=\"middle\" x=\"4959.5\" y=\"-319.8\" font-family=\"Helvetica,sans-Serif\" font-size=\"14.00\" fill=\"#000000\">samples = 19</text>\n<text text-anchor=\"middle\" x=\"4959.5\" y=\"-304.8\" font-family=\"Helvetica,sans-Serif\" font-size=\"14.00\" fill=\"#000000\">value = [6, 13, 0, 0]</text>\n</g>\n<!-- 36&#45;&gt;37 -->\n<g id=\"edge37\" class=\"edge\">\n<title>36&#45;&gt;37</title>\n<path fill=\"none\" stroke=\"#000000\" d=\"M4959.5,-400.9465C4959.5,-392.776 4959.5,-383.9318 4959.5,-375.3697\"/>\n<polygon fill=\"#000000\" stroke=\"#000000\" points=\"4963.0001,-375.13 4959.5,-365.13 4956.0001,-375.13 4963.0001,-375.13\"/>\n</g>\n<!-- 42 -->\n<g id=\"node43\" class=\"node\">\n<title>42</title>\n<polygon fill=\"#f4c9aa\" stroke=\"#000000\" points=\"6082,-365 5241,-365 5241,-297 6082,-297 6082,-365\"/>\n<text text-anchor=\"middle\" x=\"5661.5\" y=\"-349.8\" font-family=\"Helvetica,sans-Serif\" font-size=\"14.00\" fill=\"#000000\">Disponibilidade de materiais, dados e recursos oriundos da indústria para o desenvolvimento das atividades de pesquisa &lt;= 4.5</text>\n<text text-anchor=\"middle\" x=\"5661.5\" y=\"-334.8\" font-family=\"Helvetica,sans-Serif\" font-size=\"14.00\" fill=\"#000000\">entropy = 1.295</text>\n<text text-anchor=\"middle\" x=\"5661.5\" y=\"-319.8\" font-family=\"Helvetica,sans-Serif\" font-size=\"14.00\" fill=\"#000000\">samples = 10</text>\n<text text-anchor=\"middle\" x=\"5661.5\" y=\"-304.8\" font-family=\"Helvetica,sans-Serif\" font-size=\"14.00\" fill=\"#000000\">value = [6, 3, 1, 0]</text>\n</g>\n<!-- 36&#45;&gt;42 -->\n<g id=\"edge42\" class=\"edge\">\n<title>36&#45;&gt;42</title>\n<path fill=\"none\" stroke=\"#000000\" d=\"M5189.3611,-400.9465C5263.7937,-389.9195 5346.5102,-377.6652 5421.649,-366.5335\"/>\n<polygon fill=\"#000000\" stroke=\"#000000\" points=\"5422.3434,-369.9689 5431.7225,-365.0411 5421.3175,-363.0445 5422.3434,-369.9689\"/>\n</g>\n<!-- 38 -->\n<g id=\"node39\" class=\"node\">\n<title>38</title>\n<polygon fill=\"#f2c09c\" stroke=\"#000000\" points=\"5421,-261 4436,-261 4436,-193 5421,-193 5421,-261\"/>\n<text text-anchor=\"middle\" x=\"4928.5\" y=\"-245.8\" font-family=\"Helvetica,sans-Serif\" font-size=\"14.00\" fill=\"#000000\">Apoio administrativo institucional no processo de patenteamento, principalmente do Núcleo de Inovação Tecnológica (NIT) da sua universidade &lt;= 4.5</text>\n<text text-anchor=\"middle\" x=\"4928.5\" y=\"-230.8\" font-family=\"Helvetica,sans-Serif\" font-size=\"14.00\" fill=\"#000000\">entropy = 0.918</text>\n<text text-anchor=\"middle\" x=\"4928.5\" y=\"-215.8\" font-family=\"Helvetica,sans-Serif\" font-size=\"14.00\" fill=\"#000000\">samples = 9</text>\n<text text-anchor=\"middle\" x=\"4928.5\" y=\"-200.8\" font-family=\"Helvetica,sans-Serif\" font-size=\"14.00\" fill=\"#000000\">value = [6, 3, 0, 0]</text>\n</g>\n<!-- 37&#45;&gt;38 -->\n<g id=\"edge38\" class=\"edge\">\n<title>37&#45;&gt;38</title>\n<path fill=\"none\" stroke=\"#000000\" d=\"M4949.3494,-296.9465C4946.8605,-288.5965 4944.1618,-279.5427 4941.5574,-270.8056\"/>\n<polygon fill=\"#000000\" stroke=\"#000000\" points=\"4944.8842,-269.7135 4938.6734,-261.13 4938.1758,-271.7131 4944.8842,-269.7135\"/>\n</g>\n<!-- 41 -->\n<g id=\"node42\" class=\"node\">\n<title>41</title>\n<polygon fill=\"#47e539\" stroke=\"#000000\" points=\"5578,-253.5 5439,-253.5 5439,-200.5 5578,-200.5 5578,-253.5\"/>\n<text text-anchor=\"middle\" x=\"5508.5\" y=\"-238.3\" font-family=\"Helvetica,sans-Serif\" font-size=\"14.00\" fill=\"#000000\">entropy = 0.0</text>\n<text text-anchor=\"middle\" x=\"5508.5\" y=\"-223.3\" font-family=\"Helvetica,sans-Serif\" font-size=\"14.00\" fill=\"#000000\">samples = 10</text>\n<text text-anchor=\"middle\" x=\"5508.5\" y=\"-208.3\" font-family=\"Helvetica,sans-Serif\" font-size=\"14.00\" fill=\"#000000\">value = [0, 10, 0, 0]</text>\n</g>\n<!-- 37&#45;&gt;41 -->\n<g id=\"edge41\" class=\"edge\">\n<title>37&#45;&gt;41</title>\n<path fill=\"none\" stroke=\"#000000\" d=\"M5191.7777,-302.0705C5286.5516,-289.087 5384.37,-273.8374 5429.5,-261 5433.5393,-259.851 5437.6445,-258.5441 5441.7525,-257.1279\"/>\n<polygon fill=\"#000000\" stroke=\"#000000\" points=\"5443.1135,-260.3572 5451.313,-253.6477 5440.719,-253.7795 5443.1135,-260.3572\"/>\n</g>\n<!-- 39 -->\n<g id=\"node40\" class=\"node\">\n<title>39</title>\n<polygon fill=\"#e58139\" stroke=\"#000000\" points=\"4919,-149.5 4788,-149.5 4788,-96.5 4919,-96.5 4919,-149.5\"/>\n<text text-anchor=\"middle\" x=\"4853.5\" y=\"-134.3\" font-family=\"Helvetica,sans-Serif\" font-size=\"14.00\" fill=\"#000000\">entropy = 0.0</text>\n<text text-anchor=\"middle\" x=\"4853.5\" y=\"-119.3\" font-family=\"Helvetica,sans-Serif\" font-size=\"14.00\" fill=\"#000000\">samples = 4</text>\n<text text-anchor=\"middle\" x=\"4853.5\" y=\"-104.3\" font-family=\"Helvetica,sans-Serif\" font-size=\"14.00\" fill=\"#000000\">value = [4, 0, 0, 0]</text>\n</g>\n<!-- 38&#45;&gt;39 -->\n<g id=\"edge39\" class=\"edge\">\n<title>38&#45;&gt;39</title>\n<path fill=\"none\" stroke=\"#000000\" d=\"M4903.9422,-192.9465C4895.8399,-181.7113 4886.8188,-169.2021 4878.6714,-157.9043\"/>\n<polygon fill=\"#000000\" stroke=\"#000000\" points=\"4881.3291,-155.6058 4872.641,-149.5422 4875.6514,-159.7003 4881.3291,-155.6058\"/>\n</g>\n<!-- 40 -->\n<g id=\"node41\" class=\"node\">\n<title>40</title>\n<polygon fill=\"#c2f6bd\" stroke=\"#000000\" points=\"5068,-149.5 4937,-149.5 4937,-96.5 5068,-96.5 5068,-149.5\"/>\n<text text-anchor=\"middle\" x=\"5002.5\" y=\"-134.3\" font-family=\"Helvetica,sans-Serif\" font-size=\"14.00\" fill=\"#000000\">entropy = 0.971</text>\n<text text-anchor=\"middle\" x=\"5002.5\" y=\"-119.3\" font-family=\"Helvetica,sans-Serif\" font-size=\"14.00\" fill=\"#000000\">samples = 5</text>\n<text text-anchor=\"middle\" x=\"5002.5\" y=\"-104.3\" font-family=\"Helvetica,sans-Serif\" font-size=\"14.00\" fill=\"#000000\">value = [2, 3, 0, 0]</text>\n</g>\n<!-- 38&#45;&gt;40 -->\n<g id=\"edge40\" class=\"edge\">\n<title>38&#45;&gt;40</title>\n<path fill=\"none\" stroke=\"#000000\" d=\"M4952.7304,-192.9465C4960.7246,-181.7113 4969.6254,-169.2021 4977.6642,-157.9043\"/>\n<polygon fill=\"#000000\" stroke=\"#000000\" points=\"4980.6684,-159.7192 4983.6142,-149.5422 4974.9649,-155.6609 4980.6684,-159.7192\"/>\n</g>\n<!-- 43 -->\n<g id=\"node44\" class=\"node\">\n<title>43</title>\n<polygon fill=\"#e58139\" stroke=\"#000000\" points=\"5727,-253.5 5596,-253.5 5596,-200.5 5727,-200.5 5727,-253.5\"/>\n<text text-anchor=\"middle\" x=\"5661.5\" y=\"-238.3\" font-family=\"Helvetica,sans-Serif\" font-size=\"14.00\" fill=\"#000000\">entropy = 0.0</text>\n<text text-anchor=\"middle\" x=\"5661.5\" y=\"-223.3\" font-family=\"Helvetica,sans-Serif\" font-size=\"14.00\" fill=\"#000000\">samples = 4</text>\n<text text-anchor=\"middle\" x=\"5661.5\" y=\"-208.3\" font-family=\"Helvetica,sans-Serif\" font-size=\"14.00\" fill=\"#000000\">value = [4, 0, 0, 0]</text>\n</g>\n<!-- 42&#45;&gt;43 -->\n<g id=\"edge43\" class=\"edge\">\n<title>42&#45;&gt;43</title>\n<path fill=\"none\" stroke=\"#000000\" d=\"M5661.5,-296.9465C5661.5,-286.2621 5661.5,-274.4254 5661.5,-263.5742\"/>\n<polygon fill=\"#000000\" stroke=\"#000000\" points=\"5665.0001,-263.5421 5661.5,-253.5422 5658.0001,-263.5422 5665.0001,-263.5421\"/>\n</g>\n<!-- 44 -->\n<g id=\"node45\" class=\"node\">\n<title>44</title>\n<polygon fill=\"#d1f8ce\" stroke=\"#000000\" points=\"5876,-253.5 5745,-253.5 5745,-200.5 5876,-200.5 5876,-253.5\"/>\n<text text-anchor=\"middle\" x=\"5810.5\" y=\"-238.3\" font-family=\"Helvetica,sans-Serif\" font-size=\"14.00\" fill=\"#000000\">entropy = 1.459</text>\n<text text-anchor=\"middle\" x=\"5810.5\" y=\"-223.3\" font-family=\"Helvetica,sans-Serif\" font-size=\"14.00\" fill=\"#000000\">samples = 6</text>\n<text text-anchor=\"middle\" x=\"5810.5\" y=\"-208.3\" font-family=\"Helvetica,sans-Serif\" font-size=\"14.00\" fill=\"#000000\">value = [2, 3, 1, 0]</text>\n</g>\n<!-- 42&#45;&gt;44 -->\n<g id=\"edge44\" class=\"edge\">\n<title>42&#45;&gt;44</title>\n<path fill=\"none\" stroke=\"#000000\" d=\"M5710.2882,-296.9465C5727.6472,-284.8301 5747.1291,-271.232 5764.2676,-259.2696\"/>\n<polygon fill=\"#000000\" stroke=\"#000000\" points=\"5766.2764,-262.1358 5772.4732,-253.5422 5762.2699,-256.3957 5766.2764,-262.1358\"/>\n</g>\n</g>\n</svg>\n",
            "text/plain": [
              "<graphviz.files.Source at 0x7f29625c7890>"
            ]
          },
          "metadata": {},
          "output_type": "display_data"
        },
        {
          "data": {
            "text/plain": [
              "['mean_test_accuracy',\n",
              " 'mean_test_balanced_accuracy',\n",
              " 'mean_test_f1_micro',\n",
              " 'mean_test_f1_macro',\n",
              " 'mean_test_precision_micro',\n",
              " 'mean_test_recall_micro',\n",
              " 'mean_test_precision_macro',\n",
              " 'mean_test_recall_macro']"
            ]
          },
          "metadata": {},
          "output_type": "display_data"
        },
        {
          "data": {
            "application/vnd.google.colaboratory.intrinsic+json": {
              "type": "string"
            },
            "text/plain": [
              "'precision_micro'"
            ]
          },
          "metadata": {},
          "output_type": "display_data"
        },
        {
          "data": {
            "text/plain": [
              "{'criterion': 'entropy',\n",
              " 'max_depth': 1,\n",
              " 'min_samples_leaf': 5,\n",
              " 'min_samples_split': 2}"
            ]
          },
          "metadata": {},
          "output_type": "display_data"
        },
        {
          "data": {
            "text/plain": [
              "mean_test_accuracy             0.530498\n",
              "mean_test_balanced_accuracy    0.252254\n",
              "mean_test_f1_micro             0.530498\n",
              "mean_test_f1_macro             0.194537\n",
              "mean_test_precision_micro      0.530498\n",
              "mean_test_recall_micro         0.530498\n",
              "mean_test_precision_macro      0.163294\n",
              "mean_test_recall_macro         0.252254\n",
              "Name: 270, dtype: object"
            ]
          },
          "metadata": {},
          "output_type": "display_data"
        },
        {
          "data": {
            "image/svg+xml": "<?xml version=\"1.0\" encoding=\"UTF-8\" standalone=\"no\"?>\n<!DOCTYPE svg PUBLIC \"-//W3C//DTD SVG 1.1//EN\"\n \"http://www.w3.org/Graphics/SVG/1.1/DTD/svg11.dtd\">\n<!-- Generated by graphviz version 2.40.1 (20161225.0304)\n -->\n<!-- Title: Tree Pages: 1 -->\n<svg width=\"709pt\" height=\"165pt\"\n viewBox=\"0.00 0.00 709.00 165.00\" xmlns=\"http://www.w3.org/2000/svg\" xmlns:xlink=\"http://www.w3.org/1999/xlink\">\n<g id=\"graph0\" class=\"graph\" transform=\"scale(1 1) rotate(0) translate(4 161)\">\n<title>Tree</title>\n<polygon fill=\"#ffffff\" stroke=\"transparent\" points=\"-4,4 -4,-161 705,-161 705,4 -4,4\"/>\n<!-- 0 -->\n<g id=\"node1\" class=\"node\">\n<title>0</title>\n<polygon fill=\"#f7d6bf\" stroke=\"#000000\" points=\"701,-157 0,-157 0,-89 701,-89 701,-157\"/>\n<text text-anchor=\"middle\" x=\"350.5\" y=\"-141.8\" font-family=\"Helvetica,sans-Serif\" font-size=\"14.00\" fill=\"#000000\">Relações e cooperação de mercado com a indústria, inclusive com atração de recursos financeiros &lt;= 3.5</text>\n<text text-anchor=\"middle\" x=\"350.5\" y=\"-126.8\" font-family=\"Helvetica,sans-Serif\" font-size=\"14.00\" fill=\"#000000\">entropy = 1.457</text>\n<text text-anchor=\"middle\" x=\"350.5\" y=\"-111.8\" font-family=\"Helvetica,sans-Serif\" font-size=\"14.00\" fill=\"#000000\">samples = 131</text>\n<text text-anchor=\"middle\" x=\"350.5\" y=\"-96.8\" font-family=\"Helvetica,sans-Serif\" font-size=\"14.00\" fill=\"#000000\">value = [72, 44, 11, 4]</text>\n</g>\n<!-- 1 -->\n<g id=\"node2\" class=\"node\">\n<title>1</title>\n<polygon fill=\"#eda978\" stroke=\"#000000\" points=\"338,-53 199,-53 199,0 338,0 338,-53\"/>\n<text text-anchor=\"middle\" x=\"268.5\" y=\"-37.8\" font-family=\"Helvetica,sans-Serif\" font-size=\"14.00\" fill=\"#000000\">entropy = 1.243</text>\n<text text-anchor=\"middle\" x=\"268.5\" y=\"-22.8\" font-family=\"Helvetica,sans-Serif\" font-size=\"14.00\" fill=\"#000000\">samples = 22</text>\n<text text-anchor=\"middle\" x=\"268.5\" y=\"-7.8\" font-family=\"Helvetica,sans-Serif\" font-size=\"14.00\" fill=\"#000000\">value = [16, 2, 1, 3]</text>\n</g>\n<!-- 0&#45;&gt;1 -->\n<g id=\"edge1\" class=\"edge\">\n<title>0&#45;&gt;1</title>\n<path fill=\"none\" stroke=\"#000000\" d=\"M321.5899,-88.9777C313.8866,-79.9123 305.5581,-70.111 297.8324,-61.0192\"/>\n<polygon fill=\"#000000\" stroke=\"#000000\" points=\"300.3718,-58.6025 291.2293,-53.2485 295.0375,-63.1352 300.3718,-58.6025\"/>\n<text text-anchor=\"middle\" x=\"289.2051\" y=\"-74.4664\" font-family=\"Helvetica,sans-Serif\" font-size=\"14.00\" fill=\"#000000\">True</text>\n</g>\n<!-- 2 -->\n<g id=\"node3\" class=\"node\">\n<title>2</title>\n<polygon fill=\"#fae5d6\" stroke=\"#000000\" points=\"511,-53 356,-53 356,0 511,0 511,-53\"/>\n<text text-anchor=\"middle\" x=\"433.5\" y=\"-37.8\" font-family=\"Helvetica,sans-Serif\" font-size=\"14.00\" fill=\"#000000\">entropy = 1.402</text>\n<text text-anchor=\"middle\" x=\"433.5\" y=\"-22.8\" font-family=\"Helvetica,sans-Serif\" font-size=\"14.00\" fill=\"#000000\">samples = 109</text>\n<text text-anchor=\"middle\" x=\"433.5\" y=\"-7.8\" font-family=\"Helvetica,sans-Serif\" font-size=\"14.00\" fill=\"#000000\">value = [56, 42, 10, 1]</text>\n</g>\n<!-- 0&#45;&gt;2 -->\n<g id=\"edge2\" class=\"edge\">\n<title>0&#45;&gt;2</title>\n<path fill=\"none\" stroke=\"#000000\" d=\"M379.7627,-88.9777C387.5599,-79.9123 395.99,-70.111 403.8099,-61.0192\"/>\n<polygon fill=\"#000000\" stroke=\"#000000\" points=\"406.6262,-63.1123 410.4935,-53.2485 401.3191,-58.5477 406.6262,-63.1123\"/>\n<text text-anchor=\"middle\" x=\"412.3685\" y=\"-74.4781\" font-family=\"Helvetica,sans-Serif\" font-size=\"14.00\" fill=\"#000000\">False</text>\n</g>\n</g>\n</svg>\n",
            "text/plain": [
              "<graphviz.files.Source at 0x7f2962673910>"
            ]
          },
          "metadata": {},
          "output_type": "display_data"
        },
        {
          "data": {
            "text/plain": [
              "['mean_test_accuracy',\n",
              " 'mean_test_balanced_accuracy',\n",
              " 'mean_test_f1_micro',\n",
              " 'mean_test_f1_macro',\n",
              " 'mean_test_precision_micro',\n",
              " 'mean_test_recall_micro',\n",
              " 'mean_test_precision_macro',\n",
              " 'mean_test_recall_macro']"
            ]
          },
          "metadata": {},
          "output_type": "display_data"
        },
        {
          "data": {
            "application/vnd.google.colaboratory.intrinsic+json": {
              "type": "string"
            },
            "text/plain": [
              "'recall_micro'"
            ]
          },
          "metadata": {},
          "output_type": "display_data"
        },
        {
          "data": {
            "text/plain": [
              "{'criterion': 'entropy',\n",
              " 'max_depth': 1,\n",
              " 'min_samples_leaf': 5,\n",
              " 'min_samples_split': 2}"
            ]
          },
          "metadata": {},
          "output_type": "display_data"
        },
        {
          "data": {
            "text/plain": [
              "mean_test_accuracy             0.530498\n",
              "mean_test_balanced_accuracy    0.252254\n",
              "mean_test_f1_micro             0.530498\n",
              "mean_test_f1_macro             0.194537\n",
              "mean_test_precision_micro      0.530498\n",
              "mean_test_recall_micro         0.530498\n",
              "mean_test_precision_macro      0.163294\n",
              "mean_test_recall_macro         0.252254\n",
              "Name: 270, dtype: object"
            ]
          },
          "metadata": {},
          "output_type": "display_data"
        },
        {
          "data": {
            "image/svg+xml": "<?xml version=\"1.0\" encoding=\"UTF-8\" standalone=\"no\"?>\n<!DOCTYPE svg PUBLIC \"-//W3C//DTD SVG 1.1//EN\"\n \"http://www.w3.org/Graphics/SVG/1.1/DTD/svg11.dtd\">\n<!-- Generated by graphviz version 2.40.1 (20161225.0304)\n -->\n<!-- Title: Tree Pages: 1 -->\n<svg width=\"709pt\" height=\"165pt\"\n viewBox=\"0.00 0.00 709.00 165.00\" xmlns=\"http://www.w3.org/2000/svg\" xmlns:xlink=\"http://www.w3.org/1999/xlink\">\n<g id=\"graph0\" class=\"graph\" transform=\"scale(1 1) rotate(0) translate(4 161)\">\n<title>Tree</title>\n<polygon fill=\"#ffffff\" stroke=\"transparent\" points=\"-4,4 -4,-161 705,-161 705,4 -4,4\"/>\n<!-- 0 -->\n<g id=\"node1\" class=\"node\">\n<title>0</title>\n<polygon fill=\"#f7d6bf\" stroke=\"#000000\" points=\"701,-157 0,-157 0,-89 701,-89 701,-157\"/>\n<text text-anchor=\"middle\" x=\"350.5\" y=\"-141.8\" font-family=\"Helvetica,sans-Serif\" font-size=\"14.00\" fill=\"#000000\">Relações e cooperação de mercado com a indústria, inclusive com atração de recursos financeiros &lt;= 3.5</text>\n<text text-anchor=\"middle\" x=\"350.5\" y=\"-126.8\" font-family=\"Helvetica,sans-Serif\" font-size=\"14.00\" fill=\"#000000\">entropy = 1.457</text>\n<text text-anchor=\"middle\" x=\"350.5\" y=\"-111.8\" font-family=\"Helvetica,sans-Serif\" font-size=\"14.00\" fill=\"#000000\">samples = 131</text>\n<text text-anchor=\"middle\" x=\"350.5\" y=\"-96.8\" font-family=\"Helvetica,sans-Serif\" font-size=\"14.00\" fill=\"#000000\">value = [72, 44, 11, 4]</text>\n</g>\n<!-- 1 -->\n<g id=\"node2\" class=\"node\">\n<title>1</title>\n<polygon fill=\"#eda978\" stroke=\"#000000\" points=\"338,-53 199,-53 199,0 338,0 338,-53\"/>\n<text text-anchor=\"middle\" x=\"268.5\" y=\"-37.8\" font-family=\"Helvetica,sans-Serif\" font-size=\"14.00\" fill=\"#000000\">entropy = 1.243</text>\n<text text-anchor=\"middle\" x=\"268.5\" y=\"-22.8\" font-family=\"Helvetica,sans-Serif\" font-size=\"14.00\" fill=\"#000000\">samples = 22</text>\n<text text-anchor=\"middle\" x=\"268.5\" y=\"-7.8\" font-family=\"Helvetica,sans-Serif\" font-size=\"14.00\" fill=\"#000000\">value = [16, 2, 1, 3]</text>\n</g>\n<!-- 0&#45;&gt;1 -->\n<g id=\"edge1\" class=\"edge\">\n<title>0&#45;&gt;1</title>\n<path fill=\"none\" stroke=\"#000000\" d=\"M321.5899,-88.9777C313.8866,-79.9123 305.5581,-70.111 297.8324,-61.0192\"/>\n<polygon fill=\"#000000\" stroke=\"#000000\" points=\"300.3718,-58.6025 291.2293,-53.2485 295.0375,-63.1352 300.3718,-58.6025\"/>\n<text text-anchor=\"middle\" x=\"289.2051\" y=\"-74.4664\" font-family=\"Helvetica,sans-Serif\" font-size=\"14.00\" fill=\"#000000\">True</text>\n</g>\n<!-- 2 -->\n<g id=\"node3\" class=\"node\">\n<title>2</title>\n<polygon fill=\"#fae5d6\" stroke=\"#000000\" points=\"511,-53 356,-53 356,0 511,0 511,-53\"/>\n<text text-anchor=\"middle\" x=\"433.5\" y=\"-37.8\" font-family=\"Helvetica,sans-Serif\" font-size=\"14.00\" fill=\"#000000\">entropy = 1.402</text>\n<text text-anchor=\"middle\" x=\"433.5\" y=\"-22.8\" font-family=\"Helvetica,sans-Serif\" font-size=\"14.00\" fill=\"#000000\">samples = 109</text>\n<text text-anchor=\"middle\" x=\"433.5\" y=\"-7.8\" font-family=\"Helvetica,sans-Serif\" font-size=\"14.00\" fill=\"#000000\">value = [56, 42, 10, 1]</text>\n</g>\n<!-- 0&#45;&gt;2 -->\n<g id=\"edge2\" class=\"edge\">\n<title>0&#45;&gt;2</title>\n<path fill=\"none\" stroke=\"#000000\" d=\"M379.7627,-88.9777C387.5599,-79.9123 395.99,-70.111 403.8099,-61.0192\"/>\n<polygon fill=\"#000000\" stroke=\"#000000\" points=\"406.6262,-63.1123 410.4935,-53.2485 401.3191,-58.5477 406.6262,-63.1123\"/>\n<text text-anchor=\"middle\" x=\"412.3685\" y=\"-74.4781\" font-family=\"Helvetica,sans-Serif\" font-size=\"14.00\" fill=\"#000000\">False</text>\n</g>\n</g>\n</svg>\n",
            "text/plain": [
              "<graphviz.files.Source at 0x7f2962673a10>"
            ]
          },
          "metadata": {},
          "output_type": "display_data"
        },
        {
          "data": {
            "text/plain": [
              "['mean_test_accuracy',\n",
              " 'mean_test_balanced_accuracy',\n",
              " 'mean_test_f1_micro',\n",
              " 'mean_test_f1_macro',\n",
              " 'mean_test_precision_micro',\n",
              " 'mean_test_recall_micro',\n",
              " 'mean_test_precision_macro',\n",
              " 'mean_test_recall_macro']"
            ]
          },
          "metadata": {},
          "output_type": "display_data"
        },
        {
          "data": {
            "application/vnd.google.colaboratory.intrinsic+json": {
              "type": "string"
            },
            "text/plain": [
              "'precision_macro'"
            ]
          },
          "metadata": {},
          "output_type": "display_data"
        },
        {
          "data": {
            "text/plain": [
              "{'criterion': 'entropy',\n",
              " 'max_depth': 10,\n",
              " 'min_samples_leaf': 4,\n",
              " 'min_samples_split': 5}"
            ]
          },
          "metadata": {},
          "output_type": "display_data"
        },
        {
          "data": {
            "text/plain": [
              "mean_test_accuracy             0.461352\n",
              "mean_test_balanced_accuracy    0.259083\n",
              "mean_test_f1_micro             0.461352\n",
              "mean_test_f1_macro             0.248804\n",
              "mean_test_precision_micro      0.461352\n",
              "mean_test_recall_micro         0.461352\n",
              "mean_test_precision_macro      0.251721\n",
              "mean_test_recall_macro         0.259083\n",
              "Name: 493, dtype: object"
            ]
          },
          "metadata": {},
          "output_type": "display_data"
        },
        {
          "data": {
            "image/svg+xml": "<?xml version=\"1.0\" encoding=\"UTF-8\" standalone=\"no\"?>\n<!DOCTYPE svg PUBLIC \"-//W3C//DTD SVG 1.1//EN\"\n \"http://www.w3.org/Graphics/SVG/1.1/DTD/svg11.dtd\">\n<!-- Generated by graphviz version 2.40.1 (20161225.0304)\n -->\n<!-- Title: Tree Pages: 1 -->\n<svg width=\"6150pt\" height=\"789pt\"\n viewBox=\"0.00 0.00 6150.00 789.00\" xmlns=\"http://www.w3.org/2000/svg\" xmlns:xlink=\"http://www.w3.org/1999/xlink\">\n<g id=\"graph0\" class=\"graph\" transform=\"scale(1 1) rotate(0) translate(4 785)\">\n<title>Tree</title>\n<polygon fill=\"#ffffff\" stroke=\"transparent\" points=\"-4,4 -4,-785 6146,-785 6146,4 -4,4\"/>\n<!-- 0 -->\n<g id=\"node1\" class=\"node\">\n<title>0</title>\n<polygon fill=\"#f7d6bf\" stroke=\"#000000\" points=\"1941,-781 1240,-781 1240,-713 1941,-713 1941,-781\"/>\n<text text-anchor=\"middle\" x=\"1590.5\" y=\"-765.8\" font-family=\"Helvetica,sans-Serif\" font-size=\"14.00\" fill=\"#000000\">Relações e cooperação de mercado com a indústria, inclusive com atração de recursos financeiros &lt;= 3.5</text>\n<text text-anchor=\"middle\" x=\"1590.5\" y=\"-750.8\" font-family=\"Helvetica,sans-Serif\" font-size=\"14.00\" fill=\"#000000\">entropy = 1.457</text>\n<text text-anchor=\"middle\" x=\"1590.5\" y=\"-735.8\" font-family=\"Helvetica,sans-Serif\" font-size=\"14.00\" fill=\"#000000\">samples = 131</text>\n<text text-anchor=\"middle\" x=\"1590.5\" y=\"-720.8\" font-family=\"Helvetica,sans-Serif\" font-size=\"14.00\" fill=\"#000000\">value = [72, 44, 11, 4]</text>\n</g>\n<!-- 1 -->\n<g id=\"node2\" class=\"node\">\n<title>1</title>\n<polygon fill=\"#eda978\" stroke=\"#000000\" points=\"1481.5,-677 821.5,-677 821.5,-609 1481.5,-609 1481.5,-677\"/>\n<text text-anchor=\"middle\" x=\"1151.5\" y=\"-661.8\" font-family=\"Helvetica,sans-Serif\" font-size=\"14.00\" fill=\"#000000\">Aumento da renda pessoal e/ou benefícios econômicos decorrente da atividade de pesquisa &lt;= 3.5</text>\n<text text-anchor=\"middle\" x=\"1151.5\" y=\"-646.8\" font-family=\"Helvetica,sans-Serif\" font-size=\"14.00\" fill=\"#000000\">entropy = 1.243</text>\n<text text-anchor=\"middle\" x=\"1151.5\" y=\"-631.8\" font-family=\"Helvetica,sans-Serif\" font-size=\"14.00\" fill=\"#000000\">samples = 22</text>\n<text text-anchor=\"middle\" x=\"1151.5\" y=\"-616.8\" font-family=\"Helvetica,sans-Serif\" font-size=\"14.00\" fill=\"#000000\">value = [16, 2, 1, 3]</text>\n</g>\n<!-- 0&#45;&gt;1 -->\n<g id=\"edge1\" class=\"edge\">\n<title>0&#45;&gt;1</title>\n<path fill=\"none\" stroke=\"#000000\" d=\"M1446.755,-712.9465C1401.348,-702.1895 1351.0113,-690.2646 1304.9529,-679.3533\"/>\n<polygon fill=\"#000000\" stroke=\"#000000\" points=\"1305.7303,-675.9407 1295.1928,-677.0411 1304.1166,-682.7521 1305.7303,-675.9407\"/>\n<text text-anchor=\"middle\" x=\"1308.3193\" y=\"-694.6178\" font-family=\"Helvetica,sans-Serif\" font-size=\"14.00\" fill=\"#000000\">True</text>\n</g>\n<!-- 8 -->\n<g id=\"node9\" class=\"node\">\n<title>8</title>\n<polygon fill=\"#fae5d6\" stroke=\"#000000\" points=\"2209.5,-677 1549.5,-677 1549.5,-609 2209.5,-609 2209.5,-677\"/>\n<text text-anchor=\"middle\" x=\"1879.5\" y=\"-661.8\" font-family=\"Helvetica,sans-Serif\" font-size=\"14.00\" fill=\"#000000\">Aumento da renda pessoal e/ou benefícios econômicos decorrente da atividade de pesquisa &lt;= 2.5</text>\n<text text-anchor=\"middle\" x=\"1879.5\" y=\"-646.8\" font-family=\"Helvetica,sans-Serif\" font-size=\"14.00\" fill=\"#000000\">entropy = 1.402</text>\n<text text-anchor=\"middle\" x=\"1879.5\" y=\"-631.8\" font-family=\"Helvetica,sans-Serif\" font-size=\"14.00\" fill=\"#000000\">samples = 109</text>\n<text text-anchor=\"middle\" x=\"1879.5\" y=\"-616.8\" font-family=\"Helvetica,sans-Serif\" font-size=\"14.00\" fill=\"#000000\">value = [56, 42, 10, 1]</text>\n</g>\n<!-- 0&#45;&gt;8 -->\n<g id=\"edge8\" class=\"edge\">\n<title>0&#45;&gt;8</title>\n<path fill=\"none\" stroke=\"#000000\" d=\"M1685.1294,-712.9465C1713.9466,-702.5763 1745.78,-691.1207 1775.1983,-680.5342\"/>\n<polygon fill=\"#000000\" stroke=\"#000000\" points=\"1776.4338,-683.8094 1784.658,-677.13 1774.0636,-677.2229 1776.4338,-683.8094\"/>\n<text text-anchor=\"middle\" x=\"1774.0103\" y=\"-696.0492\" font-family=\"Helvetica,sans-Serif\" font-size=\"14.00\" fill=\"#000000\">False</text>\n</g>\n<!-- 2 -->\n<g id=\"node3\" class=\"node\">\n<title>2</title>\n<polygon fill=\"#eca36e\" stroke=\"#000000\" points=\"1017.5,-573 149.5,-573 149.5,-505 1017.5,-505 1017.5,-573\"/>\n<text text-anchor=\"middle\" x=\"583.5\" y=\"-557.8\" font-family=\"Helvetica,sans-Serif\" font-size=\"14.00\" fill=\"#000000\">Participação em viagens e/ou experiências em outros lugares/culturas como influência para o desenvolvimento de pesquisas &lt;= 2.5</text>\n<text text-anchor=\"middle\" x=\"583.5\" y=\"-542.8\" font-family=\"Helvetica,sans-Serif\" font-size=\"14.00\" fill=\"#000000\">entropy = 0.944</text>\n<text text-anchor=\"middle\" x=\"583.5\" y=\"-527.8\" font-family=\"Helvetica,sans-Serif\" font-size=\"14.00\" fill=\"#000000\">samples = 18</text>\n<text text-anchor=\"middle\" x=\"583.5\" y=\"-512.8\" font-family=\"Helvetica,sans-Serif\" font-size=\"14.00\" fill=\"#000000\">value = [14, 0, 1, 3]</text>\n</g>\n<!-- 1&#45;&gt;2 -->\n<g id=\"edge2\" class=\"edge\">\n<title>1&#45;&gt;2</title>\n<path fill=\"none\" stroke=\"#000000\" d=\"M965.5156,-608.9465C905.9054,-598.032 839.7287,-585.9151 779.4305,-574.8746\"/>\n<polygon fill=\"#000000\" stroke=\"#000000\" points=\"779.8837,-571.3995 769.4169,-573.0411 778.623,-578.285 779.8837,-571.3995\"/>\n</g>\n<!-- 7 -->\n<g id=\"node8\" class=\"node\">\n<title>7</title>\n<polygon fill=\"#ffffff\" stroke=\"#000000\" points=\"1217,-565.5 1086,-565.5 1086,-512.5 1217,-512.5 1217,-565.5\"/>\n<text text-anchor=\"middle\" x=\"1151.5\" y=\"-550.3\" font-family=\"Helvetica,sans-Serif\" font-size=\"14.00\" fill=\"#000000\">entropy = 1.0</text>\n<text text-anchor=\"middle\" x=\"1151.5\" y=\"-535.3\" font-family=\"Helvetica,sans-Serif\" font-size=\"14.00\" fill=\"#000000\">samples = 4</text>\n<text text-anchor=\"middle\" x=\"1151.5\" y=\"-520.3\" font-family=\"Helvetica,sans-Serif\" font-size=\"14.00\" fill=\"#000000\">value = [2, 2, 0, 0]</text>\n</g>\n<!-- 1&#45;&gt;7 -->\n<g id=\"edge7\" class=\"edge\">\n<title>1&#45;&gt;7</title>\n<path fill=\"none\" stroke=\"#000000\" d=\"M1151.5,-608.9465C1151.5,-598.2621 1151.5,-586.4254 1151.5,-575.5742\"/>\n<polygon fill=\"#000000\" stroke=\"#000000\" points=\"1155.0001,-575.5421 1151.5,-565.5422 1148.0001,-575.5422 1155.0001,-575.5421\"/>\n</g>\n<!-- 3 -->\n<g id=\"node4\" class=\"node\">\n<title>3</title>\n<polygon fill=\"#e58139\" stroke=\"#000000\" points=\"131,-461.5 0,-461.5 0,-408.5 131,-408.5 131,-461.5\"/>\n<text text-anchor=\"middle\" x=\"65.5\" y=\"-446.3\" font-family=\"Helvetica,sans-Serif\" font-size=\"14.00\" fill=\"#000000\">entropy = 0.0</text>\n<text text-anchor=\"middle\" x=\"65.5\" y=\"-431.3\" font-family=\"Helvetica,sans-Serif\" font-size=\"14.00\" fill=\"#000000\">samples = 7</text>\n<text text-anchor=\"middle\" x=\"65.5\" y=\"-416.3\" font-family=\"Helvetica,sans-Serif\" font-size=\"14.00\" fill=\"#000000\">value = [7, 0, 0, 0]</text>\n</g>\n<!-- 2&#45;&gt;3 -->\n<g id=\"edge3\" class=\"edge\">\n<title>2&#45;&gt;3</title>\n<path fill=\"none\" stroke=\"#000000\" d=\"M295.2969,-504.9917C243.2184,-495.596 189.8204,-483.7807 140.5,-469 136.7554,-467.8778 132.9551,-466.6074 129.1536,-465.2333\"/>\n<polygon fill=\"#000000\" stroke=\"#000000\" points=\"130.3237,-461.9336 119.7332,-461.6294 127.8225,-468.4715 130.3237,-461.9336\"/>\n</g>\n<!-- 4 -->\n<g id=\"node5\" class=\"node\">\n<title>4</title>\n<polygon fill=\"#f2c09c\" stroke=\"#000000\" points=\"1017.5,-469 149.5,-469 149.5,-401 1017.5,-401 1017.5,-469\"/>\n<text text-anchor=\"middle\" x=\"583.5\" y=\"-453.8\" font-family=\"Helvetica,sans-Serif\" font-size=\"14.00\" fill=\"#000000\">Participação em viagens e/ou experiências em outros lugares/culturas como influência para o desenvolvimento de pesquisas &lt;= 4.5</text>\n<text text-anchor=\"middle\" x=\"583.5\" y=\"-438.8\" font-family=\"Helvetica,sans-Serif\" font-size=\"14.00\" fill=\"#000000\">entropy = 1.241</text>\n<text text-anchor=\"middle\" x=\"583.5\" y=\"-423.8\" font-family=\"Helvetica,sans-Serif\" font-size=\"14.00\" fill=\"#000000\">samples = 11</text>\n<text text-anchor=\"middle\" x=\"583.5\" y=\"-408.8\" font-family=\"Helvetica,sans-Serif\" font-size=\"14.00\" fill=\"#000000\">value = [7, 0, 1, 3]</text>\n</g>\n<!-- 2&#45;&gt;4 -->\n<g id=\"edge4\" class=\"edge\">\n<title>2&#45;&gt;4</title>\n<path fill=\"none\" stroke=\"#000000\" d=\"M583.5,-504.9465C583.5,-496.776 583.5,-487.9318 583.5,-479.3697\"/>\n<polygon fill=\"#000000\" stroke=\"#000000\" points=\"587.0001,-479.13 583.5,-469.13 580.0001,-479.13 587.0001,-479.13\"/>\n</g>\n<!-- 5 -->\n<g id=\"node6\" class=\"node\">\n<title>5</title>\n<polygon fill=\"#f5cef8\" stroke=\"#000000\" points=\"575,-357.5 444,-357.5 444,-304.5 575,-304.5 575,-357.5\"/>\n<text text-anchor=\"middle\" x=\"509.5\" y=\"-342.3\" font-family=\"Helvetica,sans-Serif\" font-size=\"14.00\" fill=\"#000000\">entropy = 1.459</text>\n<text text-anchor=\"middle\" x=\"509.5\" y=\"-327.3\" font-family=\"Helvetica,sans-Serif\" font-size=\"14.00\" fill=\"#000000\">samples = 6</text>\n<text text-anchor=\"middle\" x=\"509.5\" y=\"-312.3\" font-family=\"Helvetica,sans-Serif\" font-size=\"14.00\" fill=\"#000000\">value = [2, 0, 1, 3]</text>\n</g>\n<!-- 4&#45;&gt;5 -->\n<g id=\"edge5\" class=\"edge\">\n<title>4&#45;&gt;5</title>\n<path fill=\"none\" stroke=\"#000000\" d=\"M559.2696,-400.9465C551.2754,-389.7113 542.3746,-377.2021 534.3358,-365.9043\"/>\n<polygon fill=\"#000000\" stroke=\"#000000\" points=\"537.0351,-363.6609 528.3858,-357.5422 531.3316,-367.7192 537.0351,-363.6609\"/>\n</g>\n<!-- 6 -->\n<g id=\"node7\" class=\"node\">\n<title>6</title>\n<polygon fill=\"#e58139\" stroke=\"#000000\" points=\"724,-357.5 593,-357.5 593,-304.5 724,-304.5 724,-357.5\"/>\n<text text-anchor=\"middle\" x=\"658.5\" y=\"-342.3\" font-family=\"Helvetica,sans-Serif\" font-size=\"14.00\" fill=\"#000000\">entropy = 0.0</text>\n<text text-anchor=\"middle\" x=\"658.5\" y=\"-327.3\" font-family=\"Helvetica,sans-Serif\" font-size=\"14.00\" fill=\"#000000\">samples = 5</text>\n<text text-anchor=\"middle\" x=\"658.5\" y=\"-312.3\" font-family=\"Helvetica,sans-Serif\" font-size=\"14.00\" fill=\"#000000\">value = [5, 0, 0, 0]</text>\n</g>\n<!-- 4&#45;&gt;6 -->\n<g id=\"edge6\" class=\"edge\">\n<title>4&#45;&gt;6</title>\n<path fill=\"none\" stroke=\"#000000\" d=\"M608.0578,-400.9465C616.1601,-389.7113 625.1812,-377.2021 633.3286,-365.9043\"/>\n<polygon fill=\"#000000\" stroke=\"#000000\" points=\"636.3486,-367.7003 639.359,-357.5422 630.6709,-363.6058 636.3486,-367.7003\"/>\n</g>\n<!-- 9 -->\n<g id=\"node10\" class=\"node\">\n<title>9</title>\n<polygon fill=\"#fae6d7\" stroke=\"#000000\" points=\"2185,-573 1574,-573 1574,-505 2185,-505 2185,-573\"/>\n<text text-anchor=\"middle\" x=\"1879.5\" y=\"-557.8\" font-family=\"Helvetica,sans-Serif\" font-size=\"14.00\" fill=\"#000000\">Contribuição da promoção e/ou progressão na carreira com impacto na remuneração &lt;= 1.5</text>\n<text text-anchor=\"middle\" x=\"1879.5\" y=\"-542.8\" font-family=\"Helvetica,sans-Serif\" font-size=\"14.00\" fill=\"#000000\">entropy = 1.187</text>\n<text text-anchor=\"middle\" x=\"1879.5\" y=\"-527.8\" font-family=\"Helvetica,sans-Serif\" font-size=\"14.00\" fill=\"#000000\">samples = 26</text>\n<text text-anchor=\"middle\" x=\"1879.5\" y=\"-512.8\" font-family=\"Helvetica,sans-Serif\" font-size=\"14.00\" fill=\"#000000\">value = [14, 11, 0, 1]</text>\n</g>\n<!-- 8&#45;&gt;9 -->\n<g id=\"edge9\" class=\"edge\">\n<title>8&#45;&gt;9</title>\n<path fill=\"none\" stroke=\"#000000\" d=\"M1879.5,-608.9465C1879.5,-600.776 1879.5,-591.9318 1879.5,-583.3697\"/>\n<polygon fill=\"#000000\" stroke=\"#000000\" points=\"1883.0001,-583.13 1879.5,-573.13 1876.0001,-583.13 1883.0001,-583.13\"/>\n</g>\n<!-- 18 -->\n<g id=\"node19\" class=\"node\">\n<title>18</title>\n<polygon fill=\"#fae4d5\" stroke=\"#000000\" points=\"3342,-573 2657,-573 2657,-505 3342,-505 3342,-573\"/>\n<text text-anchor=\"middle\" x=\"2999.5\" y=\"-557.8\" font-family=\"Helvetica,sans-Serif\" font-size=\"14.00\" fill=\"#000000\">Colocação profissional e nível de responsabilidade que estimula o desenvolvimento da pesquisa &lt;= 4.5</text>\n<text text-anchor=\"middle\" x=\"2999.5\" y=\"-542.8\" font-family=\"Helvetica,sans-Serif\" font-size=\"14.00\" fill=\"#000000\">entropy = 1.396</text>\n<text text-anchor=\"middle\" x=\"2999.5\" y=\"-527.8\" font-family=\"Helvetica,sans-Serif\" font-size=\"14.00\" fill=\"#000000\">samples = 83</text>\n<text text-anchor=\"middle\" x=\"2999.5\" y=\"-512.8\" font-family=\"Helvetica,sans-Serif\" font-size=\"14.00\" fill=\"#000000\">value = [42, 31, 10, 0]</text>\n</g>\n<!-- 8&#45;&gt;18 -->\n<g id=\"edge18\" class=\"edge\">\n<title>8&#45;&gt;18</title>\n<path fill=\"none\" stroke=\"#000000\" d=\"M2209.857,-612.324C2347.2151,-599.5693 2506.868,-584.7444 2646.5273,-571.776\"/>\n<polygon fill=\"#000000\" stroke=\"#000000\" points=\"2646.9141,-575.2553 2656.5477,-570.8456 2646.2668,-568.2853 2646.9141,-575.2553\"/>\n</g>\n<!-- 10 -->\n<g id=\"node11\" class=\"node\">\n<title>10</title>\n<polygon fill=\"#e88e4d\" stroke=\"#000000\" points=\"1673.5,-469 1035.5,-469 1035.5,-401 1673.5,-401 1673.5,-469\"/>\n<text text-anchor=\"middle\" x=\"1354.5\" y=\"-453.8\" font-family=\"Helvetica,sans-Serif\" font-size=\"14.00\" fill=\"#000000\">Acesso a meios e insumos, inclusive tecnológicos, para o desenvolvimento de pesquisas &lt;= 4.5</text>\n<text text-anchor=\"middle\" x=\"1354.5\" y=\"-438.8\" font-family=\"Helvetica,sans-Serif\" font-size=\"14.00\" fill=\"#000000\">entropy = 0.439</text>\n<text text-anchor=\"middle\" x=\"1354.5\" y=\"-423.8\" font-family=\"Helvetica,sans-Serif\" font-size=\"14.00\" fill=\"#000000\">samples = 11</text>\n<text text-anchor=\"middle\" x=\"1354.5\" y=\"-408.8\" font-family=\"Helvetica,sans-Serif\" font-size=\"14.00\" fill=\"#000000\">value = [10, 1, 0, 0]</text>\n</g>\n<!-- 9&#45;&gt;10 -->\n<g id=\"edge10\" class=\"edge\">\n<title>9&#45;&gt;10</title>\n<path fill=\"none\" stroke=\"#000000\" d=\"M1707.5954,-504.9465C1652.7252,-494.077 1591.8355,-482.015 1536.2875,-471.0112\"/>\n<polygon fill=\"#000000\" stroke=\"#000000\" points=\"1536.8317,-467.5511 1526.3422,-469.0411 1535.4714,-474.4177 1536.8317,-467.5511\"/>\n</g>\n<!-- 13 -->\n<g id=\"node14\" class=\"node\">\n<title>13</title>\n<polygon fill=\"#9bf193\" stroke=\"#000000\" points=\"2267,-469 1692,-469 1692,-401 2267,-401 2267,-469\"/>\n<text text-anchor=\"middle\" x=\"1979.5\" y=\"-453.8\" font-family=\"Helvetica,sans-Serif\" font-size=\"14.00\" fill=\"#000000\">Influência de membros do grupo de pesquisa por meio de troca de experiências &lt;= 4.5</text>\n<text text-anchor=\"middle\" x=\"1979.5\" y=\"-438.8\" font-family=\"Helvetica,sans-Serif\" font-size=\"14.00\" fill=\"#000000\">entropy = 1.159</text>\n<text text-anchor=\"middle\" x=\"1979.5\" y=\"-423.8\" font-family=\"Helvetica,sans-Serif\" font-size=\"14.00\" fill=\"#000000\">samples = 15</text>\n<text text-anchor=\"middle\" x=\"1979.5\" y=\"-408.8\" font-family=\"Helvetica,sans-Serif\" font-size=\"14.00\" fill=\"#000000\">value = [4, 10, 0, 1]</text>\n</g>\n<!-- 9&#45;&gt;13 -->\n<g id=\"edge13\" class=\"edge\">\n<title>9&#45;&gt;13</title>\n<path fill=\"none\" stroke=\"#000000\" d=\"M1912.2437,-504.9465C1920.9633,-495.8782 1930.4809,-485.9799 1939.5399,-476.5585\"/>\n<polygon fill=\"#000000\" stroke=\"#000000\" points=\"1942.2745,-478.7642 1946.6827,-469.13 1937.2287,-473.9125 1942.2745,-478.7642\"/>\n</g>\n<!-- 11 -->\n<g id=\"node12\" class=\"node\">\n<title>11</title>\n<polygon fill=\"#eeab7b\" stroke=\"#000000\" points=\"1271,-357.5 1140,-357.5 1140,-304.5 1271,-304.5 1271,-357.5\"/>\n<text text-anchor=\"middle\" x=\"1205.5\" y=\"-342.3\" font-family=\"Helvetica,sans-Serif\" font-size=\"14.00\" fill=\"#000000\">entropy = 0.811</text>\n<text text-anchor=\"middle\" x=\"1205.5\" y=\"-327.3\" font-family=\"Helvetica,sans-Serif\" font-size=\"14.00\" fill=\"#000000\">samples = 4</text>\n<text text-anchor=\"middle\" x=\"1205.5\" y=\"-312.3\" font-family=\"Helvetica,sans-Serif\" font-size=\"14.00\" fill=\"#000000\">value = [3, 1, 0, 0]</text>\n</g>\n<!-- 10&#45;&gt;11 -->\n<g id=\"edge11\" class=\"edge\">\n<title>10&#45;&gt;11</title>\n<path fill=\"none\" stroke=\"#000000\" d=\"M1305.7118,-400.9465C1288.3528,-388.8301 1268.8709,-375.232 1251.7324,-363.2696\"/>\n<polygon fill=\"#000000\" stroke=\"#000000\" points=\"1253.7301,-360.3957 1243.5268,-357.5422 1249.7236,-366.1358 1253.7301,-360.3957\"/>\n</g>\n<!-- 12 -->\n<g id=\"node13\" class=\"node\">\n<title>12</title>\n<polygon fill=\"#e58139\" stroke=\"#000000\" points=\"1420,-357.5 1289,-357.5 1289,-304.5 1420,-304.5 1420,-357.5\"/>\n<text text-anchor=\"middle\" x=\"1354.5\" y=\"-342.3\" font-family=\"Helvetica,sans-Serif\" font-size=\"14.00\" fill=\"#000000\">entropy = 0.0</text>\n<text text-anchor=\"middle\" x=\"1354.5\" y=\"-327.3\" font-family=\"Helvetica,sans-Serif\" font-size=\"14.00\" fill=\"#000000\">samples = 7</text>\n<text text-anchor=\"middle\" x=\"1354.5\" y=\"-312.3\" font-family=\"Helvetica,sans-Serif\" font-size=\"14.00\" fill=\"#000000\">value = [7, 0, 0, 0]</text>\n</g>\n<!-- 10&#45;&gt;12 -->\n<g id=\"edge12\" class=\"edge\">\n<title>10&#45;&gt;12</title>\n<path fill=\"none\" stroke=\"#000000\" d=\"M1354.5,-400.9465C1354.5,-390.2621 1354.5,-378.4254 1354.5,-367.5742\"/>\n<polygon fill=\"#000000\" stroke=\"#000000\" points=\"1358.0001,-367.5421 1354.5,-357.5422 1351.0001,-367.5422 1358.0001,-367.5421\"/>\n</g>\n<!-- 14 -->\n<g id=\"node15\" class=\"node\">\n<title>14</title>\n<polygon fill=\"#5ee852\" stroke=\"#000000\" points=\"2076.5,-365 1438.5,-365 1438.5,-297 2076.5,-297 2076.5,-365\"/>\n<text text-anchor=\"middle\" x=\"1757.5\" y=\"-349.8\" font-family=\"Helvetica,sans-Serif\" font-size=\"14.00\" fill=\"#000000\">Acesso a meios e insumos, inclusive tecnológicos, para o desenvolvimento de pesquisas &lt;= 4.5</text>\n<text text-anchor=\"middle\" x=\"1757.5\" y=\"-334.8\" font-family=\"Helvetica,sans-Serif\" font-size=\"14.00\" fill=\"#000000\">entropy = 0.503</text>\n<text text-anchor=\"middle\" x=\"1757.5\" y=\"-319.8\" font-family=\"Helvetica,sans-Serif\" font-size=\"14.00\" fill=\"#000000\">samples = 9</text>\n<text text-anchor=\"middle\" x=\"1757.5\" y=\"-304.8\" font-family=\"Helvetica,sans-Serif\" font-size=\"14.00\" fill=\"#000000\">value = [1, 8, 0, 0]</text>\n</g>\n<!-- 13&#45;&gt;14 -->\n<g id=\"edge14\" class=\"edge\">\n<title>13&#45;&gt;14</title>\n<path fill=\"none\" stroke=\"#000000\" d=\"M1906.8089,-400.9465C1885.3433,-390.8906 1861.6991,-379.814 1839.6804,-369.4989\"/>\n<polygon fill=\"#000000\" stroke=\"#000000\" points=\"1840.8948,-366.2028 1830.3544,-365.13 1837.9252,-372.5418 1840.8948,-366.2028\"/>\n</g>\n<!-- 17 -->\n<g id=\"node18\" class=\"node\">\n<title>17</title>\n<polygon fill=\"#f8e0ce\" stroke=\"#000000\" points=\"2226,-357.5 2095,-357.5 2095,-304.5 2226,-304.5 2226,-357.5\"/>\n<text text-anchor=\"middle\" x=\"2160.5\" y=\"-342.3\" font-family=\"Helvetica,sans-Serif\" font-size=\"14.00\" fill=\"#000000\">entropy = 1.459</text>\n<text text-anchor=\"middle\" x=\"2160.5\" y=\"-327.3\" font-family=\"Helvetica,sans-Serif\" font-size=\"14.00\" fill=\"#000000\">samples = 6</text>\n<text text-anchor=\"middle\" x=\"2160.5\" y=\"-312.3\" font-family=\"Helvetica,sans-Serif\" font-size=\"14.00\" fill=\"#000000\">value = [3, 2, 0, 1]</text>\n</g>\n<!-- 13&#45;&gt;17 -->\n<g id=\"edge17\" class=\"edge\">\n<title>13&#45;&gt;17</title>\n<path fill=\"none\" stroke=\"#000000\" d=\"M2038.7662,-400.9465C2060.2368,-388.6098 2084.3807,-374.7371 2105.4713,-362.6187\"/>\n<polygon fill=\"#000000\" stroke=\"#000000\" points=\"2107.3795,-365.5589 2114.3064,-357.5422 2103.8921,-359.4895 2107.3795,-365.5589\"/>\n</g>\n<!-- 15 -->\n<g id=\"node16\" class=\"node\">\n<title>15</title>\n<polygon fill=\"#47e539\" stroke=\"#000000\" points=\"1749,-253.5 1618,-253.5 1618,-200.5 1749,-200.5 1749,-253.5\"/>\n<text text-anchor=\"middle\" x=\"1683.5\" y=\"-238.3\" font-family=\"Helvetica,sans-Serif\" font-size=\"14.00\" fill=\"#000000\">entropy = 0.0</text>\n<text text-anchor=\"middle\" x=\"1683.5\" y=\"-223.3\" font-family=\"Helvetica,sans-Serif\" font-size=\"14.00\" fill=\"#000000\">samples = 5</text>\n<text text-anchor=\"middle\" x=\"1683.5\" y=\"-208.3\" font-family=\"Helvetica,sans-Serif\" font-size=\"14.00\" fill=\"#000000\">value = [0, 5, 0, 0]</text>\n</g>\n<!-- 14&#45;&gt;15 -->\n<g id=\"edge15\" class=\"edge\">\n<title>14&#45;&gt;15</title>\n<path fill=\"none\" stroke=\"#000000\" d=\"M1733.2696,-296.9465C1725.2754,-285.7113 1716.3746,-273.2021 1708.3358,-261.9043\"/>\n<polygon fill=\"#000000\" stroke=\"#000000\" points=\"1711.0351,-259.6609 1702.3858,-253.5422 1705.3316,-263.7192 1711.0351,-259.6609\"/>\n</g>\n<!-- 16 -->\n<g id=\"node17\" class=\"node\">\n<title>16</title>\n<polygon fill=\"#84ee7b\" stroke=\"#000000\" points=\"1898,-253.5 1767,-253.5 1767,-200.5 1898,-200.5 1898,-253.5\"/>\n<text text-anchor=\"middle\" x=\"1832.5\" y=\"-238.3\" font-family=\"Helvetica,sans-Serif\" font-size=\"14.00\" fill=\"#000000\">entropy = 0.811</text>\n<text text-anchor=\"middle\" x=\"1832.5\" y=\"-223.3\" font-family=\"Helvetica,sans-Serif\" font-size=\"14.00\" fill=\"#000000\">samples = 4</text>\n<text text-anchor=\"middle\" x=\"1832.5\" y=\"-208.3\" font-family=\"Helvetica,sans-Serif\" font-size=\"14.00\" fill=\"#000000\">value = [1, 3, 0, 0]</text>\n</g>\n<!-- 14&#45;&gt;16 -->\n<g id=\"edge16\" class=\"edge\">\n<title>14&#45;&gt;16</title>\n<path fill=\"none\" stroke=\"#000000\" d=\"M1782.0578,-296.9465C1790.1601,-285.7113 1799.1812,-273.2021 1807.3286,-261.9043\"/>\n<polygon fill=\"#000000\" stroke=\"#000000\" points=\"1810.3486,-263.7003 1813.359,-253.5422 1804.6709,-259.6058 1810.3486,-263.7003\"/>\n</g>\n<!-- 19 -->\n<g id=\"node20\" class=\"node\">\n<title>19</title>\n<polygon fill=\"#f5cfb3\" stroke=\"#000000\" points=\"3386,-469 2613,-469 2613,-401 3386,-401 3386,-469\"/>\n<text text-anchor=\"middle\" x=\"2999.5\" y=\"-453.8\" font-family=\"Helvetica,sans-Serif\" font-size=\"14.00\" fill=\"#000000\">Baixa mobilidade: vinculação e permanência a um local fixo e específico para o desenvolvimento da pesquisa. &lt;= 2.5</text>\n<text text-anchor=\"middle\" x=\"2999.5\" y=\"-438.8\" font-family=\"Helvetica,sans-Serif\" font-size=\"14.00\" fill=\"#000000\">entropy = 1.415</text>\n<text text-anchor=\"middle\" x=\"2999.5\" y=\"-423.8\" font-family=\"Helvetica,sans-Serif\" font-size=\"14.00\" fill=\"#000000\">samples = 54</text>\n<text text-anchor=\"middle\" x=\"2999.5\" y=\"-408.8\" font-family=\"Helvetica,sans-Serif\" font-size=\"14.00\" fill=\"#000000\">value = [30, 15, 9, 0]</text>\n</g>\n<!-- 18&#45;&gt;19 -->\n<g id=\"edge19\" class=\"edge\">\n<title>18&#45;&gt;19</title>\n<path fill=\"none\" stroke=\"#000000\" d=\"M2999.5,-504.9465C2999.5,-496.776 2999.5,-487.9318 2999.5,-479.3697\"/>\n<polygon fill=\"#000000\" stroke=\"#000000\" points=\"3003.0001,-479.13 2999.5,-469.13 2996.0001,-479.13 3003.0001,-479.13\"/>\n</g>\n<!-- 36 -->\n<g id=\"node37\" class=\"node\">\n<title>36</title>\n<polygon fill=\"#d4f9d0\" stroke=\"#000000\" points=\"5406,-469 4633,-469 4633,-401 5406,-401 5406,-469\"/>\n<text text-anchor=\"middle\" x=\"5019.5\" y=\"-453.8\" font-family=\"Helvetica,sans-Serif\" font-size=\"14.00\" fill=\"#000000\">Baixa mobilidade: vinculação e permanência a um local fixo e específico para o desenvolvimento da pesquisa. &lt;= 3.5</text>\n<text text-anchor=\"middle\" x=\"5019.5\" y=\"-438.8\" font-family=\"Helvetica,sans-Serif\" font-size=\"14.00\" fill=\"#000000\">entropy = 1.168</text>\n<text text-anchor=\"middle\" x=\"5019.5\" y=\"-423.8\" font-family=\"Helvetica,sans-Serif\" font-size=\"14.00\" fill=\"#000000\">samples = 29</text>\n<text text-anchor=\"middle\" x=\"5019.5\" y=\"-408.8\" font-family=\"Helvetica,sans-Serif\" font-size=\"14.00\" fill=\"#000000\">value = [12, 16, 1, 0]</text>\n</g>\n<!-- 18&#45;&gt;36 -->\n<g id=\"edge36\" class=\"edge\">\n<title>18&#45;&gt;36</title>\n<path fill=\"none\" stroke=\"#000000\" d=\"M3342.1655,-521.3578C3696.5988,-503.1098 4249.4882,-474.6442 4622.6776,-455.4305\"/>\n<polygon fill=\"#000000\" stroke=\"#000000\" points=\"4623.0313,-458.917 4632.838,-454.9073 4622.6713,-451.9262 4623.0313,-458.917\"/>\n</g>\n<!-- 20 -->\n<g id=\"node21\" class=\"node\">\n<title>20</title>\n<polygon fill=\"#eb9f68\" stroke=\"#000000\" points=\"2947.5,-365 2243.5,-365 2243.5,-297 2947.5,-297 2947.5,-365\"/>\n<text text-anchor=\"middle\" x=\"2595.5\" y=\"-349.8\" font-family=\"Helvetica,sans-Serif\" font-size=\"14.00\" fill=\"#000000\">Contribuição dos resultados da pesquisa para o desenvolvimento social e econômico da sociedade &lt;= 4.5</text>\n<text text-anchor=\"middle\" x=\"2595.5\" y=\"-334.8\" font-family=\"Helvetica,sans-Serif\" font-size=\"14.00\" fill=\"#000000\">entropy = 0.953</text>\n<text text-anchor=\"middle\" x=\"2595.5\" y=\"-319.8\" font-family=\"Helvetica,sans-Serif\" font-size=\"14.00\" fill=\"#000000\">samples = 19</text>\n<text text-anchor=\"middle\" x=\"2595.5\" y=\"-304.8\" font-family=\"Helvetica,sans-Serif\" font-size=\"14.00\" fill=\"#000000\">value = [15, 2, 2, 0]</text>\n</g>\n<!-- 19&#45;&gt;20 -->\n<g id=\"edge20\" class=\"edge\">\n<title>19&#45;&gt;20</title>\n<path fill=\"none\" stroke=\"#000000\" d=\"M2867.2153,-400.9465C2825.6907,-390.257 2779.6862,-378.4143 2737.5171,-367.5589\"/>\n<polygon fill=\"#000000\" stroke=\"#000000\" points=\"2738.2935,-364.1447 2727.7366,-365.0411 2736.5484,-370.9237 2738.2935,-364.1447\"/>\n</g>\n<!-- 25 -->\n<g id=\"node26\" class=\"node\">\n<title>25</title>\n<polygon fill=\"#fdf4ed\" stroke=\"#000000\" points=\"3679,-365 2978,-365 2978,-297 3679,-297 3679,-365\"/>\n<text text-anchor=\"middle\" x=\"3328.5\" y=\"-349.8\" font-family=\"Helvetica,sans-Serif\" font-size=\"14.00\" fill=\"#000000\">Relações e cooperação de mercado com a indústria, inclusive com atração de recursos financeiros &lt;= 4.5</text>\n<text text-anchor=\"middle\" x=\"3328.5\" y=\"-334.8\" font-family=\"Helvetica,sans-Serif\" font-size=\"14.00\" fill=\"#000000\">entropy = 1.519</text>\n<text text-anchor=\"middle\" x=\"3328.5\" y=\"-319.8\" font-family=\"Helvetica,sans-Serif\" font-size=\"14.00\" fill=\"#000000\">samples = 35</text>\n<text text-anchor=\"middle\" x=\"3328.5\" y=\"-304.8\" font-family=\"Helvetica,sans-Serif\" font-size=\"14.00\" fill=\"#000000\">value = [15, 13, 7, 0]</text>\n</g>\n<!-- 19&#45;&gt;25 -->\n<g id=\"edge25\" class=\"edge\">\n<title>19&#45;&gt;25</title>\n<path fill=\"none\" stroke=\"#000000\" d=\"M3107.2269,-400.9465C3140.402,-390.4596 3177.0884,-378.8626 3210.8921,-368.177\"/>\n<polygon fill=\"#000000\" stroke=\"#000000\" points=\"3212.3322,-371.3925 3220.8122,-365.0411 3210.2223,-364.718 3212.3322,-371.3925\"/>\n</g>\n<!-- 21 -->\n<g id=\"node22\" class=\"node\">\n<title>21</title>\n<polygon fill=\"#ffffff\" stroke=\"#000000\" points=\"2329,-253.5 2198,-253.5 2198,-200.5 2329,-200.5 2329,-253.5\"/>\n<text text-anchor=\"middle\" x=\"2263.5\" y=\"-238.3\" font-family=\"Helvetica,sans-Serif\" font-size=\"14.00\" fill=\"#000000\">entropy = 1.0</text>\n<text text-anchor=\"middle\" x=\"2263.5\" y=\"-223.3\" font-family=\"Helvetica,sans-Serif\" font-size=\"14.00\" fill=\"#000000\">samples = 4</text>\n<text text-anchor=\"middle\" x=\"2263.5\" y=\"-208.3\" font-family=\"Helvetica,sans-Serif\" font-size=\"14.00\" fill=\"#000000\">value = [2, 2, 0, 0]</text>\n</g>\n<!-- 20&#45;&gt;21 -->\n<g id=\"edge21\" class=\"edge\">\n<title>20&#45;&gt;21</title>\n<path fill=\"none\" stroke=\"#000000\" d=\"M2453.248,-296.9337C2415.2486,-286.6084 2374.478,-274.4066 2337.5,-261 2334.4429,-259.8916 2331.3378,-258.708 2328.218,-257.4715\"/>\n<polygon fill=\"#000000\" stroke=\"#000000\" points=\"2329.4279,-254.1848 2318.8478,-253.6262 2326.7703,-260.6607 2329.4279,-254.1848\"/>\n</g>\n<!-- 22 -->\n<g id=\"node23\" class=\"node\">\n<title>22</title>\n<polygon fill=\"#e99457\" stroke=\"#000000\" points=\"2818,-261 2347,-261 2347,-193 2818,-193 2818,-261\"/>\n<text text-anchor=\"middle\" x=\"2582.5\" y=\"-245.8\" font-family=\"Helvetica,sans-Serif\" font-size=\"14.00\" fill=\"#000000\">Momento profissional da carreira acadêmica ou de pesquisador &lt;= 3.5</text>\n<text text-anchor=\"middle\" x=\"2582.5\" y=\"-230.8\" font-family=\"Helvetica,sans-Serif\" font-size=\"14.00\" fill=\"#000000\">entropy = 0.567</text>\n<text text-anchor=\"middle\" x=\"2582.5\" y=\"-215.8\" font-family=\"Helvetica,sans-Serif\" font-size=\"14.00\" fill=\"#000000\">samples = 15</text>\n<text text-anchor=\"middle\" x=\"2582.5\" y=\"-200.8\" font-family=\"Helvetica,sans-Serif\" font-size=\"14.00\" fill=\"#000000\">value = [13, 0, 2, 0]</text>\n</g>\n<!-- 20&#45;&gt;22 -->\n<g id=\"edge22\" class=\"edge\">\n<title>20&#45;&gt;22</title>\n<path fill=\"none\" stroke=\"#000000\" d=\"M2591.2433,-296.9465C2590.2108,-288.6863 2589.0922,-279.7374 2588.0109,-271.0875\"/>\n<polygon fill=\"#000000\" stroke=\"#000000\" points=\"2591.4797,-270.6186 2586.7662,-261.13 2584.5337,-271.4869 2591.4797,-270.6186\"/>\n</g>\n<!-- 23 -->\n<g id=\"node24\" class=\"node\">\n<title>23</title>\n<polygon fill=\"#ffffff\" stroke=\"#000000\" points=\"2571,-149.5 2440,-149.5 2440,-96.5 2571,-96.5 2571,-149.5\"/>\n<text text-anchor=\"middle\" x=\"2505.5\" y=\"-134.3\" font-family=\"Helvetica,sans-Serif\" font-size=\"14.00\" fill=\"#000000\">entropy = 1.0</text>\n<text text-anchor=\"middle\" x=\"2505.5\" y=\"-119.3\" font-family=\"Helvetica,sans-Serif\" font-size=\"14.00\" fill=\"#000000\">samples = 4</text>\n<text text-anchor=\"middle\" x=\"2505.5\" y=\"-104.3\" font-family=\"Helvetica,sans-Serif\" font-size=\"14.00\" fill=\"#000000\">value = [2, 0, 2, 0]</text>\n</g>\n<!-- 22&#45;&gt;23 -->\n<g id=\"edge23\" class=\"edge\">\n<title>22&#45;&gt;23</title>\n<path fill=\"none\" stroke=\"#000000\" d=\"M2557.2873,-192.9465C2548.9689,-181.7113 2539.7073,-169.2021 2531.3426,-157.9043\"/>\n<polygon fill=\"#000000\" stroke=\"#000000\" points=\"2533.9148,-155.4965 2525.1514,-149.5422 2528.2889,-159.6618 2533.9148,-155.4965\"/>\n</g>\n<!-- 24 -->\n<g id=\"node25\" class=\"node\">\n<title>24</title>\n<polygon fill=\"#e58139\" stroke=\"#000000\" points=\"2728,-149.5 2589,-149.5 2589,-96.5 2728,-96.5 2728,-149.5\"/>\n<text text-anchor=\"middle\" x=\"2658.5\" y=\"-134.3\" font-family=\"Helvetica,sans-Serif\" font-size=\"14.00\" fill=\"#000000\">entropy = 0.0</text>\n<text text-anchor=\"middle\" x=\"2658.5\" y=\"-119.3\" font-family=\"Helvetica,sans-Serif\" font-size=\"14.00\" fill=\"#000000\">samples = 11</text>\n<text text-anchor=\"middle\" x=\"2658.5\" y=\"-104.3\" font-family=\"Helvetica,sans-Serif\" font-size=\"14.00\" fill=\"#000000\">value = [11, 0, 0, 0]</text>\n</g>\n<!-- 22&#45;&gt;24 -->\n<g id=\"edge24\" class=\"edge\">\n<title>22&#45;&gt;24</title>\n<path fill=\"none\" stroke=\"#000000\" d=\"M2607.3852,-192.9465C2615.5956,-181.7113 2624.7369,-169.2021 2632.993,-157.9043\"/>\n<polygon fill=\"#000000\" stroke=\"#000000\" points=\"2636.0295,-159.6812 2639.1038,-149.5422 2630.3777,-155.551 2636.0295,-159.6812\"/>\n</g>\n<!-- 26 -->\n<g id=\"node27\" class=\"node\">\n<title>26</title>\n<polygon fill=\"#f6d1b7\" stroke=\"#000000\" points=\"3821,-261 2836,-261 2836,-193 3821,-193 3821,-261\"/>\n<text text-anchor=\"middle\" x=\"3328.5\" y=\"-245.8\" font-family=\"Helvetica,sans-Serif\" font-size=\"14.00\" fill=\"#000000\">Apoio administrativo institucional no processo de patenteamento, principalmente do Núcleo de Inovação Tecnológica (NIT) da sua universidade &lt;= 4.5</text>\n<text text-anchor=\"middle\" x=\"3328.5\" y=\"-230.8\" font-family=\"Helvetica,sans-Serif\" font-size=\"14.00\" fill=\"#000000\">entropy = 1.366</text>\n<text text-anchor=\"middle\" x=\"3328.5\" y=\"-215.8\" font-family=\"Helvetica,sans-Serif\" font-size=\"14.00\" fill=\"#000000\">samples = 16</text>\n<text text-anchor=\"middle\" x=\"3328.5\" y=\"-200.8\" font-family=\"Helvetica,sans-Serif\" font-size=\"14.00\" fill=\"#000000\">value = [9, 2, 5, 0]</text>\n</g>\n<!-- 25&#45;&gt;26 -->\n<g id=\"edge26\" class=\"edge\">\n<title>25&#45;&gt;26</title>\n<path fill=\"none\" stroke=\"#000000\" d=\"M3328.5,-296.9465C3328.5,-288.776 3328.5,-279.9318 3328.5,-271.3697\"/>\n<polygon fill=\"#000000\" stroke=\"#000000\" points=\"3332.0001,-271.13 3328.5,-261.13 3325.0001,-271.13 3332.0001,-271.13\"/>\n</g>\n<!-- 31 -->\n<g id=\"node32\" class=\"node\">\n<title>31</title>\n<polygon fill=\"#b8f5b3\" stroke=\"#000000\" points=\"4477.5,-261 3839.5,-261 3839.5,-193 4477.5,-193 4477.5,-261\"/>\n<text text-anchor=\"middle\" x=\"4158.5\" y=\"-245.8\" font-family=\"Helvetica,sans-Serif\" font-size=\"14.00\" fill=\"#000000\">Acesso a meios e insumos, inclusive tecnológicos, para o desenvolvimento de pesquisas &lt;= 4.5</text>\n<text text-anchor=\"middle\" x=\"4158.5\" y=\"-230.8\" font-family=\"Helvetica,sans-Serif\" font-size=\"14.00\" fill=\"#000000\">entropy = 1.324</text>\n<text text-anchor=\"middle\" x=\"4158.5\" y=\"-215.8\" font-family=\"Helvetica,sans-Serif\" font-size=\"14.00\" fill=\"#000000\">samples = 19</text>\n<text text-anchor=\"middle\" x=\"4158.5\" y=\"-200.8\" font-family=\"Helvetica,sans-Serif\" font-size=\"14.00\" fill=\"#000000\">value = [6, 11, 2, 0]</text>\n</g>\n<!-- 25&#45;&gt;31 -->\n<g id=\"edge31\" class=\"edge\">\n<title>25&#45;&gt;31</title>\n<path fill=\"none\" stroke=\"#000000\" d=\"M3599.9858,-296.9825C3688.7463,-285.8607 3787.4957,-273.4873 3876.9789,-262.2749\"/>\n<polygon fill=\"#000000\" stroke=\"#000000\" points=\"3877.515,-265.7352 3887.0023,-261.019 3876.6447,-258.7895 3877.515,-265.7352\"/>\n</g>\n<!-- 27 -->\n<g id=\"node28\" class=\"node\">\n<title>27</title>\n<polygon fill=\"#efb388\" stroke=\"#000000\" points=\"3171,-149.5 3040,-149.5 3040,-96.5 3171,-96.5 3171,-149.5\"/>\n<text text-anchor=\"middle\" x=\"3105.5\" y=\"-134.3\" font-family=\"Helvetica,sans-Serif\" font-size=\"14.00\" fill=\"#000000\">entropy = 0.863</text>\n<text text-anchor=\"middle\" x=\"3105.5\" y=\"-119.3\" font-family=\"Helvetica,sans-Serif\" font-size=\"14.00\" fill=\"#000000\">samples = 7</text>\n<text text-anchor=\"middle\" x=\"3105.5\" y=\"-104.3\" font-family=\"Helvetica,sans-Serif\" font-size=\"14.00\" fill=\"#000000\">value = [5, 2, 0, 0]</text>\n</g>\n<!-- 26&#45;&gt;27 -->\n<g id=\"edge27\" class=\"edge\">\n<title>26&#45;&gt;27</title>\n<path fill=\"none\" stroke=\"#000000\" d=\"M3255.4815,-192.9465C3228.4383,-180.3344 3197.9528,-166.117 3171.5635,-153.8099\"/>\n<polygon fill=\"#000000\" stroke=\"#000000\" points=\"3172.9547,-150.5968 3162.4125,-149.5422 3169.9961,-156.9409 3172.9547,-150.5968\"/>\n</g>\n<!-- 28 -->\n<g id=\"node29\" class=\"node\">\n<title>28</title>\n<polygon fill=\"#d7ebfa\" stroke=\"#000000\" points=\"3648,-157 3189,-157 3189,-89 3648,-89 3648,-157\"/>\n<text text-anchor=\"middle\" x=\"3418.5\" y=\"-141.8\" font-family=\"Helvetica,sans-Serif\" font-size=\"14.00\" fill=\"#000000\">Independência e autonomia no desenvolvimento da pesquisa &lt;= 4.5</text>\n<text text-anchor=\"middle\" x=\"3418.5\" y=\"-126.8\" font-family=\"Helvetica,sans-Serif\" font-size=\"14.00\" fill=\"#000000\">entropy = 0.991</text>\n<text text-anchor=\"middle\" x=\"3418.5\" y=\"-111.8\" font-family=\"Helvetica,sans-Serif\" font-size=\"14.00\" fill=\"#000000\">samples = 9</text>\n<text text-anchor=\"middle\" x=\"3418.5\" y=\"-96.8\" font-family=\"Helvetica,sans-Serif\" font-size=\"14.00\" fill=\"#000000\">value = [4, 0, 5, 0]</text>\n</g>\n<!-- 26&#45;&gt;28 -->\n<g id=\"edge28\" class=\"edge\">\n<title>26&#45;&gt;28</title>\n<path fill=\"none\" stroke=\"#000000\" d=\"M3357.9694,-192.9465C3365.7393,-183.968 3374.2132,-174.1758 3382.2936,-164.8385\"/>\n<polygon fill=\"#000000\" stroke=\"#000000\" points=\"3385.0672,-166.982 3388.9644,-157.13 3379.774,-162.4014 3385.0672,-166.982\"/>\n</g>\n<!-- 29 -->\n<g id=\"node30\" class=\"node\">\n<title>29</title>\n<polygon fill=\"#eeab7b\" stroke=\"#000000\" points=\"3409,-53 3278,-53 3278,0 3409,0 3409,-53\"/>\n<text text-anchor=\"middle\" x=\"3343.5\" y=\"-37.8\" font-family=\"Helvetica,sans-Serif\" font-size=\"14.00\" fill=\"#000000\">entropy = 0.811</text>\n<text text-anchor=\"middle\" x=\"3343.5\" y=\"-22.8\" font-family=\"Helvetica,sans-Serif\" font-size=\"14.00\" fill=\"#000000\">samples = 4</text>\n<text text-anchor=\"middle\" x=\"3343.5\" y=\"-7.8\" font-family=\"Helvetica,sans-Serif\" font-size=\"14.00\" fill=\"#000000\">value = [3, 0, 1, 0]</text>\n</g>\n<!-- 28&#45;&gt;29 -->\n<g id=\"edge29\" class=\"edge\">\n<title>28&#45;&gt;29</title>\n<path fill=\"none\" stroke=\"#000000\" d=\"M3392.0578,-88.9777C3385.0833,-80.0039 3377.5484,-70.3089 3370.5427,-61.295\"/>\n<polygon fill=\"#000000\" stroke=\"#000000\" points=\"3373.1891,-58.9964 3364.289,-53.2485 3367.6621,-63.292 3373.1891,-58.9964\"/>\n</g>\n<!-- 30 -->\n<g id=\"node31\" class=\"node\">\n<title>30</title>\n<polygon fill=\"#6ab6ec\" stroke=\"#000000\" points=\"3558,-53 3427,-53 3427,0 3558,0 3558,-53\"/>\n<text text-anchor=\"middle\" x=\"3492.5\" y=\"-37.8\" font-family=\"Helvetica,sans-Serif\" font-size=\"14.00\" fill=\"#000000\">entropy = 0.722</text>\n<text text-anchor=\"middle\" x=\"3492.5\" y=\"-22.8\" font-family=\"Helvetica,sans-Serif\" font-size=\"14.00\" fill=\"#000000\">samples = 5</text>\n<text text-anchor=\"middle\" x=\"3492.5\" y=\"-7.8\" font-family=\"Helvetica,sans-Serif\" font-size=\"14.00\" fill=\"#000000\">value = [1, 0, 4, 0]</text>\n</g>\n<!-- 28&#45;&gt;30 -->\n<g id=\"edge30\" class=\"edge\">\n<title>28&#45;&gt;30</title>\n<path fill=\"none\" stroke=\"#000000\" d=\"M3444.5896,-88.9777C3451.4711,-80.0039 3458.9056,-70.3089 3465.8178,-61.295\"/>\n<polygon fill=\"#000000\" stroke=\"#000000\" points=\"3468.6804,-63.3137 3471.9882,-53.2485 3463.1256,-59.0541 3468.6804,-63.3137\"/>\n</g>\n<!-- 32 -->\n<g id=\"node33\" class=\"node\">\n<title>32</title>\n<polygon fill=\"#efb388\" stroke=\"#000000\" points=\"3801,-149.5 3670,-149.5 3670,-96.5 3801,-96.5 3801,-149.5\"/>\n<text text-anchor=\"middle\" x=\"3735.5\" y=\"-134.3\" font-family=\"Helvetica,sans-Serif\" font-size=\"14.00\" fill=\"#000000\">entropy = 1.252</text>\n<text text-anchor=\"middle\" x=\"3735.5\" y=\"-119.3\" font-family=\"Helvetica,sans-Serif\" font-size=\"14.00\" fill=\"#000000\">samples = 6</text>\n<text text-anchor=\"middle\" x=\"3735.5\" y=\"-104.3\" font-family=\"Helvetica,sans-Serif\" font-size=\"14.00\" fill=\"#000000\">value = [4, 1, 1, 0]</text>\n</g>\n<!-- 31&#45;&gt;32 -->\n<g id=\"edge32\" class=\"edge\">\n<title>31&#45;&gt;32</title>\n<path fill=\"none\" stroke=\"#000000\" d=\"M3947.9145,-192.9934C3901.7826,-183.2707 3853.577,-171.3293 3809.5,-157 3805.9999,-155.8621 3802.4465,-154.6041 3798.8868,-153.2622\"/>\n<polygon fill=\"#000000\" stroke=\"#000000\" points=\"3800.0679,-149.9655 3789.4816,-149.5387 3797.4911,-156.474 3800.0679,-149.9655\"/>\n</g>\n<!-- 33 -->\n<g id=\"node34\" class=\"node\">\n<title>33</title>\n<polygon fill=\"#79ec6f\" stroke=\"#000000\" points=\"4670.5,-157 3818.5,-157 3818.5,-89 4670.5,-89 4670.5,-157\"/>\n<text text-anchor=\"middle\" x=\"4244.5\" y=\"-141.8\" font-family=\"Helvetica,sans-Serif\" font-size=\"14.00\" fill=\"#000000\">Atendimento de indicadores de produção e possibilidades de publicação das pesquisas cujos resultados são patenteáveis &lt;= 4.5</text>\n<text text-anchor=\"middle\" x=\"4244.5\" y=\"-126.8\" font-family=\"Helvetica,sans-Serif\" font-size=\"14.00\" fill=\"#000000\">entropy = 0.991</text>\n<text text-anchor=\"middle\" x=\"4244.5\" y=\"-111.8\" font-family=\"Helvetica,sans-Serif\" font-size=\"14.00\" fill=\"#000000\">samples = 13</text>\n<text text-anchor=\"middle\" x=\"4244.5\" y=\"-96.8\" font-family=\"Helvetica,sans-Serif\" font-size=\"14.00\" fill=\"#000000\">value = [2, 10, 1, 0]</text>\n</g>\n<!-- 31&#45;&gt;33 -->\n<g id=\"edge33\" class=\"edge\">\n<title>31&#45;&gt;33</title>\n<path fill=\"none\" stroke=\"#000000\" d=\"M4186.6596,-192.9465C4194.0842,-183.968 4202.1815,-174.1758 4209.9028,-164.8385\"/>\n<polygon fill=\"#000000\" stroke=\"#000000\" points=\"4212.6017,-167.0669 4216.2771,-157.13 4207.2072,-162.606 4212.6017,-167.0669\"/>\n</g>\n<!-- 34 -->\n<g id=\"node35\" class=\"node\">\n<title>34</title>\n<polygon fill=\"#a3f29c\" stroke=\"#000000\" points=\"4235,-53 4104,-53 4104,0 4235,0 4235,-53\"/>\n<text text-anchor=\"middle\" x=\"4169.5\" y=\"-37.8\" font-family=\"Helvetica,sans-Serif\" font-size=\"14.00\" fill=\"#000000\">entropy = 0.918</text>\n<text text-anchor=\"middle\" x=\"4169.5\" y=\"-22.8\" font-family=\"Helvetica,sans-Serif\" font-size=\"14.00\" fill=\"#000000\">samples = 6</text>\n<text text-anchor=\"middle\" x=\"4169.5\" y=\"-7.8\" font-family=\"Helvetica,sans-Serif\" font-size=\"14.00\" fill=\"#000000\">value = [2, 4, 0, 0]</text>\n</g>\n<!-- 33&#45;&gt;34 -->\n<g id=\"edge34\" class=\"edge\">\n<title>33&#45;&gt;34</title>\n<path fill=\"none\" stroke=\"#000000\" d=\"M4218.0578,-88.9777C4211.0833,-80.0039 4203.5484,-70.3089 4196.5427,-61.295\"/>\n<polygon fill=\"#000000\" stroke=\"#000000\" points=\"4199.1891,-58.9964 4190.289,-53.2485 4193.6621,-63.292 4199.1891,-58.9964\"/>\n</g>\n<!-- 35 -->\n<g id=\"node36\" class=\"node\">\n<title>35</title>\n<polygon fill=\"#66e95a\" stroke=\"#000000\" points=\"4384,-53 4253,-53 4253,0 4384,0 4384,-53\"/>\n<text text-anchor=\"middle\" x=\"4318.5\" y=\"-37.8\" font-family=\"Helvetica,sans-Serif\" font-size=\"14.00\" fill=\"#000000\">entropy = 0.592</text>\n<text text-anchor=\"middle\" x=\"4318.5\" y=\"-22.8\" font-family=\"Helvetica,sans-Serif\" font-size=\"14.00\" fill=\"#000000\">samples = 7</text>\n<text text-anchor=\"middle\" x=\"4318.5\" y=\"-7.8\" font-family=\"Helvetica,sans-Serif\" font-size=\"14.00\" fill=\"#000000\">value = [0, 6, 1, 0]</text>\n</g>\n<!-- 33&#45;&gt;35 -->\n<g id=\"edge35\" class=\"edge\">\n<title>33&#45;&gt;35</title>\n<path fill=\"none\" stroke=\"#000000\" d=\"M4270.5896,-88.9777C4277.4711,-80.0039 4284.9056,-70.3089 4291.8178,-61.295\"/>\n<polygon fill=\"#000000\" stroke=\"#000000\" points=\"4294.6804,-63.3137 4297.9882,-53.2485 4289.1256,-59.0541 4294.6804,-63.3137\"/>\n</g>\n<!-- 37 -->\n<g id=\"node38\" class=\"node\">\n<title>37</title>\n<polygon fill=\"#9cf194\" stroke=\"#000000\" points=\"5251.5,-365 4787.5,-365 4787.5,-297 5251.5,-297 5251.5,-365\"/>\n<text text-anchor=\"middle\" x=\"5019.5\" y=\"-349.8\" font-family=\"Helvetica,sans-Serif\" font-size=\"14.00\" fill=\"#000000\">Proteção e apropriação intelectual dos resultados da pesquisa &lt;= 4.5</text>\n<text text-anchor=\"middle\" x=\"5019.5\" y=\"-334.8\" font-family=\"Helvetica,sans-Serif\" font-size=\"14.00\" fill=\"#000000\">entropy = 0.9</text>\n<text text-anchor=\"middle\" x=\"5019.5\" y=\"-319.8\" font-family=\"Helvetica,sans-Serif\" font-size=\"14.00\" fill=\"#000000\">samples = 19</text>\n<text text-anchor=\"middle\" x=\"5019.5\" y=\"-304.8\" font-family=\"Helvetica,sans-Serif\" font-size=\"14.00\" fill=\"#000000\">value = [6, 13, 0, 0]</text>\n</g>\n<!-- 36&#45;&gt;37 -->\n<g id=\"edge37\" class=\"edge\">\n<title>36&#45;&gt;37</title>\n<path fill=\"none\" stroke=\"#000000\" d=\"M5019.5,-400.9465C5019.5,-392.776 5019.5,-383.9318 5019.5,-375.3697\"/>\n<polygon fill=\"#000000\" stroke=\"#000000\" points=\"5023.0001,-375.13 5019.5,-365.13 5016.0001,-375.13 5023.0001,-375.13\"/>\n</g>\n<!-- 42 -->\n<g id=\"node43\" class=\"node\">\n<title>42</title>\n<polygon fill=\"#f4c9aa\" stroke=\"#000000\" points=\"6142,-365 5301,-365 5301,-297 6142,-297 6142,-365\"/>\n<text text-anchor=\"middle\" x=\"5721.5\" y=\"-349.8\" font-family=\"Helvetica,sans-Serif\" font-size=\"14.00\" fill=\"#000000\">Disponibilidade de materiais, dados e recursos oriundos da indústria para o desenvolvimento das atividades de pesquisa &lt;= 4.5</text>\n<text text-anchor=\"middle\" x=\"5721.5\" y=\"-334.8\" font-family=\"Helvetica,sans-Serif\" font-size=\"14.00\" fill=\"#000000\">entropy = 1.295</text>\n<text text-anchor=\"middle\" x=\"5721.5\" y=\"-319.8\" font-family=\"Helvetica,sans-Serif\" font-size=\"14.00\" fill=\"#000000\">samples = 10</text>\n<text text-anchor=\"middle\" x=\"5721.5\" y=\"-304.8\" font-family=\"Helvetica,sans-Serif\" font-size=\"14.00\" fill=\"#000000\">value = [6, 3, 1, 0]</text>\n</g>\n<!-- 36&#45;&gt;42 -->\n<g id=\"edge42\" class=\"edge\">\n<title>36&#45;&gt;42</title>\n<path fill=\"none\" stroke=\"#000000\" d=\"M5249.3611,-400.9465C5323.7937,-389.9195 5406.5102,-377.6652 5481.649,-366.5335\"/>\n<polygon fill=\"#000000\" stroke=\"#000000\" points=\"5482.3434,-369.9689 5491.7225,-365.0411 5481.3175,-363.0445 5482.3434,-369.9689\"/>\n</g>\n<!-- 38 -->\n<g id=\"node39\" class=\"node\">\n<title>38</title>\n<polygon fill=\"#f2c09c\" stroke=\"#000000\" points=\"5481,-261 4496,-261 4496,-193 5481,-193 5481,-261\"/>\n<text text-anchor=\"middle\" x=\"4988.5\" y=\"-245.8\" font-family=\"Helvetica,sans-Serif\" font-size=\"14.00\" fill=\"#000000\">Apoio administrativo institucional no processo de patenteamento, principalmente do Núcleo de Inovação Tecnológica (NIT) da sua universidade &lt;= 4.5</text>\n<text text-anchor=\"middle\" x=\"4988.5\" y=\"-230.8\" font-family=\"Helvetica,sans-Serif\" font-size=\"14.00\" fill=\"#000000\">entropy = 0.918</text>\n<text text-anchor=\"middle\" x=\"4988.5\" y=\"-215.8\" font-family=\"Helvetica,sans-Serif\" font-size=\"14.00\" fill=\"#000000\">samples = 9</text>\n<text text-anchor=\"middle\" x=\"4988.5\" y=\"-200.8\" font-family=\"Helvetica,sans-Serif\" font-size=\"14.00\" fill=\"#000000\">value = [6, 3, 0, 0]</text>\n</g>\n<!-- 37&#45;&gt;38 -->\n<g id=\"edge38\" class=\"edge\">\n<title>37&#45;&gt;38</title>\n<path fill=\"none\" stroke=\"#000000\" d=\"M5009.3494,-296.9465C5006.8605,-288.5965 5004.1618,-279.5427 5001.5574,-270.8056\"/>\n<polygon fill=\"#000000\" stroke=\"#000000\" points=\"5004.8842,-269.7135 4998.6734,-261.13 4998.1758,-271.7131 5004.8842,-269.7135\"/>\n</g>\n<!-- 41 -->\n<g id=\"node42\" class=\"node\">\n<title>41</title>\n<polygon fill=\"#47e539\" stroke=\"#000000\" points=\"5638,-253.5 5499,-253.5 5499,-200.5 5638,-200.5 5638,-253.5\"/>\n<text text-anchor=\"middle\" x=\"5568.5\" y=\"-238.3\" font-family=\"Helvetica,sans-Serif\" font-size=\"14.00\" fill=\"#000000\">entropy = 0.0</text>\n<text text-anchor=\"middle\" x=\"5568.5\" y=\"-223.3\" font-family=\"Helvetica,sans-Serif\" font-size=\"14.00\" fill=\"#000000\">samples = 10</text>\n<text text-anchor=\"middle\" x=\"5568.5\" y=\"-208.3\" font-family=\"Helvetica,sans-Serif\" font-size=\"14.00\" fill=\"#000000\">value = [0, 10, 0, 0]</text>\n</g>\n<!-- 37&#45;&gt;41 -->\n<g id=\"edge41\" class=\"edge\">\n<title>37&#45;&gt;41</title>\n<path fill=\"none\" stroke=\"#000000\" d=\"M5251.7777,-302.0705C5346.5516,-289.087 5444.37,-273.8374 5489.5,-261 5493.5393,-259.851 5497.6445,-258.5441 5501.7525,-257.1279\"/>\n<polygon fill=\"#000000\" stroke=\"#000000\" points=\"5503.1135,-260.3572 5511.313,-253.6477 5500.719,-253.7795 5503.1135,-260.3572\"/>\n</g>\n<!-- 39 -->\n<g id=\"node40\" class=\"node\">\n<title>39</title>\n<polygon fill=\"#e58139\" stroke=\"#000000\" points=\"4979,-149.5 4848,-149.5 4848,-96.5 4979,-96.5 4979,-149.5\"/>\n<text text-anchor=\"middle\" x=\"4913.5\" y=\"-134.3\" font-family=\"Helvetica,sans-Serif\" font-size=\"14.00\" fill=\"#000000\">entropy = 0.0</text>\n<text text-anchor=\"middle\" x=\"4913.5\" y=\"-119.3\" font-family=\"Helvetica,sans-Serif\" font-size=\"14.00\" fill=\"#000000\">samples = 4</text>\n<text text-anchor=\"middle\" x=\"4913.5\" y=\"-104.3\" font-family=\"Helvetica,sans-Serif\" font-size=\"14.00\" fill=\"#000000\">value = [4, 0, 0, 0]</text>\n</g>\n<!-- 38&#45;&gt;39 -->\n<g id=\"edge39\" class=\"edge\">\n<title>38&#45;&gt;39</title>\n<path fill=\"none\" stroke=\"#000000\" d=\"M4963.9422,-192.9465C4955.8399,-181.7113 4946.8188,-169.2021 4938.6714,-157.9043\"/>\n<polygon fill=\"#000000\" stroke=\"#000000\" points=\"4941.3291,-155.6058 4932.641,-149.5422 4935.6514,-159.7003 4941.3291,-155.6058\"/>\n</g>\n<!-- 40 -->\n<g id=\"node41\" class=\"node\">\n<title>40</title>\n<polygon fill=\"#c2f6bd\" stroke=\"#000000\" points=\"5128,-149.5 4997,-149.5 4997,-96.5 5128,-96.5 5128,-149.5\"/>\n<text text-anchor=\"middle\" x=\"5062.5\" y=\"-134.3\" font-family=\"Helvetica,sans-Serif\" font-size=\"14.00\" fill=\"#000000\">entropy = 0.971</text>\n<text text-anchor=\"middle\" x=\"5062.5\" y=\"-119.3\" font-family=\"Helvetica,sans-Serif\" font-size=\"14.00\" fill=\"#000000\">samples = 5</text>\n<text text-anchor=\"middle\" x=\"5062.5\" y=\"-104.3\" font-family=\"Helvetica,sans-Serif\" font-size=\"14.00\" fill=\"#000000\">value = [2, 3, 0, 0]</text>\n</g>\n<!-- 38&#45;&gt;40 -->\n<g id=\"edge40\" class=\"edge\">\n<title>38&#45;&gt;40</title>\n<path fill=\"none\" stroke=\"#000000\" d=\"M5012.7304,-192.9465C5020.7246,-181.7113 5029.6254,-169.2021 5037.6642,-157.9043\"/>\n<polygon fill=\"#000000\" stroke=\"#000000\" points=\"5040.6684,-159.7192 5043.6142,-149.5422 5034.9649,-155.6609 5040.6684,-159.7192\"/>\n</g>\n<!-- 43 -->\n<g id=\"node44\" class=\"node\">\n<title>43</title>\n<polygon fill=\"#e58139\" stroke=\"#000000\" points=\"5787,-253.5 5656,-253.5 5656,-200.5 5787,-200.5 5787,-253.5\"/>\n<text text-anchor=\"middle\" x=\"5721.5\" y=\"-238.3\" font-family=\"Helvetica,sans-Serif\" font-size=\"14.00\" fill=\"#000000\">entropy = 0.0</text>\n<text text-anchor=\"middle\" x=\"5721.5\" y=\"-223.3\" font-family=\"Helvetica,sans-Serif\" font-size=\"14.00\" fill=\"#000000\">samples = 4</text>\n<text text-anchor=\"middle\" x=\"5721.5\" y=\"-208.3\" font-family=\"Helvetica,sans-Serif\" font-size=\"14.00\" fill=\"#000000\">value = [4, 0, 0, 0]</text>\n</g>\n<!-- 42&#45;&gt;43 -->\n<g id=\"edge43\" class=\"edge\">\n<title>42&#45;&gt;43</title>\n<path fill=\"none\" stroke=\"#000000\" d=\"M5721.5,-296.9465C5721.5,-286.2621 5721.5,-274.4254 5721.5,-263.5742\"/>\n<polygon fill=\"#000000\" stroke=\"#000000\" points=\"5725.0001,-263.5421 5721.5,-253.5422 5718.0001,-263.5422 5725.0001,-263.5421\"/>\n</g>\n<!-- 44 -->\n<g id=\"node45\" class=\"node\">\n<title>44</title>\n<polygon fill=\"#d1f8ce\" stroke=\"#000000\" points=\"5936,-253.5 5805,-253.5 5805,-200.5 5936,-200.5 5936,-253.5\"/>\n<text text-anchor=\"middle\" x=\"5870.5\" y=\"-238.3\" font-family=\"Helvetica,sans-Serif\" font-size=\"14.00\" fill=\"#000000\">entropy = 1.459</text>\n<text text-anchor=\"middle\" x=\"5870.5\" y=\"-223.3\" font-family=\"Helvetica,sans-Serif\" font-size=\"14.00\" fill=\"#000000\">samples = 6</text>\n<text text-anchor=\"middle\" x=\"5870.5\" y=\"-208.3\" font-family=\"Helvetica,sans-Serif\" font-size=\"14.00\" fill=\"#000000\">value = [2, 3, 1, 0]</text>\n</g>\n<!-- 42&#45;&gt;44 -->\n<g id=\"edge44\" class=\"edge\">\n<title>42&#45;&gt;44</title>\n<path fill=\"none\" stroke=\"#000000\" d=\"M5770.2882,-296.9465C5787.6472,-284.8301 5807.1291,-271.232 5824.2676,-259.2696\"/>\n<polygon fill=\"#000000\" stroke=\"#000000\" points=\"5826.2764,-262.1358 5832.4732,-253.5422 5822.2699,-256.3957 5826.2764,-262.1358\"/>\n</g>\n</g>\n</svg>\n",
            "text/plain": [
              "<graphviz.files.Source at 0x7f2962673f50>"
            ]
          },
          "metadata": {},
          "output_type": "display_data"
        },
        {
          "data": {
            "text/plain": [
              "['mean_test_accuracy',\n",
              " 'mean_test_balanced_accuracy',\n",
              " 'mean_test_f1_micro',\n",
              " 'mean_test_f1_macro',\n",
              " 'mean_test_precision_micro',\n",
              " 'mean_test_recall_micro',\n",
              " 'mean_test_precision_macro',\n",
              " 'mean_test_recall_macro']"
            ]
          },
          "metadata": {},
          "output_type": "display_data"
        },
        {
          "data": {
            "application/vnd.google.colaboratory.intrinsic+json": {
              "type": "string"
            },
            "text/plain": [
              "'recall_macro'"
            ]
          },
          "metadata": {},
          "output_type": "display_data"
        },
        {
          "data": {
            "text/plain": [
              "{'criterion': 'gini',\n",
              " 'max_depth': 1,\n",
              " 'min_samples_leaf': 5,\n",
              " 'min_samples_split': 2}"
            ]
          },
          "metadata": {},
          "output_type": "display_data"
        },
        {
          "data": {
            "text/plain": [
              "mean_test_accuracy             0.522756\n",
              "mean_test_balanced_accuracy    0.259276\n",
              "mean_test_f1_micro             0.522756\n",
              "mean_test_f1_macro             0.220076\n",
              "mean_test_precision_micro      0.522756\n",
              "mean_test_recall_micro         0.522756\n",
              "mean_test_precision_macro      0.206444\n",
              "mean_test_recall_macro         0.259276\n",
              "Name: 20, dtype: object"
            ]
          },
          "metadata": {},
          "output_type": "display_data"
        },
        {
          "data": {
            "image/svg+xml": "<?xml version=\"1.0\" encoding=\"UTF-8\" standalone=\"no\"?>\n<!DOCTYPE svg PUBLIC \"-//W3C//DTD SVG 1.1//EN\"\n \"http://www.w3.org/Graphics/SVG/1.1/DTD/svg11.dtd\">\n<!-- Generated by graphviz version 2.40.1 (20161225.0304)\n -->\n<!-- Title: Tree Pages: 1 -->\n<svg width=\"668pt\" height=\"165pt\"\n viewBox=\"0.00 0.00 668.00 165.00\" xmlns=\"http://www.w3.org/2000/svg\" xmlns:xlink=\"http://www.w3.org/1999/xlink\">\n<g id=\"graph0\" class=\"graph\" transform=\"scale(1 1) rotate(0) translate(4 161)\">\n<title>Tree</title>\n<polygon fill=\"#ffffff\" stroke=\"transparent\" points=\"-4,4 -4,-161 664,-161 664,4 -4,4\"/>\n<!-- 0 -->\n<g id=\"node1\" class=\"node\">\n<title>0</title>\n<polygon fill=\"#f7d6bf\" stroke=\"#000000\" points=\"660,-157 0,-157 0,-89 660,-89 660,-157\"/>\n<text text-anchor=\"middle\" x=\"330\" y=\"-141.8\" font-family=\"Helvetica,sans-Serif\" font-size=\"14.00\" fill=\"#000000\">Aumento da renda pessoal e/ou benefícios econômicos decorrente da atividade de pesquisa &lt;= 4.5</text>\n<text text-anchor=\"middle\" x=\"330\" y=\"-126.8\" font-family=\"Helvetica,sans-Serif\" font-size=\"14.00\" fill=\"#000000\">gini = 0.577</text>\n<text text-anchor=\"middle\" x=\"330\" y=\"-111.8\" font-family=\"Helvetica,sans-Serif\" font-size=\"14.00\" fill=\"#000000\">samples = 131</text>\n<text text-anchor=\"middle\" x=\"330\" y=\"-96.8\" font-family=\"Helvetica,sans-Serif\" font-size=\"14.00\" fill=\"#000000\">value = [72, 44, 11, 4]</text>\n</g>\n<!-- 1 -->\n<g id=\"node2\" class=\"node\">\n<title>1</title>\n<polygon fill=\"#f3c6a5\" stroke=\"#000000\" points=\"323.5,-53 176.5,-53 176.5,0 323.5,0 323.5,-53\"/>\n<text text-anchor=\"middle\" x=\"250\" y=\"-37.8\" font-family=\"Helvetica,sans-Serif\" font-size=\"14.00\" fill=\"#000000\">gini = 0.552</text>\n<text text-anchor=\"middle\" x=\"250\" y=\"-22.8\" font-family=\"Helvetica,sans-Serif\" font-size=\"14.00\" fill=\"#000000\">samples = 106</text>\n<text text-anchor=\"middle\" x=\"250\" y=\"-7.8\" font-family=\"Helvetica,sans-Serif\" font-size=\"14.00\" fill=\"#000000\">value = [64, 29, 9, 4]</text>\n</g>\n<!-- 0&#45;&gt;1 -->\n<g id=\"edge1\" class=\"edge\">\n<title>0&#45;&gt;1</title>\n<path fill=\"none\" stroke=\"#000000\" d=\"M301.795,-88.9777C294.2796,-79.9123 286.1542,-70.111 278.617,-61.0192\"/>\n<polygon fill=\"#000000\" stroke=\"#000000\" points=\"281.2516,-58.7133 272.1749,-53.2485 275.8626,-63.1808 281.2516,-58.7133\"/>\n<text text-anchor=\"middle\" x=\"269.8479\" y=\"-74.4399\" font-family=\"Helvetica,sans-Serif\" font-size=\"14.00\" fill=\"#000000\">True</text>\n</g>\n<!-- 2 -->\n<g id=\"node3\" class=\"node\">\n<title>2</title>\n<polygon fill=\"#b3f4ad\" stroke=\"#000000\" points=\"480.5,-53 341.5,-53 341.5,0 480.5,0 480.5,-53\"/>\n<text text-anchor=\"middle\" x=\"411\" y=\"-37.8\" font-family=\"Helvetica,sans-Serif\" font-size=\"14.00\" fill=\"#000000\">gini = 0.531</text>\n<text text-anchor=\"middle\" x=\"411\" y=\"-22.8\" font-family=\"Helvetica,sans-Serif\" font-size=\"14.00\" fill=\"#000000\">samples = 25</text>\n<text text-anchor=\"middle\" x=\"411\" y=\"-7.8\" font-family=\"Helvetica,sans-Serif\" font-size=\"14.00\" fill=\"#000000\">value = [8, 15, 2, 0]</text>\n</g>\n<!-- 0&#45;&gt;2 -->\n<g id=\"edge2\" class=\"edge\">\n<title>0&#45;&gt;2</title>\n<path fill=\"none\" stroke=\"#000000\" d=\"M358.5576,-88.9777C366.1669,-79.9123 374.3939,-70.111 382.0253,-61.0192\"/>\n<polygon fill=\"#000000\" stroke=\"#000000\" points=\"384.7995,-63.1581 388.5479,-53.2485 379.438,-58.6577 384.7995,-63.1581\"/>\n<text text-anchor=\"middle\" x=\"390.7227\" y=\"-74.4537\" font-family=\"Helvetica,sans-Serif\" font-size=\"14.00\" fill=\"#000000\">False</text>\n</g>\n</g>\n</svg>\n",
            "text/plain": [
              "<graphviz.files.Source at 0x7f2962673c10>"
            ]
          },
          "metadata": {},
          "output_type": "display_data"
        },
        {
          "data": {
            "application/vnd.google.colaboratory.intrinsic+json": {
              "type": "string"
            },
            "text/plain": [
              "'\\n\\ndtc = DecisionTreeClassifier(**grid.best_params_).fit(X, y)\\ndisplay(plot_tree(dtc, X.columns))\\nplotar_feature_im(dtc)\\n\\n'"
            ]
          },
          "execution_count": 72,
          "metadata": {},
          "output_type": "execute_result"
        }
      ],
      "source": [
        "#pd.DataFrame(grid.cv_results_).sort_values('rank_test_f1_macro')[['params', 'mean_test_f1_macro']]\n",
        "\n",
        "for so in scoring_opts:\n",
        "    idxmax = df_cv_results[f'mean_test_{so}'].idxmax()\n",
        "    params = df_cv_results.loc[idxmax].params \n",
        "    dtc = sktree.DecisionTreeClassifier(**params).fit(X, y)\n",
        "\n",
        "    display([f'mean_test_{so}' for so in scoring_opts])\n",
        "    display(so,params, df_cv_results.loc[idxmax][[f'mean_test_{so}' for so in scoring_opts]])\n",
        "    display(plot_tree(dtc, X.columns))\n",
        "    #plotar_feature_im(dtc)\n",
        "    #plt.show()\n",
        "\n",
        "    yy = dtc.predict(X) #yy eh o nosso target\n",
        "    #print(skmetrics.classification_report(y, yy, y.unique()))\n",
        "    #display(pd.DataFrame(skmetrics.confusion_matrix(y, yy), index=y.unique(), columns=y.unique()))\n",
        "\n",
        "'''\n",
        "\n",
        "dtc = DecisionTreeClassifier(**grid.best_params_).fit(X, y)\n",
        "display(plot_tree(dtc, X.columns))\n",
        "plotar_feature_im(dtc)\n",
        "\n",
        "'''"
      ]
    },
    {
      "cell_type": "markdown",
      "metadata": {
        "id": "d-YFV8heY2kG"
      },
      "source": [
        "Plotando usando a biblioteca dtreeviz:"
      ]
    },
    {
      "cell_type": "code",
      "execution_count": null,
      "metadata": {
        "colab": {
          "base_uri": "https://localhost:8080/"
        },
        "id": "e4PB1mIBbGY_",
        "outputId": "93a56188-123c-4a6d-ea7e-a61e07880433"
      },
      "outputs": [
        {
          "data": {
            "text/plain": [
              "Acredito na importância da colaboração da academia-indústria e busco desenvolver atividades vinculadas a indústria visando ao avanço científico.                                                72\n",
              "Acredito na importância da colaboração da academia-indústria e busco desenvolver atividades vinculadas à indústria visando ao aproveitamento comercial.                                         44\n",
              "Acredito que a universidade e a indústria devem ser distintas, mas busco desenvolver atividades ligadas à indústria principalmente para adquirir recursos  para apoiar a pesquisa acadêmica.    11\n",
              "Acredito que a universidade e a indústria devem ser distintas. Assim, busco atuar e avançar profissionalmente apenas no campo acadêmico.                                                         4\n",
              "Name: Identifique qual das seguintes afirmações melhor descreve sua orientação profissional., dtype: int64"
            ]
          },
          "execution_count": 73,
          "metadata": {},
          "output_type": "execute_result"
        }
      ],
      "source": [
        "y.value_counts()"
      ]
    },
    {
      "cell_type": "code",
      "execution_count": null,
      "metadata": {
        "colab": {
          "base_uri": "https://localhost:8080/"
        },
        "id": "Qa3Nr6zrTo9B",
        "outputId": "a978e8be-8bca-42f1-9e6f-36aff7445068"
      },
      "outputs": [
        {
          "data": {
            "text/plain": [
              "131"
            ]
          },
          "execution_count": 74,
          "metadata": {},
          "output_type": "execute_result"
        }
      ],
      "source": [
        "len(yy)"
      ]
    },
    {
      "cell_type": "code",
      "execution_count": null,
      "metadata": {
        "id": "2rNtb1bou4vz"
      },
      "outputs": [],
      "source": [
        "#y = pd.to_numeric(y.value_counts())"
      ]
    },
    {
      "cell_type": "code",
      "execution_count": null,
      "metadata": {
        "colab": {
          "base_uri": "https://localhost:8080/",
          "height": 661
        },
        "id": "Npt1IOVErQGH",
        "outputId": "761372f6-ab24-4e2b-df5c-ea8a09a151d4"
      },
      "outputs": [
        {
          "data": {
            "text/html": [
              "\n",
              "  <div id=\"df-d01c9864-345f-41e9-96d7-d47db34c5c83\">\n",
              "    <div class=\"colab-df-container\">\n",
              "      <div>\n",
              "<style scoped>\n",
              "    .dataframe tbody tr th:only-of-type {\n",
              "        vertical-align: middle;\n",
              "    }\n",
              "\n",
              "    .dataframe tbody tr th {\n",
              "        vertical-align: top;\n",
              "    }\n",
              "\n",
              "    .dataframe thead th {\n",
              "        text-align: right;\n",
              "    }\n",
              "</style>\n",
              "<table border=\"1\" class=\"dataframe\">\n",
              "  <thead>\n",
              "    <tr style=\"text-align: right;\">\n",
              "      <th></th>\n",
              "      <th>Acesso a meios e insumos, inclusive tecnológicos, para o desenvolvimento de pesquisas</th>\n",
              "      <th>Apoio administrativo institucional no processo de patenteamento, principalmente do Núcleo de Inovação Tecnológica (NIT) da sua universidade</th>\n",
              "      <th>Atendimento de indicadores de produção e possibilidades de publicação das pesquisas cujos resultados são patenteáveis</th>\n",
              "      <th>Aumento da renda pessoal e/ou benefícios econômicos decorrente da atividade de pesquisa</th>\n",
              "      <th>Aumento do prestígio e visibilidade acadêmica com reconhecimento e reputação pelos pares</th>\n",
              "      <th>Baixa mobilidade: vinculação e permanência a um local fixo e específico para o desenvolvimento da pesquisa.</th>\n",
              "      <th>Colocação profissional e nível de responsabilidade que estimula o desenvolvimento da pesquisa</th>\n",
              "      <th>Competição e colaboração entre os pares na formação de redes pessoais e profissionais</th>\n",
              "      <th>Contribuição da promoção e/ou progressão na carreira com impacto na remuneração</th>\n",
              "      <th>Contribuição dos resultados da pesquisa para o desenvolvimento social e econômico da sociedade</th>\n",
              "      <th>Disponibilidade de materiais, dados e recursos oriundos da indústria para o desenvolvimento das atividades de pesquisa</th>\n",
              "      <th>Experiência profissional anterior como acadêmico e pesquisador</th>\n",
              "      <th>Gosto por desafios, resolução de problemas de pesquisa e curiosidade intelectual</th>\n",
              "      <th>Habilidade para finanças e realização de negócios</th>\n",
              "      <th>Independência e autonomia no desenvolvimento da pesquisa</th>\n",
              "      <th>Influência de colaboradores e parceiros estrangeiros</th>\n",
              "      <th>Influência de membros do grupo de pesquisa por meio de troca de experiências</th>\n",
              "      <th>Instalações e condições infraestruturais para o desenvolvimento da pesquisa disponíveis na sua instituição</th>\n",
              "      <th>Licenciamento e Comercialização dos resultados da pesquisa</th>\n",
              "      <th>Momento profissional da carreira acadêmica ou de pesquisador</th>\n",
              "      <th>Obtenção de financiamentos e recursos para a pesquisa</th>\n",
              "      <th>Participação em viagens e/ou experiências em outros lugares/culturas como influência para o desenvolvimento de pesquisas</th>\n",
              "      <th>Potencial de aplicação dos resultados da pesquisa</th>\n",
              "      <th>Proteção e apropriação intelectual dos resultados da pesquisa</th>\n",
              "      <th>Qualificação e competência pessoal para o desenvolvimento da pesquisa</th>\n",
              "      <th>Relações e cooperação de mercado com a indústria, inclusive com atração de recursos financeiros</th>\n",
              "      <th>Satisfação pessoal e realização profissional na realização da pesquisa</th>\n",
              "    </tr>\n",
              "  </thead>\n",
              "  <tbody>\n",
              "    <tr>\n",
              "      <th>0</th>\n",
              "      <td>5</td>\n",
              "      <td>5</td>\n",
              "      <td>5</td>\n",
              "      <td>5</td>\n",
              "      <td>5</td>\n",
              "      <td>5</td>\n",
              "      <td>5</td>\n",
              "      <td>1</td>\n",
              "      <td>5</td>\n",
              "      <td>5</td>\n",
              "      <td>5</td>\n",
              "      <td>5</td>\n",
              "      <td>5</td>\n",
              "      <td>1</td>\n",
              "      <td>5</td>\n",
              "      <td>2</td>\n",
              "      <td>3</td>\n",
              "      <td>5</td>\n",
              "      <td>5</td>\n",
              "      <td>5</td>\n",
              "      <td>5</td>\n",
              "      <td>5</td>\n",
              "      <td>5</td>\n",
              "      <td>5</td>\n",
              "      <td>3</td>\n",
              "      <td>5</td>\n",
              "      <td>5</td>\n",
              "    </tr>\n",
              "    <tr>\n",
              "      <th>1</th>\n",
              "      <td>5</td>\n",
              "      <td>4</td>\n",
              "      <td>5</td>\n",
              "      <td>5</td>\n",
              "      <td>3</td>\n",
              "      <td>3</td>\n",
              "      <td>3</td>\n",
              "      <td>2</td>\n",
              "      <td>3</td>\n",
              "      <td>5</td>\n",
              "      <td>5</td>\n",
              "      <td>5</td>\n",
              "      <td>5</td>\n",
              "      <td>5</td>\n",
              "      <td>5</td>\n",
              "      <td>4</td>\n",
              "      <td>4</td>\n",
              "      <td>5</td>\n",
              "      <td>4</td>\n",
              "      <td>4</td>\n",
              "      <td>5</td>\n",
              "      <td>5</td>\n",
              "      <td>5</td>\n",
              "      <td>5</td>\n",
              "      <td>5</td>\n",
              "      <td>5</td>\n",
              "      <td>5</td>\n",
              "    </tr>\n",
              "    <tr>\n",
              "      <th>2</th>\n",
              "      <td>4</td>\n",
              "      <td>5</td>\n",
              "      <td>4</td>\n",
              "      <td>3</td>\n",
              "      <td>4</td>\n",
              "      <td>4</td>\n",
              "      <td>4</td>\n",
              "      <td>4</td>\n",
              "      <td>4</td>\n",
              "      <td>4</td>\n",
              "      <td>4</td>\n",
              "      <td>5</td>\n",
              "      <td>5</td>\n",
              "      <td>3</td>\n",
              "      <td>5</td>\n",
              "      <td>4</td>\n",
              "      <td>4</td>\n",
              "      <td>5</td>\n",
              "      <td>4</td>\n",
              "      <td>4</td>\n",
              "      <td>5</td>\n",
              "      <td>5</td>\n",
              "      <td>4</td>\n",
              "      <td>4</td>\n",
              "      <td>4</td>\n",
              "      <td>4</td>\n",
              "      <td>5</td>\n",
              "    </tr>\n",
              "    <tr>\n",
              "      <th>3</th>\n",
              "      <td>5</td>\n",
              "      <td>5</td>\n",
              "      <td>4</td>\n",
              "      <td>3</td>\n",
              "      <td>4</td>\n",
              "      <td>4</td>\n",
              "      <td>4</td>\n",
              "      <td>2</td>\n",
              "      <td>3</td>\n",
              "      <td>5</td>\n",
              "      <td>4</td>\n",
              "      <td>4</td>\n",
              "      <td>5</td>\n",
              "      <td>3</td>\n",
              "      <td>4</td>\n",
              "      <td>3</td>\n",
              "      <td>4</td>\n",
              "      <td>5</td>\n",
              "      <td>3</td>\n",
              "      <td>3</td>\n",
              "      <td>4</td>\n",
              "      <td>2</td>\n",
              "      <td>3</td>\n",
              "      <td>3</td>\n",
              "      <td>4</td>\n",
              "      <td>3</td>\n",
              "      <td>4</td>\n",
              "    </tr>\n",
              "    <tr>\n",
              "      <th>4</th>\n",
              "      <td>5</td>\n",
              "      <td>5</td>\n",
              "      <td>5</td>\n",
              "      <td>5</td>\n",
              "      <td>5</td>\n",
              "      <td>3</td>\n",
              "      <td>5</td>\n",
              "      <td>3</td>\n",
              "      <td>5</td>\n",
              "      <td>5</td>\n",
              "      <td>5</td>\n",
              "      <td>3</td>\n",
              "      <td>5</td>\n",
              "      <td>5</td>\n",
              "      <td>5</td>\n",
              "      <td>5</td>\n",
              "      <td>5</td>\n",
              "      <td>5</td>\n",
              "      <td>5</td>\n",
              "      <td>4</td>\n",
              "      <td>5</td>\n",
              "      <td>5</td>\n",
              "      <td>5</td>\n",
              "      <td>5</td>\n",
              "      <td>5</td>\n",
              "      <td>5</td>\n",
              "      <td>5</td>\n",
              "    </tr>\n",
              "    <tr>\n",
              "      <th>...</th>\n",
              "      <td>...</td>\n",
              "      <td>...</td>\n",
              "      <td>...</td>\n",
              "      <td>...</td>\n",
              "      <td>...</td>\n",
              "      <td>...</td>\n",
              "      <td>...</td>\n",
              "      <td>...</td>\n",
              "      <td>...</td>\n",
              "      <td>...</td>\n",
              "      <td>...</td>\n",
              "      <td>...</td>\n",
              "      <td>...</td>\n",
              "      <td>...</td>\n",
              "      <td>...</td>\n",
              "      <td>...</td>\n",
              "      <td>...</td>\n",
              "      <td>...</td>\n",
              "      <td>...</td>\n",
              "      <td>...</td>\n",
              "      <td>...</td>\n",
              "      <td>...</td>\n",
              "      <td>...</td>\n",
              "      <td>...</td>\n",
              "      <td>...</td>\n",
              "      <td>...</td>\n",
              "      <td>...</td>\n",
              "    </tr>\n",
              "    <tr>\n",
              "      <th>126</th>\n",
              "      <td>5</td>\n",
              "      <td>4</td>\n",
              "      <td>4</td>\n",
              "      <td>2</td>\n",
              "      <td>3</td>\n",
              "      <td>3</td>\n",
              "      <td>3</td>\n",
              "      <td>3</td>\n",
              "      <td>3</td>\n",
              "      <td>5</td>\n",
              "      <td>3</td>\n",
              "      <td>4</td>\n",
              "      <td>3</td>\n",
              "      <td>3</td>\n",
              "      <td>4</td>\n",
              "      <td>4</td>\n",
              "      <td>4</td>\n",
              "      <td>4</td>\n",
              "      <td>4</td>\n",
              "      <td>4</td>\n",
              "      <td>5</td>\n",
              "      <td>3</td>\n",
              "      <td>5</td>\n",
              "      <td>4</td>\n",
              "      <td>4</td>\n",
              "      <td>5</td>\n",
              "      <td>3</td>\n",
              "    </tr>\n",
              "    <tr>\n",
              "      <th>127</th>\n",
              "      <td>1</td>\n",
              "      <td>1</td>\n",
              "      <td>3</td>\n",
              "      <td>1</td>\n",
              "      <td>3</td>\n",
              "      <td>3</td>\n",
              "      <td>5</td>\n",
              "      <td>1</td>\n",
              "      <td>1</td>\n",
              "      <td>5</td>\n",
              "      <td>1</td>\n",
              "      <td>5</td>\n",
              "      <td>5</td>\n",
              "      <td>1</td>\n",
              "      <td>5</td>\n",
              "      <td>1</td>\n",
              "      <td>1</td>\n",
              "      <td>1</td>\n",
              "      <td>1</td>\n",
              "      <td>3</td>\n",
              "      <td>1</td>\n",
              "      <td>1</td>\n",
              "      <td>5</td>\n",
              "      <td>4</td>\n",
              "      <td>5</td>\n",
              "      <td>1</td>\n",
              "      <td>5</td>\n",
              "    </tr>\n",
              "    <tr>\n",
              "      <th>128</th>\n",
              "      <td>5</td>\n",
              "      <td>4</td>\n",
              "      <td>4</td>\n",
              "      <td>3</td>\n",
              "      <td>4</td>\n",
              "      <td>3</td>\n",
              "      <td>4</td>\n",
              "      <td>3</td>\n",
              "      <td>3</td>\n",
              "      <td>4</td>\n",
              "      <td>3</td>\n",
              "      <td>4</td>\n",
              "      <td>4</td>\n",
              "      <td>3</td>\n",
              "      <td>5</td>\n",
              "      <td>3</td>\n",
              "      <td>4</td>\n",
              "      <td>4</td>\n",
              "      <td>4</td>\n",
              "      <td>5</td>\n",
              "      <td>5</td>\n",
              "      <td>3</td>\n",
              "      <td>4</td>\n",
              "      <td>4</td>\n",
              "      <td>5</td>\n",
              "      <td>4</td>\n",
              "      <td>4</td>\n",
              "    </tr>\n",
              "    <tr>\n",
              "      <th>129</th>\n",
              "      <td>5</td>\n",
              "      <td>5</td>\n",
              "      <td>5</td>\n",
              "      <td>4</td>\n",
              "      <td>4</td>\n",
              "      <td>4</td>\n",
              "      <td>5</td>\n",
              "      <td>4</td>\n",
              "      <td>4</td>\n",
              "      <td>5</td>\n",
              "      <td>5</td>\n",
              "      <td>4</td>\n",
              "      <td>5</td>\n",
              "      <td>4</td>\n",
              "      <td>5</td>\n",
              "      <td>5</td>\n",
              "      <td>5</td>\n",
              "      <td>5</td>\n",
              "      <td>5</td>\n",
              "      <td>4</td>\n",
              "      <td>5</td>\n",
              "      <td>5</td>\n",
              "      <td>5</td>\n",
              "      <td>5</td>\n",
              "      <td>5</td>\n",
              "      <td>5</td>\n",
              "      <td>5</td>\n",
              "    </tr>\n",
              "    <tr>\n",
              "      <th>130</th>\n",
              "      <td>5</td>\n",
              "      <td>5</td>\n",
              "      <td>4</td>\n",
              "      <td>4</td>\n",
              "      <td>4</td>\n",
              "      <td>3</td>\n",
              "      <td>5</td>\n",
              "      <td>4</td>\n",
              "      <td>3</td>\n",
              "      <td>5</td>\n",
              "      <td>5</td>\n",
              "      <td>5</td>\n",
              "      <td>4</td>\n",
              "      <td>3</td>\n",
              "      <td>4</td>\n",
              "      <td>4</td>\n",
              "      <td>5</td>\n",
              "      <td>5</td>\n",
              "      <td>5</td>\n",
              "      <td>4</td>\n",
              "      <td>4</td>\n",
              "      <td>3</td>\n",
              "      <td>5</td>\n",
              "      <td>4</td>\n",
              "      <td>5</td>\n",
              "      <td>4</td>\n",
              "      <td>5</td>\n",
              "    </tr>\n",
              "  </tbody>\n",
              "</table>\n",
              "<p>131 rows × 27 columns</p>\n",
              "</div>\n",
              "      <button class=\"colab-df-convert\" onclick=\"convertToInteractive('df-d01c9864-345f-41e9-96d7-d47db34c5c83')\"\n",
              "              title=\"Convert this dataframe to an interactive table.\"\n",
              "              style=\"display:none;\">\n",
              "        \n",
              "  <svg xmlns=\"http://www.w3.org/2000/svg\" height=\"24px\"viewBox=\"0 0 24 24\"\n",
              "       width=\"24px\">\n",
              "    <path d=\"M0 0h24v24H0V0z\" fill=\"none\"/>\n",
              "    <path d=\"M18.56 5.44l.94 2.06.94-2.06 2.06-.94-2.06-.94-.94-2.06-.94 2.06-2.06.94zm-11 1L8.5 8.5l.94-2.06 2.06-.94-2.06-.94L8.5 2.5l-.94 2.06-2.06.94zm10 10l.94 2.06.94-2.06 2.06-.94-2.06-.94-.94-2.06-.94 2.06-2.06.94z\"/><path d=\"M17.41 7.96l-1.37-1.37c-.4-.4-.92-.59-1.43-.59-.52 0-1.04.2-1.43.59L10.3 9.45l-7.72 7.72c-.78.78-.78 2.05 0 2.83L4 21.41c.39.39.9.59 1.41.59.51 0 1.02-.2 1.41-.59l7.78-7.78 2.81-2.81c.8-.78.8-2.07 0-2.86zM5.41 20L4 18.59l7.72-7.72 1.47 1.35L5.41 20z\"/>\n",
              "  </svg>\n",
              "      </button>\n",
              "      \n",
              "  <style>\n",
              "    .colab-df-container {\n",
              "      display:flex;\n",
              "      flex-wrap:wrap;\n",
              "      gap: 12px;\n",
              "    }\n",
              "\n",
              "    .colab-df-convert {\n",
              "      background-color: #E8F0FE;\n",
              "      border: none;\n",
              "      border-radius: 50%;\n",
              "      cursor: pointer;\n",
              "      display: none;\n",
              "      fill: #1967D2;\n",
              "      height: 32px;\n",
              "      padding: 0 0 0 0;\n",
              "      width: 32px;\n",
              "    }\n",
              "\n",
              "    .colab-df-convert:hover {\n",
              "      background-color: #E2EBFA;\n",
              "      box-shadow: 0px 1px 2px rgba(60, 64, 67, 0.3), 0px 1px 3px 1px rgba(60, 64, 67, 0.15);\n",
              "      fill: #174EA6;\n",
              "    }\n",
              "\n",
              "    [theme=dark] .colab-df-convert {\n",
              "      background-color: #3B4455;\n",
              "      fill: #D2E3FC;\n",
              "    }\n",
              "\n",
              "    [theme=dark] .colab-df-convert:hover {\n",
              "      background-color: #434B5C;\n",
              "      box-shadow: 0px 1px 3px 1px rgba(0, 0, 0, 0.15);\n",
              "      filter: drop-shadow(0px 1px 2px rgba(0, 0, 0, 0.3));\n",
              "      fill: #FFFFFF;\n",
              "    }\n",
              "  </style>\n",
              "\n",
              "      <script>\n",
              "        const buttonEl =\n",
              "          document.querySelector('#df-d01c9864-345f-41e9-96d7-d47db34c5c83 button.colab-df-convert');\n",
              "        buttonEl.style.display =\n",
              "          google.colab.kernel.accessAllowed ? 'block' : 'none';\n",
              "\n",
              "        async function convertToInteractive(key) {\n",
              "          const element = document.querySelector('#df-d01c9864-345f-41e9-96d7-d47db34c5c83');\n",
              "          const dataTable =\n",
              "            await google.colab.kernel.invokeFunction('convertToInteractive',\n",
              "                                                     [key], {});\n",
              "          if (!dataTable) return;\n",
              "\n",
              "          const docLinkHtml = 'Like what you see? Visit the ' +\n",
              "            '<a target=\"_blank\" href=https://colab.research.google.com/notebooks/data_table.ipynb>data table notebook</a>'\n",
              "            + ' to learn more about interactive tables.';\n",
              "          element.innerHTML = '';\n",
              "          dataTable['output_type'] = 'display_data';\n",
              "          await google.colab.output.renderOutput(dataTable, element);\n",
              "          const docLink = document.createElement('div');\n",
              "          docLink.innerHTML = docLinkHtml;\n",
              "          element.appendChild(docLink);\n",
              "        }\n",
              "      </script>\n",
              "    </div>\n",
              "  </div>\n",
              "  "
            ],
            "text/plain": [
              "     Acesso a meios e insumos, inclusive tecnológicos, para o desenvolvimento de pesquisas  ...  Satisfação pessoal e realização profissional na realização da pesquisa\n",
              "0                                                                                        5  ...                                                                       5\n",
              "1                                                                                        5  ...                                                                       5\n",
              "2                                                                                        4  ...                                                                       5\n",
              "3                                                                                        5  ...                                                                       4\n",
              "4                                                                                        5  ...                                                                       5\n",
              "..                                                                                     ...  ...                                                                     ...\n",
              "126                                                                                      5  ...                                                                       3\n",
              "127                                                                                      1  ...                                                                       5\n",
              "128                                                                                      5  ...                                                                       4\n",
              "129                                                                                      5  ...                                                                       5\n",
              "130                                                                                      5  ...                                                                       5\n",
              "\n",
              "[131 rows x 27 columns]"
            ]
          },
          "execution_count": 76,
          "metadata": {},
          "output_type": "execute_result"
        }
      ],
      "source": [
        "X"
      ]
    },
    {
      "cell_type": "code",
      "execution_count": null,
      "metadata": {
        "colab": {
          "base_uri": "https://localhost:8080/",
          "height": 70
        },
        "id": "xeil8Szk7LZc",
        "outputId": "6308ef7f-ce94-4149-abc4-8ca0ddd76728"
      },
      "outputs": [
        {
          "data": {
            "application/vnd.google.colaboratory.intrinsic+json": {
              "type": "string"
            },
            "text/plain": [
              "'Acredito que a universidade e a indústria devem ser distintas, mas busco desenvolver atividades ligadas à indústria principalmente para adquirir recursos  para apoiar a pesquisa acadêmica.'"
            ]
          },
          "execution_count": 77,
          "metadata": {},
          "output_type": "execute_result"
        }
      ],
      "source": [
        "y[0]\n"
      ]
    },
    {
      "cell_type": "code",
      "execution_count": null,
      "metadata": {
        "colab": {
          "base_uri": "https://localhost:8080/"
        },
        "id": "6mQi3FT-tcPw",
        "outputId": "5fedf8a3-88e7-4fb6-f67b-7485e32ca3a8"
      },
      "outputs": [
        {
          "data": {
            "text/plain": [
              "DecisionTreeClassifier(max_depth=1, min_samples_leaf=5)"
            ]
          },
          "execution_count": 78,
          "metadata": {},
          "output_type": "execute_result"
        }
      ],
      "source": [
        "dtc"
      ]
    },
    {
      "cell_type": "code",
      "execution_count": null,
      "metadata": {
        "colab": {
          "base_uri": "https://localhost:8080/"
        },
        "id": "98UKZqyx0lXA",
        "outputId": "94a72251-abbd-49b0-b652-44be6a08f674"
      },
      "outputs": [
        {
          "data": {
            "text/plain": [
              "131"
            ]
          },
          "execution_count": 79,
          "metadata": {},
          "output_type": "execute_result"
        }
      ],
      "source": [
        "len(y)"
      ]
    },
    {
      "cell_type": "code",
      "execution_count": null,
      "metadata": {
        "id": "Jtq_cB9H9rue"
      },
      "outputs": [],
      "source": [
        "#preciso de uma funcao que converta a lista yy pra um dicionario\n",
        "#y_data needs to consists only of numerical data\n",
        "\n",
        "#dict_labels_alvo= {'Acredito na importância da colaboração da academia-indústria e busco desenvolver atividades vinculadas a indústria visando ao avanço científico.':1,\n",
        " #                  'Acredito na importância da colaboração da academia-indústria e busco desenvolver atividades vinculadas à indústria visando ao aproveitamento comercial.':2,\n",
        "  #                 'Acredito que a universidade e a indústria devem ser distintas, mas busco desenvolver atividades ligadas à indústria principalmente para adquirir recursos para apoiar a pesquisa acadêmica.':3,\n",
        "   #                'Acredito que a universidade e a indústria devem ser distintas. Assim, busco atuar e avançar profissionalmente apenas no campo acadêmico.':\n",
        "    #               }\n"
      ]
    },
    {
      "cell_type": "code",
      "execution_count": null,
      "metadata": {
        "colab": {
          "base_uri": "https://localhost:8080/"
        },
        "id": "mF8taqRyZ95e",
        "outputId": "fd16ef1f-981e-4be4-b3bd-3138322098ef"
      },
      "outputs": [
        {
          "data": {
            "text/plain": [
              "DecisionTreeClassifier(max_depth=1, min_samples_leaf=5)"
            ]
          },
          "execution_count": 81,
          "metadata": {},
          "output_type": "execute_result"
        }
      ],
      "source": [
        "dtc"
      ]
    },
    {
      "cell_type": "code",
      "execution_count": null,
      "metadata": {
        "colab": {
          "base_uri": "https://localhost:8080/"
        },
        "id": "sV28wZ1x7hAS",
        "outputId": "9d214848-7c13-4f37-cdfd-209dd961ac41"
      },
      "outputs": [
        {
          "data": {
            "text/plain": [
              "pandas.core.series.Series"
            ]
          },
          "execution_count": 82,
          "metadata": {},
          "output_type": "execute_result"
        }
      ],
      "source": [
        "type(y)"
      ]
    },
    {
      "cell_type": "code",
      "execution_count": null,
      "metadata": {
        "colab": {
          "base_uri": "https://localhost:8080/",
          "height": 70
        },
        "id": "X1PBTA2nGH1o",
        "outputId": "ac551f3a-713f-437c-b8d8-a39329e01e77"
      },
      "outputs": [
        {
          "data": {
            "application/vnd.google.colaboratory.intrinsic+json": {
              "type": "string"
            },
            "text/plain": [
              "'Acredito na importância da colaboração da academia-indústria e busco desenvolver atividades vinculadas à indústria visando ao aproveitamento comercial.'"
            ]
          },
          "execution_count": 83,
          "metadata": {},
          "output_type": "execute_result"
        }
      ],
      "source": [
        "yy[0]\n",
        "#fazer uma estrutura que associe a classe com o numero em y"
      ]
    },
    {
      "cell_type": "code",
      "execution_count": null,
      "metadata": {
        "colab": {
          "base_uri": "https://localhost:8080/"
        },
        "id": "9Mp3RPq-dJ6L",
        "outputId": "9ff000c7-2b9a-4ad2-c487-cfd8e1faf9b8"
      },
      "outputs": [
        {
          "data": {
            "text/plain": [
              "Acredito na importância da colaboração da academia-indústria e busco desenvolver atividades vinculadas a indústria visando ao avanço científico.                                                72\n",
              "Acredito na importância da colaboração da academia-indústria e busco desenvolver atividades vinculadas à indústria visando ao aproveitamento comercial.                                         44\n",
              "Acredito que a universidade e a indústria devem ser distintas, mas busco desenvolver atividades ligadas à indústria principalmente para adquirir recursos  para apoiar a pesquisa acadêmica.    11\n",
              "Acredito que a universidade e a indústria devem ser distintas. Assim, busco atuar e avançar profissionalmente apenas no campo acadêmico.                                                         4\n",
              "Name: Identifique qual das seguintes afirmações melhor descreve sua orientação profissional., dtype: int64"
            ]
          },
          "execution_count": 84,
          "metadata": {},
          "output_type": "execute_result"
        }
      ],
      "source": [
        "y.value_counts()"
      ]
    },
    {
      "cell_type": "code",
      "execution_count": null,
      "metadata": {
        "id": "zLH4JvvjcL0h"
      },
      "outputs": [],
      "source": [
        "yy_dicio = {'Acredito na importância da colaboração da academia-indústria e busco desenvolver atividades vinculadas a indústria visando ao avanço científico.':72,\n",
        "            'Acredito na importância da colaboração da academia-indústria e busco desenvolver atividades vinculadas à indústria visando ao aproveitamento comercial.':44,\n",
        "            'Acredito que a universidade e a indústria devem ser distintas, mas busco desenvolver atividades ligadas à indústria principalmente para adquirir recursos para apoiar a pesquisa acadêmica.':11,\n",
        "            'Acredito que a universidade e a indústria devem ser distintas. Assim, busco atuar e avançar profissionalmente apenas no campo acadêmico.':4}"
      ]
    },
    {
      "cell_type": "code",
      "execution_count": null,
      "metadata": {
        "colab": {
          "base_uri": "https://localhost:8080/"
        },
        "id": "XV-tLsn4UYFs",
        "outputId": "5b9330e9-1d06-45f1-ea1c-12ee3ae560f6"
      },
      "outputs": [
        {
          "data": {
            "text/plain": [
              "72"
            ]
          },
          "execution_count": 86,
          "metadata": {},
          "output_type": "execute_result"
        }
      ],
      "source": [
        "yy_dicio['Acredito na importância da colaboração da academia-indústria e busco desenvolver atividades vinculadas a indústria visando ao avanço científico.']"
      ]
    },
    {
      "cell_type": "code",
      "execution_count": null,
      "metadata": {
        "colab": {
          "base_uri": "https://localhost:8080/"
        },
        "id": "fPjIn1JBYWSo",
        "outputId": "b92b5049-5f60-4a96-96bd-9aadca30370a"
      },
      "outputs": [
        {
          "data": {
            "text/plain": [
              "numpy.ndarray"
            ]
          },
          "execution_count": 87,
          "metadata": {},
          "output_type": "execute_result"
        }
      ],
      "source": [
        "type(yy)"
      ]
    },
    {
      "cell_type": "code",
      "execution_count": null,
      "metadata": {
        "id": "PTGOqQKLZ5fF"
      },
      "outputs": [],
      "source": [
        "labels_alvo = ['Acredito na importância da colaboração da academia-indústria e busco desenvolver atividades vinculadas a indústria visando ao avanço científico.',\n",
        "                            'Acredito na importância da colaboração da academia-indústria e busco desenvolver atividades vinculadas à indústria visando ao aproveitamento comercial.',\n",
        "                            'Acredito que a universidade e a indústria devem ser distintas, mas busco desenvolver atividades ligadas à indústria principalmente para adquirir recursos para apoiar a pesquisa acadêmica.',\n",
        "                            'Acredito que a universidade e a indústria devem ser distintas. Assim, busco atuar e avançar profissionalmente apenas no campo acadêmico.']"
      ]
    },
    {
      "cell_type": "code",
      "execution_count": null,
      "metadata": {
        "colab": {
          "base_uri": "https://localhost:8080/"
        },
        "id": "yWIZEhLVaC6E",
        "outputId": "50d1b40a-2cf3-4a40-9f61-e4b1b4084df5"
      },
      "outputs": [
        {
          "data": {
            "text/plain": [
              "['Acredito na importância da colaboração da academia-indústria e busco desenvolver atividades vinculadas a indústria visando ao avanço científico.',\n",
              " 'Acredito na importância da colaboração da academia-indústria e busco desenvolver atividades vinculadas à indústria visando ao aproveitamento comercial.',\n",
              " 'Acredito que a universidade e a indústria devem ser distintas, mas busco desenvolver atividades ligadas à indústria principalmente para adquirir recursos para apoiar a pesquisa acadêmica.',\n",
              " 'Acredito que a universidade e a indústria devem ser distintas. Assim, busco atuar e avançar profissionalmente apenas no campo acadêmico.']"
            ]
          },
          "execution_count": 89,
          "metadata": {},
          "output_type": "execute_result"
        }
      ],
      "source": [
        "labels_alvo"
      ]
    },
    {
      "cell_type": "code",
      "execution_count": null,
      "metadata": {
        "colab": {
          "base_uri": "https://localhost:8080/",
          "height": 582
        },
        "id": "WAnVb4TZWm9w",
        "outputId": "0fb731b6-91f6-4a40-b080-e29a284e954d"
      },
      "outputs": [
        {
          "ename": "AttributeError",
          "evalue": "ignored",
          "output_type": "error",
          "traceback": [
            "\u001b[0;31m---------------------------------------------------------------------------\u001b[0m",
            "\u001b[0;31mAttributeError\u001b[0m                            Traceback (most recent call last)",
            "\u001b[0;32m<ipython-input-97-5e3079bb13fe>\u001b[0m in \u001b[0;36m<module>\u001b[0;34m()\u001b[0m\n\u001b[1;32m      9\u001b[0m                             \u001b[0;34m'Acredito que a universidade e a indústria devem ser distintas, mas busco desenvolver atividades ligadas à indústria principalmente para adquirir recursos para apoiar a pesquisa acadêmica.'\u001b[0m\u001b[0;34m,\u001b[0m\u001b[0;34m\u001b[0m\u001b[0;34m\u001b[0m\u001b[0m\n\u001b[1;32m     10\u001b[0m                             'Acredito que a universidade e a indústria devem ser distintas. Assim, busco atuar e avançar profissionalmente apenas no campo acadêmico.'],\n\u001b[0;32m---> 11\u001b[0;31m                histtype = 'barstacked')\n\u001b[0m\u001b[1;32m     12\u001b[0m \u001b[0mviz\u001b[0m\u001b[0;34m.\u001b[0m\u001b[0mview\u001b[0m\u001b[0;34m(\u001b[0m\u001b[0;34m)\u001b[0m\u001b[0;34m\u001b[0m\u001b[0;34m\u001b[0m\u001b[0m\n\u001b[1;32m     13\u001b[0m \u001b[0;31m# nao entendi oq q ta acontecendo\u001b[0m\u001b[0;34m\u001b[0m\u001b[0;34m\u001b[0m\u001b[0;34m\u001b[0m\u001b[0m\n",
            "\u001b[0;32m/usr/local/lib/python3.7/dist-packages/dtreeviz/trees.py\u001b[0m in \u001b[0;36mdtreeviz\u001b[0;34m(tree_model, x_data, y_data, feature_names, target_name, class_names, tree_index, precision, orientation, instance_orientation, show_root_edge_labels, show_node_labels, show_just_path, fancy, histtype, highlight_path, X, max_X_features_LR, max_X_features_TD, depth_range_to_display, label_fontsize, ticks_fontsize, fontname, title, title_fontsize, colors, scale)\u001b[0m\n\u001b[1;32m    781\u001b[0m     \u001b[0;32mif\u001b[0m \u001b[0misinstance\u001b[0m\u001b[0;34m(\u001b[0m\u001b[0my_data\u001b[0m\u001b[0;34m,\u001b[0m \u001b[0mpd\u001b[0m\u001b[0;34m.\u001b[0m\u001b[0mSeries\u001b[0m\u001b[0;34m)\u001b[0m\u001b[0;34m:\u001b[0m\u001b[0;34m\u001b[0m\u001b[0;34m\u001b[0m\u001b[0m\n\u001b[1;32m    782\u001b[0m         \u001b[0my_data\u001b[0m \u001b[0;34m=\u001b[0m \u001b[0my_data\u001b[0m\u001b[0;34m.\u001b[0m\u001b[0mvalues\u001b[0m\u001b[0;34m\u001b[0m\u001b[0;34m\u001b[0m\u001b[0m\n\u001b[0;32m--> 783\u001b[0;31m     \u001b[0;32mif\u001b[0m \u001b[0my_data\u001b[0m\u001b[0;34m.\u001b[0m\u001b[0mdtype\u001b[0m \u001b[0;34m==\u001b[0m \u001b[0mnp\u001b[0m\u001b[0;34m.\u001b[0m\u001b[0mdtype\u001b[0m\u001b[0;34m(\u001b[0m\u001b[0mobject\u001b[0m\u001b[0;34m)\u001b[0m\u001b[0;34m:\u001b[0m\u001b[0;34m\u001b[0m\u001b[0;34m\u001b[0m\u001b[0m\n\u001b[0m\u001b[1;32m    784\u001b[0m         \u001b[0;32mtry\u001b[0m\u001b[0;34m:\u001b[0m\u001b[0;34m\u001b[0m\u001b[0;34m\u001b[0m\u001b[0m\n\u001b[1;32m    785\u001b[0m             \u001b[0my_data\u001b[0m \u001b[0;34m=\u001b[0m \u001b[0my_data\u001b[0m\u001b[0;34m.\u001b[0m\u001b[0mastype\u001b[0m\u001b[0;34m(\u001b[0m\u001b[0;34m'float'\u001b[0m\u001b[0;34m)\u001b[0m\u001b[0;34m\u001b[0m\u001b[0;34m\u001b[0m\u001b[0m\n",
            "\u001b[0;31mAttributeError\u001b[0m: 'dict' object has no attribute 'dtype'"
          ]
        }
      ],
      "source": [
        "classifier = dtc\n",
        "classifier.fit(X,yy)\n",
        "viz = dtreeviz(classifier,\n",
        "               X,\n",
        "               yy_dicio, \n",
        "               target_name = 'orientação profissional',\n",
        "               class_names = ['Acredito na importância da colaboração da academia-indústria e busco desenvolver atividades vinculadas a indústria visando ao avanço científico.',\n",
        "                            'Acredito na importância da colaboração da academia-indústria e busco desenvolver atividades vinculadas à indústria visando ao aproveitamento comercial.',\n",
        "                            'Acredito que a universidade e a indústria devem ser distintas, mas busco desenvolver atividades ligadas à indústria principalmente para adquirir recursos para apoiar a pesquisa acadêmica.',\n",
        "                            'Acredito que a universidade e a indústria devem ser distintas. Assim, busco atuar e avançar profissionalmente apenas no campo acadêmico.'],\n",
        "               histtype = 'barstacked')\n",
        "viz.view()\n"
      ]
    },
    {
      "cell_type": "code",
      "execution_count": null,
      "metadata": {
        "colab": {
          "base_uri": "https://localhost:8080/",
          "height": 362
        },
        "id": "m1qsfZYsoE4U",
        "outputId": "5f11d752-fd81-48d3-9e62-5b957788ab6c"
      },
      "outputs": [
        {
          "name": "stderr",
          "output_type": "stream",
          "text": [
            "findfont: Font family ['Arial'] not found. Falling back to DejaVu Sans.\n"
          ]
        },
        {
          "data": {
            "image/png": "[encoded data removed]",
            "text/plain": [
              "<Figure size 720x360 with 1 Axes>"
            ]
          },
          "metadata": {
            "needs_background": "light"
          },
          "output_type": "display_data"
        }
      ],
      "source": [
        "# eh importante também olharmos as amostras até as folhas.\n",
        "#podemos ter uma folha com uma boa pureza mas com poucas amostras, oq seria um sinal de overfitting\n",
        "viz_leaf_samples(dtc, X, y)"
      ]
    },
    {
      "cell_type": "code",
      "execution_count": null,
      "metadata": {
        "colab": {
          "base_uri": "https://localhost:8080/"
        },
        "id": "69FlZLxfqQ5P",
        "outputId": "7894d62f-00e0-458f-c55c-6f728d48afaa"
      },
      "outputs": [
        {
          "data": {
            "text/plain": [
              "DecisionTreeClassifier(max_depth=1, min_samples_leaf=5)"
            ]
          },
          "execution_count": 93,
          "metadata": {},
          "output_type": "execute_result"
        }
      ],
      "source": [
        "dtc"
      ]
    },
    {
      "cell_type": "code",
      "execution_count": null,
      "metadata": {
        "colab": {
          "base_uri": "https://localhost:8080/"
        },
        "id": "qUwu_qa9qrU4",
        "outputId": "eda86345-8100-428d-b6ff-c02a6e259663"
      },
      "outputs": [
        {
          "name": "stdout",
          "output_type": "stream",
          "text": [
            "['Acredito na importância da colaboração da academia-indústria e busco desenvolver atividades vinculadas a indústria visando ao avanço científico.', 'Acredito na importância da colaboração da academia-indústria e busco desenvolver atividades vinculadas à indústria visando ao aproveitamento comercial.', 'Acredito que a universidade e a indústria devem ser distintas, mas busco desenvolver atividades ligadas à indústria principalmente para adquirir recursos para apoiar a pesquisa acadêmica.', 'Acredito que a universidade e a indústria devem ser distintas. Assim, busco atuar e avançar profissionalmente apenas no campo acadêmico.']\n"
          ]
        }
      ],
      "source": [
        "print(labels_alvo)"
      ]
    },
    {
      "cell_type": "code",
      "execution_count": null,
      "metadata": {
        "colab": {
          "base_uri": "https://localhost:8080/",
          "height": 252
        },
        "id": "ZXarCanVrhhu",
        "outputId": "0db45cda-5c1f-458f-a46b-2b53a7c296b1"
      },
      "outputs": [
        {
          "ename": "NameError",
          "evalue": "ignored",
          "output_type": "error",
          "traceback": [
            "\u001b[0;31m---------------------------------------------------------------------------\u001b[0m",
            "\u001b[0;31mNameError\u001b[0m                                 Traceback (most recent call last)",
            "\u001b[0;32m<ipython-input-95-2b3f454f201d>\u001b[0m in \u001b[0;36m<module>\u001b[0;34m()\u001b[0m\n\u001b[1;32m      1\u001b[0m \u001b[0mclas\u001b[0m \u001b[0;34m=\u001b[0m \u001b[0mdtc\u001b[0m\u001b[0;34m\u001b[0m\u001b[0;34m\u001b[0m\u001b[0m\n\u001b[0;32m----> 2\u001b[0;31m viz = dtreeviz(clas,X,y1,target_name= 'orientação profissional',\n\u001b[0m\u001b[1;32m      3\u001b[0m                class_names = list(labels_alvo))\n\u001b[1;32m      4\u001b[0m \u001b[0mviz\u001b[0m\u001b[0;34m.\u001b[0m\u001b[0mview\u001b[0m\u001b[0;34m(\u001b[0m\u001b[0;34m)\u001b[0m\u001b[0;34m\u001b[0m\u001b[0;34m\u001b[0m\u001b[0m\n",
            "\u001b[0;31mNameError\u001b[0m: name 'y1' is not defined"
          ]
        }
      ],
      "source": [
        "clas = dtc\n",
        "viz = dtreeviz(clas,X,y1,target_name= 'orientação profissional',\n",
        "               class_names = list(labels_alvo))\n",
        "viz.view()"
      ]
    },
    {
      "cell_type": "code",
      "execution_count": null,
      "metadata": {
        "id": "Wrpc7fbfQdT6"
      },
      "outputs": [],
      "source": [
        "df_cv_results.params"
      ]
    },
    {
      "cell_type": "code",
      "execution_count": null,
      "metadata": {
        "id": "iQDdUBfWQTcb"
      },
      "outputs": [],
      "source": [
        "print(params)"
      ]
    },
    {
      "cell_type": "code",
      "execution_count": null,
      "metadata": {
        "id": "Xd7DwxhRQDgY"
      },
      "outputs": [],
      "source": [
        "print(dtc)"
      ]
    },
    {
      "cell_type": "code",
      "execution_count": null,
      "metadata": {
        "id": "AC6rIX_-wESc"
      },
      "outputs": [],
      "source": [
        "reptextual = tree.export_text(dtc, feature_names=list(X.columns),show_weights= True)\n",
        "\n",
        "criterios = []\n",
        "#auxrules1\n",
        "\n",
        "#print(\"\\n\".join(reptextual.split(\"\\n\")[:5])) #o join concatena os elementos da lista usando o \\n\n",
        "#print('-'*105)\n",
        "for linha in reptextual.split(\"\\n\"):\n",
        "  \n",
        "  #print(\"Linha:\",linha)\n",
        "  \n",
        "  nivel = linha.count(\"|\")\n",
        "  pos_3tracos = linha.find(\"---\") #p saber de fato qnd pegar exatamente a string\n",
        "  #print(\"pos 3 traços:\",pos_3tracos,\"nivel:\",nivel)\n",
        "  criterios = criterios[:nivel - 1]\n",
        "\n",
        "  #O +4 eh pra pular os tres tracos e o espaço pra dps pegar a string\n",
        "  linha = linha[pos_3tracos + 4:] #info do no atual\n",
        "  \n",
        "  #se tiver eh pq eh uma folha e se sim posso mostrar a regra completa \n",
        "  if \"weights\" == linha[:len(\"weights\")]: #eu to verificando na linha onde to na string o iniciozinho da string pq tem o weights\n",
        "    print(\"\\n\".join(criterios))\n",
        "    pos_class = linha.find(\"class:\") #pos do class na string\n",
        "    print(\"Classe:\",linha[pos_class + 7:])\n",
        "    weights = eval(linha[9:pos_class - 1]) #transforma a string weights em inteiro mesmo.\n",
        "    \n",
        "    l = np.argmax(weights)\n",
        "    #IMPORTANTE : O ARGMAX RETORNA O INDICE, por isso fiz o weights[l]\n",
        "    print(weights)\n",
        "    print(\"proba: \",np.round(100*weights[l]/np.sum(weights),decimals = 2),\"%\")\n",
        "    print(\"\\n\")\n",
        "  else:\n",
        "    criterios.append(linha) \n",
        "  #encontrar a posicao onde ta o class\n",
        "  #fazer um i.findclass\n",
        "  #i.find(\"---\")\n",
        "  #consultar manuais da classe string\n",
        "  #i.count(\"|\") achar o numero de vzs q ocorre \"|\" \n",
        "  \n",
        "  #UTIL : eval -> pega uma string e interpreta como codigo python\n",
        "\n",
        "\n"
      ]
    },
    {
      "cell_type": "code",
      "execution_count": null,
      "metadata": {
        "id": "eVoNCV2zLPDA"
      },
      "outputs": [],
      "source": [
        "yy = sktree.DecisionTreeClassifier(**{'criterion': 'entropy', 'max_depth': 5, 'min_samples_leaf': 5, 'min_samples_split': 3}).fit(X, y).predict(X)\n",
        "\n",
        "\n",
        "print(skmetrics.accuracy_score(y, yy), skmetrics.balanced_accuracy_score(y, yy), skmetrics.f1_score(y, yy, average='micro'), skmetrics.f1_score(y, yy, average='macro'))\n",
        "\n",
        "pd.DataFrame(skmetrics.confusion_matrix(y, yy), index=y.unique(), columns=y.unique())"
      ]
    },
    {
      "cell_type": "markdown",
      "metadata": {
        "id": "UNT0oqTr6Rka"
      },
      "source": [
        "# Mapa de calor dos atributos numéricos"
      ]
    },
    {
      "cell_type": "code",
      "execution_count": null,
      "metadata": {
        "id": "F36GMkZR6Qg3"
      },
      "outputs": [],
      "source": [
        "plt.figure(figsize = (30,20))\n",
        "sns.heatmap(df_numericos.corr(),annot = True)\n",
        "plt.savefig(\"Correlação dados.png\")"
      ]
    },
    {
      "cell_type": "code",
      "execution_count": null,
      "metadata": {
        "id": "Oicatb66Uhhp"
      },
      "outputs": [],
      "source": []
    }
  ],
  "metadata": {
    "colab": {
      "collapsed_sections": [],
      "provenance": []
    },
    "kernelspec": {
      "display_name": "Python 3",
      "language": "python",
      "name": "python3"
    },
    "language_info": {
      "codemirror_mode": {
        "name": "ipython",
        "version": 3
      },
      "file_extension": ".py",
      "mimetype": "text/x-python",
      "name": "python",
      "nbconvert_exporter": "python",
      "pygments_lexer": "ipython3",
      "version": "3.8.5"
    }
  },
  "nbformat": 4,
  "nbformat_minor": 0
}
